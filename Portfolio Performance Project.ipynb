{
 "cells": [
  {
   "cell_type": "code",
   "execution_count": 1,
   "id": "85420b1e",
   "metadata": {},
   "outputs": [],
   "source": [
    "import shutil\n",
    "import os\n",
    "import numpy as np\n",
    "import pandas as pd\n",
    "import matplotlib.pyplot as plt\n",
    "import time\n",
    "from keras.models import Sequential\n",
    "from keras.layers import Dense,LSTM,Dropout,Flatten\n",
    "from keras.preprocessing import  sequence\n",
    "import glob\n",
    "import keras.layers\n",
    "from sklearn.model_selection import train_test_split\n",
    "from sklearn import preprocessing\n",
    "import tensorflow as tf\n",
    "from scipy import stats\n",
    "from sklearn.utils import resample"
   ]
  },
  {
   "cell_type": "code",
   "execution_count": 4,
   "id": "49fbfced",
   "metadata": {},
   "outputs": [
    {
     "data": {
      "text/plain": [
       "'/Users/jaredperez/Model Data'"
      ]
     },
     "execution_count": 4,
     "metadata": {},
     "output_type": "execute_result"
    }
   ],
   "source": [
    "# Set the source and destination directories\n",
    "source = '/Users/jaredperez/Downloads/Model Data/'\n",
    "dst = '/Users/jaredperez/' #Don't Need to Run again\n",
    "\n",
    "# Move the folder\n",
    "shutil.move(source, dst)"
   ]
  },
  {
   "cell_type": "code",
   "execution_count": 2,
   "id": "b803fdb2",
   "metadata": {},
   "outputs": [],
   "source": [
    "root_dir = glob.glob('/Users/jaredperez/Portfolio Project 3 Exam Performance/Data/Data/*/*/*')\n",
    "file_names = ['info', 'tags']"
   ]
  },
  {
   "cell_type": "code",
   "execution_count": 3,
   "id": "1723ec3e",
   "metadata": {},
   "outputs": [],
   "source": [
    "#Delete erroneous info.txt and tags.csv files\n",
    "for files in root_dir:\n",
    "    if os.path.splitext(os.path.basename(files))[0] in file_names:\n",
    "        x=files\n",
    "        os.remove(x)"
   ]
  },
  {
   "cell_type": "code",
   "execution_count": 4,
   "id": "858525b8",
   "metadata": {},
   "outputs": [],
   "source": [
    "#Load the Data and attach labels to each of the files for each exam\n",
    "\n",
    "def data_upload(x):\n",
    "    dfs={\"IBI\": [],\n",
    "     \"ACC\":[],\n",
    "     'EDA':[],\n",
    "     'HR':[],\n",
    "     'TEMP':[],\n",
    "     'BVP':[]}\n",
    "    for files in glob.glob('/Users/jaredperez/Portfolio Project 3 Exam Performance/Data/Data/*/*/*'):\n",
    "        key = os.path.splitext(os.path.basename(files))[0]\n",
    "        df=pd.read_csv(files, header=None, skiprows=[0,1], on_bad_lines='skip')\n",
    "        df['Subject']=files.split('/')[-3]\n",
    "        df['Test']=files.split('/')[-2]\n",
    "        dfs[key].append(df)\n",
    "    return dfs"
   ]
  },
  {
   "cell_type": "code",
   "execution_count": 5,
   "id": "d6968053",
   "metadata": {},
   "outputs": [],
   "source": [
    "dfs=data_upload('x')"
   ]
  },
  {
   "cell_type": "code",
   "execution_count": 6,
   "id": "8af65bbe",
   "metadata": {},
   "outputs": [],
   "source": [
    "from collections import defaultdict"
   ]
  },
  {
   "cell_type": "code",
   "execution_count": 8,
   "id": "a7a7971d",
   "metadata": {},
   "outputs": [],
   "source": [
    "from collections import defaultdict #Concatenate dataframes by sensor and Test\n",
    "\n",
    "final_dfs = defaultdict(dict)\n",
    "for key, value in dfs.items():\n",
    "    df_dict = defaultdict(list) #test(midterm 2, etc) didn't exist, so defaultdict(list) allows creation of key \"Test\"\n",
    "    for df in value:\n",
    "        df_dict[df['Test'].iloc[0]].append(df) \n",
    "    for test, df_group in df_dict.items(): #test key is midterm 1/2/final\n",
    "        final_dfs[key][test] = pd.concat(df_group)"
   ]
  },
  {
   "cell_type": "code",
   "execution_count": 11,
   "id": "3328dbd2",
   "metadata": {},
   "outputs": [],
   "source": [
    "def map_values(row):\n",
    "    test = row['Test']\n",
    "    subject = row['Subject']\n",
    "    return scores[test][subject] #scores=name of scores variable"
   ]
  },
  {
   "cell_type": "code",
   "execution_count": 12,
   "id": "dac28450",
   "metadata": {},
   "outputs": [],
   "source": [
    "midterm_1={'S1' : 78/100,\n",
    "           'S2' : 82/100,\n",
    "           'S3' : 77/100,\n",
    "           'S4' : 75/100,\n",
    "           'S5' : 67/100,\n",
    "           'S6' : 71/100,\n",
    "           'S7' : 64/100,\n",
    "           'S8' : 92/100,\n",
    "           'S9' : 80/100,\n",
    "           'S10' : 89/100}\n",
    "\n",
    "\n",
    "\n",
    "midterm_2={'S1' : 82/100,\n",
    "           'S2' : 85/100,\n",
    "           'S3' : 90/100,\n",
    "           'S4' : 77/100,\n",
    "           'S5' : 77/100,\n",
    "           'S6' : 64/100,\n",
    "           'S7' : 33/100,\n",
    "           'S8' : 88/100,\n",
    "           'S9' : 39/100,\n",
    "           'S10' : 64/100}\n",
    "\n",
    "\n",
    "\n",
    "final={'S1' : 182/200,\n",
    "       'S2' : 180/200,\n",
    "       'S3' : 188/200,\n",
    "       'S4' : 149/200,\n",
    "       'S5' : 157/200,\n",
    "       'S6' : 175/200,\n",
    "       'S7' : 110/200,\n",
    "       'S8' : 184/200,\n",
    "       'S9' : 126/200,\n",
    "       'S10' : 116/200}\n",
    "\n",
    "\n",
    "scores=defaultdict(dict)\n",
    "scores['Midterm 1']=midterm_1\n",
    "scores['Midterm 2']=midterm_2\n",
    "scores['Final']=final"
   ]
  },
  {
   "cell_type": "code",
   "execution_count": 13,
   "id": "81ef153f",
   "metadata": {},
   "outputs": [
    {
     "data": {
      "text/plain": [
       "{'S1': 0.82,\n",
       " 'S2': 0.85,\n",
       " 'S3': 0.9,\n",
       " 'S4': 0.77,\n",
       " 'S5': 0.77,\n",
       " 'S6': 0.64,\n",
       " 'S7': 0.33,\n",
       " 'S8': 0.88,\n",
       " 'S9': 0.39,\n",
       " 'S10': 0.64}"
      ]
     },
     "execution_count": 13,
     "metadata": {},
     "output_type": "execute_result"
    }
   ],
   "source": [
    "scores['Midterm 2']"
   ]
  },
  {
   "cell_type": "code",
   "execution_count": 14,
   "id": "cc19b1a6",
   "metadata": {},
   "outputs": [],
   "source": [
    "midterm_1_scores=list(scores['Midterm 1'].values())\n",
    "midterm_2_scores=list(scores['Midterm 2'].values())\n",
    "final_scores=list(scores['Final'].values())"
   ]
  },
  {
   "cell_type": "code",
   "execution_count": 15,
   "id": "1cce8eab",
   "metadata": {},
   "outputs": [],
   "source": [
    "def print_subject_score_max(test):\n",
    "    keys=list(scores[test].keys())\n",
    "    values=list(scores[test].values())\n",
    "    max_value=max(values)\n",
    "    index=values.index(max_value)\n",
    "    return keys[index]\n",
    "\n",
    "def print_subject_score_min(test):\n",
    "    keys=list(scores[test].keys())\n",
    "    values=list(scores[test].values())\n",
    "    min_value=min(values)\n",
    "    index=values.index(min_value)\n",
    "    return keys[index]"
   ]
  },
  {
   "cell_type": "code",
   "execution_count": 16,
   "id": "75728b2b",
   "metadata": {},
   "outputs": [
    {
     "data": {
      "text/plain": [
       "'S7'"
      ]
     },
     "execution_count": 16,
     "metadata": {},
     "output_type": "execute_result"
    }
   ],
   "source": [
    "print_subject_score_min('Midterm 1')"
   ]
  },
  {
   "cell_type": "code",
   "execution_count": 17,
   "id": "ee721d83",
   "metadata": {},
   "outputs": [
    {
     "name": "stdout",
     "output_type": "stream",
     "text": [
      "Midterm 1 mean value is 0.775\n",
      "Midterm 2 mean value is 0.699\n",
      "Final mean value is 0.7835\n",
      "Midterm 1 Max value is 0.92 and belongs to S8\n",
      "Midterm 2 Max value is 0.9 and belongs to S3\n",
      "Midterm 1 Max value is 0.94 and belongs to S3\n",
      "Midterm 1 Min value is 0.64 and belongs to S7\n",
      "Midterm 2 Min value is 0.33 and belongs to S7\n",
      "Midterm 1 Min value is 0.55 and belongs to S7\n"
     ]
    }
   ],
   "source": [
    "print(f\"Midterm 1 mean value is {np.mean(midterm_1_scores)}\")\n",
    "print(f\"Midterm 2 mean value is {np.mean(midterm_2_scores)}\")\n",
    "print(f\"Final mean value is {np.mean(final_scores)}\")\n",
    "\n",
    "print(f\"Midterm 1 Max value is {(max(list(scores['Midterm 1'].values())))} and belongs to {print_subject_score_max('Midterm 1')}\")\n",
    "print(f\"Midterm 2 Max value is {(max(list(scores['Midterm 2'].values())))} and belongs to {print_subject_score_max('Midterm 2')}\")\n",
    "print(f\"Midterm 1 Max value is {(max(list(scores['Final'].values())))} and belongs to {print_subject_score_max('Final')}\")\n",
    "\n",
    "\n",
    "print(f\"Midterm 1 Min value is {(min(list(scores['Midterm 1'].values())))} and belongs to {print_subject_score_min('Midterm 1')}\")\n",
    "print(f\"Midterm 2 Min value is {(min(list(scores['Midterm 2'].values())))} and belongs to {print_subject_score_min('Midterm 2')}\")\n",
    "print(f\"Midterm 1 Min value is {(min(list(scores['Final'].values())))} and belongs to {print_subject_score_min('Final')}\")"
   ]
  },
  {
   "cell_type": "code",
   "execution_count": 18,
   "id": "01d6947f",
   "metadata": {},
   "outputs": [],
   "source": [
    "for key, value in final_dfs.items():\n",
    "    for df, value2 in value.items():\n",
    "        value2['Score']=value2.apply(map_values, axis=1)"
   ]
  },
  {
   "cell_type": "code",
   "execution_count": 9,
   "id": "2d05200d",
   "metadata": {},
   "outputs": [
    {
     "name": "stderr",
     "output_type": "stream",
     "text": [
      "UsageError: Unknown variable 'final_dfs'\n"
     ]
    }
   ],
   "source": [
    "%store final_dfs"
   ]
  },
  {
   "cell_type": "code",
   "execution_count": 7,
   "id": "c48a1385",
   "metadata": {},
   "outputs": [],
   "source": [
    "%store -r final_dfs\n"
   ]
  },
  {
   "cell_type": "code",
   "execution_count": 8,
   "id": "1f59b335",
   "metadata": {},
   "outputs": [],
   "source": [
    "IBI=pd.concat(final_dfs['IBI']).reset_index().drop(columns=['level_0', 'level_1'])\n",
    "ACC=pd.concat(final_dfs['ACC']).reset_index().drop(columns=['level_1', 'level_0'])\n",
    "EDA=pd.concat(final_dfs['EDA']).reset_index().drop(columns=['level_1', 'level_0'])\n",
    "HR=pd.concat(final_dfs['HR']).reset_index().drop(columns=['level_1', 'level_0'])\n",
    "BVP=pd.concat(final_dfs['BVP']).reset_index().drop(columns=['level_1', 'level_0'])\n",
    "TEMP=pd.concat(final_dfs['TEMP']).reset_index().drop(columns=['level_1', 'level_0'])"
   ]
  },
  {
   "cell_type": "code",
   "execution_count": 9,
   "id": "5c738ced",
   "metadata": {},
   "outputs": [],
   "source": [
    "BVP_Midterm_2=BVP[BVP['Test']=='Midterm 2']"
   ]
  },
  {
   "cell_type": "code",
   "execution_count": 10,
   "id": "99f3dcb1",
   "metadata": {},
   "outputs": [],
   "source": [
    "test=BVP_Midterm_2[BVP_Midterm_2['Subject']=='S5']"
   ]
  },
  {
   "cell_type": "code",
   "execution_count": 11,
   "id": "2accd5e0",
   "metadata": {},
   "outputs": [
    {
     "data": {
      "text/plain": [
       "<AxesSubplot:>"
      ]
     },
     "execution_count": 11,
     "metadata": {},
     "output_type": "execute_result"
    },
    {
     "data": {
      "image/png": "[encoded data removed]",
      "text/plain": [
       "<Figure size 640x480 with 1 Axes>"
      ]
     },
     "metadata": {},
     "output_type": "display_data"
    }
   ],
   "source": [
    "test[0].iloc[200000:201000].plot()"
   ]
  },
  {
   "cell_type": "code",
   "execution_count": null,
   "id": "c1592f06",
   "metadata": {},
   "outputs": [],
   "source": [
    "#How do i want to modify the data? Midterm 2=Lowest Scores...performance under Stress Conditions?\n",
    "    #Look up data augmentation for 1D data...it is used in image recognition but perhaps I can do something similar\n",
    "    #with time series data\n",
    "\n",
    "#First lets build a classifier to see if it can classifiy between the different tests...Essentially identical\n",
    "    #cconditions. Interesting to see if physiological data can differentiate between exames\n",
    "    \n",
    "#Validate the classification model of subjects again with appropriate data\n",
    "\n",
    "#Subsample to cluster data and create samples...Use Autoencoder to filter out noise\n",
    "    #Subsample all the 70-80% scores, all 80-90% etc. and see if clustering analysis can detect anything\n",
    "    \n",
    "#Build general model, fine tune for individuals..."
   ]
  },
  {
   "cell_type": "code",
   "execution_count": 28,
   "id": "d3e00be9",
   "metadata": {},
   "outputs": [
    {
     "data": {
      "text/html": [
       "<div>\n",
       "<style scoped>\n",
       "    .dataframe tbody tr th:only-of-type {\n",
       "        vertical-align: middle;\n",
       "    }\n",
       "\n",
       "    .dataframe tbody tr th {\n",
       "        vertical-align: top;\n",
       "    }\n",
       "\n",
       "    .dataframe thead th {\n",
       "        text-align: right;\n",
       "    }\n",
       "</style>\n",
       "<table border=\"1\" class=\"dataframe\">\n",
       "  <thead>\n",
       "    <tr style=\"text-align: right;\">\n",
       "      <th></th>\n",
       "      <th>0</th>\n",
       "      <th>Subject</th>\n",
       "      <th>Test</th>\n",
       "      <th>Score</th>\n",
       "    </tr>\n",
       "  </thead>\n",
       "  <tbody>\n",
       "    <tr>\n",
       "      <th>0</th>\n",
       "      <td>-0.00</td>\n",
       "      <td>S5</td>\n",
       "      <td>Midterm 2</td>\n",
       "      <td>0.77</td>\n",
       "    </tr>\n",
       "    <tr>\n",
       "      <th>1</th>\n",
       "      <td>-0.00</td>\n",
       "      <td>S5</td>\n",
       "      <td>Midterm 2</td>\n",
       "      <td>0.77</td>\n",
       "    </tr>\n",
       "    <tr>\n",
       "      <th>2</th>\n",
       "      <td>-0.00</td>\n",
       "      <td>S5</td>\n",
       "      <td>Midterm 2</td>\n",
       "      <td>0.77</td>\n",
       "    </tr>\n",
       "    <tr>\n",
       "      <th>3</th>\n",
       "      <td>-0.00</td>\n",
       "      <td>S5</td>\n",
       "      <td>Midterm 2</td>\n",
       "      <td>0.77</td>\n",
       "    </tr>\n",
       "    <tr>\n",
       "      <th>4</th>\n",
       "      <td>-0.00</td>\n",
       "      <td>S5</td>\n",
       "      <td>Midterm 2</td>\n",
       "      <td>0.77</td>\n",
       "    </tr>\n",
       "    <tr>\n",
       "      <th>...</th>\n",
       "      <td>...</td>\n",
       "      <td>...</td>\n",
       "      <td>...</td>\n",
       "      <td>...</td>\n",
       "    </tr>\n",
       "    <tr>\n",
       "      <th>28370513</th>\n",
       "      <td>-0.91</td>\n",
       "      <td>S9</td>\n",
       "      <td>Final</td>\n",
       "      <td>0.63</td>\n",
       "    </tr>\n",
       "    <tr>\n",
       "      <th>28370514</th>\n",
       "      <td>-0.89</td>\n",
       "      <td>S9</td>\n",
       "      <td>Final</td>\n",
       "      <td>0.63</td>\n",
       "    </tr>\n",
       "    <tr>\n",
       "      <th>28370515</th>\n",
       "      <td>-0.93</td>\n",
       "      <td>S9</td>\n",
       "      <td>Final</td>\n",
       "      <td>0.63</td>\n",
       "    </tr>\n",
       "    <tr>\n",
       "      <th>28370516</th>\n",
       "      <td>-1.09</td>\n",
       "      <td>S9</td>\n",
       "      <td>Final</td>\n",
       "      <td>0.63</td>\n",
       "    </tr>\n",
       "    <tr>\n",
       "      <th>28370517</th>\n",
       "      <td>-1.43</td>\n",
       "      <td>S9</td>\n",
       "      <td>Final</td>\n",
       "      <td>0.63</td>\n",
       "    </tr>\n",
       "  </tbody>\n",
       "</table>\n",
       "<p>28370518 rows × 4 columns</p>\n",
       "</div>"
      ],
      "text/plain": [
       "             0 Subject       Test  Score\n",
       "0        -0.00      S5  Midterm 2   0.77\n",
       "1        -0.00      S5  Midterm 2   0.77\n",
       "2        -0.00      S5  Midterm 2   0.77\n",
       "3        -0.00      S5  Midterm 2   0.77\n",
       "4        -0.00      S5  Midterm 2   0.77\n",
       "...        ...     ...        ...    ...\n",
       "28370513 -0.91      S9      Final   0.63\n",
       "28370514 -0.89      S9      Final   0.63\n",
       "28370515 -0.93      S9      Final   0.63\n",
       "28370516 -1.09      S9      Final   0.63\n",
       "28370517 -1.43      S9      Final   0.63\n",
       "\n",
       "[28370518 rows x 4 columns]"
      ]
     },
     "execution_count": 28,
     "metadata": {},
     "output_type": "execute_result"
    }
   ],
   "source": [
    "BVP"
   ]
  },
  {
   "cell_type": "code",
   "execution_count": 9,
   "id": "9070c203",
   "metadata": {},
   "outputs": [],
   "source": [
    "from sklearn.utils import resample"
   ]
  },
  {
   "cell_type": "code",
   "execution_count": 30,
   "id": "82239e44",
   "metadata": {},
   "outputs": [],
   "source": [
    "def equal_samples(df, unique_indexes): #DONT USE..INCORRECTLY MODIFIES SAMPLE RATES\n",
    "    resampled_dfs = []\n",
    "    for subject_value in unique_indexes:\n",
    "        frame = df[df['Subject'] == subject_value]\n",
    "        df_resampled = resample(frame, replace=True, n_samples=int(len(df)/10))\n",
    "        resampled_dfs.append(df_resampled)\n",
    "    resampled_df = pd.concat(resampled_dfs)\n",
    "    return resampled_df"
   ]
  },
  {
   "cell_type": "code",
   "execution_count": 158,
   "id": "1365ac8c",
   "metadata": {},
   "outputs": [
    {
     "data": {
      "text/html": [
       "<div>\n",
       "<style scoped>\n",
       "    .dataframe tbody tr th:only-of-type {\n",
       "        vertical-align: middle;\n",
       "    }\n",
       "\n",
       "    .dataframe tbody tr th {\n",
       "        vertical-align: top;\n",
       "    }\n",
       "\n",
       "    .dataframe thead th {\n",
       "        text-align: right;\n",
       "    }\n",
       "</style>\n",
       "<table border=\"1\" class=\"dataframe\">\n",
       "  <thead>\n",
       "    <tr style=\"text-align: right;\">\n",
       "      <th></th>\n",
       "      <th>0</th>\n",
       "      <th>Subject</th>\n",
       "    </tr>\n",
       "  </thead>\n",
       "  <tbody>\n",
       "    <tr>\n",
       "      <th>0</th>\n",
       "      <td>-0.00</td>\n",
       "      <td>S5</td>\n",
       "    </tr>\n",
       "    <tr>\n",
       "      <th>1</th>\n",
       "      <td>-0.00</td>\n",
       "      <td>S5</td>\n",
       "    </tr>\n",
       "    <tr>\n",
       "      <th>2</th>\n",
       "      <td>-0.00</td>\n",
       "      <td>S5</td>\n",
       "    </tr>\n",
       "    <tr>\n",
       "      <th>3</th>\n",
       "      <td>-0.00</td>\n",
       "      <td>S5</td>\n",
       "    </tr>\n",
       "    <tr>\n",
       "      <th>4</th>\n",
       "      <td>-0.00</td>\n",
       "      <td>S5</td>\n",
       "    </tr>\n",
       "    <tr>\n",
       "      <th>...</th>\n",
       "      <td>...</td>\n",
       "      <td>...</td>\n",
       "    </tr>\n",
       "    <tr>\n",
       "      <th>4999995</th>\n",
       "      <td>0.79</td>\n",
       "      <td>S1</td>\n",
       "    </tr>\n",
       "    <tr>\n",
       "      <th>4999996</th>\n",
       "      <td>0.72</td>\n",
       "      <td>S1</td>\n",
       "    </tr>\n",
       "    <tr>\n",
       "      <th>4999997</th>\n",
       "      <td>0.83</td>\n",
       "      <td>S1</td>\n",
       "    </tr>\n",
       "    <tr>\n",
       "      <th>4999998</th>\n",
       "      <td>1.11</td>\n",
       "      <td>S1</td>\n",
       "    </tr>\n",
       "    <tr>\n",
       "      <th>4999999</th>\n",
       "      <td>1.50</td>\n",
       "      <td>S1</td>\n",
       "    </tr>\n",
       "  </tbody>\n",
       "</table>\n",
       "<p>5000000 rows × 2 columns</p>\n",
       "</div>"
      ],
      "text/plain": [
       "            0 Subject\n",
       "0       -0.00      S5\n",
       "1       -0.00      S5\n",
       "2       -0.00      S5\n",
       "3       -0.00      S5\n",
       "4       -0.00      S5\n",
       "...       ...     ...\n",
       "4999995  0.79      S1\n",
       "4999996  0.72      S1\n",
       "4999997  0.83      S1\n",
       "4999998  1.11      S1\n",
       "4999999  1.50      S1\n",
       "\n",
       "[5000000 rows x 2 columns]"
      ]
     },
     "execution_count": 158,
     "metadata": {},
     "output_type": "execute_result"
    }
   ],
   "source": [
    "mini"
   ]
  },
  {
   "cell_type": "code",
   "execution_count": 68,
   "id": "2614b19b",
   "metadata": {},
   "outputs": [
    {
     "data": {
      "text/plain": [
       "<AxesSubplot:>"
      ]
     },
     "execution_count": 68,
     "metadata": {},
     "output_type": "execute_result"
    },
    {
     "data": {
      "image/png": "[encoded data removed]",
      "text/plain": [
       "<Figure size 640x480 with 1 Axes>"
      ]
     },
     "metadata": {},
     "output_type": "display_data"
    }
   ],
   "source": [
    "mini[0][768042:770042].plot() #Visualize Data"
   ]
  },
  {
   "cell_type": "code",
   "execution_count": 164,
   "id": "5ce6a419",
   "metadata": {},
   "outputs": [],
   "source": [
    "resmapled=resample(mini, replace=True, n_samples=10000000)"
   ]
  },
  {
   "cell_type": "code",
   "execution_count": 165,
   "id": "7c978186",
   "metadata": {},
   "outputs": [],
   "source": [
    "resampled=resmapled.sort_index()"
   ]
  },
  {
   "cell_type": "code",
   "execution_count": 166,
   "id": "d88111c1",
   "metadata": {},
   "outputs": [],
   "source": [
    "resampled=resampled.reset_index()"
   ]
  },
  {
   "cell_type": "code",
   "execution_count": 167,
   "id": "57c8ab9c",
   "metadata": {},
   "outputs": [
    {
     "data": {
      "text/html": [
       "<div>\n",
       "<style scoped>\n",
       "    .dataframe tbody tr th:only-of-type {\n",
       "        vertical-align: middle;\n",
       "    }\n",
       "\n",
       "    .dataframe tbody tr th {\n",
       "        vertical-align: top;\n",
       "    }\n",
       "\n",
       "    .dataframe thead th {\n",
       "        text-align: right;\n",
       "    }\n",
       "</style>\n",
       "<table border=\"1\" class=\"dataframe\">\n",
       "  <thead>\n",
       "    <tr style=\"text-align: right;\">\n",
       "      <th></th>\n",
       "      <th>index</th>\n",
       "      <th>0</th>\n",
       "      <th>Subject</th>\n",
       "    </tr>\n",
       "  </thead>\n",
       "  <tbody>\n",
       "    <tr>\n",
       "      <th>0</th>\n",
       "      <td>0</td>\n",
       "      <td>-0.00</td>\n",
       "      <td>S5</td>\n",
       "    </tr>\n",
       "    <tr>\n",
       "      <th>1</th>\n",
       "      <td>0</td>\n",
       "      <td>-0.00</td>\n",
       "      <td>S5</td>\n",
       "    </tr>\n",
       "    <tr>\n",
       "      <th>2</th>\n",
       "      <td>1</td>\n",
       "      <td>-0.00</td>\n",
       "      <td>S5</td>\n",
       "    </tr>\n",
       "    <tr>\n",
       "      <th>3</th>\n",
       "      <td>2</td>\n",
       "      <td>-0.00</td>\n",
       "      <td>S5</td>\n",
       "    </tr>\n",
       "    <tr>\n",
       "      <th>4</th>\n",
       "      <td>2</td>\n",
       "      <td>-0.00</td>\n",
       "      <td>S5</td>\n",
       "    </tr>\n",
       "    <tr>\n",
       "      <th>...</th>\n",
       "      <td>...</td>\n",
       "      <td>...</td>\n",
       "      <td>...</td>\n",
       "    </tr>\n",
       "    <tr>\n",
       "      <th>1538809</th>\n",
       "      <td>769040</td>\n",
       "      <td>-0.36</td>\n",
       "      <td>S5</td>\n",
       "    </tr>\n",
       "    <tr>\n",
       "      <th>1538810</th>\n",
       "      <td>769041</td>\n",
       "      <td>-0.47</td>\n",
       "      <td>S5</td>\n",
       "    </tr>\n",
       "    <tr>\n",
       "      <th>1538811</th>\n",
       "      <td>769041</td>\n",
       "      <td>-0.47</td>\n",
       "      <td>S5</td>\n",
       "    </tr>\n",
       "    <tr>\n",
       "      <th>1538812</th>\n",
       "      <td>769041</td>\n",
       "      <td>-0.47</td>\n",
       "      <td>S5</td>\n",
       "    </tr>\n",
       "    <tr>\n",
       "      <th>1538813</th>\n",
       "      <td>769042</td>\n",
       "      <td>-0.38</td>\n",
       "      <td>S5</td>\n",
       "    </tr>\n",
       "  </tbody>\n",
       "</table>\n",
       "<p>1538814 rows × 3 columns</p>\n",
       "</div>"
      ],
      "text/plain": [
       "          index     0 Subject\n",
       "0             0 -0.00      S5\n",
       "1             0 -0.00      S5\n",
       "2             1 -0.00      S5\n",
       "3             2 -0.00      S5\n",
       "4             2 -0.00      S5\n",
       "...         ...   ...     ...\n",
       "1538809  769040 -0.36      S5\n",
       "1538810  769041 -0.47      S5\n",
       "1538811  769041 -0.47      S5\n",
       "1538812  769041 -0.47      S5\n",
       "1538813  769042 -0.38      S5\n",
       "\n",
       "[1538814 rows x 3 columns]"
      ]
     },
     "execution_count": 167,
     "metadata": {},
     "output_type": "execute_result"
    }
   ],
   "source": [
    "resampled[resampled['Subject']=='S5']"
   ]
  },
  {
   "cell_type": "code",
   "execution_count": 181,
   "id": "94f08367",
   "metadata": {},
   "outputs": [
    {
     "data": {
      "text/plain": [
       "<AxesSubplot:>"
      ]
     },
     "execution_count": 181,
     "metadata": {},
     "output_type": "execute_result"
    },
    {
     "data": {
      "image/png": "[encoded data removed]",
      "text/plain": [
       "<Figure size 640x480 with 1 Axes>"
      ]
     },
     "metadata": {},
     "output_type": "display_data"
    }
   ],
   "source": [
    "resampled[0][1538813-2000:1538813+2000].plot() #Visualize after resample should look the same"
   ]
  },
  {
   "cell_type": "code",
   "execution_count": 79,
   "id": "a5bcea50",
   "metadata": {},
   "outputs": [],
   "source": [
    "IBI_test=IBI[[0,1]]"
   ]
  },
  {
   "cell_type": "code",
   "execution_count": 83,
   "id": "70ac3e2a",
   "metadata": {},
   "outputs": [
    {
     "data": {
      "text/html": [
       "<div>\n",
       "<style scoped>\n",
       "    .dataframe tbody tr th:only-of-type {\n",
       "        vertical-align: middle;\n",
       "    }\n",
       "\n",
       "    .dataframe tbody tr th {\n",
       "        vertical-align: top;\n",
       "    }\n",
       "\n",
       "    .dataframe thead th {\n",
       "        text-align: right;\n",
       "    }\n",
       "</style>\n",
       "<table border=\"1\" class=\"dataframe\">\n",
       "  <thead>\n",
       "    <tr style=\"text-align: right;\">\n",
       "      <th></th>\n",
       "      <th>0</th>\n",
       "      <th>1</th>\n",
       "      <th>Subject</th>\n",
       "      <th>Test</th>\n",
       "      <th>Score</th>\n",
       "    </tr>\n",
       "  </thead>\n",
       "  <tbody>\n",
       "    <tr>\n",
       "      <th>0</th>\n",
       "      <td>61.799704</td>\n",
       "      <td>0.546900</td>\n",
       "      <td>S5</td>\n",
       "      <td>Midterm 2</td>\n",
       "      <td>0.77</td>\n",
       "    </tr>\n",
       "    <tr>\n",
       "      <th>1</th>\n",
       "      <td>68.190621</td>\n",
       "      <td>0.531274</td>\n",
       "      <td>S5</td>\n",
       "      <td>Midterm 2</td>\n",
       "      <td>0.77</td>\n",
       "    </tr>\n",
       "    <tr>\n",
       "      <th>2</th>\n",
       "      <td>70.018830</td>\n",
       "      <td>0.421894</td>\n",
       "      <td>S5</td>\n",
       "      <td>Midterm 2</td>\n",
       "      <td>0.77</td>\n",
       "    </tr>\n",
       "    <tr>\n",
       "      <th>3</th>\n",
       "      <td>70.378222</td>\n",
       "      <td>0.359391</td>\n",
       "      <td>S5</td>\n",
       "      <td>Midterm 2</td>\n",
       "      <td>0.77</td>\n",
       "    </tr>\n",
       "    <tr>\n",
       "      <th>4</th>\n",
       "      <td>70.706362</td>\n",
       "      <td>0.328140</td>\n",
       "      <td>S5</td>\n",
       "      <td>Midterm 2</td>\n",
       "      <td>0.77</td>\n",
       "    </tr>\n",
       "    <tr>\n",
       "      <th>...</th>\n",
       "      <td>...</td>\n",
       "      <td>...</td>\n",
       "      <td>...</td>\n",
       "      <td>...</td>\n",
       "      <td>...</td>\n",
       "    </tr>\n",
       "    <tr>\n",
       "      <th>43869</th>\n",
       "      <td>13652.296802</td>\n",
       "      <td>0.484397</td>\n",
       "      <td>S9</td>\n",
       "      <td>Final</td>\n",
       "      <td>0.63</td>\n",
       "    </tr>\n",
       "    <tr>\n",
       "      <th>43870</th>\n",
       "      <td>13652.859328</td>\n",
       "      <td>0.562526</td>\n",
       "      <td>S9</td>\n",
       "      <td>Final</td>\n",
       "      <td>0.63</td>\n",
       "    </tr>\n",
       "    <tr>\n",
       "      <th>43871</th>\n",
       "      <td>13660.765939</td>\n",
       "      <td>0.468771</td>\n",
       "      <td>S9</td>\n",
       "      <td>Final</td>\n",
       "      <td>0.63</td>\n",
       "    </tr>\n",
       "    <tr>\n",
       "      <th>43872</th>\n",
       "      <td>13661.344091</td>\n",
       "      <td>0.578151</td>\n",
       "      <td>S9</td>\n",
       "      <td>Final</td>\n",
       "      <td>0.63</td>\n",
       "    </tr>\n",
       "    <tr>\n",
       "      <th>43873</th>\n",
       "      <td>13661.859740</td>\n",
       "      <td>0.515649</td>\n",
       "      <td>S9</td>\n",
       "      <td>Final</td>\n",
       "      <td>0.63</td>\n",
       "    </tr>\n",
       "  </tbody>\n",
       "</table>\n",
       "<p>43874 rows × 5 columns</p>\n",
       "</div>"
      ],
      "text/plain": [
       "                  0         1 Subject       Test  Score\n",
       "0         61.799704  0.546900      S5  Midterm 2   0.77\n",
       "1         68.190621  0.531274      S5  Midterm 2   0.77\n",
       "2         70.018830  0.421894      S5  Midterm 2   0.77\n",
       "3         70.378222  0.359391      S5  Midterm 2   0.77\n",
       "4         70.706362  0.328140      S5  Midterm 2   0.77\n",
       "...             ...       ...     ...        ...    ...\n",
       "43869  13652.296802  0.484397      S9      Final   0.63\n",
       "43870  13652.859328  0.562526      S9      Final   0.63\n",
       "43871  13660.765939  0.468771      S9      Final   0.63\n",
       "43872  13661.344091  0.578151      S9      Final   0.63\n",
       "43873  13661.859740  0.515649      S9      Final   0.63\n",
       "\n",
       "[43874 rows x 5 columns]"
      ]
     },
     "execution_count": 83,
     "metadata": {},
     "output_type": "execute_result"
    }
   ],
   "source": [
    "IBI"
   ]
  },
  {
   "cell_type": "code",
   "execution_count": 80,
   "id": "3b757f48",
   "metadata": {},
   "outputs": [
    {
     "data": {
      "text/html": [
       "<div>\n",
       "<style scoped>\n",
       "    .dataframe tbody tr th:only-of-type {\n",
       "        vertical-align: middle;\n",
       "    }\n",
       "\n",
       "    .dataframe tbody tr th {\n",
       "        vertical-align: top;\n",
       "    }\n",
       "\n",
       "    .dataframe thead th {\n",
       "        text-align: right;\n",
       "    }\n",
       "</style>\n",
       "<table border=\"1\" class=\"dataframe\">\n",
       "  <thead>\n",
       "    <tr style=\"text-align: right;\">\n",
       "      <th></th>\n",
       "      <th>0</th>\n",
       "      <th>1</th>\n",
       "    </tr>\n",
       "  </thead>\n",
       "  <tbody>\n",
       "    <tr>\n",
       "      <th>0</th>\n",
       "      <td>61.799704</td>\n",
       "      <td>0.546900</td>\n",
       "    </tr>\n",
       "    <tr>\n",
       "      <th>1</th>\n",
       "      <td>68.190621</td>\n",
       "      <td>0.531274</td>\n",
       "    </tr>\n",
       "    <tr>\n",
       "      <th>2</th>\n",
       "      <td>70.018830</td>\n",
       "      <td>0.421894</td>\n",
       "    </tr>\n",
       "    <tr>\n",
       "      <th>3</th>\n",
       "      <td>70.378222</td>\n",
       "      <td>0.359391</td>\n",
       "    </tr>\n",
       "    <tr>\n",
       "      <th>4</th>\n",
       "      <td>70.706362</td>\n",
       "      <td>0.328140</td>\n",
       "    </tr>\n",
       "    <tr>\n",
       "      <th>...</th>\n",
       "      <td>...</td>\n",
       "      <td>...</td>\n",
       "    </tr>\n",
       "    <tr>\n",
       "      <th>43869</th>\n",
       "      <td>13652.296802</td>\n",
       "      <td>0.484397</td>\n",
       "    </tr>\n",
       "    <tr>\n",
       "      <th>43870</th>\n",
       "      <td>13652.859328</td>\n",
       "      <td>0.562526</td>\n",
       "    </tr>\n",
       "    <tr>\n",
       "      <th>43871</th>\n",
       "      <td>13660.765939</td>\n",
       "      <td>0.468771</td>\n",
       "    </tr>\n",
       "    <tr>\n",
       "      <th>43872</th>\n",
       "      <td>13661.344091</td>\n",
       "      <td>0.578151</td>\n",
       "    </tr>\n",
       "    <tr>\n",
       "      <th>43873</th>\n",
       "      <td>13661.859740</td>\n",
       "      <td>0.515649</td>\n",
       "    </tr>\n",
       "  </tbody>\n",
       "</table>\n",
       "<p>43874 rows × 2 columns</p>\n",
       "</div>"
      ],
      "text/plain": [
       "                  0         1\n",
       "0         61.799704  0.546900\n",
       "1         68.190621  0.531274\n",
       "2         70.018830  0.421894\n",
       "3         70.378222  0.359391\n",
       "4         70.706362  0.328140\n",
       "...             ...       ...\n",
       "43869  13652.296802  0.484397\n",
       "43870  13652.859328  0.562526\n",
       "43871  13660.765939  0.468771\n",
       "43872  13661.344091  0.578151\n",
       "43873  13661.859740  0.515649\n",
       "\n",
       "[43874 rows x 2 columns]"
      ]
     },
     "execution_count": 80,
     "metadata": {},
     "output_type": "execute_result"
    }
   ],
   "source": [
    "IBI_test"
   ]
  },
  {
   "cell_type": "code",
   "execution_count": 81,
   "id": "ce7ad99a",
   "metadata": {},
   "outputs": [],
   "source": [
    "equal_IBI=resample(IBI, replace=True, n_samples=int(len((IBI_test)/10)*2))"
   ]
  },
  {
   "cell_type": "code",
   "execution_count": 85,
   "id": "b5c0aedc",
   "metadata": {},
   "outputs": [],
   "source": [
    "equal_IBI=equal_IBI.sort_index().reset_index().drop(columns='index')"
   ]
  },
  {
   "cell_type": "code",
   "execution_count": 89,
   "id": "1db10bae",
   "metadata": {},
   "outputs": [],
   "source": [
    "uniques=IBI['Subject'].unique()"
   ]
  },
  {
   "cell_type": "code",
   "execution_count": 90,
   "id": "fb70586a",
   "metadata": {},
   "outputs": [],
   "source": [
    "test_2=equal_samples(IBI, uniques)"
   ]
  },
  {
   "cell_type": "code",
   "execution_count": 94,
   "id": "dcef1e0a",
   "metadata": {},
   "outputs": [
    {
     "data": {
      "text/plain": [
       "<AxesSubplot:>"
      ]
     },
     "execution_count": 94,
     "metadata": {},
     "output_type": "execute_result"
    },
    {
     "data": {
      "image/png": "[encoded data removed]",
      "text/plain": [
       "<Figure size 640x480 with 1 Axes>"
      ]
     },
     "metadata": {},
     "output_type": "display_data"
    }
   ],
   "source": [
    "test_2[[0,1]].plot()"
   ]
  },
  {
   "cell_type": "code",
   "execution_count": 95,
   "id": "fd4d953a",
   "metadata": {},
   "outputs": [
    {
     "data": {
      "text/plain": [
       "<AxesSubplot:>"
      ]
     },
     "execution_count": 95,
     "metadata": {},
     "output_type": "execute_result"
    },
    {
     "data": {
      "image/png": "[encoded data removed]",
      "text/plain": [
       "<Figure size 640x480 with 1 Axes>"
      ]
     },
     "metadata": {},
     "output_type": "display_data"
    }
   ],
   "source": [
    "IBI[[0,1]].plot()"
   ]
  },
  {
   "cell_type": "code",
   "execution_count": 99,
   "id": "8613a9f5",
   "metadata": {},
   "outputs": [
    {
     "data": {
      "text/plain": [
       "S2     11107\n",
       "S5      7911\n",
       "S6      6463\n",
       "S10     4295\n",
       "S9      4115\n",
       "S1      3755\n",
       "S4      2127\n",
       "S3      2067\n",
       "S7      1527\n",
       "S8       507\n",
       "Name: Subject, dtype: int64"
      ]
     },
     "execution_count": 99,
     "metadata": {},
     "output_type": "execute_result"
    }
   ],
   "source": [
    "IBI['Subject'].value_counts() #Resample up to 64 Hz for everyone and then picl random sample"
   ]
  },
  {
   "cell_type": "code",
   "execution_count": 11,
   "id": "55db5504",
   "metadata": {},
   "outputs": [],
   "source": [
    "length=len(BVP) #resample all data to 64 Hz\n",
    "\n",
    "signals=[BVP, ACC, EDA, TEMP, HR] #Removing IBI Data\n",
    "\n",
    "signals=[resample(i, replace=True, n_samples=length) for i in signals]"
   ]
  },
  {
   "cell_type": "code",
   "execution_count": 12,
   "id": "9f4b2720",
   "metadata": {},
   "outputs": [],
   "source": [
    "BVP=signals[0]\n",
    "ACC=signals[1]\n",
    "EDA=signals[2]\n",
    "TEMP=signals[3]\n",
    "HR=signals[4]\n",
    "\n",
    "signals=[i.sort_index().reset_index(drop=True) for i in signals]\n",
    "\n",
    "BVP=signals[0]\n",
    "ACC=signals[1]\n",
    "EDA=signals[2]\n",
    "TEMP=signals[3]\n",
    "HR=signals[4]"
   ]
  },
  {
   "cell_type": "code",
   "execution_count": 22,
   "id": "82af7f88",
   "metadata": {},
   "outputs": [
    {
     "data": {
      "text/plain": [
       "S2     7180134\n",
       "S5     5117155\n",
       "S6     4178790\n",
       "S10    2776742\n",
       "S9     2661110\n",
       "S1     2428457\n",
       "S4     1374136\n",
       "S3     1337311\n",
       "S7      987814\n",
       "S8      328869\n",
       "Name: Subject, dtype: int64"
      ]
     },
     "execution_count": 22,
     "metadata": {},
     "output_type": "execute_result"
    }
   ],
   "source": [
    "IBI['Subject'].value_counts() #Keeps correct proportion of samples"
   ]
  },
  {
   "cell_type": "code",
   "execution_count": 23,
   "id": "64c2d30c",
   "metadata": {},
   "outputs": [],
   "source": [
    "big_test=pd.concat([signals[0], signals[1]], axis=1)"
   ]
  },
  {
   "cell_type": "code",
   "execution_count": 25,
   "id": "b12e95bd",
   "metadata": {},
   "outputs": [],
   "source": [
    "mapper=['BVP_Signal', 'BVP_Subject', 'BVP_Test', 'BVP_Score', 'x','y','z','ACC_Subject', \"ACC_Test\", \"ACC_Score\"]"
   ]
  },
  {
   "cell_type": "code",
   "execution_count": 26,
   "id": "befb80e2",
   "metadata": {},
   "outputs": [],
   "source": [
    "big_test.columns=mapper"
   ]
  },
  {
   "cell_type": "code",
   "execution_count": 27,
   "id": "c3ea7afd",
   "metadata": {},
   "outputs": [
    {
     "data": {
      "text/html": [
       "<div>\n",
       "<style scoped>\n",
       "    .dataframe tbody tr th:only-of-type {\n",
       "        vertical-align: middle;\n",
       "    }\n",
       "\n",
       "    .dataframe tbody tr th {\n",
       "        vertical-align: top;\n",
       "    }\n",
       "\n",
       "    .dataframe thead th {\n",
       "        text-align: right;\n",
       "    }\n",
       "</style>\n",
       "<table border=\"1\" class=\"dataframe\">\n",
       "  <thead>\n",
       "    <tr style=\"text-align: right;\">\n",
       "      <th></th>\n",
       "      <th>BVP_Signal</th>\n",
       "      <th>BVP_Subject</th>\n",
       "      <th>BVP_Test</th>\n",
       "      <th>BVP_Score</th>\n",
       "      <th>x</th>\n",
       "      <th>y</th>\n",
       "      <th>z</th>\n",
       "      <th>ACC_Subject</th>\n",
       "      <th>ACC_Test</th>\n",
       "      <th>ACC_Score</th>\n",
       "    </tr>\n",
       "  </thead>\n",
       "  <tbody>\n",
       "    <tr>\n",
       "      <th>0</th>\n",
       "      <td>-0.00</td>\n",
       "      <td>S5</td>\n",
       "      <td>Midterm 2</td>\n",
       "      <td>0.77</td>\n",
       "      <td>-1</td>\n",
       "      <td>-63</td>\n",
       "      <td>5</td>\n",
       "      <td>S5</td>\n",
       "      <td>Midterm 2</td>\n",
       "      <td>0.77</td>\n",
       "    </tr>\n",
       "    <tr>\n",
       "      <th>1</th>\n",
       "      <td>-0.00</td>\n",
       "      <td>S5</td>\n",
       "      <td>Midterm 2</td>\n",
       "      <td>0.77</td>\n",
       "      <td>-1</td>\n",
       "      <td>-63</td>\n",
       "      <td>5</td>\n",
       "      <td>S5</td>\n",
       "      <td>Midterm 2</td>\n",
       "      <td>0.77</td>\n",
       "    </tr>\n",
       "    <tr>\n",
       "      <th>2</th>\n",
       "      <td>-0.00</td>\n",
       "      <td>S5</td>\n",
       "      <td>Midterm 2</td>\n",
       "      <td>0.77</td>\n",
       "      <td>-1</td>\n",
       "      <td>-63</td>\n",
       "      <td>5</td>\n",
       "      <td>S5</td>\n",
       "      <td>Midterm 2</td>\n",
       "      <td>0.77</td>\n",
       "    </tr>\n",
       "    <tr>\n",
       "      <th>3</th>\n",
       "      <td>-0.00</td>\n",
       "      <td>S5</td>\n",
       "      <td>Midterm 2</td>\n",
       "      <td>0.77</td>\n",
       "      <td>-1</td>\n",
       "      <td>-63</td>\n",
       "      <td>5</td>\n",
       "      <td>S5</td>\n",
       "      <td>Midterm 2</td>\n",
       "      <td>0.77</td>\n",
       "    </tr>\n",
       "    <tr>\n",
       "      <th>4</th>\n",
       "      <td>-0.00</td>\n",
       "      <td>S5</td>\n",
       "      <td>Midterm 2</td>\n",
       "      <td>0.77</td>\n",
       "      <td>-1</td>\n",
       "      <td>-63</td>\n",
       "      <td>5</td>\n",
       "      <td>S5</td>\n",
       "      <td>Midterm 2</td>\n",
       "      <td>0.77</td>\n",
       "    </tr>\n",
       "    <tr>\n",
       "      <th>...</th>\n",
       "      <td>...</td>\n",
       "      <td>...</td>\n",
       "      <td>...</td>\n",
       "      <td>...</td>\n",
       "      <td>...</td>\n",
       "      <td>...</td>\n",
       "      <td>...</td>\n",
       "      <td>...</td>\n",
       "      <td>...</td>\n",
       "      <td>...</td>\n",
       "    </tr>\n",
       "    <tr>\n",
       "      <th>28370513</th>\n",
       "      <td>-0.81</td>\n",
       "      <td>S9</td>\n",
       "      <td>Final</td>\n",
       "      <td>0.63</td>\n",
       "      <td>40</td>\n",
       "      <td>-34</td>\n",
       "      <td>-37</td>\n",
       "      <td>S9</td>\n",
       "      <td>Final</td>\n",
       "      <td>0.63</td>\n",
       "    </tr>\n",
       "    <tr>\n",
       "      <th>28370514</th>\n",
       "      <td>-0.89</td>\n",
       "      <td>S9</td>\n",
       "      <td>Final</td>\n",
       "      <td>0.63</td>\n",
       "      <td>40</td>\n",
       "      <td>-34</td>\n",
       "      <td>-37</td>\n",
       "      <td>S9</td>\n",
       "      <td>Final</td>\n",
       "      <td>0.63</td>\n",
       "    </tr>\n",
       "    <tr>\n",
       "      <th>28370515</th>\n",
       "      <td>-0.89</td>\n",
       "      <td>S9</td>\n",
       "      <td>Final</td>\n",
       "      <td>0.63</td>\n",
       "      <td>40</td>\n",
       "      <td>-34</td>\n",
       "      <td>-37</td>\n",
       "      <td>S9</td>\n",
       "      <td>Final</td>\n",
       "      <td>0.63</td>\n",
       "    </tr>\n",
       "    <tr>\n",
       "      <th>28370516</th>\n",
       "      <td>-1.09</td>\n",
       "      <td>S9</td>\n",
       "      <td>Final</td>\n",
       "      <td>0.63</td>\n",
       "      <td>36</td>\n",
       "      <td>-36</td>\n",
       "      <td>-34</td>\n",
       "      <td>S9</td>\n",
       "      <td>Final</td>\n",
       "      <td>0.63</td>\n",
       "    </tr>\n",
       "    <tr>\n",
       "      <th>28370517</th>\n",
       "      <td>-1.09</td>\n",
       "      <td>S9</td>\n",
       "      <td>Final</td>\n",
       "      <td>0.63</td>\n",
       "      <td>36</td>\n",
       "      <td>-36</td>\n",
       "      <td>-34</td>\n",
       "      <td>S9</td>\n",
       "      <td>Final</td>\n",
       "      <td>0.63</td>\n",
       "    </tr>\n",
       "  </tbody>\n",
       "</table>\n",
       "<p>28370518 rows × 10 columns</p>\n",
       "</div>"
      ],
      "text/plain": [
       "          BVP_Signal BVP_Subject   BVP_Test  BVP_Score   x   y   z  \\\n",
       "0              -0.00          S5  Midterm 2       0.77  -1 -63   5   \n",
       "1              -0.00          S5  Midterm 2       0.77  -1 -63   5   \n",
       "2              -0.00          S5  Midterm 2       0.77  -1 -63   5   \n",
       "3              -0.00          S5  Midterm 2       0.77  -1 -63   5   \n",
       "4              -0.00          S5  Midterm 2       0.77  -1 -63   5   \n",
       "...              ...         ...        ...        ...  ..  ..  ..   \n",
       "28370513       -0.81          S9      Final       0.63  40 -34 -37   \n",
       "28370514       -0.89          S9      Final       0.63  40 -34 -37   \n",
       "28370515       -0.89          S9      Final       0.63  40 -34 -37   \n",
       "28370516       -1.09          S9      Final       0.63  36 -36 -34   \n",
       "28370517       -1.09          S9      Final       0.63  36 -36 -34   \n",
       "\n",
       "         ACC_Subject   ACC_Test  ACC_Score  \n",
       "0                 S5  Midterm 2       0.77  \n",
       "1                 S5  Midterm 2       0.77  \n",
       "2                 S5  Midterm 2       0.77  \n",
       "3                 S5  Midterm 2       0.77  \n",
       "4                 S5  Midterm 2       0.77  \n",
       "...              ...        ...        ...  \n",
       "28370513          S9      Final       0.63  \n",
       "28370514          S9      Final       0.63  \n",
       "28370515          S9      Final       0.63  \n",
       "28370516          S9      Final       0.63  \n",
       "28370517          S9      Final       0.63  \n",
       "\n",
       "[28370518 rows x 10 columns]"
      ]
     },
     "execution_count": 27,
     "metadata": {},
     "output_type": "execute_result"
    }
   ],
   "source": [
    "big_test"
   ]
  },
  {
   "cell_type": "code",
   "execution_count": 148,
   "id": "569dfd9b",
   "metadata": {},
   "outputs": [
    {
     "name": "stdout",
     "output_type": "stream",
     "text": [
      "2928630\n",
      "2926799\n",
      "7538753\n",
      "7747237\n"
     ]
    }
   ],
   "source": [
    "print(len(big_test[big_test['BVP_Subject']=='S1'])) #Not identical but pretty similar amounts\n",
    "print(len(big_test[big_test['ACC_Subject']=='S1']))\n",
    "\n",
    "print(len(big_test[big_test['BVP_Test']=='Midterm 1'])) \n",
    "print(len(big_test[big_test['ACC_Test']=='Midterm 2']))"
   ]
  },
  {
   "cell_type": "code",
   "execution_count": 28,
   "id": "bfa5a44b",
   "metadata": {},
   "outputs": [
    {
     "data": {
      "text/html": [
       "<div>\n",
       "<style scoped>\n",
       "    .dataframe tbody tr th:only-of-type {\n",
       "        vertical-align: middle;\n",
       "    }\n",
       "\n",
       "    .dataframe tbody tr th {\n",
       "        vertical-align: top;\n",
       "    }\n",
       "\n",
       "    .dataframe thead th {\n",
       "        text-align: right;\n",
       "    }\n",
       "</style>\n",
       "<table border=\"1\" class=\"dataframe\">\n",
       "  <thead>\n",
       "    <tr style=\"text-align: right;\">\n",
       "      <th></th>\n",
       "      <th>0</th>\n",
       "      <th>Subject</th>\n",
       "      <th>Test</th>\n",
       "      <th>Score</th>\n",
       "    </tr>\n",
       "  </thead>\n",
       "  <tbody>\n",
       "    <tr>\n",
       "      <th>0</th>\n",
       "      <td>0.0</td>\n",
       "      <td>S5</td>\n",
       "      <td>Midterm 2</td>\n",
       "      <td>0.770</td>\n",
       "    </tr>\n",
       "    <tr>\n",
       "      <th>1</th>\n",
       "      <td>0.0</td>\n",
       "      <td>S5</td>\n",
       "      <td>Midterm 2</td>\n",
       "      <td>0.770</td>\n",
       "    </tr>\n",
       "    <tr>\n",
       "      <th>2</th>\n",
       "      <td>0.0</td>\n",
       "      <td>S5</td>\n",
       "      <td>Midterm 2</td>\n",
       "      <td>0.770</td>\n",
       "    </tr>\n",
       "    <tr>\n",
       "      <th>3</th>\n",
       "      <td>0.0</td>\n",
       "      <td>S5</td>\n",
       "      <td>Midterm 2</td>\n",
       "      <td>0.770</td>\n",
       "    </tr>\n",
       "    <tr>\n",
       "      <th>4</th>\n",
       "      <td>0.0</td>\n",
       "      <td>S5</td>\n",
       "      <td>Midterm 2</td>\n",
       "      <td>0.770</td>\n",
       "    </tr>\n",
       "    <tr>\n",
       "      <th>...</th>\n",
       "      <td>...</td>\n",
       "      <td>...</td>\n",
       "      <td>...</td>\n",
       "      <td>...</td>\n",
       "    </tr>\n",
       "    <tr>\n",
       "      <th>16261471</th>\n",
       "      <td>0.0</td>\n",
       "      <td>S5</td>\n",
       "      <td>Final</td>\n",
       "      <td>0.785</td>\n",
       "    </tr>\n",
       "    <tr>\n",
       "      <th>16261472</th>\n",
       "      <td>0.0</td>\n",
       "      <td>S5</td>\n",
       "      <td>Final</td>\n",
       "      <td>0.785</td>\n",
       "    </tr>\n",
       "    <tr>\n",
       "      <th>16261473</th>\n",
       "      <td>0.0</td>\n",
       "      <td>S5</td>\n",
       "      <td>Final</td>\n",
       "      <td>0.785</td>\n",
       "    </tr>\n",
       "    <tr>\n",
       "      <th>16261474</th>\n",
       "      <td>0.0</td>\n",
       "      <td>S5</td>\n",
       "      <td>Final</td>\n",
       "      <td>0.785</td>\n",
       "    </tr>\n",
       "    <tr>\n",
       "      <th>16261475</th>\n",
       "      <td>0.0</td>\n",
       "      <td>S5</td>\n",
       "      <td>Final</td>\n",
       "      <td>0.785</td>\n",
       "    </tr>\n",
       "  </tbody>\n",
       "</table>\n",
       "<p>2513683 rows × 4 columns</p>\n",
       "</div>"
      ],
      "text/plain": [
       "            0 Subject       Test  Score\n",
       "0         0.0      S5  Midterm 2  0.770\n",
       "1         0.0      S5  Midterm 2  0.770\n",
       "2         0.0      S5  Midterm 2  0.770\n",
       "3         0.0      S5  Midterm 2  0.770\n",
       "4         0.0      S5  Midterm 2  0.770\n",
       "...       ...     ...        ...    ...\n",
       "16261471  0.0      S5      Final  0.785\n",
       "16261472  0.0      S5      Final  0.785\n",
       "16261473  0.0      S5      Final  0.785\n",
       "16261474  0.0      S5      Final  0.785\n",
       "16261475  0.0      S5      Final  0.785\n",
       "\n",
       "[2513683 rows x 4 columns]"
      ]
     },
     "execution_count": 28,
     "metadata": {},
     "output_type": "execute_result"
    }
   ],
   "source": [
    "EDA[EDA['Subject']=='S5']"
   ]
  },
  {
   "cell_type": "code",
   "execution_count": 14,
   "id": "38499e56",
   "metadata": {},
   "outputs": [],
   "source": [
    "EDA_OG=pd.concat(final_dfs['EDA'], axis=0)"
   ]
  },
  {
   "cell_type": "code",
   "execution_count": 30,
   "id": "6824dd94",
   "metadata": {},
   "outputs": [],
   "source": [
    "EDA_OG=EDA_OG.reset_index(drop=True)"
   ]
  },
  {
   "cell_type": "code",
   "execution_count": 15,
   "id": "d4ff2fc0",
   "metadata": {},
   "outputs": [
    {
     "data": {
      "text/plain": [
       "26597398"
      ]
     },
     "execution_count": 15,
     "metadata": {},
     "output_type": "execute_result"
    }
   ],
   "source": [
    "len(EDA)-len(EDA_OG)"
   ]
  },
  {
   "cell_type": "code",
   "execution_count": 32,
   "id": "dafb5e90",
   "metadata": {},
   "outputs": [
    {
     "data": {
      "text/html": [
       "<div>\n",
       "<style scoped>\n",
       "    .dataframe tbody tr th:only-of-type {\n",
       "        vertical-align: middle;\n",
       "    }\n",
       "\n",
       "    .dataframe tbody tr th {\n",
       "        vertical-align: top;\n",
       "    }\n",
       "\n",
       "    .dataframe thead th {\n",
       "        text-align: right;\n",
       "    }\n",
       "</style>\n",
       "<table border=\"1\" class=\"dataframe\">\n",
       "  <thead>\n",
       "    <tr style=\"text-align: right;\">\n",
       "      <th></th>\n",
       "      <th>0</th>\n",
       "      <th>Subject</th>\n",
       "      <th>Test</th>\n",
       "      <th>Score</th>\n",
       "    </tr>\n",
       "  </thead>\n",
       "  <tbody>\n",
       "    <tr>\n",
       "      <th>0</th>\n",
       "      <td>0.000000</td>\n",
       "      <td>S5</td>\n",
       "      <td>Midterm 2</td>\n",
       "      <td>0.770</td>\n",
       "    </tr>\n",
       "    <tr>\n",
       "      <th>1</th>\n",
       "      <td>0.002562</td>\n",
       "      <td>S5</td>\n",
       "      <td>Midterm 2</td>\n",
       "      <td>0.770</td>\n",
       "    </tr>\n",
       "    <tr>\n",
       "      <th>2</th>\n",
       "      <td>0.021776</td>\n",
       "      <td>S5</td>\n",
       "      <td>Midterm 2</td>\n",
       "      <td>0.770</td>\n",
       "    </tr>\n",
       "    <tr>\n",
       "      <th>3</th>\n",
       "      <td>0.021776</td>\n",
       "      <td>S5</td>\n",
       "      <td>Midterm 2</td>\n",
       "      <td>0.770</td>\n",
       "    </tr>\n",
       "    <tr>\n",
       "      <th>4</th>\n",
       "      <td>0.019214</td>\n",
       "      <td>S5</td>\n",
       "      <td>Midterm 2</td>\n",
       "      <td>0.770</td>\n",
       "    </tr>\n",
       "    <tr>\n",
       "      <th>...</th>\n",
       "      <td>...</td>\n",
       "      <td>...</td>\n",
       "      <td>...</td>\n",
       "      <td>...</td>\n",
       "    </tr>\n",
       "    <tr>\n",
       "      <th>1016257</th>\n",
       "      <td>0.000000</td>\n",
       "      <td>S5</td>\n",
       "      <td>Final</td>\n",
       "      <td>0.785</td>\n",
       "    </tr>\n",
       "    <tr>\n",
       "      <th>1016258</th>\n",
       "      <td>0.000000</td>\n",
       "      <td>S5</td>\n",
       "      <td>Final</td>\n",
       "      <td>0.785</td>\n",
       "    </tr>\n",
       "    <tr>\n",
       "      <th>1016259</th>\n",
       "      <td>0.000000</td>\n",
       "      <td>S5</td>\n",
       "      <td>Final</td>\n",
       "      <td>0.785</td>\n",
       "    </tr>\n",
       "    <tr>\n",
       "      <th>1016260</th>\n",
       "      <td>0.000000</td>\n",
       "      <td>S5</td>\n",
       "      <td>Final</td>\n",
       "      <td>0.785</td>\n",
       "    </tr>\n",
       "    <tr>\n",
       "      <th>1016261</th>\n",
       "      <td>0.000000</td>\n",
       "      <td>S5</td>\n",
       "      <td>Final</td>\n",
       "      <td>0.785</td>\n",
       "    </tr>\n",
       "  </tbody>\n",
       "</table>\n",
       "<p>157068 rows × 4 columns</p>\n",
       "</div>"
      ],
      "text/plain": [
       "                0 Subject       Test  Score\n",
       "0        0.000000      S5  Midterm 2  0.770\n",
       "1        0.002562      S5  Midterm 2  0.770\n",
       "2        0.021776      S5  Midterm 2  0.770\n",
       "3        0.021776      S5  Midterm 2  0.770\n",
       "4        0.019214      S5  Midterm 2  0.770\n",
       "...           ...     ...        ...    ...\n",
       "1016257  0.000000      S5      Final  0.785\n",
       "1016258  0.000000      S5      Final  0.785\n",
       "1016259  0.000000      S5      Final  0.785\n",
       "1016260  0.000000      S5      Final  0.785\n",
       "1016261  0.000000      S5      Final  0.785\n",
       "\n",
       "[157068 rows x 4 columns]"
      ]
     },
     "execution_count": 32,
     "metadata": {},
     "output_type": "execute_result"
    }
   ],
   "source": [
    "EDA_OG[EDA_OG['Subject']=='S5']"
   ]
  },
  {
   "cell_type": "code",
   "execution_count": 187,
   "id": "82af12fe",
   "metadata": {},
   "outputs": [
    {
     "data": {
      "text/plain": [
       "<AxesSubplot:>"
      ]
     },
     "execution_count": 187,
     "metadata": {},
     "output_type": "execute_result"
    },
    {
     "data": {
      "image/png": "[encoded data removed]",
      "text/plain": [
       "<Figure size 640x480 with 1 Axes>"
      ]
     },
     "metadata": {},
     "output_type": "display_data"
    }
   ],
   "source": [
    "EDA_OG[0][:157068].plot() #Data looks the same...good to go"
   ]
  },
  {
   "cell_type": "code",
   "execution_count": 188,
   "id": "72eba2b6",
   "metadata": {},
   "outputs": [
    {
     "data": {
      "text/plain": [
       "<AxesSubplot:>"
      ]
     },
     "execution_count": 188,
     "metadata": {},
     "output_type": "execute_result"
    },
    {
     "data": {
      "image/png": "[encoded data removed]",
      "text/plain": [
       "<Figure size 640x480 with 1 Axes>"
      ]
     },
     "metadata": {},
     "output_type": "display_data"
    }
   ],
   "source": [
    "EDA[0][:2512834].plot() #Determined end point by index of which a specific subject ended"
   ]
  },
  {
   "cell_type": "code",
   "execution_count": 189,
   "id": "ec0c8b44",
   "metadata": {},
   "outputs": [
    {
     "data": {
      "text/html": [
       "<div>\n",
       "<style scoped>\n",
       "    .dataframe tbody tr th:only-of-type {\n",
       "        vertical-align: middle;\n",
       "    }\n",
       "\n",
       "    .dataframe tbody tr th {\n",
       "        vertical-align: top;\n",
       "    }\n",
       "\n",
       "    .dataframe thead th {\n",
       "        text-align: right;\n",
       "    }\n",
       "</style>\n",
       "<table border=\"1\" class=\"dataframe\">\n",
       "  <thead>\n",
       "    <tr style=\"text-align: right;\">\n",
       "      <th></th>\n",
       "      <th>BVP_Signal</th>\n",
       "      <th>BVP_Subject</th>\n",
       "      <th>BVP_Test</th>\n",
       "      <th>BVP_Score</th>\n",
       "      <th>x</th>\n",
       "      <th>y</th>\n",
       "      <th>z</th>\n",
       "      <th>ACC_Subject</th>\n",
       "      <th>ACC_Test</th>\n",
       "      <th>ACC_Score</th>\n",
       "    </tr>\n",
       "  </thead>\n",
       "  <tbody>\n",
       "    <tr>\n",
       "      <th>0</th>\n",
       "      <td>-0.00</td>\n",
       "      <td>S5</td>\n",
       "      <td>Midterm 2</td>\n",
       "      <td>0.77</td>\n",
       "      <td>-1</td>\n",
       "      <td>-63</td>\n",
       "      <td>5</td>\n",
       "      <td>S5</td>\n",
       "      <td>Midterm 2</td>\n",
       "      <td>0.77</td>\n",
       "    </tr>\n",
       "    <tr>\n",
       "      <th>1</th>\n",
       "      <td>-0.00</td>\n",
       "      <td>S5</td>\n",
       "      <td>Midterm 2</td>\n",
       "      <td>0.77</td>\n",
       "      <td>-1</td>\n",
       "      <td>-63</td>\n",
       "      <td>5</td>\n",
       "      <td>S5</td>\n",
       "      <td>Midterm 2</td>\n",
       "      <td>0.77</td>\n",
       "    </tr>\n",
       "    <tr>\n",
       "      <th>2</th>\n",
       "      <td>-0.00</td>\n",
       "      <td>S5</td>\n",
       "      <td>Midterm 2</td>\n",
       "      <td>0.77</td>\n",
       "      <td>-1</td>\n",
       "      <td>-63</td>\n",
       "      <td>5</td>\n",
       "      <td>S5</td>\n",
       "      <td>Midterm 2</td>\n",
       "      <td>0.77</td>\n",
       "    </tr>\n",
       "    <tr>\n",
       "      <th>3</th>\n",
       "      <td>-0.00</td>\n",
       "      <td>S5</td>\n",
       "      <td>Midterm 2</td>\n",
       "      <td>0.77</td>\n",
       "      <td>-1</td>\n",
       "      <td>-63</td>\n",
       "      <td>5</td>\n",
       "      <td>S5</td>\n",
       "      <td>Midterm 2</td>\n",
       "      <td>0.77</td>\n",
       "    </tr>\n",
       "    <tr>\n",
       "      <th>4</th>\n",
       "      <td>-0.00</td>\n",
       "      <td>S5</td>\n",
       "      <td>Midterm 2</td>\n",
       "      <td>0.77</td>\n",
       "      <td>-1</td>\n",
       "      <td>-63</td>\n",
       "      <td>5</td>\n",
       "      <td>S5</td>\n",
       "      <td>Midterm 2</td>\n",
       "      <td>0.77</td>\n",
       "    </tr>\n",
       "    <tr>\n",
       "      <th>...</th>\n",
       "      <td>...</td>\n",
       "      <td>...</td>\n",
       "      <td>...</td>\n",
       "      <td>...</td>\n",
       "      <td>...</td>\n",
       "      <td>...</td>\n",
       "      <td>...</td>\n",
       "      <td>...</td>\n",
       "      <td>...</td>\n",
       "      <td>...</td>\n",
       "    </tr>\n",
       "    <tr>\n",
       "      <th>28370513</th>\n",
       "      <td>-1.09</td>\n",
       "      <td>S9</td>\n",
       "      <td>Final</td>\n",
       "      <td>0.63</td>\n",
       "      <td>39</td>\n",
       "      <td>-34</td>\n",
       "      <td>-37</td>\n",
       "      <td>S9</td>\n",
       "      <td>Final</td>\n",
       "      <td>0.63</td>\n",
       "    </tr>\n",
       "    <tr>\n",
       "      <th>28370514</th>\n",
       "      <td>-1.09</td>\n",
       "      <td>S9</td>\n",
       "      <td>Final</td>\n",
       "      <td>0.63</td>\n",
       "      <td>39</td>\n",
       "      <td>-32</td>\n",
       "      <td>-37</td>\n",
       "      <td>S9</td>\n",
       "      <td>Final</td>\n",
       "      <td>0.63</td>\n",
       "    </tr>\n",
       "    <tr>\n",
       "      <th>28370515</th>\n",
       "      <td>-1.43</td>\n",
       "      <td>S9</td>\n",
       "      <td>Final</td>\n",
       "      <td>0.63</td>\n",
       "      <td>40</td>\n",
       "      <td>-34</td>\n",
       "      <td>-37</td>\n",
       "      <td>S9</td>\n",
       "      <td>Final</td>\n",
       "      <td>0.63</td>\n",
       "    </tr>\n",
       "    <tr>\n",
       "      <th>28370516</th>\n",
       "      <td>-1.43</td>\n",
       "      <td>S9</td>\n",
       "      <td>Final</td>\n",
       "      <td>0.63</td>\n",
       "      <td>40</td>\n",
       "      <td>-34</td>\n",
       "      <td>-37</td>\n",
       "      <td>S9</td>\n",
       "      <td>Final</td>\n",
       "      <td>0.63</td>\n",
       "    </tr>\n",
       "    <tr>\n",
       "      <th>28370517</th>\n",
       "      <td>-1.43</td>\n",
       "      <td>S9</td>\n",
       "      <td>Final</td>\n",
       "      <td>0.63</td>\n",
       "      <td>36</td>\n",
       "      <td>-36</td>\n",
       "      <td>-34</td>\n",
       "      <td>S9</td>\n",
       "      <td>Final</td>\n",
       "      <td>0.63</td>\n",
       "    </tr>\n",
       "  </tbody>\n",
       "</table>\n",
       "<p>28370518 rows × 10 columns</p>\n",
       "</div>"
      ],
      "text/plain": [
       "          BVP_Signal BVP_Subject   BVP_Test  BVP_Score   x   y   z  \\\n",
       "0              -0.00          S5  Midterm 2       0.77  -1 -63   5   \n",
       "1              -0.00          S5  Midterm 2       0.77  -1 -63   5   \n",
       "2              -0.00          S5  Midterm 2       0.77  -1 -63   5   \n",
       "3              -0.00          S5  Midterm 2       0.77  -1 -63   5   \n",
       "4              -0.00          S5  Midterm 2       0.77  -1 -63   5   \n",
       "...              ...         ...        ...        ...  ..  ..  ..   \n",
       "28370513       -1.09          S9      Final       0.63  39 -34 -37   \n",
       "28370514       -1.09          S9      Final       0.63  39 -32 -37   \n",
       "28370515       -1.43          S9      Final       0.63  40 -34 -37   \n",
       "28370516       -1.43          S9      Final       0.63  40 -34 -37   \n",
       "28370517       -1.43          S9      Final       0.63  36 -36 -34   \n",
       "\n",
       "         ACC_Subject   ACC_Test  ACC_Score  \n",
       "0                 S5  Midterm 2       0.77  \n",
       "1                 S5  Midterm 2       0.77  \n",
       "2                 S5  Midterm 2       0.77  \n",
       "3                 S5  Midterm 2       0.77  \n",
       "4                 S5  Midterm 2       0.77  \n",
       "...              ...        ...        ...  \n",
       "28370513          S9      Final       0.63  \n",
       "28370514          S9      Final       0.63  \n",
       "28370515          S9      Final       0.63  \n",
       "28370516          S9      Final       0.63  \n",
       "28370517          S9      Final       0.63  \n",
       "\n",
       "[28370518 rows x 10 columns]"
      ]
     },
     "execution_count": 189,
     "metadata": {},
     "output_type": "execute_result"
    }
   ],
   "source": [
    "big_test #Data is imbalanced but not inherently a problem"
   ]
  },
  {
   "cell_type": "code",
   "execution_count": 33,
   "id": "e37836f8",
   "metadata": {},
   "outputs": [
    {
     "data": {
      "text/html": [
       "<div>\n",
       "<style scoped>\n",
       "    .dataframe tbody tr th:only-of-type {\n",
       "        vertical-align: middle;\n",
       "    }\n",
       "\n",
       "    .dataframe tbody tr th {\n",
       "        vertical-align: top;\n",
       "    }\n",
       "\n",
       "    .dataframe thead th {\n",
       "        text-align: right;\n",
       "    }\n",
       "</style>\n",
       "<table border=\"1\" class=\"dataframe\">\n",
       "  <thead>\n",
       "    <tr style=\"text-align: right;\">\n",
       "      <th></th>\n",
       "      <th>BVP_Signal</th>\n",
       "      <th>BVP_Subject</th>\n",
       "      <th>BVP_Test</th>\n",
       "      <th>BVP_Score</th>\n",
       "      <th>x</th>\n",
       "      <th>y</th>\n",
       "      <th>z</th>\n",
       "      <th>ACC_Subject</th>\n",
       "      <th>ACC_Test</th>\n",
       "      <th>ACC_Score</th>\n",
       "    </tr>\n",
       "  </thead>\n",
       "  <tbody>\n",
       "    <tr>\n",
       "      <th>0</th>\n",
       "      <td>-0.00</td>\n",
       "      <td>S5</td>\n",
       "      <td>Midterm 2</td>\n",
       "      <td>0.770</td>\n",
       "      <td>-1</td>\n",
       "      <td>-63</td>\n",
       "      <td>5</td>\n",
       "      <td>S5</td>\n",
       "      <td>Midterm 2</td>\n",
       "      <td>0.770</td>\n",
       "    </tr>\n",
       "    <tr>\n",
       "      <th>1</th>\n",
       "      <td>-0.00</td>\n",
       "      <td>S5</td>\n",
       "      <td>Midterm 2</td>\n",
       "      <td>0.770</td>\n",
       "      <td>-1</td>\n",
       "      <td>-63</td>\n",
       "      <td>5</td>\n",
       "      <td>S5</td>\n",
       "      <td>Midterm 2</td>\n",
       "      <td>0.770</td>\n",
       "    </tr>\n",
       "    <tr>\n",
       "      <th>2</th>\n",
       "      <td>-0.00</td>\n",
       "      <td>S5</td>\n",
       "      <td>Midterm 2</td>\n",
       "      <td>0.770</td>\n",
       "      <td>-1</td>\n",
       "      <td>-63</td>\n",
       "      <td>5</td>\n",
       "      <td>S5</td>\n",
       "      <td>Midterm 2</td>\n",
       "      <td>0.770</td>\n",
       "    </tr>\n",
       "    <tr>\n",
       "      <th>3</th>\n",
       "      <td>-0.00</td>\n",
       "      <td>S5</td>\n",
       "      <td>Midterm 2</td>\n",
       "      <td>0.770</td>\n",
       "      <td>-1</td>\n",
       "      <td>-63</td>\n",
       "      <td>5</td>\n",
       "      <td>S5</td>\n",
       "      <td>Midterm 2</td>\n",
       "      <td>0.770</td>\n",
       "    </tr>\n",
       "    <tr>\n",
       "      <th>4</th>\n",
       "      <td>-0.00</td>\n",
       "      <td>S5</td>\n",
       "      <td>Midterm 2</td>\n",
       "      <td>0.770</td>\n",
       "      <td>-1</td>\n",
       "      <td>-63</td>\n",
       "      <td>5</td>\n",
       "      <td>S5</td>\n",
       "      <td>Midterm 2</td>\n",
       "      <td>0.770</td>\n",
       "    </tr>\n",
       "    <tr>\n",
       "      <th>...</th>\n",
       "      <td>...</td>\n",
       "      <td>...</td>\n",
       "      <td>...</td>\n",
       "      <td>...</td>\n",
       "      <td>...</td>\n",
       "      <td>...</td>\n",
       "      <td>...</td>\n",
       "      <td>...</td>\n",
       "      <td>...</td>\n",
       "      <td>...</td>\n",
       "    </tr>\n",
       "    <tr>\n",
       "      <th>16260193</th>\n",
       "      <td>-0.87</td>\n",
       "      <td>S5</td>\n",
       "      <td>Final</td>\n",
       "      <td>0.785</td>\n",
       "      <td>-2</td>\n",
       "      <td>-2</td>\n",
       "      <td>-63</td>\n",
       "      <td>S5</td>\n",
       "      <td>Final</td>\n",
       "      <td>0.785</td>\n",
       "    </tr>\n",
       "    <tr>\n",
       "      <th>16260194</th>\n",
       "      <td>-4.39</td>\n",
       "      <td>S5</td>\n",
       "      <td>Final</td>\n",
       "      <td>0.785</td>\n",
       "      <td>-2</td>\n",
       "      <td>-2</td>\n",
       "      <td>-62</td>\n",
       "      <td>S5</td>\n",
       "      <td>Final</td>\n",
       "      <td>0.785</td>\n",
       "    </tr>\n",
       "    <tr>\n",
       "      <th>16260195</th>\n",
       "      <td>-4.39</td>\n",
       "      <td>S5</td>\n",
       "      <td>Final</td>\n",
       "      <td>0.785</td>\n",
       "      <td>-2</td>\n",
       "      <td>-2</td>\n",
       "      <td>-63</td>\n",
       "      <td>S5</td>\n",
       "      <td>Final</td>\n",
       "      <td>0.785</td>\n",
       "    </tr>\n",
       "    <tr>\n",
       "      <th>16260196</th>\n",
       "      <td>-4.39</td>\n",
       "      <td>S5</td>\n",
       "      <td>Final</td>\n",
       "      <td>0.785</td>\n",
       "      <td>-2</td>\n",
       "      <td>-2</td>\n",
       "      <td>-63</td>\n",
       "      <td>S5</td>\n",
       "      <td>Final</td>\n",
       "      <td>0.785</td>\n",
       "    </tr>\n",
       "    <tr>\n",
       "      <th>16260197</th>\n",
       "      <td>-4.39</td>\n",
       "      <td>S5</td>\n",
       "      <td>Final</td>\n",
       "      <td>0.785</td>\n",
       "      <td>-2</td>\n",
       "      <td>-2</td>\n",
       "      <td>-62</td>\n",
       "      <td>S5</td>\n",
       "      <td>Final</td>\n",
       "      <td>0.785</td>\n",
       "    </tr>\n",
       "  </tbody>\n",
       "</table>\n",
       "<p>2511740 rows × 10 columns</p>\n",
       "</div>"
      ],
      "text/plain": [
       "          BVP_Signal BVP_Subject   BVP_Test  BVP_Score  x   y   z ACC_Subject  \\\n",
       "0              -0.00          S5  Midterm 2      0.770 -1 -63   5          S5   \n",
       "1              -0.00          S5  Midterm 2      0.770 -1 -63   5          S5   \n",
       "2              -0.00          S5  Midterm 2      0.770 -1 -63   5          S5   \n",
       "3              -0.00          S5  Midterm 2      0.770 -1 -63   5          S5   \n",
       "4              -0.00          S5  Midterm 2      0.770 -1 -63   5          S5   \n",
       "...              ...         ...        ...        ... ..  ..  ..         ...   \n",
       "16260193       -0.87          S5      Final      0.785 -2  -2 -63          S5   \n",
       "16260194       -4.39          S5      Final      0.785 -2  -2 -62          S5   \n",
       "16260195       -4.39          S5      Final      0.785 -2  -2 -63          S5   \n",
       "16260196       -4.39          S5      Final      0.785 -2  -2 -63          S5   \n",
       "16260197       -4.39          S5      Final      0.785 -2  -2 -62          S5   \n",
       "\n",
       "           ACC_Test  ACC_Score  \n",
       "0         Midterm 2      0.770  \n",
       "1         Midterm 2      0.770  \n",
       "2         Midterm 2      0.770  \n",
       "3         Midterm 2      0.770  \n",
       "4         Midterm 2      0.770  \n",
       "...             ...        ...  \n",
       "16260193      Final      0.785  \n",
       "16260194      Final      0.785  \n",
       "16260195      Final      0.785  \n",
       "16260196      Final      0.785  \n",
       "16260197      Final      0.785  \n",
       "\n",
       "[2511740 rows x 10 columns]"
      ]
     },
     "execution_count": 33,
     "metadata": {},
     "output_type": "execute_result"
    }
   ],
   "source": [
    "big_test[big_test['BVP_Subject']=='S5']"
   ]
  },
  {
   "cell_type": "code",
   "execution_count": 34,
   "id": "9a3cef53",
   "metadata": {},
   "outputs": [],
   "source": [
    "S5_test=big_test[big_test['BVP_Subject']=='S5']"
   ]
  },
  {
   "cell_type": "code",
   "execution_count": 35,
   "id": "89799a7e",
   "metadata": {},
   "outputs": [],
   "source": [
    "S5_test=S5_test.reset_index(drop=True)"
   ]
  },
  {
   "cell_type": "code",
   "execution_count": 199,
   "id": "07c50b65",
   "metadata": {},
   "outputs": [
    {
     "data": {
      "text/html": [
       "<div>\n",
       "<style scoped>\n",
       "    .dataframe tbody tr th:only-of-type {\n",
       "        vertical-align: middle;\n",
       "    }\n",
       "\n",
       "    .dataframe tbody tr th {\n",
       "        vertical-align: top;\n",
       "    }\n",
       "\n",
       "    .dataframe thead th {\n",
       "        text-align: right;\n",
       "    }\n",
       "</style>\n",
       "<table border=\"1\" class=\"dataframe\">\n",
       "  <thead>\n",
       "    <tr style=\"text-align: right;\">\n",
       "      <th></th>\n",
       "      <th>BVP_Signal</th>\n",
       "      <th>BVP_Subject</th>\n",
       "      <th>BVP_Test</th>\n",
       "      <th>BVP_Score</th>\n",
       "      <th>x</th>\n",
       "      <th>y</th>\n",
       "      <th>z</th>\n",
       "      <th>ACC_Subject</th>\n",
       "      <th>ACC_Test</th>\n",
       "      <th>ACC_Score</th>\n",
       "    </tr>\n",
       "  </thead>\n",
       "  <tbody>\n",
       "    <tr>\n",
       "      <th>0</th>\n",
       "      <td>-0.00</td>\n",
       "      <td>S5</td>\n",
       "      <td>Midterm 2</td>\n",
       "      <td>0.770</td>\n",
       "      <td>-1</td>\n",
       "      <td>-63</td>\n",
       "      <td>5</td>\n",
       "      <td>S5</td>\n",
       "      <td>Midterm 2</td>\n",
       "      <td>0.770</td>\n",
       "    </tr>\n",
       "    <tr>\n",
       "      <th>1</th>\n",
       "      <td>-0.00</td>\n",
       "      <td>S5</td>\n",
       "      <td>Midterm 2</td>\n",
       "      <td>0.770</td>\n",
       "      <td>-1</td>\n",
       "      <td>-63</td>\n",
       "      <td>5</td>\n",
       "      <td>S5</td>\n",
       "      <td>Midterm 2</td>\n",
       "      <td>0.770</td>\n",
       "    </tr>\n",
       "    <tr>\n",
       "      <th>2</th>\n",
       "      <td>-0.00</td>\n",
       "      <td>S5</td>\n",
       "      <td>Midterm 2</td>\n",
       "      <td>0.770</td>\n",
       "      <td>-1</td>\n",
       "      <td>-63</td>\n",
       "      <td>5</td>\n",
       "      <td>S5</td>\n",
       "      <td>Midterm 2</td>\n",
       "      <td>0.770</td>\n",
       "    </tr>\n",
       "    <tr>\n",
       "      <th>3</th>\n",
       "      <td>-0.00</td>\n",
       "      <td>S5</td>\n",
       "      <td>Midterm 2</td>\n",
       "      <td>0.770</td>\n",
       "      <td>-1</td>\n",
       "      <td>-63</td>\n",
       "      <td>5</td>\n",
       "      <td>S5</td>\n",
       "      <td>Midterm 2</td>\n",
       "      <td>0.770</td>\n",
       "    </tr>\n",
       "    <tr>\n",
       "      <th>4</th>\n",
       "      <td>-0.00</td>\n",
       "      <td>S5</td>\n",
       "      <td>Midterm 2</td>\n",
       "      <td>0.770</td>\n",
       "      <td>-1</td>\n",
       "      <td>-63</td>\n",
       "      <td>5</td>\n",
       "      <td>S5</td>\n",
       "      <td>Midterm 2</td>\n",
       "      <td>0.770</td>\n",
       "    </tr>\n",
       "    <tr>\n",
       "      <th>...</th>\n",
       "      <td>...</td>\n",
       "      <td>...</td>\n",
       "      <td>...</td>\n",
       "      <td>...</td>\n",
       "      <td>...</td>\n",
       "      <td>...</td>\n",
       "      <td>...</td>\n",
       "      <td>...</td>\n",
       "      <td>...</td>\n",
       "      <td>...</td>\n",
       "    </tr>\n",
       "    <tr>\n",
       "      <th>1999996</th>\n",
       "      <td>15.79</td>\n",
       "      <td>S5</td>\n",
       "      <td>Final</td>\n",
       "      <td>0.785</td>\n",
       "      <td>-33</td>\n",
       "      <td>48</td>\n",
       "      <td>-30</td>\n",
       "      <td>S5</td>\n",
       "      <td>Final</td>\n",
       "      <td>0.785</td>\n",
       "    </tr>\n",
       "    <tr>\n",
       "      <th>1999997</th>\n",
       "      <td>12.66</td>\n",
       "      <td>S5</td>\n",
       "      <td>Final</td>\n",
       "      <td>0.785</td>\n",
       "      <td>-32</td>\n",
       "      <td>47</td>\n",
       "      <td>-30</td>\n",
       "      <td>S5</td>\n",
       "      <td>Final</td>\n",
       "      <td>0.785</td>\n",
       "    </tr>\n",
       "    <tr>\n",
       "      <th>1999998</th>\n",
       "      <td>3.12</td>\n",
       "      <td>S5</td>\n",
       "      <td>Final</td>\n",
       "      <td>0.785</td>\n",
       "      <td>-32</td>\n",
       "      <td>47</td>\n",
       "      <td>-30</td>\n",
       "      <td>S5</td>\n",
       "      <td>Final</td>\n",
       "      <td>0.785</td>\n",
       "    </tr>\n",
       "    <tr>\n",
       "      <th>1999999</th>\n",
       "      <td>-2.33</td>\n",
       "      <td>S5</td>\n",
       "      <td>Final</td>\n",
       "      <td>0.785</td>\n",
       "      <td>-32</td>\n",
       "      <td>48</td>\n",
       "      <td>-30</td>\n",
       "      <td>S5</td>\n",
       "      <td>Final</td>\n",
       "      <td>0.785</td>\n",
       "    </tr>\n",
       "    <tr>\n",
       "      <th>2514335</th>\n",
       "      <td>-4.39</td>\n",
       "      <td>S5</td>\n",
       "      <td>Final</td>\n",
       "      <td>0.785</td>\n",
       "      <td>-4</td>\n",
       "      <td>33</td>\n",
       "      <td>-55</td>\n",
       "      <td>S2</td>\n",
       "      <td>Final</td>\n",
       "      <td>0.900</td>\n",
       "    </tr>\n",
       "  </tbody>\n",
       "</table>\n",
       "<p>2000001 rows × 10 columns</p>\n",
       "</div>"
      ],
      "text/plain": [
       "         BVP_Signal BVP_Subject   BVP_Test  BVP_Score   x   y   z ACC_Subject  \\\n",
       "0             -0.00          S5  Midterm 2      0.770  -1 -63   5          S5   \n",
       "1             -0.00          S5  Midterm 2      0.770  -1 -63   5          S5   \n",
       "2             -0.00          S5  Midterm 2      0.770  -1 -63   5          S5   \n",
       "3             -0.00          S5  Midterm 2      0.770  -1 -63   5          S5   \n",
       "4             -0.00          S5  Midterm 2      0.770  -1 -63   5          S5   \n",
       "...             ...         ...        ...        ...  ..  ..  ..         ...   \n",
       "1999996       15.79          S5      Final      0.785 -33  48 -30          S5   \n",
       "1999997       12.66          S5      Final      0.785 -32  47 -30          S5   \n",
       "1999998        3.12          S5      Final      0.785 -32  47 -30          S5   \n",
       "1999999       -2.33          S5      Final      0.785 -32  48 -30          S5   \n",
       "2514335       -4.39          S5      Final      0.785  -4  33 -55          S2   \n",
       "\n",
       "          ACC_Test  ACC_Score  \n",
       "0        Midterm 2      0.770  \n",
       "1        Midterm 2      0.770  \n",
       "2        Midterm 2      0.770  \n",
       "3        Midterm 2      0.770  \n",
       "4        Midterm 2      0.770  \n",
       "...            ...        ...  \n",
       "1999996      Final      0.785  \n",
       "1999997      Final      0.785  \n",
       "1999998      Final      0.785  \n",
       "1999999      Final      0.785  \n",
       "2514335      Final      0.900  \n",
       "\n",
       "[2000001 rows x 10 columns]"
      ]
     },
     "execution_count": 199,
     "metadata": {},
     "output_type": "execute_result"
    }
   ],
   "source": [
    "S5_test.drop(index=list(range(2000000,2514335))) #So I can do this, good"
   ]
  },
  {
   "cell_type": "code",
   "execution_count": 39,
   "id": "b6e61347",
   "metadata": {},
   "outputs": [
    {
     "data": {
      "text/html": [
       "<div>\n",
       "<style scoped>\n",
       "    .dataframe tbody tr th:only-of-type {\n",
       "        vertical-align: middle;\n",
       "    }\n",
       "\n",
       "    .dataframe tbody tr th {\n",
       "        vertical-align: top;\n",
       "    }\n",
       "\n",
       "    .dataframe thead th {\n",
       "        text-align: right;\n",
       "    }\n",
       "</style>\n",
       "<table border=\"1\" class=\"dataframe\">\n",
       "  <thead>\n",
       "    <tr style=\"text-align: right;\">\n",
       "      <th></th>\n",
       "      <th>BVP_Signal</th>\n",
       "      <th>BVP_Subject</th>\n",
       "      <th>BVP_Test</th>\n",
       "      <th>BVP_Score</th>\n",
       "      <th>x</th>\n",
       "      <th>y</th>\n",
       "      <th>z</th>\n",
       "      <th>ACC_Subject</th>\n",
       "      <th>ACC_Test</th>\n",
       "      <th>ACC_Score</th>\n",
       "    </tr>\n",
       "  </thead>\n",
       "  <tbody>\n",
       "    <tr>\n",
       "      <th>0</th>\n",
       "      <td>-0.00</td>\n",
       "      <td>S5</td>\n",
       "      <td>Midterm 2</td>\n",
       "      <td>0.770</td>\n",
       "      <td>-1</td>\n",
       "      <td>-63</td>\n",
       "      <td>5</td>\n",
       "      <td>S5</td>\n",
       "      <td>Midterm 2</td>\n",
       "      <td>0.770</td>\n",
       "    </tr>\n",
       "    <tr>\n",
       "      <th>1</th>\n",
       "      <td>-0.00</td>\n",
       "      <td>S5</td>\n",
       "      <td>Midterm 2</td>\n",
       "      <td>0.770</td>\n",
       "      <td>-1</td>\n",
       "      <td>-63</td>\n",
       "      <td>5</td>\n",
       "      <td>S5</td>\n",
       "      <td>Midterm 2</td>\n",
       "      <td>0.770</td>\n",
       "    </tr>\n",
       "    <tr>\n",
       "      <th>2</th>\n",
       "      <td>-0.00</td>\n",
       "      <td>S5</td>\n",
       "      <td>Midterm 2</td>\n",
       "      <td>0.770</td>\n",
       "      <td>-1</td>\n",
       "      <td>-63</td>\n",
       "      <td>5</td>\n",
       "      <td>S5</td>\n",
       "      <td>Midterm 2</td>\n",
       "      <td>0.770</td>\n",
       "    </tr>\n",
       "    <tr>\n",
       "      <th>3</th>\n",
       "      <td>-0.00</td>\n",
       "      <td>S5</td>\n",
       "      <td>Midterm 2</td>\n",
       "      <td>0.770</td>\n",
       "      <td>-1</td>\n",
       "      <td>-63</td>\n",
       "      <td>5</td>\n",
       "      <td>S5</td>\n",
       "      <td>Midterm 2</td>\n",
       "      <td>0.770</td>\n",
       "    </tr>\n",
       "    <tr>\n",
       "      <th>4</th>\n",
       "      <td>-0.00</td>\n",
       "      <td>S5</td>\n",
       "      <td>Midterm 2</td>\n",
       "      <td>0.770</td>\n",
       "      <td>-1</td>\n",
       "      <td>-63</td>\n",
       "      <td>5</td>\n",
       "      <td>S5</td>\n",
       "      <td>Midterm 2</td>\n",
       "      <td>0.770</td>\n",
       "    </tr>\n",
       "    <tr>\n",
       "      <th>...</th>\n",
       "      <td>...</td>\n",
       "      <td>...</td>\n",
       "      <td>...</td>\n",
       "      <td>...</td>\n",
       "      <td>...</td>\n",
       "      <td>...</td>\n",
       "      <td>...</td>\n",
       "      <td>...</td>\n",
       "      <td>...</td>\n",
       "      <td>...</td>\n",
       "    </tr>\n",
       "    <tr>\n",
       "      <th>2511735</th>\n",
       "      <td>-0.87</td>\n",
       "      <td>S5</td>\n",
       "      <td>Final</td>\n",
       "      <td>0.785</td>\n",
       "      <td>-2</td>\n",
       "      <td>-2</td>\n",
       "      <td>-63</td>\n",
       "      <td>S5</td>\n",
       "      <td>Final</td>\n",
       "      <td>0.785</td>\n",
       "    </tr>\n",
       "    <tr>\n",
       "      <th>2511736</th>\n",
       "      <td>-4.39</td>\n",
       "      <td>S5</td>\n",
       "      <td>Final</td>\n",
       "      <td>0.785</td>\n",
       "      <td>-2</td>\n",
       "      <td>-2</td>\n",
       "      <td>-62</td>\n",
       "      <td>S5</td>\n",
       "      <td>Final</td>\n",
       "      <td>0.785</td>\n",
       "    </tr>\n",
       "    <tr>\n",
       "      <th>2511737</th>\n",
       "      <td>-4.39</td>\n",
       "      <td>S5</td>\n",
       "      <td>Final</td>\n",
       "      <td>0.785</td>\n",
       "      <td>-2</td>\n",
       "      <td>-2</td>\n",
       "      <td>-63</td>\n",
       "      <td>S5</td>\n",
       "      <td>Final</td>\n",
       "      <td>0.785</td>\n",
       "    </tr>\n",
       "    <tr>\n",
       "      <th>2511738</th>\n",
       "      <td>-4.39</td>\n",
       "      <td>S5</td>\n",
       "      <td>Final</td>\n",
       "      <td>0.785</td>\n",
       "      <td>-2</td>\n",
       "      <td>-2</td>\n",
       "      <td>-63</td>\n",
       "      <td>S5</td>\n",
       "      <td>Final</td>\n",
       "      <td>0.785</td>\n",
       "    </tr>\n",
       "    <tr>\n",
       "      <th>2511739</th>\n",
       "      <td>-4.39</td>\n",
       "      <td>S5</td>\n",
       "      <td>Final</td>\n",
       "      <td>0.785</td>\n",
       "      <td>-2</td>\n",
       "      <td>-2</td>\n",
       "      <td>-62</td>\n",
       "      <td>S5</td>\n",
       "      <td>Final</td>\n",
       "      <td>0.785</td>\n",
       "    </tr>\n",
       "  </tbody>\n",
       "</table>\n",
       "<p>2511740 rows × 10 columns</p>\n",
       "</div>"
      ],
      "text/plain": [
       "         BVP_Signal BVP_Subject   BVP_Test  BVP_Score  x   y   z ACC_Subject  \\\n",
       "0             -0.00          S5  Midterm 2      0.770 -1 -63   5          S5   \n",
       "1             -0.00          S5  Midterm 2      0.770 -1 -63   5          S5   \n",
       "2             -0.00          S5  Midterm 2      0.770 -1 -63   5          S5   \n",
       "3             -0.00          S5  Midterm 2      0.770 -1 -63   5          S5   \n",
       "4             -0.00          S5  Midterm 2      0.770 -1 -63   5          S5   \n",
       "...             ...         ...        ...        ... ..  ..  ..         ...   \n",
       "2511735       -0.87          S5      Final      0.785 -2  -2 -63          S5   \n",
       "2511736       -4.39          S5      Final      0.785 -2  -2 -62          S5   \n",
       "2511737       -4.39          S5      Final      0.785 -2  -2 -63          S5   \n",
       "2511738       -4.39          S5      Final      0.785 -2  -2 -63          S5   \n",
       "2511739       -4.39          S5      Final      0.785 -2  -2 -62          S5   \n",
       "\n",
       "          ACC_Test  ACC_Score  \n",
       "0        Midterm 2      0.770  \n",
       "1        Midterm 2      0.770  \n",
       "2        Midterm 2      0.770  \n",
       "3        Midterm 2      0.770  \n",
       "4        Midterm 2      0.770  \n",
       "...            ...        ...  \n",
       "2511735      Final      0.785  \n",
       "2511736      Final      0.785  \n",
       "2511737      Final      0.785  \n",
       "2511738      Final      0.785  \n",
       "2511739      Final      0.785  \n",
       "\n",
       "[2511740 rows x 10 columns]"
      ]
     },
     "execution_count": 39,
     "metadata": {},
     "output_type": "execute_result"
    }
   ],
   "source": [
    "S5_test"
   ]
  },
  {
   "cell_type": "code",
   "execution_count": 49,
   "id": "a26dedd5",
   "metadata": {},
   "outputs": [
    {
     "data": {
      "text/html": [
       "<div>\n",
       "<style scoped>\n",
       "    .dataframe tbody tr th:only-of-type {\n",
       "        vertical-align: middle;\n",
       "    }\n",
       "\n",
       "    .dataframe tbody tr th {\n",
       "        vertical-align: top;\n",
       "    }\n",
       "\n",
       "    .dataframe thead th {\n",
       "        text-align: right;\n",
       "    }\n",
       "</style>\n",
       "<table border=\"1\" class=\"dataframe\">\n",
       "  <thead>\n",
       "    <tr style=\"text-align: right;\">\n",
       "      <th></th>\n",
       "      <th>BVP_Signal</th>\n",
       "      <th>BVP_Subject</th>\n",
       "      <th>BVP_Test</th>\n",
       "      <th>BVP_Score</th>\n",
       "      <th>x</th>\n",
       "      <th>y</th>\n",
       "      <th>z</th>\n",
       "      <th>ACC_Subject</th>\n",
       "      <th>ACC_Test</th>\n",
       "      <th>ACC_Score</th>\n",
       "    </tr>\n",
       "  </thead>\n",
       "  <tbody>\n",
       "    <tr>\n",
       "      <th>769108</th>\n",
       "      <td>30.67</td>\n",
       "      <td>S5</td>\n",
       "      <td>Midterm 2</td>\n",
       "      <td>0.770</td>\n",
       "      <td>-1</td>\n",
       "      <td>-63</td>\n",
       "      <td>5</td>\n",
       "      <td>S2</td>\n",
       "      <td>Midterm 2</td>\n",
       "      <td>0.85</td>\n",
       "    </tr>\n",
       "    <tr>\n",
       "      <th>769109</th>\n",
       "      <td>34.90</td>\n",
       "      <td>S5</td>\n",
       "      <td>Midterm 2</td>\n",
       "      <td>0.770</td>\n",
       "      <td>-1</td>\n",
       "      <td>-63</td>\n",
       "      <td>5</td>\n",
       "      <td>S2</td>\n",
       "      <td>Midterm 2</td>\n",
       "      <td>0.85</td>\n",
       "    </tr>\n",
       "    <tr>\n",
       "      <th>769110</th>\n",
       "      <td>34.90</td>\n",
       "      <td>S5</td>\n",
       "      <td>Midterm 2</td>\n",
       "      <td>0.770</td>\n",
       "      <td>-1</td>\n",
       "      <td>-63</td>\n",
       "      <td>5</td>\n",
       "      <td>S2</td>\n",
       "      <td>Midterm 2</td>\n",
       "      <td>0.85</td>\n",
       "    </tr>\n",
       "    <tr>\n",
       "      <th>769111</th>\n",
       "      <td>32.63</td>\n",
       "      <td>S5</td>\n",
       "      <td>Midterm 2</td>\n",
       "      <td>0.770</td>\n",
       "      <td>-1</td>\n",
       "      <td>-63</td>\n",
       "      <td>5</td>\n",
       "      <td>S2</td>\n",
       "      <td>Midterm 2</td>\n",
       "      <td>0.85</td>\n",
       "    </tr>\n",
       "    <tr>\n",
       "      <th>769112</th>\n",
       "      <td>32.63</td>\n",
       "      <td>S5</td>\n",
       "      <td>Midterm 2</td>\n",
       "      <td>0.770</td>\n",
       "      <td>-1</td>\n",
       "      <td>-63</td>\n",
       "      <td>5</td>\n",
       "      <td>S2</td>\n",
       "      <td>Midterm 2</td>\n",
       "      <td>0.85</td>\n",
       "    </tr>\n",
       "    <tr>\n",
       "      <th>...</th>\n",
       "      <td>...</td>\n",
       "      <td>...</td>\n",
       "      <td>...</td>\n",
       "      <td>...</td>\n",
       "      <td>...</td>\n",
       "      <td>...</td>\n",
       "      <td>...</td>\n",
       "      <td>...</td>\n",
       "      <td>...</td>\n",
       "      <td>...</td>\n",
       "    </tr>\n",
       "    <tr>\n",
       "      <th>1537799</th>\n",
       "      <td>-2.28</td>\n",
       "      <td>S5</td>\n",
       "      <td>Final</td>\n",
       "      <td>0.785</td>\n",
       "      <td>-37</td>\n",
       "      <td>4</td>\n",
       "      <td>56</td>\n",
       "      <td>S9</td>\n",
       "      <td>Midterm 1</td>\n",
       "      <td>0.80</td>\n",
       "    </tr>\n",
       "    <tr>\n",
       "      <th>1537800</th>\n",
       "      <td>-2.28</td>\n",
       "      <td>S5</td>\n",
       "      <td>Final</td>\n",
       "      <td>0.785</td>\n",
       "      <td>-35</td>\n",
       "      <td>3</td>\n",
       "      <td>58</td>\n",
       "      <td>S9</td>\n",
       "      <td>Midterm 1</td>\n",
       "      <td>0.80</td>\n",
       "    </tr>\n",
       "    <tr>\n",
       "      <th>1537801</th>\n",
       "      <td>5.37</td>\n",
       "      <td>S5</td>\n",
       "      <td>Final</td>\n",
       "      <td>0.785</td>\n",
       "      <td>-35</td>\n",
       "      <td>3</td>\n",
       "      <td>58</td>\n",
       "      <td>S9</td>\n",
       "      <td>Midterm 1</td>\n",
       "      <td>0.80</td>\n",
       "    </tr>\n",
       "    <tr>\n",
       "      <th>1537802</th>\n",
       "      <td>5.37</td>\n",
       "      <td>S5</td>\n",
       "      <td>Final</td>\n",
       "      <td>0.785</td>\n",
       "      <td>-35</td>\n",
       "      <td>3</td>\n",
       "      <td>58</td>\n",
       "      <td>S9</td>\n",
       "      <td>Midterm 1</td>\n",
       "      <td>0.80</td>\n",
       "    </tr>\n",
       "    <tr>\n",
       "      <th>1537803</th>\n",
       "      <td>9.52</td>\n",
       "      <td>S5</td>\n",
       "      <td>Final</td>\n",
       "      <td>0.785</td>\n",
       "      <td>-35</td>\n",
       "      <td>3</td>\n",
       "      <td>58</td>\n",
       "      <td>S9</td>\n",
       "      <td>Midterm 1</td>\n",
       "      <td>0.80</td>\n",
       "    </tr>\n",
       "  </tbody>\n",
       "</table>\n",
       "<p>2077 rows × 10 columns</p>\n",
       "</div>"
      ],
      "text/plain": [
       "         BVP_Signal BVP_Subject   BVP_Test  BVP_Score   x   y   z ACC_Subject  \\\n",
       "769108        30.67          S5  Midterm 2      0.770  -1 -63   5          S2   \n",
       "769109        34.90          S5  Midterm 2      0.770  -1 -63   5          S2   \n",
       "769110        34.90          S5  Midterm 2      0.770  -1 -63   5          S2   \n",
       "769111        32.63          S5  Midterm 2      0.770  -1 -63   5          S2   \n",
       "769112        32.63          S5  Midterm 2      0.770  -1 -63   5          S2   \n",
       "...             ...         ...        ...        ...  ..  ..  ..         ...   \n",
       "1537799       -2.28          S5      Final      0.785 -37   4  56          S9   \n",
       "1537800       -2.28          S5      Final      0.785 -35   3  58          S9   \n",
       "1537801        5.37          S5      Final      0.785 -35   3  58          S9   \n",
       "1537802        5.37          S5      Final      0.785 -35   3  58          S9   \n",
       "1537803        9.52          S5      Final      0.785 -35   3  58          S9   \n",
       "\n",
       "          ACC_Test  ACC_Score  \n",
       "769108   Midterm 2       0.85  \n",
       "769109   Midterm 2       0.85  \n",
       "769110   Midterm 2       0.85  \n",
       "769111   Midterm 2       0.85  \n",
       "769112   Midterm 2       0.85  \n",
       "...            ...        ...  \n",
       "1537799  Midterm 1       0.80  \n",
       "1537800  Midterm 1       0.80  \n",
       "1537801  Midterm 1       0.80  \n",
       "1537802  Midterm 1       0.80  \n",
       "1537803  Midterm 1       0.80  \n",
       "\n",
       "[2077 rows x 10 columns]"
      ]
     },
     "execution_count": 49,
     "metadata": {},
     "output_type": "execute_result"
    }
   ],
   "source": [
    "S5_test[S5_test['ACC_Subject']!='S5']"
   ]
  },
  {
   "cell_type": "code",
   "execution_count": 16,
   "id": "94b280f3",
   "metadata": {},
   "outputs": [],
   "source": [
    "bvp_2=BVP[BVP['Test']=='Midterm 2']"
   ]
  },
  {
   "cell_type": "code",
   "execution_count": 17,
   "id": "d836dded",
   "metadata": {},
   "outputs": [],
   "source": [
    "eda_2=EDA[EDA['Test']=='Midterm 2']"
   ]
  },
  {
   "cell_type": "code",
   "execution_count": 62,
   "id": "20482c28",
   "metadata": {},
   "outputs": [
    {
     "data": {
      "text/plain": [
       "7749242"
      ]
     },
     "execution_count": 62,
     "metadata": {},
     "output_type": "execute_result"
    }
   ],
   "source": [
    "len(eda_2['Subject']=='S5')"
   ]
  },
  {
   "cell_type": "code",
   "execution_count": 63,
   "id": "e2154b9c",
   "metadata": {},
   "outputs": [
    {
     "data": {
      "text/plain": [
       "7748162"
      ]
     },
     "execution_count": 63,
     "metadata": {},
     "output_type": "execute_result"
    }
   ],
   "source": [
    "len(bvp_2['Subject']=='S5')"
   ]
  },
  {
   "cell_type": "code",
   "execution_count": 87,
   "id": "531e024f",
   "metadata": {},
   "outputs": [
    {
     "data": {
      "text/html": [
       "<div>\n",
       "<style scoped>\n",
       "    .dataframe tbody tr th:only-of-type {\n",
       "        vertical-align: middle;\n",
       "    }\n",
       "\n",
       "    .dataframe tbody tr th {\n",
       "        vertical-align: top;\n",
       "    }\n",
       "\n",
       "    .dataframe thead th {\n",
       "        text-align: right;\n",
       "    }\n",
       "</style>\n",
       "<table border=\"1\" class=\"dataframe\">\n",
       "  <thead>\n",
       "    <tr style=\"text-align: right;\">\n",
       "      <th></th>\n",
       "      <th>0</th>\n",
       "      <th>Subject</th>\n",
       "      <th>Test</th>\n",
       "      <th>Score</th>\n",
       "    </tr>\n",
       "  </thead>\n",
       "  <tbody>\n",
       "    <tr>\n",
       "      <th>0</th>\n",
       "      <td>-0.00</td>\n",
       "      <td>S5</td>\n",
       "      <td>Midterm 2</td>\n",
       "      <td>0.77</td>\n",
       "    </tr>\n",
       "    <tr>\n",
       "      <th>1</th>\n",
       "      <td>-0.00</td>\n",
       "      <td>S5</td>\n",
       "      <td>Midterm 2</td>\n",
       "      <td>0.77</td>\n",
       "    </tr>\n",
       "    <tr>\n",
       "      <th>2</th>\n",
       "      <td>-0.00</td>\n",
       "      <td>S5</td>\n",
       "      <td>Midterm 2</td>\n",
       "      <td>0.77</td>\n",
       "    </tr>\n",
       "    <tr>\n",
       "      <th>3</th>\n",
       "      <td>-0.00</td>\n",
       "      <td>S5</td>\n",
       "      <td>Midterm 2</td>\n",
       "      <td>0.77</td>\n",
       "    </tr>\n",
       "    <tr>\n",
       "      <th>4</th>\n",
       "      <td>-0.00</td>\n",
       "      <td>S5</td>\n",
       "      <td>Midterm 2</td>\n",
       "      <td>0.77</td>\n",
       "    </tr>\n",
       "    <tr>\n",
       "      <th>...</th>\n",
       "      <td>...</td>\n",
       "      <td>...</td>\n",
       "      <td>...</td>\n",
       "      <td>...</td>\n",
       "    </tr>\n",
       "    <tr>\n",
       "      <th>769263</th>\n",
       "      <td>-0.06</td>\n",
       "      <td>S5</td>\n",
       "      <td>Midterm 2</td>\n",
       "      <td>0.77</td>\n",
       "    </tr>\n",
       "    <tr>\n",
       "      <th>769264</th>\n",
       "      <td>-0.06</td>\n",
       "      <td>S5</td>\n",
       "      <td>Midterm 2</td>\n",
       "      <td>0.77</td>\n",
       "    </tr>\n",
       "    <tr>\n",
       "      <th>769265</th>\n",
       "      <td>-0.06</td>\n",
       "      <td>S5</td>\n",
       "      <td>Midterm 2</td>\n",
       "      <td>0.77</td>\n",
       "    </tr>\n",
       "    <tr>\n",
       "      <th>769266</th>\n",
       "      <td>-0.36</td>\n",
       "      <td>S5</td>\n",
       "      <td>Midterm 2</td>\n",
       "      <td>0.77</td>\n",
       "    </tr>\n",
       "    <tr>\n",
       "      <th>769267</th>\n",
       "      <td>-0.38</td>\n",
       "      <td>S5</td>\n",
       "      <td>Midterm 2</td>\n",
       "      <td>0.77</td>\n",
       "    </tr>\n",
       "  </tbody>\n",
       "</table>\n",
       "<p>769268 rows × 4 columns</p>\n",
       "</div>"
      ],
      "text/plain": [
       "           0 Subject       Test  Score\n",
       "0      -0.00      S5  Midterm 2   0.77\n",
       "1      -0.00      S5  Midterm 2   0.77\n",
       "2      -0.00      S5  Midterm 2   0.77\n",
       "3      -0.00      S5  Midterm 2   0.77\n",
       "4      -0.00      S5  Midterm 2   0.77\n",
       "...      ...     ...        ...    ...\n",
       "769263 -0.06      S5  Midterm 2   0.77\n",
       "769264 -0.06      S5  Midterm 2   0.77\n",
       "769265 -0.06      S5  Midterm 2   0.77\n",
       "769266 -0.36      S5  Midterm 2   0.77\n",
       "769267 -0.38      S5  Midterm 2   0.77\n",
       "\n",
       "[769268 rows x 4 columns]"
      ]
     },
     "execution_count": 87,
     "metadata": {},
     "output_type": "execute_result"
    }
   ],
   "source": [
    "test_bvp_2[test_bvp_2['Subject']=='S5']"
   ]
  },
  {
   "cell_type": "code",
   "execution_count": 88,
   "id": "cf407398",
   "metadata": {},
   "outputs": [
    {
     "data": {
      "text/html": [
       "<div>\n",
       "<style scoped>\n",
       "    .dataframe tbody tr th:only-of-type {\n",
       "        vertical-align: middle;\n",
       "    }\n",
       "\n",
       "    .dataframe tbody tr th {\n",
       "        vertical-align: top;\n",
       "    }\n",
       "\n",
       "    .dataframe thead th {\n",
       "        text-align: right;\n",
       "    }\n",
       "</style>\n",
       "<table border=\"1\" class=\"dataframe\">\n",
       "  <thead>\n",
       "    <tr style=\"text-align: right;\">\n",
       "      <th></th>\n",
       "      <th>0</th>\n",
       "      <th>Subject</th>\n",
       "      <th>Test</th>\n",
       "      <th>Score</th>\n",
       "    </tr>\n",
       "  </thead>\n",
       "  <tbody>\n",
       "    <tr>\n",
       "      <th>0</th>\n",
       "      <td>0.0</td>\n",
       "      <td>S5</td>\n",
       "      <td>Midterm 2</td>\n",
       "      <td>0.77</td>\n",
       "    </tr>\n",
       "    <tr>\n",
       "      <th>1</th>\n",
       "      <td>0.0</td>\n",
       "      <td>S5</td>\n",
       "      <td>Midterm 2</td>\n",
       "      <td>0.77</td>\n",
       "    </tr>\n",
       "    <tr>\n",
       "      <th>2</th>\n",
       "      <td>0.0</td>\n",
       "      <td>S5</td>\n",
       "      <td>Midterm 2</td>\n",
       "      <td>0.77</td>\n",
       "    </tr>\n",
       "    <tr>\n",
       "      <th>3</th>\n",
       "      <td>0.0</td>\n",
       "      <td>S5</td>\n",
       "      <td>Midterm 2</td>\n",
       "      <td>0.77</td>\n",
       "    </tr>\n",
       "    <tr>\n",
       "      <th>4</th>\n",
       "      <td>0.0</td>\n",
       "      <td>S5</td>\n",
       "      <td>Midterm 2</td>\n",
       "      <td>0.77</td>\n",
       "    </tr>\n",
       "    <tr>\n",
       "      <th>...</th>\n",
       "      <td>...</td>\n",
       "      <td>...</td>\n",
       "      <td>...</td>\n",
       "      <td>...</td>\n",
       "    </tr>\n",
       "    <tr>\n",
       "      <th>768307</th>\n",
       "      <td>0.0</td>\n",
       "      <td>S5</td>\n",
       "      <td>Midterm 2</td>\n",
       "      <td>0.77</td>\n",
       "    </tr>\n",
       "    <tr>\n",
       "      <th>768308</th>\n",
       "      <td>0.0</td>\n",
       "      <td>S5</td>\n",
       "      <td>Midterm 2</td>\n",
       "      <td>0.77</td>\n",
       "    </tr>\n",
       "    <tr>\n",
       "      <th>768309</th>\n",
       "      <td>0.0</td>\n",
       "      <td>S5</td>\n",
       "      <td>Midterm 2</td>\n",
       "      <td>0.77</td>\n",
       "    </tr>\n",
       "    <tr>\n",
       "      <th>768310</th>\n",
       "      <td>0.0</td>\n",
       "      <td>S5</td>\n",
       "      <td>Midterm 2</td>\n",
       "      <td>0.77</td>\n",
       "    </tr>\n",
       "    <tr>\n",
       "      <th>768311</th>\n",
       "      <td>0.0</td>\n",
       "      <td>S5</td>\n",
       "      <td>Midterm 2</td>\n",
       "      <td>0.77</td>\n",
       "    </tr>\n",
       "  </tbody>\n",
       "</table>\n",
       "<p>768312 rows × 4 columns</p>\n",
       "</div>"
      ],
      "text/plain": [
       "          0 Subject       Test  Score\n",
       "0       0.0      S5  Midterm 2   0.77\n",
       "1       0.0      S5  Midterm 2   0.77\n",
       "2       0.0      S5  Midterm 2   0.77\n",
       "3       0.0      S5  Midterm 2   0.77\n",
       "4       0.0      S5  Midterm 2   0.77\n",
       "...     ...     ...        ...    ...\n",
       "768307  0.0      S5  Midterm 2   0.77\n",
       "768308  0.0      S5  Midterm 2   0.77\n",
       "768309  0.0      S5  Midterm 2   0.77\n",
       "768310  0.0      S5  Midterm 2   0.77\n",
       "768311  0.0      S5  Midterm 2   0.77\n",
       "\n",
       "[768312 rows x 4 columns]"
      ]
     },
     "execution_count": 88,
     "metadata": {},
     "output_type": "execute_result"
    }
   ],
   "source": [
    "test_eda_2[test_eda_2['Subject']=='S5']"
   ]
  },
  {
   "cell_type": "code",
   "execution_count": 18,
   "id": "c3624e59",
   "metadata": {},
   "outputs": [],
   "source": [
    "test_bvp_2=bvp_2\n",
    "test_eda_2=eda_2"
   ]
  },
  {
   "cell_type": "code",
   "execution_count": 19,
   "id": "70cd852d",
   "metadata": {},
   "outputs": [],
   "source": [
    "test=[test_bvp_2, test_eda_2]"
   ]
  },
  {
   "cell_type": "code",
   "execution_count": 95,
   "id": "bd6d1a05",
   "metadata": {},
   "outputs": [
    {
     "data": {
      "text/plain": [
       "[            0 Subject       Test  Score\n",
       " 210584   3.05      S5  Midterm 2   0.77\n",
       " 639733  -1.07      S5  Midterm 2   0.77\n",
       " 171418  -1.71      S5  Midterm 2   0.77\n",
       " 60455   25.44      S5  Midterm 2   0.77\n",
       " 289909 -22.90      S5  Midterm 2   0.77\n",
       " ...       ...     ...        ...    ...\n",
       " 75778   56.91      S5  Midterm 2   0.77\n",
       " 358549 -99.64      S5  Midterm 2   0.77\n",
       " 330372 -16.70      S5  Midterm 2   0.77\n",
       " 446048   8.56      S5  Midterm 2   0.77\n",
       " 475448  10.00      S5  Midterm 2   0.77\n",
       " \n",
       " [768312 rows x 4 columns],\n",
       "                0 Subject       Test  Score\n",
       " 427030  0.622806      S5  Midterm 2   0.77\n",
       " 130220  0.297446      S5  Midterm 2   0.77\n",
       " 167349  0.453721      S5  Midterm 2   0.77\n",
       " 573235  0.000000      S5  Midterm 2   0.77\n",
       " 378377  0.480690      S5  Midterm 2   0.77\n",
       " ...          ...     ...        ...    ...\n",
       " 511008  0.535771      S5  Midterm 2   0.77\n",
       " 436817  0.562602      S5  Midterm 2   0.77\n",
       " 643552  0.000000      S5  Midterm 2   0.77\n",
       " 656079  0.000000      S5  Midterm 2   0.77\n",
       " 473432  0.786767      S5  Midterm 2   0.77\n",
       " \n",
       " [768312 rows x 4 columns]]"
      ]
     },
     "execution_count": 95,
     "metadata": {},
     "output_type": "execute_result"
    }
   ],
   "source": [
    "length2=min(len(test_bvp_2[test_bvp_2['Subject']=='S5']), len(test_eda_2[test_eda_2['Subject']=='S5']))\n",
    "\n",
    "\n",
    "\n",
    "[resample(i[i['Subject']=='S5'], replace=True, n_samples=length2) for i in signals]"
   ]
  },
  {
   "cell_type": "code",
   "execution_count": 21,
   "id": "9fe98c68",
   "metadata": {},
   "outputs": [
    {
     "data": {
      "text/html": [
       "<div>\n",
       "<style scoped>\n",
       "    .dataframe tbody tr th:only-of-type {\n",
       "        vertical-align: middle;\n",
       "    }\n",
       "\n",
       "    .dataframe tbody tr th {\n",
       "        vertical-align: top;\n",
       "    }\n",
       "\n",
       "    .dataframe thead th {\n",
       "        text-align: right;\n",
       "    }\n",
       "</style>\n",
       "<table border=\"1\" class=\"dataframe\">\n",
       "  <thead>\n",
       "    <tr style=\"text-align: right;\">\n",
       "      <th></th>\n",
       "      <th>0</th>\n",
       "      <th>Subject</th>\n",
       "      <th>Test</th>\n",
       "      <th>Score</th>\n",
       "    </tr>\n",
       "  </thead>\n",
       "  <tbody>\n",
       "    <tr>\n",
       "      <th>0</th>\n",
       "      <td>-0.00</td>\n",
       "      <td>S5</td>\n",
       "      <td>Midterm 2</td>\n",
       "      <td>0.77</td>\n",
       "    </tr>\n",
       "    <tr>\n",
       "      <th>1</th>\n",
       "      <td>-0.00</td>\n",
       "      <td>S5</td>\n",
       "      <td>Midterm 2</td>\n",
       "      <td>0.77</td>\n",
       "    </tr>\n",
       "    <tr>\n",
       "      <th>2</th>\n",
       "      <td>-0.00</td>\n",
       "      <td>S5</td>\n",
       "      <td>Midterm 2</td>\n",
       "      <td>0.77</td>\n",
       "    </tr>\n",
       "    <tr>\n",
       "      <th>3</th>\n",
       "      <td>-0.00</td>\n",
       "      <td>S5</td>\n",
       "      <td>Midterm 2</td>\n",
       "      <td>0.77</td>\n",
       "    </tr>\n",
       "    <tr>\n",
       "      <th>4</th>\n",
       "      <td>-0.00</td>\n",
       "      <td>S5</td>\n",
       "      <td>Midterm 2</td>\n",
       "      <td>0.77</td>\n",
       "    </tr>\n",
       "    <tr>\n",
       "      <th>...</th>\n",
       "      <td>...</td>\n",
       "      <td>...</td>\n",
       "      <td>...</td>\n",
       "      <td>...</td>\n",
       "    </tr>\n",
       "    <tr>\n",
       "      <th>7746365</th>\n",
       "      <td>-6.89</td>\n",
       "      <td>S9</td>\n",
       "      <td>Midterm 2</td>\n",
       "      <td>0.39</td>\n",
       "    </tr>\n",
       "    <tr>\n",
       "      <th>7746366</th>\n",
       "      <td>-7.15</td>\n",
       "      <td>S9</td>\n",
       "      <td>Midterm 2</td>\n",
       "      <td>0.39</td>\n",
       "    </tr>\n",
       "    <tr>\n",
       "      <th>7746367</th>\n",
       "      <td>-8.46</td>\n",
       "      <td>S9</td>\n",
       "      <td>Midterm 2</td>\n",
       "      <td>0.39</td>\n",
       "    </tr>\n",
       "    <tr>\n",
       "      <th>7746368</th>\n",
       "      <td>-8.46</td>\n",
       "      <td>S9</td>\n",
       "      <td>Midterm 2</td>\n",
       "      <td>0.39</td>\n",
       "    </tr>\n",
       "    <tr>\n",
       "      <th>7746369</th>\n",
       "      <td>-8.46</td>\n",
       "      <td>S9</td>\n",
       "      <td>Midterm 2</td>\n",
       "      <td>0.39</td>\n",
       "    </tr>\n",
       "  </tbody>\n",
       "</table>\n",
       "<p>7746370 rows × 4 columns</p>\n",
       "</div>"
      ],
      "text/plain": [
       "            0 Subject       Test  Score\n",
       "0       -0.00      S5  Midterm 2   0.77\n",
       "1       -0.00      S5  Midterm 2   0.77\n",
       "2       -0.00      S5  Midterm 2   0.77\n",
       "3       -0.00      S5  Midterm 2   0.77\n",
       "4       -0.00      S5  Midterm 2   0.77\n",
       "...       ...     ...        ...    ...\n",
       "7746365 -6.89      S9  Midterm 2   0.39\n",
       "7746366 -7.15      S9  Midterm 2   0.39\n",
       "7746367 -8.46      S9  Midterm 2   0.39\n",
       "7746368 -8.46      S9  Midterm 2   0.39\n",
       "7746369 -8.46      S9  Midterm 2   0.39\n",
       "\n",
       "[7746370 rows x 4 columns]"
      ]
     },
     "execution_count": 21,
     "metadata": {},
     "output_type": "execute_result"
    }
   ],
   "source": [
    "test[0]"
   ]
  },
  {
   "cell_type": "code",
   "execution_count": 86,
   "id": "937570a7",
   "metadata": {},
   "outputs": [
    {
     "data": {
      "text/plain": [
       "768312"
      ]
     },
     "execution_count": 86,
     "metadata": {},
     "output_type": "execute_result"
    }
   ],
   "source": [
    "len(test['Subject']=='S5')"
   ]
  },
  {
   "cell_type": "code",
   "execution_count": 85,
   "id": "479e7861",
   "metadata": {},
   "outputs": [
    {
     "data": {
      "text/plain": [
       "769268"
      ]
     },
     "execution_count": 85,
     "metadata": {},
     "output_type": "execute_result"
    }
   ],
   "source": [
    "len(test_bvp_2[test_bvp_2['Subject']=='S5'])"
   ]
  },
  {
   "cell_type": "code",
   "execution_count": 83,
   "id": "e7054b77",
   "metadata": {},
   "outputs": [
    {
     "data": {
      "text/plain": [
       "7748162"
      ]
     },
     "execution_count": 83,
     "metadata": {},
     "output_type": "execute_result"
    }
   ],
   "source": [
    "length2"
   ]
  },
  {
   "cell_type": "code",
   "execution_count": 100,
   "id": "c4bf27e4",
   "metadata": {},
   "outputs": [],
   "source": [
    "subjects=bvp_2['Subject'].unique()"
   ]
  },
  {
   "cell_type": "code",
   "execution_count": 101,
   "id": "4daf9a22",
   "metadata": {},
   "outputs": [
    {
     "data": {
      "text/html": [
       "<div>\n",
       "<style scoped>\n",
       "    .dataframe tbody tr th:only-of-type {\n",
       "        vertical-align: middle;\n",
       "    }\n",
       "\n",
       "    .dataframe tbody tr th {\n",
       "        vertical-align: top;\n",
       "    }\n",
       "\n",
       "    .dataframe thead th {\n",
       "        text-align: right;\n",
       "    }\n",
       "</style>\n",
       "<table border=\"1\" class=\"dataframe\">\n",
       "  <thead>\n",
       "    <tr style=\"text-align: right;\">\n",
       "      <th></th>\n",
       "      <th>0</th>\n",
       "      <th>Subject</th>\n",
       "      <th>Test</th>\n",
       "      <th>Score</th>\n",
       "    </tr>\n",
       "  </thead>\n",
       "  <tbody>\n",
       "    <tr>\n",
       "      <th>0</th>\n",
       "      <td>-0.00</td>\n",
       "      <td>S5</td>\n",
       "      <td>Midterm 2</td>\n",
       "      <td>0.77</td>\n",
       "    </tr>\n",
       "    <tr>\n",
       "      <th>1</th>\n",
       "      <td>-0.00</td>\n",
       "      <td>S5</td>\n",
       "      <td>Midterm 2</td>\n",
       "      <td>0.77</td>\n",
       "    </tr>\n",
       "    <tr>\n",
       "      <th>2</th>\n",
       "      <td>-0.00</td>\n",
       "      <td>S5</td>\n",
       "      <td>Midterm 2</td>\n",
       "      <td>0.77</td>\n",
       "    </tr>\n",
       "    <tr>\n",
       "      <th>3</th>\n",
       "      <td>-0.00</td>\n",
       "      <td>S5</td>\n",
       "      <td>Midterm 2</td>\n",
       "      <td>0.77</td>\n",
       "    </tr>\n",
       "    <tr>\n",
       "      <th>4</th>\n",
       "      <td>-0.00</td>\n",
       "      <td>S5</td>\n",
       "      <td>Midterm 2</td>\n",
       "      <td>0.77</td>\n",
       "    </tr>\n",
       "    <tr>\n",
       "      <th>...</th>\n",
       "      <td>...</td>\n",
       "      <td>...</td>\n",
       "      <td>...</td>\n",
       "      <td>...</td>\n",
       "    </tr>\n",
       "    <tr>\n",
       "      <th>7748157</th>\n",
       "      <td>-7.98</td>\n",
       "      <td>S9</td>\n",
       "      <td>Midterm 2</td>\n",
       "      <td>0.39</td>\n",
       "    </tr>\n",
       "    <tr>\n",
       "      <th>7748158</th>\n",
       "      <td>-7.98</td>\n",
       "      <td>S9</td>\n",
       "      <td>Midterm 2</td>\n",
       "      <td>0.39</td>\n",
       "    </tr>\n",
       "    <tr>\n",
       "      <th>7748159</th>\n",
       "      <td>-6.89</td>\n",
       "      <td>S9</td>\n",
       "      <td>Midterm 2</td>\n",
       "      <td>0.39</td>\n",
       "    </tr>\n",
       "    <tr>\n",
       "      <th>7748160</th>\n",
       "      <td>-6.89</td>\n",
       "      <td>S9</td>\n",
       "      <td>Midterm 2</td>\n",
       "      <td>0.39</td>\n",
       "    </tr>\n",
       "    <tr>\n",
       "      <th>7748161</th>\n",
       "      <td>-8.46</td>\n",
       "      <td>S9</td>\n",
       "      <td>Midterm 2</td>\n",
       "      <td>0.39</td>\n",
       "    </tr>\n",
       "  </tbody>\n",
       "</table>\n",
       "<p>7748162 rows × 4 columns</p>\n",
       "</div>"
      ],
      "text/plain": [
       "            0 Subject       Test  Score\n",
       "0       -0.00      S5  Midterm 2   0.77\n",
       "1       -0.00      S5  Midterm 2   0.77\n",
       "2       -0.00      S5  Midterm 2   0.77\n",
       "3       -0.00      S5  Midterm 2   0.77\n",
       "4       -0.00      S5  Midterm 2   0.77\n",
       "...       ...     ...        ...    ...\n",
       "7748157 -7.98      S9  Midterm 2   0.39\n",
       "7748158 -7.98      S9  Midterm 2   0.39\n",
       "7748159 -6.89      S9  Midterm 2   0.39\n",
       "7748160 -6.89      S9  Midterm 2   0.39\n",
       "7748161 -8.46      S9  Midterm 2   0.39\n",
       "\n",
       "[7748162 rows x 4 columns]"
      ]
     },
     "execution_count": 101,
     "metadata": {},
     "output_type": "execute_result"
    }
   ],
   "source": [
    "bvp_2"
   ]
  },
  {
   "cell_type": "code",
   "execution_count": 105,
   "id": "570cb4c7",
   "metadata": {},
   "outputs": [
    {
     "data": {
      "text/plain": [
       "[            0 Subject       Test  Score\n",
       " 0       -0.00      S5  Midterm 2   0.77\n",
       " 1       -0.00      S5  Midterm 2   0.77\n",
       " 2       -0.00      S5  Midterm 2   0.77\n",
       " 3       -0.00      S5  Midterm 2   0.77\n",
       " 4       -0.00      S5  Midterm 2   0.77\n",
       " ...       ...     ...        ...    ...\n",
       " 7748157 -7.98      S9  Midterm 2   0.39\n",
       " 7748158 -7.98      S9  Midterm 2   0.39\n",
       " 7748159 -6.89      S9  Midterm 2   0.39\n",
       " 7748160 -6.89      S9  Midterm 2   0.39\n",
       " 7748161 -8.46      S9  Midterm 2   0.39\n",
       " \n",
       " [7748162 rows x 4 columns],\n",
       "                 0 Subject       Test  Score\n",
       " 0        0.000000      S5  Midterm 2   0.77\n",
       " 1        0.000000      S5  Midterm 2   0.77\n",
       " 2        0.000000      S5  Midterm 2   0.77\n",
       " 3        0.000000      S5  Midterm 2   0.77\n",
       " 4        0.000000      S5  Midterm 2   0.77\n",
       " ...           ...     ...        ...    ...\n",
       " 7749237  0.015375      S9  Midterm 2   0.39\n",
       " 7749238  0.015375      S9  Midterm 2   0.39\n",
       " 7749239  0.015375      S9  Midterm 2   0.39\n",
       " 7749240  0.015375      S9  Midterm 2   0.39\n",
       " 7749241  0.015375      S9  Midterm 2   0.39\n",
       " \n",
       " [7749242 rows x 4 columns]]"
      ]
     },
     "execution_count": 105,
     "metadata": {},
     "output_type": "execute_result"
    }
   ],
   "source": [
    "test"
   ]
  },
  {
   "cell_type": "code",
   "execution_count": 123,
   "id": "1cfc8e4e",
   "metadata": {},
   "outputs": [],
   "source": [
    "bvp_len_dict=bvp_2.groupby('Subject').size().to_dict()"
   ]
  },
  {
   "cell_type": "code",
   "execution_count": 122,
   "id": "61f48599",
   "metadata": {},
   "outputs": [],
   "source": [
    "eda_len_dict=eda_2.groupby('Subject').size().to_dict()"
   ]
  },
  {
   "cell_type": "code",
   "execution_count": 132,
   "id": "2e6091b8",
   "metadata": {},
   "outputs": [],
   "source": [
    "minimums={key: min(eda_len_dict[key], bvp_len_dict[key]) for key in eda_len_dict}"
   ]
  },
  {
   "cell_type": "code",
   "execution_count": 183,
   "id": "9629e744",
   "metadata": {},
   "outputs": [
    {
     "data": {
      "text/plain": [
       "{'S1': 711558,\n",
       " 'S10': 830415,\n",
       " 'S2': 887751,\n",
       " 'S3': 654284,\n",
       " 'S4': 855800,\n",
       " 'S5': 768312,\n",
       " 'S6': 908249,\n",
       " 'S7': 692772,\n",
       " 'S8': 636594,\n",
       " 'S9': 795553}"
      ]
     },
     "execution_count": 183,
     "metadata": {},
     "output_type": "execute_result"
    }
   ],
   "source": [
    "minimums"
   ]
  },
  {
   "cell_type": "code",
   "execution_count": 135,
   "id": "1c79643b",
   "metadata": {},
   "outputs": [],
   "source": [
    "lengths=list(minimums.values())"
   ]
  },
  {
   "cell_type": "code",
   "execution_count": 141,
   "id": "b233f207",
   "metadata": {},
   "outputs": [
    {
     "data": {
      "text/html": [
       "<div>\n",
       "<style scoped>\n",
       "    .dataframe tbody tr th:only-of-type {\n",
       "        vertical-align: middle;\n",
       "    }\n",
       "\n",
       "    .dataframe tbody tr th {\n",
       "        vertical-align: top;\n",
       "    }\n",
       "\n",
       "    .dataframe thead th {\n",
       "        text-align: right;\n",
       "    }\n",
       "</style>\n",
       "<table border=\"1\" class=\"dataframe\">\n",
       "  <thead>\n",
       "    <tr style=\"text-align: right;\">\n",
       "      <th></th>\n",
       "      <th>0</th>\n",
       "      <th>Subject</th>\n",
       "      <th>Test</th>\n",
       "      <th>Score</th>\n",
       "    </tr>\n",
       "  </thead>\n",
       "  <tbody>\n",
       "    <tr>\n",
       "      <th>0</th>\n",
       "      <td>0.000000</td>\n",
       "      <td>S5</td>\n",
       "      <td>Midterm 2</td>\n",
       "      <td>0.77</td>\n",
       "    </tr>\n",
       "    <tr>\n",
       "      <th>1</th>\n",
       "      <td>0.000000</td>\n",
       "      <td>S5</td>\n",
       "      <td>Midterm 2</td>\n",
       "      <td>0.77</td>\n",
       "    </tr>\n",
       "    <tr>\n",
       "      <th>2</th>\n",
       "      <td>0.000000</td>\n",
       "      <td>S5</td>\n",
       "      <td>Midterm 2</td>\n",
       "      <td>0.77</td>\n",
       "    </tr>\n",
       "    <tr>\n",
       "      <th>3</th>\n",
       "      <td>0.000000</td>\n",
       "      <td>S5</td>\n",
       "      <td>Midterm 2</td>\n",
       "      <td>0.77</td>\n",
       "    </tr>\n",
       "    <tr>\n",
       "      <th>4</th>\n",
       "      <td>0.000000</td>\n",
       "      <td>S5</td>\n",
       "      <td>Midterm 2</td>\n",
       "      <td>0.77</td>\n",
       "    </tr>\n",
       "    <tr>\n",
       "      <th>...</th>\n",
       "      <td>...</td>\n",
       "      <td>...</td>\n",
       "      <td>...</td>\n",
       "      <td>...</td>\n",
       "    </tr>\n",
       "    <tr>\n",
       "      <th>7749237</th>\n",
       "      <td>0.015375</td>\n",
       "      <td>S9</td>\n",
       "      <td>Midterm 2</td>\n",
       "      <td>0.39</td>\n",
       "    </tr>\n",
       "    <tr>\n",
       "      <th>7749238</th>\n",
       "      <td>0.015375</td>\n",
       "      <td>S9</td>\n",
       "      <td>Midterm 2</td>\n",
       "      <td>0.39</td>\n",
       "    </tr>\n",
       "    <tr>\n",
       "      <th>7749239</th>\n",
       "      <td>0.015375</td>\n",
       "      <td>S9</td>\n",
       "      <td>Midterm 2</td>\n",
       "      <td>0.39</td>\n",
       "    </tr>\n",
       "    <tr>\n",
       "      <th>7749240</th>\n",
       "      <td>0.015375</td>\n",
       "      <td>S9</td>\n",
       "      <td>Midterm 2</td>\n",
       "      <td>0.39</td>\n",
       "    </tr>\n",
       "    <tr>\n",
       "      <th>7749241</th>\n",
       "      <td>0.015375</td>\n",
       "      <td>S9</td>\n",
       "      <td>Midterm 2</td>\n",
       "      <td>0.39</td>\n",
       "    </tr>\n",
       "  </tbody>\n",
       "</table>\n",
       "<p>7749242 rows × 4 columns</p>\n",
       "</div>"
      ],
      "text/plain": [
       "                0 Subject       Test  Score\n",
       "0        0.000000      S5  Midterm 2   0.77\n",
       "1        0.000000      S5  Midterm 2   0.77\n",
       "2        0.000000      S5  Midterm 2   0.77\n",
       "3        0.000000      S5  Midterm 2   0.77\n",
       "4        0.000000      S5  Midterm 2   0.77\n",
       "...           ...     ...        ...    ...\n",
       "7749237  0.015375      S9  Midterm 2   0.39\n",
       "7749238  0.015375      S9  Midterm 2   0.39\n",
       "7749239  0.015375      S9  Midterm 2   0.39\n",
       "7749240  0.015375      S9  Midterm 2   0.39\n",
       "7749241  0.015375      S9  Midterm 2   0.39\n",
       "\n",
       "[7749242 rows x 4 columns]"
      ]
     },
     "execution_count": 141,
     "metadata": {},
     "output_type": "execute_result"
    }
   ],
   "source": [
    "eda_2"
   ]
  },
  {
   "cell_type": "code",
   "execution_count": 134,
   "id": "9cc5a11c",
   "metadata": {},
   "outputs": [
    {
     "data": {
      "text/plain": [
       "{'S1': 714624,\n",
       " 'S10': 832142,\n",
       " 'S2': 887751,\n",
       " 'S3': 654284,\n",
       " 'S4': 855800,\n",
       " 'S5': 768312,\n",
       " 'S6': 908284,\n",
       " 'S7': 693690,\n",
       " 'S8': 638240,\n",
       " 'S9': 796115}"
      ]
     },
     "execution_count": 134,
     "metadata": {},
     "output_type": "execute_result"
    }
   ],
   "source": [
    "eda_len_dict"
   ]
  },
  {
   "cell_type": "code",
   "execution_count": 139,
   "id": "271671a4",
   "metadata": {},
   "outputs": [
    {
     "data": {
      "text/plain": [
       "{'S1': 711558,\n",
       " 'S10': 830415,\n",
       " 'S2': 887751,\n",
       " 'S3': 654284,\n",
       " 'S4': 855800,\n",
       " 'S5': 768312,\n",
       " 'S6': 908249,\n",
       " 'S7': 692772,\n",
       " 'S8': 636594,\n",
       " 'S9': 795553}"
      ]
     },
     "execution_count": 139,
     "metadata": {},
     "output_type": "execute_result"
    }
   ],
   "source": [
    "minimums"
   ]
  },
  {
   "cell_type": "code",
   "execution_count": 142,
   "id": "af450a6b",
   "metadata": {},
   "outputs": [],
   "source": [
    "subjects.sort()"
   ]
  },
  {
   "cell_type": "code",
   "execution_count": 143,
   "id": "b2d9b592",
   "metadata": {},
   "outputs": [
    {
     "data": {
      "text/plain": [
       "array(['S1', 'S10', 'S2', 'S3', 'S4', 'S5', 'S6', 'S7', 'S8', 'S9'],\n",
       "      dtype=object)"
      ]
     },
     "execution_count": 143,
     "metadata": {},
     "output_type": "execute_result"
    }
   ],
   "source": [
    "subjects"
   ]
  },
  {
   "cell_type": "code",
   "execution_count": 144,
   "id": "b448d39e",
   "metadata": {},
   "outputs": [
    {
     "name": "stdout",
     "output_type": "stream",
     "text": [
      "('S1', 711558)\n",
      "('S10', 830415)\n",
      "('S2', 887751)\n",
      "('S3', 654284)\n",
      "('S4', 855800)\n",
      "('S5', 768312)\n",
      "('S6', 908249)\n",
      "('S7', 692772)\n",
      "('S8', 636594)\n",
      "('S9', 795553)\n"
     ]
    }
   ],
   "source": [
    "for i in zip(subjects, lengths):\n",
    "    print(i)"
   ]
  },
  {
   "cell_type": "code",
   "execution_count": 308,
   "id": "3d19c7ae",
   "metadata": {},
   "outputs": [
    {
     "data": {
      "text/plain": [
       "array(['S1', 'S10', 'S2', 'S3', 'S4', 'S5', 'S6', 'S7', 'S8', 'S9'],\n",
       "      dtype=object)"
      ]
     },
     "execution_count": 308,
     "metadata": {},
     "output_type": "execute_result"
    }
   ],
   "source": [
    "subjects"
   ]
  },
  {
   "cell_type": "code",
   "execution_count": 309,
   "id": "c878ed83",
   "metadata": {},
   "outputs": [
    {
     "data": {
      "text/plain": [
       "[711558,\n",
       " 830415,\n",
       " 887751,\n",
       " 654284,\n",
       " 855800,\n",
       " 768312,\n",
       " 908249,\n",
       " 692772,\n",
       " 636594,\n",
       " 795553]"
      ]
     },
     "execution_count": 309,
     "metadata": {},
     "output_type": "execute_result"
    }
   ],
   "source": [
    "lengths"
   ]
  },
  {
   "cell_type": "code",
   "execution_count": 149,
   "id": "dc9161d5",
   "metadata": {},
   "outputs": [],
   "source": [
    "resampled_dfs = [resample(df[df['Subject']==subj], replace=True, n_samples=length) \n",
    "                 for df in test for subj, length in zip(subjects, lengths) if subj in df['Subject'].unique()]"
   ]
  },
  {
   "cell_type": "code",
   "execution_count": null,
   "id": "afcb985b",
   "metadata": {},
   "outputs": [],
   "source": [
    "eda_2.sort_index"
   ]
  },
  {
   "cell_type": "code",
   "execution_count": 157,
   "id": "87f93b04",
   "metadata": {},
   "outputs": [],
   "source": [
    "resampled_dfs=[i.sort_index().reset_index(drop=True) for i in resampled_dfs]"
   ]
  },
  {
   "cell_type": "code",
   "execution_count": 172,
   "id": "d52a514d",
   "metadata": {},
   "outputs": [
    {
     "data": {
      "text/html": [
       "<div>\n",
       "<style scoped>\n",
       "    .dataframe tbody tr th:only-of-type {\n",
       "        vertical-align: middle;\n",
       "    }\n",
       "\n",
       "    .dataframe tbody tr th {\n",
       "        vertical-align: top;\n",
       "    }\n",
       "\n",
       "    .dataframe thead th {\n",
       "        text-align: right;\n",
       "    }\n",
       "</style>\n",
       "<table border=\"1\" class=\"dataframe\">\n",
       "  <thead>\n",
       "    <tr style=\"text-align: right;\">\n",
       "      <th></th>\n",
       "      <th>0</th>\n",
       "      <th>Subject</th>\n",
       "      <th>Test</th>\n",
       "      <th>Score</th>\n",
       "    </tr>\n",
       "  </thead>\n",
       "  <tbody>\n",
       "    <tr>\n",
       "      <th>0</th>\n",
       "      <td>-0.00</td>\n",
       "      <td>S5</td>\n",
       "      <td>Midterm 2</td>\n",
       "      <td>0.77</td>\n",
       "    </tr>\n",
       "    <tr>\n",
       "      <th>1</th>\n",
       "      <td>-0.00</td>\n",
       "      <td>S5</td>\n",
       "      <td>Midterm 2</td>\n",
       "      <td>0.77</td>\n",
       "    </tr>\n",
       "    <tr>\n",
       "      <th>2</th>\n",
       "      <td>-0.00</td>\n",
       "      <td>S5</td>\n",
       "      <td>Midterm 2</td>\n",
       "      <td>0.77</td>\n",
       "    </tr>\n",
       "    <tr>\n",
       "      <th>3</th>\n",
       "      <td>-0.00</td>\n",
       "      <td>S5</td>\n",
       "      <td>Midterm 2</td>\n",
       "      <td>0.77</td>\n",
       "    </tr>\n",
       "    <tr>\n",
       "      <th>4</th>\n",
       "      <td>-0.00</td>\n",
       "      <td>S5</td>\n",
       "      <td>Midterm 2</td>\n",
       "      <td>0.77</td>\n",
       "    </tr>\n",
       "    <tr>\n",
       "      <th>...</th>\n",
       "      <td>...</td>\n",
       "      <td>...</td>\n",
       "      <td>...</td>\n",
       "      <td>...</td>\n",
       "    </tr>\n",
       "    <tr>\n",
       "      <th>7748157</th>\n",
       "      <td>-7.98</td>\n",
       "      <td>S9</td>\n",
       "      <td>Midterm 2</td>\n",
       "      <td>0.39</td>\n",
       "    </tr>\n",
       "    <tr>\n",
       "      <th>7748158</th>\n",
       "      <td>-7.98</td>\n",
       "      <td>S9</td>\n",
       "      <td>Midterm 2</td>\n",
       "      <td>0.39</td>\n",
       "    </tr>\n",
       "    <tr>\n",
       "      <th>7748159</th>\n",
       "      <td>-6.89</td>\n",
       "      <td>S9</td>\n",
       "      <td>Midterm 2</td>\n",
       "      <td>0.39</td>\n",
       "    </tr>\n",
       "    <tr>\n",
       "      <th>7748160</th>\n",
       "      <td>-6.89</td>\n",
       "      <td>S9</td>\n",
       "      <td>Midterm 2</td>\n",
       "      <td>0.39</td>\n",
       "    </tr>\n",
       "    <tr>\n",
       "      <th>7748161</th>\n",
       "      <td>-8.46</td>\n",
       "      <td>S9</td>\n",
       "      <td>Midterm 2</td>\n",
       "      <td>0.39</td>\n",
       "    </tr>\n",
       "  </tbody>\n",
       "</table>\n",
       "<p>7748162 rows × 4 columns</p>\n",
       "</div>"
      ],
      "text/plain": [
       "            0 Subject       Test  Score\n",
       "0       -0.00      S5  Midterm 2   0.77\n",
       "1       -0.00      S5  Midterm 2   0.77\n",
       "2       -0.00      S5  Midterm 2   0.77\n",
       "3       -0.00      S5  Midterm 2   0.77\n",
       "4       -0.00      S5  Midterm 2   0.77\n",
       "...       ...     ...        ...    ...\n",
       "7748157 -7.98      S9  Midterm 2   0.39\n",
       "7748158 -7.98      S9  Midterm 2   0.39\n",
       "7748159 -6.89      S9  Midterm 2   0.39\n",
       "7748160 -6.89      S9  Midterm 2   0.39\n",
       "7748161 -8.46      S9  Midterm 2   0.39\n",
       "\n",
       "[7748162 rows x 4 columns]"
      ]
     },
     "execution_count": 172,
     "metadata": {},
     "output_type": "execute_result"
    }
   ],
   "source": [
    "bvp_2"
   ]
  },
  {
   "cell_type": "code",
   "execution_count": 168,
   "id": "24b20fa7",
   "metadata": {},
   "outputs": [
    {
     "data": {
      "text/plain": [
       "[            0 Subject       Test  Score\n",
       " 0       -0.00      S1  Midterm 2   0.82\n",
       " 1       -0.00      S1  Midterm 2   0.82\n",
       " 2       -0.00      S1  Midterm 2   0.82\n",
       " 3       -0.00      S1  Midterm 2   0.82\n",
       " 4       -0.00      S1  Midterm 2   0.82\n",
       " ...       ...     ...        ...    ...\n",
       " 711553  19.81      S1  Midterm 2   0.82\n",
       " 711554  20.12      S1  Midterm 2   0.82\n",
       " 711555  20.12      S1  Midterm 2   0.82\n",
       " 711556  14.90      S1  Midterm 2   0.82\n",
       " 711557  14.90      S1  Midterm 2   0.82\n",
       " \n",
       " [711558 rows x 4 columns],\n",
       "            0 Subject       Test  Score\n",
       " 0      -0.00     S10  Midterm 2   0.64\n",
       " 1      -0.00     S10  Midterm 2   0.64\n",
       " 2      -0.00     S10  Midterm 2   0.64\n",
       " 3      -0.00     S10  Midterm 2   0.64\n",
       " 4      -0.00     S10  Midterm 2   0.64\n",
       " ...      ...     ...        ...    ...\n",
       " 830410  2.12     S10  Midterm 2   0.64\n",
       " 830411  1.89     S10  Midterm 2   0.64\n",
       " 830412  1.59     S10  Midterm 2   0.64\n",
       " 830413  1.59     S10  Midterm 2   0.64\n",
       " 830414  1.59     S10  Midterm 2   0.64\n",
       " \n",
       " [830415 rows x 4 columns],\n",
       "            0 Subject       Test  Score\n",
       " 0      -0.00      S2  Midterm 2   0.85\n",
       " 1      -0.00      S2  Midterm 2   0.85\n",
       " 2      -0.00      S2  Midterm 2   0.85\n",
       " 3      -0.00      S2  Midterm 2   0.85\n",
       " 4      -0.00      S2  Midterm 2   0.85\n",
       " ...      ...     ...        ...    ...\n",
       " 887746 -1.70      S2  Midterm 2   0.85\n",
       " 887747 -1.70      S2  Midterm 2   0.85\n",
       " 887748 -1.70      S2  Midterm 2   0.85\n",
       " 887749 -1.70      S2  Midterm 2   0.85\n",
       " 887750 -0.18      S2  Midterm 2   0.85\n",
       " \n",
       " [887751 rows x 4 columns],\n",
       "            0 Subject       Test  Score\n",
       " 0      -0.00      S3  Midterm 2    0.9\n",
       " 1      -0.00      S3  Midterm 2    0.9\n",
       " 2      -0.00      S3  Midterm 2    0.9\n",
       " 3      -0.00      S3  Midterm 2    0.9\n",
       " 4      -0.00      S3  Midterm 2    0.9\n",
       " ...      ...     ...        ...    ...\n",
       " 654279 -9.09      S3  Midterm 2    0.9\n",
       " 654280 -9.09      S3  Midterm 2    0.9\n",
       " 654281 -8.78      S3  Midterm 2    0.9\n",
       " 654282 -8.63      S3  Midterm 2    0.9\n",
       " 654283 -8.63      S3  Midterm 2    0.9\n",
       " \n",
       " [654284 rows x 4 columns],\n",
       "            0 Subject       Test  Score\n",
       " 0      -0.00      S4  Midterm 2   0.77\n",
       " 1      -0.00      S4  Midterm 2   0.77\n",
       " 2      -0.00      S4  Midterm 2   0.77\n",
       " 3      -0.00      S4  Midterm 2   0.77\n",
       " 4      -0.00      S4  Midterm 2   0.77\n",
       " ...      ...     ...        ...    ...\n",
       " 855795 -0.23      S4  Midterm 2   0.77\n",
       " 855796 -0.23      S4  Midterm 2   0.77\n",
       " 855797  0.08      S4  Midterm 2   0.77\n",
       " 855798  0.08      S4  Midterm 2   0.77\n",
       " 855799  0.08      S4  Midterm 2   0.77\n",
       " \n",
       " [855800 rows x 4 columns],\n",
       "            0 Subject       Test  Score\n",
       " 0      -0.00      S5  Midterm 2   0.77\n",
       " 1      -0.00      S5  Midterm 2   0.77\n",
       " 2      -0.00      S5  Midterm 2   0.77\n",
       " 3      -0.00      S5  Midterm 2   0.77\n",
       " 4      -0.00      S5  Midterm 2   0.77\n",
       " ...      ...     ...        ...    ...\n",
       " 768307  0.52      S5  Midterm 2   0.77\n",
       " 768308 -0.06      S5  Midterm 2   0.77\n",
       " 768309 -0.06      S5  Midterm 2   0.77\n",
       " 768310 -0.36      S5  Midterm 2   0.77\n",
       " 768311 -0.38      S5  Midterm 2   0.77\n",
       " \n",
       " [768312 rows x 4 columns],\n",
       "            0 Subject       Test  Score\n",
       " 0      -0.00      S6  Midterm 2   0.64\n",
       " 1      -0.00      S6  Midterm 2   0.64\n",
       " 2      -0.00      S6  Midterm 2   0.64\n",
       " 3      -0.00      S6  Midterm 2   0.64\n",
       " 4      -0.00      S6  Midterm 2   0.64\n",
       " ...      ...     ...        ...    ...\n",
       " 908244 -1.83      S6  Midterm 2   0.64\n",
       " 908245 -1.81      S6  Midterm 2   0.64\n",
       " 908246 -1.98      S6  Midterm 2   0.64\n",
       " 908247 -1.98      S6  Midterm 2   0.64\n",
       " 908248 -1.98      S6  Midterm 2   0.64\n",
       " \n",
       " [908249 rows x 4 columns],\n",
       "            0 Subject       Test  Score\n",
       " 0      -0.00      S7  Midterm 2   0.33\n",
       " 1      -0.00      S7  Midterm 2   0.33\n",
       " 2      -0.00      S7  Midterm 2   0.33\n",
       " 3      -0.00      S7  Midterm 2   0.33\n",
       " 4      -0.00      S7  Midterm 2   0.33\n",
       " ...      ...     ...        ...    ...\n",
       " 692767 -1.31      S7  Midterm 2   0.33\n",
       " 692768  0.13      S7  Midterm 2   0.33\n",
       " 692769  2.33      S7  Midterm 2   0.33\n",
       " 692770  2.33      S7  Midterm 2   0.33\n",
       " 692771  2.33      S7  Midterm 2   0.33\n",
       " \n",
       " [692772 rows x 4 columns],\n",
       "            0 Subject       Test  Score\n",
       " 0      -0.00      S8  Midterm 2   0.88\n",
       " 1      -0.00      S8  Midterm 2   0.88\n",
       " 2      -0.00      S8  Midterm 2   0.88\n",
       " 3      -0.00      S8  Midterm 2   0.88\n",
       " 4      -0.00      S8  Midterm 2   0.88\n",
       " ...      ...     ...        ...    ...\n",
       " 636589  1.00      S8  Midterm 2   0.88\n",
       " 636590  1.00      S8  Midterm 2   0.88\n",
       " 636591  1.08      S8  Midterm 2   0.88\n",
       " 636592  1.08      S8  Midterm 2   0.88\n",
       " 636593  1.08      S8  Midterm 2   0.88\n",
       " \n",
       " [636594 rows x 4 columns],\n",
       "            0 Subject       Test  Score\n",
       " 0      -0.00      S9  Midterm 2   0.39\n",
       " 1      -0.00      S9  Midterm 2   0.39\n",
       " 2      -0.00      S9  Midterm 2   0.39\n",
       " 3      -0.00      S9  Midterm 2   0.39\n",
       " 4      -0.00      S9  Midterm 2   0.39\n",
       " ...      ...     ...        ...    ...\n",
       " 795548 -7.98      S9  Midterm 2   0.39\n",
       " 795549 -7.98      S9  Midterm 2   0.39\n",
       " 795550 -6.89      S9  Midterm 2   0.39\n",
       " 795551 -8.46      S9  Midterm 2   0.39\n",
       " 795552 -8.46      S9  Midterm 2   0.39\n",
       " \n",
       " [795553 rows x 4 columns]]"
      ]
     },
     "execution_count": 168,
     "metadata": {},
     "output_type": "execute_result"
    }
   ],
   "source": [
    "resampled_dfs[:10]"
   ]
  },
  {
   "cell_type": "code",
   "execution_count": 170,
   "id": "2059cd67",
   "metadata": {},
   "outputs": [],
   "source": [
    "resampled_bvp=pd.concat(resampled_dfs[:10], axis=0)"
   ]
  },
  {
   "cell_type": "code",
   "execution_count": 173,
   "id": "782f6d18",
   "metadata": {},
   "outputs": [],
   "source": [
    "resampled_eda=pd.concat(resampled_dfs[10:], axis=0)"
   ]
  },
  {
   "cell_type": "code",
   "execution_count": null,
   "id": "773a374e",
   "metadata": {},
   "outputs": [],
   "source": [
    "EDA.query"
   ]
  },
  {
   "cell_type": "code",
   "execution_count": 171,
   "id": "039e96c0",
   "metadata": {},
   "outputs": [
    {
     "data": {
      "text/html": [
       "<div>\n",
       "<style scoped>\n",
       "    .dataframe tbody tr th:only-of-type {\n",
       "        vertical-align: middle;\n",
       "    }\n",
       "\n",
       "    .dataframe tbody tr th {\n",
       "        vertical-align: top;\n",
       "    }\n",
       "\n",
       "    .dataframe thead th {\n",
       "        text-align: right;\n",
       "    }\n",
       "</style>\n",
       "<table border=\"1\" class=\"dataframe\">\n",
       "  <thead>\n",
       "    <tr style=\"text-align: right;\">\n",
       "      <th></th>\n",
       "      <th>0</th>\n",
       "      <th>Subject</th>\n",
       "      <th>Test</th>\n",
       "      <th>Score</th>\n",
       "    </tr>\n",
       "  </thead>\n",
       "  <tbody>\n",
       "    <tr>\n",
       "      <th>0</th>\n",
       "      <td>-0.00</td>\n",
       "      <td>S1</td>\n",
       "      <td>Midterm 2</td>\n",
       "      <td>0.82</td>\n",
       "    </tr>\n",
       "    <tr>\n",
       "      <th>1</th>\n",
       "      <td>-0.00</td>\n",
       "      <td>S1</td>\n",
       "      <td>Midterm 2</td>\n",
       "      <td>0.82</td>\n",
       "    </tr>\n",
       "    <tr>\n",
       "      <th>2</th>\n",
       "      <td>-0.00</td>\n",
       "      <td>S1</td>\n",
       "      <td>Midterm 2</td>\n",
       "      <td>0.82</td>\n",
       "    </tr>\n",
       "    <tr>\n",
       "      <th>3</th>\n",
       "      <td>-0.00</td>\n",
       "      <td>S1</td>\n",
       "      <td>Midterm 2</td>\n",
       "      <td>0.82</td>\n",
       "    </tr>\n",
       "    <tr>\n",
       "      <th>4</th>\n",
       "      <td>-0.00</td>\n",
       "      <td>S1</td>\n",
       "      <td>Midterm 2</td>\n",
       "      <td>0.82</td>\n",
       "    </tr>\n",
       "    <tr>\n",
       "      <th>...</th>\n",
       "      <td>...</td>\n",
       "      <td>...</td>\n",
       "      <td>...</td>\n",
       "      <td>...</td>\n",
       "    </tr>\n",
       "    <tr>\n",
       "      <th>795548</th>\n",
       "      <td>-7.98</td>\n",
       "      <td>S9</td>\n",
       "      <td>Midterm 2</td>\n",
       "      <td>0.39</td>\n",
       "    </tr>\n",
       "    <tr>\n",
       "      <th>795549</th>\n",
       "      <td>-7.98</td>\n",
       "      <td>S9</td>\n",
       "      <td>Midterm 2</td>\n",
       "      <td>0.39</td>\n",
       "    </tr>\n",
       "    <tr>\n",
       "      <th>795550</th>\n",
       "      <td>-6.89</td>\n",
       "      <td>S9</td>\n",
       "      <td>Midterm 2</td>\n",
       "      <td>0.39</td>\n",
       "    </tr>\n",
       "    <tr>\n",
       "      <th>795551</th>\n",
       "      <td>-8.46</td>\n",
       "      <td>S9</td>\n",
       "      <td>Midterm 2</td>\n",
       "      <td>0.39</td>\n",
       "    </tr>\n",
       "    <tr>\n",
       "      <th>795552</th>\n",
       "      <td>-8.46</td>\n",
       "      <td>S9</td>\n",
       "      <td>Midterm 2</td>\n",
       "      <td>0.39</td>\n",
       "    </tr>\n",
       "  </tbody>\n",
       "</table>\n",
       "<p>7741288 rows × 4 columns</p>\n",
       "</div>"
      ],
      "text/plain": [
       "           0 Subject       Test  Score\n",
       "0      -0.00      S1  Midterm 2   0.82\n",
       "1      -0.00      S1  Midterm 2   0.82\n",
       "2      -0.00      S1  Midterm 2   0.82\n",
       "3      -0.00      S1  Midterm 2   0.82\n",
       "4      -0.00      S1  Midterm 2   0.82\n",
       "...      ...     ...        ...    ...\n",
       "795548 -7.98      S9  Midterm 2   0.39\n",
       "795549 -7.98      S9  Midterm 2   0.39\n",
       "795550 -6.89      S9  Midterm 2   0.39\n",
       "795551 -8.46      S9  Midterm 2   0.39\n",
       "795552 -8.46      S9  Midterm 2   0.39\n",
       "\n",
       "[7741288 rows x 4 columns]"
      ]
     },
     "execution_count": 171,
     "metadata": {},
     "output_type": "execute_result"
    }
   ],
   "source": [
    "resampled_bvp"
   ]
  },
  {
   "cell_type": "code",
   "execution_count": 176,
   "id": "1a87d2f3",
   "metadata": {},
   "outputs": [
    {
     "data": {
      "text/plain": [
       "False"
      ]
     },
     "execution_count": 176,
     "metadata": {},
     "output_type": "execute_result"
    }
   ],
   "source": [
    "len(resampled_eda[resampled_eda['Subject']=='S5'])==len(resampled_bvp[resampled_bvp['Subject']=='S4'])"
   ]
  },
  {
   "cell_type": "code",
   "execution_count": null,
   "id": "da120ead",
   "metadata": {},
   "outputs": [],
   "source": [
    "#Successfully found way to resample data approprately...same amouint of samples within a 64Hz sample rate for all\n",
    "    #signals within each subject...Amount of samples between subjects varies because subjects may have finished test\n",
    "    #earlier...amount of samples between exams will also vary because tests takle different amount of time.\n",
    "    "
   ]
  },
  {
   "cell_type": "code",
   "execution_count": 111,
   "id": "d7c4966e",
   "metadata": {},
   "outputs": [
    {
     "data": {
      "text/plain": [
       "[           0 Subject       Test  Score\n",
       " 0      -0.00      S5  Midterm 2   0.77\n",
       " 1      -0.00      S5  Midterm 2   0.77\n",
       " 2      -0.00      S5  Midterm 2   0.77\n",
       " 3      -0.00      S5  Midterm 2   0.77\n",
       " 4      -0.00      S5  Midterm 2   0.77\n",
       " ...      ...     ...        ...    ...\n",
       " 769263 -0.06      S5  Midterm 2   0.77\n",
       " 769264 -0.06      S5  Midterm 2   0.77\n",
       " 769265 -0.06      S5  Midterm 2   0.77\n",
       " 769266 -0.36      S5  Midterm 2   0.77\n",
       " 769267 -0.38      S5  Midterm 2   0.77\n",
       " \n",
       " [769268 rows x 4 columns],\n",
       "           0 Subject       Test  Score\n",
       " 0       0.0      S5  Midterm 2   0.77\n",
       " 1       0.0      S5  Midterm 2   0.77\n",
       " 2       0.0      S5  Midterm 2   0.77\n",
       " 3       0.0      S5  Midterm 2   0.77\n",
       " 4       0.0      S5  Midterm 2   0.77\n",
       " ...     ...     ...        ...    ...\n",
       " 768307  0.0      S5  Midterm 2   0.77\n",
       " 768308  0.0      S5  Midterm 2   0.77\n",
       " 768309  0.0      S5  Midterm 2   0.77\n",
       " 768310  0.0      S5  Midterm 2   0.77\n",
       " 768311  0.0      S5  Midterm 2   0.77\n",
       " \n",
       " [768312 rows x 4 columns]]"
      ]
     },
     "execution_count": 111,
     "metadata": {},
     "output_type": "execute_result"
    }
   ],
   "source": [
    "filtered_dfs"
   ]
  },
  {
   "cell_type": "code",
   "execution_count": 13,
   "id": "7d7e4faf",
   "metadata": {},
   "outputs": [],
   "source": [
    "signals_concat=signals #Each signal with all three exams together\n",
    "\n",
    "signals_1=[i[i['Test']=='Midterm 1'] for i in signals]\n",
    "signals_2=[i[i['Test']=='Midterm 2'] for i in signals]\n",
    "signals_3=[i[i['Test']=='Final'] for i in signals]"
   ]
  },
  {
   "cell_type": "code",
   "execution_count": 369,
   "id": "8bf41484",
   "metadata": {},
   "outputs": [
    {
     "data": {
      "text/html": [
       "<div>\n",
       "<style scoped>\n",
       "    .dataframe tbody tr th:only-of-type {\n",
       "        vertical-align: middle;\n",
       "    }\n",
       "\n",
       "    .dataframe tbody tr th {\n",
       "        vertical-align: top;\n",
       "    }\n",
       "\n",
       "    .dataframe thead th {\n",
       "        text-align: right;\n",
       "    }\n",
       "</style>\n",
       "<table border=\"1\" class=\"dataframe\">\n",
       "  <thead>\n",
       "    <tr style=\"text-align: right;\">\n",
       "      <th></th>\n",
       "      <th>0</th>\n",
       "      <th>Subject</th>\n",
       "      <th>Test</th>\n",
       "      <th>Score</th>\n",
       "    </tr>\n",
       "  </thead>\n",
       "  <tbody>\n",
       "    <tr>\n",
       "      <th>7748162</th>\n",
       "      <td>-0.00</td>\n",
       "      <td>S5</td>\n",
       "      <td>Midterm 1</td>\n",
       "      <td>0.67</td>\n",
       "    </tr>\n",
       "    <tr>\n",
       "      <th>7748163</th>\n",
       "      <td>-0.00</td>\n",
       "      <td>S5</td>\n",
       "      <td>Midterm 1</td>\n",
       "      <td>0.67</td>\n",
       "    </tr>\n",
       "    <tr>\n",
       "      <th>7748164</th>\n",
       "      <td>-0.00</td>\n",
       "      <td>S5</td>\n",
       "      <td>Midterm 1</td>\n",
       "      <td>0.67</td>\n",
       "    </tr>\n",
       "    <tr>\n",
       "      <th>7748165</th>\n",
       "      <td>-0.00</td>\n",
       "      <td>S5</td>\n",
       "      <td>Midterm 1</td>\n",
       "      <td>0.67</td>\n",
       "    </tr>\n",
       "    <tr>\n",
       "      <th>7748166</th>\n",
       "      <td>-0.00</td>\n",
       "      <td>S5</td>\n",
       "      <td>Midterm 1</td>\n",
       "      <td>0.67</td>\n",
       "    </tr>\n",
       "    <tr>\n",
       "      <th>...</th>\n",
       "      <td>...</td>\n",
       "      <td>...</td>\n",
       "      <td>...</td>\n",
       "      <td>...</td>\n",
       "    </tr>\n",
       "    <tr>\n",
       "      <th>15284340</th>\n",
       "      <td>1.46</td>\n",
       "      <td>S9</td>\n",
       "      <td>Midterm 1</td>\n",
       "      <td>0.80</td>\n",
       "    </tr>\n",
       "    <tr>\n",
       "      <th>15284341</th>\n",
       "      <td>1.46</td>\n",
       "      <td>S9</td>\n",
       "      <td>Midterm 1</td>\n",
       "      <td>0.80</td>\n",
       "    </tr>\n",
       "    <tr>\n",
       "      <th>15284342</th>\n",
       "      <td>1.19</td>\n",
       "      <td>S9</td>\n",
       "      <td>Midterm 1</td>\n",
       "      <td>0.80</td>\n",
       "    </tr>\n",
       "    <tr>\n",
       "      <th>15284343</th>\n",
       "      <td>1.19</td>\n",
       "      <td>S9</td>\n",
       "      <td>Midterm 1</td>\n",
       "      <td>0.80</td>\n",
       "    </tr>\n",
       "    <tr>\n",
       "      <th>15284344</th>\n",
       "      <td>1.19</td>\n",
       "      <td>S9</td>\n",
       "      <td>Midterm 1</td>\n",
       "      <td>0.80</td>\n",
       "    </tr>\n",
       "  </tbody>\n",
       "</table>\n",
       "<p>7536183 rows × 4 columns</p>\n",
       "</div>"
      ],
      "text/plain": [
       "             0 Subject       Test  Score\n",
       "7748162  -0.00      S5  Midterm 1   0.67\n",
       "7748163  -0.00      S5  Midterm 1   0.67\n",
       "7748164  -0.00      S5  Midterm 1   0.67\n",
       "7748165  -0.00      S5  Midterm 1   0.67\n",
       "7748166  -0.00      S5  Midterm 1   0.67\n",
       "...        ...     ...        ...    ...\n",
       "15284340  1.46      S9  Midterm 1   0.80\n",
       "15284341  1.46      S9  Midterm 1   0.80\n",
       "15284342  1.19      S9  Midterm 1   0.80\n",
       "15284343  1.19      S9  Midterm 1   0.80\n",
       "15284344  1.19      S9  Midterm 1   0.80\n",
       "\n",
       "[7536183 rows x 4 columns]"
      ]
     },
     "execution_count": 369,
     "metadata": {},
     "output_type": "execute_result"
    }
   ],
   "source": [
    "signals_1[0]"
   ]
  },
  {
   "cell_type": "code",
   "execution_count": 180,
   "id": "d8f47af9",
   "metadata": {},
   "outputs": [],
   "source": [
    "bvp_len_dict=bvp_2.groupby('Subject').size().to_dict()"
   ]
  },
  {
   "cell_type": "code",
   "execution_count": 181,
   "id": "1473cd17",
   "metadata": {},
   "outputs": [
    {
     "data": {
      "text/plain": [
       "{'S1': 711558,\n",
       " 'S10': 830415,\n",
       " 'S2': 888940,\n",
       " 'S3': 656932,\n",
       " 'S4': 857881,\n",
       " 'S5': 769268,\n",
       " 'S6': 908249,\n",
       " 'S7': 692772,\n",
       " 'S8': 636594,\n",
       " 'S9': 795553}"
      ]
     },
     "execution_count": 181,
     "metadata": {},
     "output_type": "execute_result"
    }
   ],
   "source": [
    "bvp_len_dict"
   ]
  },
  {
   "cell_type": "code",
   "execution_count": 198,
   "id": "034fee4e",
   "metadata": {},
   "outputs": [],
   "source": [
    "test=defaultdict(dict) #Unpacking the function seen later\n",
    "test1=signals_1[0].groupby('Subject').size().to_dict()\n",
    "test2=signals_1[1].groupby('Subject').size().to_dict()\n",
    "test['BVP']=test1\n",
    "test['ACC']=test2"
   ]
  },
  {
   "cell_type": "code",
   "execution_count": 199,
   "id": "8008a31b",
   "metadata": {},
   "outputs": [
    {
     "data": {
      "text/plain": [
       "defaultdict(dict,\n",
       "            {'BVP': {'S1': 716399,\n",
       "              'S10': 748516,\n",
       "              'S2': 767566,\n",
       "              'S3': 782248,\n",
       "              'S4': 748702,\n",
       "              'S5': 766619,\n",
       "              'S6': 713860,\n",
       "              'S7': 792055,\n",
       "              'S8': 689527,\n",
       "              'S9': 810691},\n",
       "             'ACC': {'S1': 716098,\n",
       "              'S10': 748052,\n",
       "              'S2': 768323,\n",
       "              'S3': 780578,\n",
       "              'S4': 747555,\n",
       "              'S5': 768907,\n",
       "              'S6': 712913,\n",
       "              'S7': 793683,\n",
       "              'S8': 691015,\n",
       "              'S9': 811202}})"
      ]
     },
     "execution_count": 199,
     "metadata": {},
     "output_type": "execute_result"
    }
   ],
   "source": [
    "test"
   ]
  },
  {
   "cell_type": "code",
   "execution_count": 262,
   "id": "df7e2009",
   "metadata": {},
   "outputs": [],
   "source": [
    "names=['BVP', 'ACC']\n",
    "tests=[test1,test2]"
   ]
  },
  {
   "cell_type": "code",
   "execution_count": 263,
   "id": "58bdf485",
   "metadata": {},
   "outputs": [],
   "source": [
    "test=defaultdict(dict)\n",
    "for i in zip(names, tests):\n",
    "    test[i[0]]=i[1]"
   ]
  },
  {
   "cell_type": "code",
   "execution_count": 302,
   "id": "b88151cb",
   "metadata": {},
   "outputs": [
    {
     "data": {
      "text/plain": [
       "[{'S1': 716399,\n",
       "  'S10': 748516,\n",
       "  'S2': 767566,\n",
       "  'S3': 782248,\n",
       "  'S4': 748702,\n",
       "  'S5': 766619,\n",
       "  'S6': 713860,\n",
       "  'S7': 792055,\n",
       "  'S8': 689527,\n",
       "  'S9': 810691},\n",
       " {'S1': 716098,\n",
       "  'S10': 748052,\n",
       "  'S2': 768323,\n",
       "  'S3': 780578,\n",
       "  'S4': 747555,\n",
       "  'S5': 768907,\n",
       "  'S6': 712913,\n",
       "  'S7': 793683,\n",
       "  'S8': 691015,\n",
       "  'S9': 811202}]"
      ]
     },
     "execution_count": 302,
     "metadata": {},
     "output_type": "execute_result"
    }
   ],
   "source": [
    "tests"
   ]
  },
  {
   "cell_type": "code",
   "execution_count": 230,
   "id": "66c2ed9c",
   "metadata": {},
   "outputs": [
    {
     "data": {
      "text/plain": [
       "{'S1': 716098,\n",
       " 'S10': 748052,\n",
       " 'S2': 768323,\n",
       " 'S3': 780578,\n",
       " 'S4': 747555,\n",
       " 'S5': 768907,\n",
       " 'S6': 712913,\n",
       " 'S7': 793683,\n",
       " 'S8': 691015,\n",
       " 'S9': 811202}"
      ]
     },
     "execution_count": 230,
     "metadata": {},
     "output_type": "execute_result"
    }
   ],
   "source": [
    "list(test.values())[1]"
   ]
  },
  {
   "cell_type": "code",
   "execution_count": 243,
   "id": "1886049c",
   "metadata": {},
   "outputs": [
    {
     "data": {
      "text/plain": [
       "689527"
      ]
     },
     "execution_count": 243,
     "metadata": {},
     "output_type": "execute_result"
    }
   ],
   "source": [
    "min(list(test.values())[0].values())"
   ]
  },
  {
   "cell_type": "code",
   "execution_count": 251,
   "id": "516752b1",
   "metadata": {},
   "outputs": [
    {
     "data": {
      "text/plain": [
       "[{'S1': 716399,\n",
       "  'S10': 748516,\n",
       "  'S2': 767566,\n",
       "  'S3': 782248,\n",
       "  'S4': 748702,\n",
       "  'S5': 766619,\n",
       "  'S6': 713860,\n",
       "  'S7': 792055,\n",
       "  'S8': 689527,\n",
       "  'S9': 810691},\n",
       " {'S1': 716098,\n",
       "  'S10': 748052,\n",
       "  'S2': 768323,\n",
       "  'S3': 780578,\n",
       "  'S4': 747555,\n",
       "  'S5': 768907,\n",
       "  'S6': 712913,\n",
       "  'S7': 793683,\n",
       "  'S8': 691015,\n",
       "  'S9': 811202}]"
      ]
     },
     "execution_count": 251,
     "metadata": {},
     "output_type": "execute_result"
    }
   ],
   "source": [
    "list(test.values())"
   ]
  },
  {
   "cell_type": "code",
   "execution_count": 289,
   "id": "8e8eaa93",
   "metadata": {},
   "outputs": [
    {
     "data": {
      "text/plain": [
       "{'S1': 716399,\n",
       " 'S10': 748516,\n",
       " 'S2': 767566,\n",
       " 'S3': 782248,\n",
       " 'S4': 748702,\n",
       " 'S5': 766619,\n",
       " 'S6': 713860,\n",
       " 'S7': 792055,\n",
       " 'S8': 689527,\n",
       " 'S9': 810691}"
      ]
     },
     "execution_count": 289,
     "metadata": {},
     "output_type": "execute_result"
    }
   ],
   "source": [
    "list(test.values())[0]"
   ]
  },
  {
   "cell_type": "code",
   "execution_count": 373,
   "id": "bfc98a69",
   "metadata": {},
   "outputs": [
    {
     "data": {
      "text/plain": [
       "defaultdict(dict,\n",
       "            {'BVP': {'S1': 716399,\n",
       "              'S10': 748516,\n",
       "              'S2': 767566,\n",
       "              'S3': 782248,\n",
       "              'S4': 748702,\n",
       "              'S5': 766619,\n",
       "              'S6': 713860,\n",
       "              'S7': 792055,\n",
       "              'S8': 689527,\n",
       "              'S9': 810691},\n",
       "             'ACC': {'S1': 716098,\n",
       "              'S10': 748052,\n",
       "              'S2': 768323,\n",
       "              'S3': 780578,\n",
       "              'S4': 747555,\n",
       "              'S5': 768907,\n",
       "              'S6': 712913,\n",
       "              'S7': 793683,\n",
       "              'S8': 691015,\n",
       "              'S9': 811202},\n",
       "             1: {},\n",
       "             0: {}})"
      ]
     },
     "execution_count": 373,
     "metadata": {},
     "output_type": "execute_result"
    }
   ],
   "source": [
    "test"
   ]
  },
  {
   "cell_type": "code",
   "execution_count": 298,
   "id": "44cb402d",
   "metadata": {},
   "outputs": [],
   "source": [
    "df_min = pd.DataFrame(test).min(axis=1)"
   ]
  },
  {
   "cell_type": "code",
   "execution_count": 300,
   "id": "b315aa8b",
   "metadata": {},
   "outputs": [],
   "source": [
    "df_test=pd.DataFrame(test)"
   ]
  },
  {
   "cell_type": "code",
   "execution_count": 320,
   "id": "7ae04934",
   "metadata": {},
   "outputs": [],
   "source": [
    "subjects=df_min.index.to_numpy()"
   ]
  },
  {
   "cell_type": "code",
   "execution_count": 319,
   "id": "cdfa8c2d",
   "metadata": {},
   "outputs": [],
   "source": [
    "test_minimums=list(df_min)"
   ]
  },
  {
   "cell_type": "code",
   "execution_count": 321,
   "id": "c058b031",
   "metadata": {},
   "outputs": [
    {
     "name": "stdout",
     "output_type": "stream",
     "text": [
      "('S1', 716098.0)\n",
      "('S10', 748052.0)\n",
      "('S2', 767566.0)\n",
      "('S3', 780578.0)\n",
      "('S4', 747555.0)\n",
      "('S5', 766619.0)\n",
      "('S6', 712913.0)\n",
      "('S7', 792055.0)\n",
      "('S8', 689527.0)\n",
      "('S9', 810691.0)\n"
     ]
    }
   ],
   "source": [
    "for i in zip(subjects, test_minimums):\n",
    "    print(i)"
   ]
  },
  {
   "cell_type": "code",
   "execution_count": 375,
   "id": "6f696821",
   "metadata": {},
   "outputs": [
    {
     "data": {
      "text/plain": [
       "[716098.0,\n",
       " 748052.0,\n",
       " 767566.0,\n",
       " 780578.0,\n",
       " 747555.0,\n",
       " 766619.0,\n",
       " 712913.0,\n",
       " 792055.0,\n",
       " 689527.0,\n",
       " 810691.0]"
      ]
     },
     "execution_count": 375,
     "metadata": {},
     "output_type": "execute_result"
    }
   ],
   "source": [
    "test_minimums"
   ]
  },
  {
   "cell_type": "code",
   "execution_count": 376,
   "id": "89a26152",
   "metadata": {},
   "outputs": [
    {
     "data": {
      "text/html": [
       "<div>\n",
       "<style scoped>\n",
       "    .dataframe tbody tr th:only-of-type {\n",
       "        vertical-align: middle;\n",
       "    }\n",
       "\n",
       "    .dataframe tbody tr th {\n",
       "        vertical-align: top;\n",
       "    }\n",
       "\n",
       "    .dataframe thead th {\n",
       "        text-align: right;\n",
       "    }\n",
       "</style>\n",
       "<table border=\"1\" class=\"dataframe\">\n",
       "  <thead>\n",
       "    <tr style=\"text-align: right;\">\n",
       "      <th></th>\n",
       "      <th>BVP</th>\n",
       "      <th>ACC</th>\n",
       "      <th>1</th>\n",
       "      <th>0</th>\n",
       "    </tr>\n",
       "  </thead>\n",
       "  <tbody>\n",
       "    <tr>\n",
       "      <th>S1</th>\n",
       "      <td>716399</td>\n",
       "      <td>716098</td>\n",
       "      <td>NaN</td>\n",
       "      <td>NaN</td>\n",
       "    </tr>\n",
       "    <tr>\n",
       "      <th>S10</th>\n",
       "      <td>748516</td>\n",
       "      <td>748052</td>\n",
       "      <td>NaN</td>\n",
       "      <td>NaN</td>\n",
       "    </tr>\n",
       "    <tr>\n",
       "      <th>S2</th>\n",
       "      <td>767566</td>\n",
       "      <td>768323</td>\n",
       "      <td>NaN</td>\n",
       "      <td>NaN</td>\n",
       "    </tr>\n",
       "    <tr>\n",
       "      <th>S3</th>\n",
       "      <td>782248</td>\n",
       "      <td>780578</td>\n",
       "      <td>NaN</td>\n",
       "      <td>NaN</td>\n",
       "    </tr>\n",
       "    <tr>\n",
       "      <th>S4</th>\n",
       "      <td>748702</td>\n",
       "      <td>747555</td>\n",
       "      <td>NaN</td>\n",
       "      <td>NaN</td>\n",
       "    </tr>\n",
       "    <tr>\n",
       "      <th>S5</th>\n",
       "      <td>766619</td>\n",
       "      <td>768907</td>\n",
       "      <td>NaN</td>\n",
       "      <td>NaN</td>\n",
       "    </tr>\n",
       "    <tr>\n",
       "      <th>S6</th>\n",
       "      <td>713860</td>\n",
       "      <td>712913</td>\n",
       "      <td>NaN</td>\n",
       "      <td>NaN</td>\n",
       "    </tr>\n",
       "    <tr>\n",
       "      <th>S7</th>\n",
       "      <td>792055</td>\n",
       "      <td>793683</td>\n",
       "      <td>NaN</td>\n",
       "      <td>NaN</td>\n",
       "    </tr>\n",
       "    <tr>\n",
       "      <th>S8</th>\n",
       "      <td>689527</td>\n",
       "      <td>691015</td>\n",
       "      <td>NaN</td>\n",
       "      <td>NaN</td>\n",
       "    </tr>\n",
       "    <tr>\n",
       "      <th>S9</th>\n",
       "      <td>810691</td>\n",
       "      <td>811202</td>\n",
       "      <td>NaN</td>\n",
       "      <td>NaN</td>\n",
       "    </tr>\n",
       "  </tbody>\n",
       "</table>\n",
       "</div>"
      ],
      "text/plain": [
       "        BVP     ACC   1   0\n",
       "S1   716399  716098 NaN NaN\n",
       "S10  748516  748052 NaN NaN\n",
       "S2   767566  768323 NaN NaN\n",
       "S3   782248  780578 NaN NaN\n",
       "S4   748702  747555 NaN NaN\n",
       "S5   766619  768907 NaN NaN\n",
       "S6   713860  712913 NaN NaN\n",
       "S7   792055  793683 NaN NaN\n",
       "S8   689527  691015 NaN NaN\n",
       "S9   810691  811202 NaN NaN"
      ]
     },
     "execution_count": 376,
     "metadata": {},
     "output_type": "execute_result"
    }
   ],
   "source": [
    "df_test"
   ]
  },
  {
   "cell_type": "code",
   "execution_count": 405,
   "id": "5ea80b58",
   "metadata": {},
   "outputs": [],
   "source": [
    "samples=defaultdict(dict) #Deconstructing later function and testing it to see where error was...it was in IBI data\n",
    "names=['BVP', 'ACC', 'EDA', 'IBI', 'TEMP', 'HR']\n",
    "dict_lengths=[]\n",
    "for df in signals_2:\n",
    "    sensor_lengths=df.groupby('Subject').size().to_dict()\n",
    "    dict_lengths.append(sensor_lengths)"
   ]
  },
  {
   "cell_type": "code",
   "execution_count": 406,
   "id": "3e8af6d9",
   "metadata": {},
   "outputs": [
    {
     "data": {
      "text/plain": [
       "[{'S1': 711558,\n",
       "  'S10': 830415,\n",
       "  'S2': 888940,\n",
       "  'S3': 656932,\n",
       "  'S4': 857881,\n",
       "  'S5': 769268,\n",
       "  'S6': 908249,\n",
       "  'S7': 692772,\n",
       "  'S8': 636594,\n",
       "  'S9': 795553},\n",
       " {'S1': 713119,\n",
       "  'S10': 831559,\n",
       "  'S2': 888443,\n",
       "  'S3': 655287,\n",
       "  'S4': 858036,\n",
       "  'S5': 769108,\n",
       "  'S6': 906967,\n",
       "  'S7': 692007,\n",
       "  'S8': 638588,\n",
       "  'S9': 794822},\n",
       " {'S1': 714624,\n",
       "  'S10': 832142,\n",
       "  'S2': 887751,\n",
       "  'S3': 654284,\n",
       "  'S4': 855800,\n",
       "  'S5': 768312,\n",
       "  'S6': 908284,\n",
       "  'S7': 693690,\n",
       "  'S8': 638240,\n",
       "  'S9': 796115},\n",
       " {'S1': 833841,\n",
       "  'S10': 1201580,\n",
       "  'S2': 1363559,\n",
       "  'S3': 329603,\n",
       "  'S4': 290121,\n",
       "  'S5': 2647827,\n",
       "  'S6': 1006444,\n",
       "  'S7': 135593,\n",
       "  'S8': 38437,\n",
       "  'S9': 347974},\n",
       " {'S1': 713471,\n",
       "  'S10': 831211,\n",
       "  'S2': 888820,\n",
       "  'S3': 656484,\n",
       "  'S4': 857204,\n",
       "  'S5': 768090,\n",
       "  'S6': 907657,\n",
       "  'S7': 691235,\n",
       "  'S8': 637870,\n",
       "  'S9': 796880},\n",
       " {'S1': 712098,\n",
       "  'S10': 832208,\n",
       "  'S2': 887301,\n",
       "  'S3': 655961,\n",
       "  'S4': 856665,\n",
       "  'S5': 768804,\n",
       "  'S6': 906963,\n",
       "  'S7': 690744,\n",
       "  'S8': 638558,\n",
       "  'S9': 794266}]"
      ]
     },
     "execution_count": 406,
     "metadata": {},
     "output_type": "execute_result"
    }
   ],
   "source": [
    "dict_lengths"
   ]
  },
  {
   "cell_type": "code",
   "execution_count": 407,
   "id": "37ed932e",
   "metadata": {},
   "outputs": [],
   "source": [
    "for i in zip(names, dict_lengths):\n",
    "    samples[i[0]]=i[1]"
   ]
  },
  {
   "cell_type": "code",
   "execution_count": 408,
   "id": "d5660e10",
   "metadata": {},
   "outputs": [
    {
     "data": {
      "text/plain": [
       "defaultdict(dict,\n",
       "            {'BVP': {'S1': 711558,\n",
       "              'S10': 830415,\n",
       "              'S2': 888940,\n",
       "              'S3': 656932,\n",
       "              'S4': 857881,\n",
       "              'S5': 769268,\n",
       "              'S6': 908249,\n",
       "              'S7': 692772,\n",
       "              'S8': 636594,\n",
       "              'S9': 795553},\n",
       "             'ACC': {'S1': 713119,\n",
       "              'S10': 831559,\n",
       "              'S2': 888443,\n",
       "              'S3': 655287,\n",
       "              'S4': 858036,\n",
       "              'S5': 769108,\n",
       "              'S6': 906967,\n",
       "              'S7': 692007,\n",
       "              'S8': 638588,\n",
       "              'S9': 794822},\n",
       "             'EDA': {'S1': 714624,\n",
       "              'S10': 832142,\n",
       "              'S2': 887751,\n",
       "              'S3': 654284,\n",
       "              'S4': 855800,\n",
       "              'S5': 768312,\n",
       "              'S6': 908284,\n",
       "              'S7': 693690,\n",
       "              'S8': 638240,\n",
       "              'S9': 796115},\n",
       "             'IBI': {'S1': 833841,\n",
       "              'S10': 1201580,\n",
       "              'S2': 1363559,\n",
       "              'S3': 329603,\n",
       "              'S4': 290121,\n",
       "              'S5': 2647827,\n",
       "              'S6': 1006444,\n",
       "              'S7': 135593,\n",
       "              'S8': 38437,\n",
       "              'S9': 347974},\n",
       "             'TEMP': {'S1': 713471,\n",
       "              'S10': 831211,\n",
       "              'S2': 888820,\n",
       "              'S3': 656484,\n",
       "              'S4': 857204,\n",
       "              'S5': 768090,\n",
       "              'S6': 907657,\n",
       "              'S7': 691235,\n",
       "              'S8': 637870,\n",
       "              'S9': 796880},\n",
       "             'HR': {'S1': 712098,\n",
       "              'S10': 832208,\n",
       "              'S2': 887301,\n",
       "              'S3': 655961,\n",
       "              'S4': 856665,\n",
       "              'S5': 768804,\n",
       "              'S6': 906963,\n",
       "              'S7': 690744,\n",
       "              'S8': 638558,\n",
       "              'S9': 794266}})"
      ]
     },
     "execution_count": 408,
     "metadata": {},
     "output_type": "execute_result"
    }
   ],
   "source": [
    "samples"
   ]
  },
  {
   "cell_type": "code",
   "execution_count": 382,
   "id": "5e3eed47",
   "metadata": {},
   "outputs": [],
   "source": [
    "df_min = pd.DataFrame(samples).min(axis=1) #Got minimum values each sensor for each subject to even sampling rate"
   ]
  },
  {
   "cell_type": "code",
   "execution_count": 409,
   "id": "a71a345f",
   "metadata": {},
   "outputs": [],
   "source": [
    "df=pd.DataFrame(samples)"
   ]
  },
  {
   "cell_type": "code",
   "execution_count": 414,
   "id": "aaf1db9f",
   "metadata": {},
   "outputs": [
    {
     "data": {
      "text/html": [
       "<div>\n",
       "<style scoped>\n",
       "    .dataframe tbody tr th:only-of-type {\n",
       "        vertical-align: middle;\n",
       "    }\n",
       "\n",
       "    .dataframe tbody tr th {\n",
       "        vertical-align: top;\n",
       "    }\n",
       "\n",
       "    .dataframe thead th {\n",
       "        text-align: right;\n",
       "    }\n",
       "</style>\n",
       "<table border=\"1\" class=\"dataframe\">\n",
       "  <thead>\n",
       "    <tr style=\"text-align: right;\">\n",
       "      <th></th>\n",
       "      <th>BVP</th>\n",
       "      <th>ACC</th>\n",
       "      <th>EDA</th>\n",
       "      <th>IBI</th>\n",
       "      <th>TEMP</th>\n",
       "      <th>HR</th>\n",
       "    </tr>\n",
       "  </thead>\n",
       "  <tbody>\n",
       "    <tr>\n",
       "      <th>S1</th>\n",
       "      <td>711558</td>\n",
       "      <td>713119</td>\n",
       "      <td>714624</td>\n",
       "      <td>833841</td>\n",
       "      <td>713471</td>\n",
       "      <td>712098</td>\n",
       "    </tr>\n",
       "    <tr>\n",
       "      <th>S10</th>\n",
       "      <td>830415</td>\n",
       "      <td>831559</td>\n",
       "      <td>832142</td>\n",
       "      <td>1201580</td>\n",
       "      <td>831211</td>\n",
       "      <td>832208</td>\n",
       "    </tr>\n",
       "    <tr>\n",
       "      <th>S2</th>\n",
       "      <td>888940</td>\n",
       "      <td>888443</td>\n",
       "      <td>887751</td>\n",
       "      <td>1363559</td>\n",
       "      <td>888820</td>\n",
       "      <td>887301</td>\n",
       "    </tr>\n",
       "    <tr>\n",
       "      <th>S3</th>\n",
       "      <td>656932</td>\n",
       "      <td>655287</td>\n",
       "      <td>654284</td>\n",
       "      <td>329603</td>\n",
       "      <td>656484</td>\n",
       "      <td>655961</td>\n",
       "    </tr>\n",
       "    <tr>\n",
       "      <th>S4</th>\n",
       "      <td>857881</td>\n",
       "      <td>858036</td>\n",
       "      <td>855800</td>\n",
       "      <td>290121</td>\n",
       "      <td>857204</td>\n",
       "      <td>856665</td>\n",
       "    </tr>\n",
       "    <tr>\n",
       "      <th>S5</th>\n",
       "      <td>769268</td>\n",
       "      <td>769108</td>\n",
       "      <td>768312</td>\n",
       "      <td>2647827</td>\n",
       "      <td>768090</td>\n",
       "      <td>768804</td>\n",
       "    </tr>\n",
       "    <tr>\n",
       "      <th>S6</th>\n",
       "      <td>908249</td>\n",
       "      <td>906967</td>\n",
       "      <td>908284</td>\n",
       "      <td>1006444</td>\n",
       "      <td>907657</td>\n",
       "      <td>906963</td>\n",
       "    </tr>\n",
       "    <tr>\n",
       "      <th>S7</th>\n",
       "      <td>692772</td>\n",
       "      <td>692007</td>\n",
       "      <td>693690</td>\n",
       "      <td>135593</td>\n",
       "      <td>691235</td>\n",
       "      <td>690744</td>\n",
       "    </tr>\n",
       "    <tr>\n",
       "      <th>S8</th>\n",
       "      <td>636594</td>\n",
       "      <td>638588</td>\n",
       "      <td>638240</td>\n",
       "      <td>38437</td>\n",
       "      <td>637870</td>\n",
       "      <td>638558</td>\n",
       "    </tr>\n",
       "    <tr>\n",
       "      <th>S9</th>\n",
       "      <td>795553</td>\n",
       "      <td>794822</td>\n",
       "      <td>796115</td>\n",
       "      <td>347974</td>\n",
       "      <td>796880</td>\n",
       "      <td>794266</td>\n",
       "    </tr>\n",
       "  </tbody>\n",
       "</table>\n",
       "</div>"
      ],
      "text/plain": [
       "        BVP     ACC     EDA      IBI    TEMP      HR\n",
       "S1   711558  713119  714624   833841  713471  712098\n",
       "S10  830415  831559  832142  1201580  831211  832208\n",
       "S2   888940  888443  887751  1363559  888820  887301\n",
       "S3   656932  655287  654284   329603  656484  655961\n",
       "S4   857881  858036  855800   290121  857204  856665\n",
       "S5   769268  769108  768312  2647827  768090  768804\n",
       "S6   908249  906967  908284  1006444  907657  906963\n",
       "S7   692772  692007  693690   135593  691235  690744\n",
       "S8   636594  638588  638240    38437  637870  638558\n",
       "S9   795553  794822  796115   347974  796880  794266"
      ]
     },
     "execution_count": 414,
     "metadata": {},
     "output_type": "execute_result"
    }
   ],
   "source": [
    "df"
   ]
  },
  {
   "cell_type": "code",
   "execution_count": 69,
   "id": "73abf47d",
   "metadata": {},
   "outputs": [
    {
     "ename": "IndexError",
     "evalue": "list index out of range",
     "output_type": "error",
     "traceback": [
      "\u001b[0;31m---------------------------------------------------------------------------\u001b[0m",
      "\u001b[0;31mIndexError\u001b[0m                                Traceback (most recent call last)",
      "Cell \u001b[0;32mIn [69], line 1\u001b[0m\n\u001b[0;32m----> 1\u001b[0m \u001b[38;5;28mlen\u001b[39m(\u001b[43msignals_1\u001b[49m\u001b[43m[\u001b[49m\u001b[38;5;241;43m5\u001b[39;49m\u001b[43m]\u001b[49m)\u001b[38;5;241m+\u001b[39m\u001b[38;5;28mlen\u001b[39m(signals_2[\u001b[38;5;241m5\u001b[39m])\n",
      "\u001b[0;31mIndexError\u001b[0m: list index out of range"
     ]
    }
   ],
   "source": [
    "len(signals_1[5])+len(signals_2[5])"
   ]
  },
  {
   "cell_type": "code",
   "execution_count": null,
   "id": "4adad274",
   "metadata": {},
   "outputs": [],
   "source": [
    "df_min = pd.DataFrame(samples).min(axis=1) #Got minimum values each sensor for each subject to even sampling rate\n",
    "lengths=list(df_min)\n",
    "subjects=df_min.index.to_numpy()\n",
    "resampled_dfs = [resample(df[df['Subject']==subj], replace=True, n_samples=length) \n",
    "             for df in signals_list for subj, length in zip(subjects, lengths) if subj in df['Subject'].unique()]\n",
    "result=[pd.concat(resampled_dfs[i:i+10]) for i in range(0,60,10)]"
   ]
  },
  {
   "cell_type": "code",
   "execution_count": 14,
   "id": "83820caf",
   "metadata": {},
   "outputs": [],
   "source": [
    "def resample_to_equal_within_subject_sr(signals_list):\n",
    "    samples=defaultdict(dict)\n",
    "    names=['BVP', 'ACC', 'EDA', 'TEMP', 'HR']\n",
    "    dict_lengths=[]\n",
    "    for df in signals_list:\n",
    "        sensor_lengths=df.groupby('Subject').size().to_dict()\n",
    "        dict_lengths.append(sensor_lengths)\n",
    "    for i in zip(names, dict_lengths):\n",
    "        samples[i[0]]=i[1]\n",
    "    df_min = pd.DataFrame(samples).min(axis=1) #Got minimum values each sensor for each subject to even sampling rate\n",
    "    lengths=list(df_min)\n",
    "    subjects=df_min.index.to_numpy()\n",
    "    resampled_dfs = [resample(df[df['Subject']==subj], replace=True, n_samples=length) \n",
    "                 for df in signals_list for subj, length in zip(subjects, lengths) if subj in df['Subject'].unique()]\n",
    "    return resampled_dfs #Will return list of 50 dfs, need to concatenate the ones of same sensor"
   ]
  },
  {
   "cell_type": "code",
   "execution_count": 15,
   "id": "309224ee",
   "metadata": {},
   "outputs": [
    {
     "data": {
      "text/plain": [
       "False"
      ]
     },
     "execution_count": 15,
     "metadata": {},
     "output_type": "execute_result"
    }
   ],
   "source": [
    "len(signals_1[0][signals_1[0]['Subject']=='S5'])==len(signals_1[1][signals_1[1]['Subject']=='S5'])"
   ]
  },
  {
   "cell_type": "code",
   "execution_count": 16,
   "id": "69d29b79",
   "metadata": {},
   "outputs": [],
   "source": [
    "result_1=resample_to_equal_within_subject_sr(signals_1)"
   ]
  },
  {
   "cell_type": "code",
   "execution_count": 17,
   "id": "c6060f0f",
   "metadata": {},
   "outputs": [
    {
     "data": {
      "text/plain": [
       "True"
      ]
     },
     "execution_count": 17,
     "metadata": {},
     "output_type": "execute_result"
    }
   ],
   "source": [
    "len(result_1[0][result_1[0]['Subject']=='S5'])==len(result_1[1][result_1[1]['Subject']=='S5'])"
   ]
  },
  {
   "cell_type": "code",
   "execution_count": 18,
   "id": "864a3879",
   "metadata": {},
   "outputs": [],
   "source": [
    "result_1 = [pd.concat(result_1[i:i+10]) for i in range(0, 50, 10)]"
   ]
  },
  {
   "cell_type": "code",
   "execution_count": 19,
   "id": "735adf2a",
   "metadata": {},
   "outputs": [],
   "source": [
    "result_2=resample_to_equal_within_subject_sr(signals_2)\n",
    "result_3=resample_to_equal_within_subject_sr(signals_3)"
   ]
  },
  {
   "cell_type": "code",
   "execution_count": 20,
   "id": "2fb2e1dc",
   "metadata": {},
   "outputs": [],
   "source": [
    "result_2 = [pd.concat(result_2[i:i+10]) for i in range(0, 50, 10)]\n",
    "result_3 = [pd.concat(result_3[i:i+10]) for i in range(0, 50, 10)]"
   ]
  },
  {
   "cell_type": "code",
   "execution_count": 48,
   "id": "2bc33f86",
   "metadata": {},
   "outputs": [
    {
     "data": {
      "text/plain": [
       "True"
      ]
     },
     "execution_count": 48,
     "metadata": {},
     "output_type": "execute_result"
    }
   ],
   "source": [
    "len(result_2[1][result_2[1]['Subject']=='S2'])==len(result_2[4][result_2[4]['Subject']=='S2']) #check length of data"
   ]
  },
  {
   "cell_type": "code",
   "execution_count": 21,
   "id": "1505e5fe",
   "metadata": {},
   "outputs": [],
   "source": [
    "final_list = result_1 + result_2 + result_3"
   ]
  },
  {
   "cell_type": "code",
   "execution_count": 22,
   "id": "00b35d52",
   "metadata": {},
   "outputs": [
    {
     "data": {
      "text/plain": [
       "[              0 Subject       Test  Score\n",
       " 12650351  -0.39      S1  Midterm 1   0.78\n",
       " 12367434  -0.61      S1  Midterm 1   0.78\n",
       " 12736472  -0.74      S1  Midterm 1   0.78\n",
       " 12771860  -1.08      S1  Midterm 1   0.78\n",
       " 12367711   0.29      S1  Midterm 1   0.78\n",
       " ...         ...     ...        ...    ...\n",
       " 14901113  -0.47      S9  Midterm 1   0.80\n",
       " 14967224 -11.74      S9  Midterm 1   0.80\n",
       " 14976483   0.37      S9  Midterm 1   0.80\n",
       " 14892874   2.43      S9  Midterm 1   0.80\n",
       " 14511428   0.07      S9  Midterm 1   0.80\n",
       " \n",
       " [7526499 rows x 4 columns],\n",
       "            0   1   2 Subject       Test  Score\n",
       " 12286268  -2  64  11      S1  Midterm 1   0.78\n",
       " 12932082  -3 -62  10      S1  Midterm 1   0.78\n",
       " 12524729 -38   8  51      S1  Midterm 1   0.78\n",
       " 12284405  -2  64  11      S1  Midterm 1   0.78\n",
       " 12549578 -64  -8  -8      S1  Midterm 1   0.78\n",
       " ...       ..  ..  ..     ...        ...    ...\n",
       " 14608328  -3  63  10      S9  Midterm 1   0.80\n",
       " 15030032 -66   1 -21      S9  Midterm 1   0.80\n",
       " 14931483 -40 -40 -16      S9  Midterm 1   0.80\n",
       " 14650656  -4  63  12      S9  Midterm 1   0.80\n",
       " 15032050 -63  -6 -16      S9  Midterm 1   0.80\n",
       " \n",
       " [7526499 rows x 6 columns],\n",
       "                  0 Subject       Test  Score\n",
       " 12514634  0.573056      S1  Midterm 1   0.78\n",
       " 12480469  0.589715      S1  Midterm 1   0.78\n",
       " 12901333  0.024347      S1  Midterm 1   0.78\n",
       " 12338599  0.023065      S1  Midterm 1   0.78\n",
       " 12589437  1.411465      S1  Midterm 1   0.78\n",
       " ...            ...     ...        ...    ...\n",
       " 15263513  0.014096      S9  Midterm 1   0.80\n",
       " 14984792  0.357513      S9  Midterm 1   0.80\n",
       " 15080085  0.345980      S9  Midterm 1   0.80\n",
       " 14756522  0.202463      S9  Midterm 1   0.80\n",
       " 14796308  0.260126      S9  Midterm 1   0.80\n",
       " \n",
       " [7526499 rows x 4 columns],\n",
       "               0 Subject       Test  Score\n",
       " 12419657  23.15      S1  Midterm 1   0.78\n",
       " 12317291  23.07      S1  Midterm 1   0.78\n",
       " 12868163  27.59      S1  Midterm 1   0.78\n",
       " 12902072  27.07      S1  Midterm 1   0.78\n",
       " 12494324  27.07      S1  Midterm 1   0.78\n",
       " ...         ...     ...        ...    ...\n",
       " 14981049  28.51      S9  Midterm 1   0.80\n",
       " 14688700  26.35      S9  Midterm 1   0.80\n",
       " 15281840  23.53      S9  Midterm 1   0.80\n",
       " 14652706  22.85      S9  Midterm 1   0.80\n",
       " 15037548  28.61      S9  Midterm 1   0.80\n",
       " \n",
       " [7526499 rows x 4 columns],\n",
       "                0 Subject       Test  Score\n",
       " 12887158   90.53      S1  Midterm 1   0.78\n",
       " 12416574  140.48      S1  Midterm 1   0.78\n",
       " 12549780   84.80      S1  Midterm 1   0.78\n",
       " 12619616   78.67      S1  Midterm 1   0.78\n",
       " 12311292  127.45      S1  Midterm 1   0.78\n",
       " ...          ...     ...        ...    ...\n",
       " 14645971  106.28      S9  Midterm 1   0.80\n",
       " 14853550   73.97      S9  Midterm 1   0.80\n",
       " 14868951   76.53      S9  Midterm 1   0.80\n",
       " 14883823   91.10      S9  Midterm 1   0.80\n",
       " 14881561   92.20      S9  Midterm 1   0.80\n",
       " \n",
       " [7526499 rows x 4 columns],\n",
       "               0 Subject       Test  Score\n",
       " 5075668    5.03      S1  Midterm 2   0.82\n",
       " 4787794  -29.45      S1  Midterm 2   0.82\n",
       " 5036561   12.16      S1  Midterm 2   0.82\n",
       " 4666318  248.39      S1  Midterm 2   0.82\n",
       " 5241249    0.36      S1  Midterm 2   0.82\n",
       " ...         ...     ...        ...    ...\n",
       " 7681283   -4.54      S9  Midterm 2   0.39\n",
       " 7269964  -29.21      S9  Midterm 2   0.39\n",
       " 7565531    7.12      S9  Midterm 2   0.39\n",
       " 7507910   -2.21      S9  Midterm 2   0.39\n",
       " 7456013   22.22      S9  Midterm 2   0.39\n",
       " \n",
       " [7736469 rows x 4 columns],\n",
       "           0   1   2 Subject       Test  Score\n",
       " 4776193 -38 -47 -23      S1  Midterm 2   0.82\n",
       " 5148528 -63 -17  -6      S1  Midterm 2   0.82\n",
       " 4952771 -15  -5  60      S1  Midterm 2   0.82\n",
       " 5221804  -5  65   2      S1  Midterm 2   0.82\n",
       " 4669417 -40  92 -14      S1  Midterm 2   0.82\n",
       " ...      ..  ..  ..     ...        ...    ...\n",
       " 7614398 -59   1 -28      S9  Midterm 2   0.39\n",
       " 7218127 -58   3  52      S9  Midterm 2   0.39\n",
       " 7265765 -41   2  52      S9  Midterm 2   0.39\n",
       " 6955036   0 -63   6      S9  Midterm 2   0.39\n",
       " 7238474 -46   4  47      S9  Midterm 2   0.39\n",
       " \n",
       " [7736469 rows x 6 columns],\n",
       "                 0 Subject       Test  Score\n",
       " 4832773  0.442059      S1  Midterm 2   0.82\n",
       " 5053013  0.206294      S1  Midterm 2   0.82\n",
       " 4895527  0.176824      S1  Midterm 2   0.82\n",
       " 4719937  0.023064      S1  Midterm 2   0.82\n",
       " 4796150  0.096100      S1  Midterm 2   0.82\n",
       " ...           ...     ...        ...    ...\n",
       " 7582760  0.012813      S9  Midterm 2   0.39\n",
       " 7549819  0.014094      S9  Midterm 2   0.39\n",
       " 7338353  0.419237      S9  Midterm 2   0.39\n",
       " 7622541  0.014094      S9  Midterm 2   0.39\n",
       " 7336093  0.455112      S9  Midterm 2   0.39\n",
       " \n",
       " [7736469 rows x 4 columns],\n",
       "              0 Subject       Test  Score\n",
       " 5263835  23.21      S1  Midterm 2   0.82\n",
       " 5233953  23.27      S1  Midterm 2   0.82\n",
       " 4841878  29.03      S1  Midterm 2   0.82\n",
       " 4832789  28.61      S1  Midterm 2   0.82\n",
       " 4722715  20.79      S1  Midterm 2   0.82\n",
       " ...        ...     ...        ...    ...\n",
       " 7631795  22.33      S9  Midterm 2   0.39\n",
       " 7407329  33.25      S9  Midterm 2   0.39\n",
       " 7539600  21.67      S9  Midterm 2   0.39\n",
       " 7196470  33.11      S9  Midterm 2   0.39\n",
       " 6972567  22.03      S9  Midterm 2   0.39\n",
       " \n",
       " [7736469 rows x 4 columns],\n",
       "               0 Subject       Test  Score\n",
       " 5200014  131.50      S1  Midterm 2   0.82\n",
       " 5220620   95.82      S1  Midterm 2   0.82\n",
       " 4894604  120.13      S1  Midterm 2   0.82\n",
       " 5210383  132.05      S1  Midterm 2   0.82\n",
       " 5173233   69.00      S1  Midterm 2   0.82\n",
       " ...         ...     ...        ...    ...\n",
       " 7377978   93.15      S9  Midterm 2   0.39\n",
       " 7073626   89.12      S9  Midterm 2   0.39\n",
       " 7132197   88.65      S9  Midterm 2   0.39\n",
       " 7151112   90.62      S9  Midterm 2   0.39\n",
       " 7642080  124.20      S9  Midterm 2   0.39\n",
       " \n",
       " [7736469 rows x 4 columns],\n",
       "                0 Subject   Test  Score\n",
       " 23522113    0.90      S1  Final   0.91\n",
       " 23813761   -1.48      S1  Final   0.91\n",
       " 24403680   -1.13      S1  Final   0.91\n",
       " 24362464   -3.36      S1  Final   0.91\n",
       " 24581964   -0.22      S1  Final   0.91\n",
       " ...          ...     ...    ...    ...\n",
       " 28240747 -152.12      S9  Final   0.63\n",
       " 27591060    8.85      S9  Final   0.63\n",
       " 27815176   13.54      S9  Final   0.63\n",
       " 28212067  -57.00      S9  Final   0.63\n",
       " 27883199  -16.65      S9  Final   0.63\n",
       " \n",
       " [13071692 rows x 4 columns],\n",
       "            0   1   2 Subject   Test  Score\n",
       " 24022301 -53  42 -12      S1  Final   0.91\n",
       " 23993556 -30 -25  48      S1  Final   0.91\n",
       " 23846063 -45   6  46      S1  Final   0.91\n",
       " 23672173 -23   8  60      S1  Final   0.91\n",
       " 23582453 -65  -1 -12      S1  Final   0.91\n",
       " ...       ..  ..  ..     ...    ...    ...\n",
       " 27569998 -72 -11  26      S9  Final   0.63\n",
       " 27586567 -66   6   2      S9  Final   0.63\n",
       " 27545321  -3 -63   9      S9  Final   0.63\n",
       " 27756496 -51   2  42      S9  Final   0.63\n",
       " 28059673 -46   0  47      S9  Final   0.63\n",
       " \n",
       " [13071692 rows x 6 columns],\n",
       "                  0 Subject   Test  Score\n",
       " 24007859  0.026908      S1  Final   0.91\n",
       " 23582539  0.185793      S1  Final   0.91\n",
       " 23952117  0.199888      S1  Final   0.91\n",
       " 23972273  0.026908      S1  Final   0.91\n",
       " 23614930  0.192200      S1  Final   0.91\n",
       " ...            ...     ...    ...    ...\n",
       " 28330390  0.010251      S9  Final   0.63\n",
       " 27830966  0.603507      S9  Final   0.63\n",
       " 28090445  0.655027      S9  Final   0.63\n",
       " 27805265  0.585568      S9  Final   0.63\n",
       " 27665374  0.345959      S9  Final   0.63\n",
       " \n",
       " [13071692 rows x 4 columns],\n",
       "               0 Subject   Test  Score\n",
       " 23255135  29.89      S1  Final   0.91\n",
       " 23756490  29.55      S1  Final   0.91\n",
       " 24415266  23.59      S1  Final   0.91\n",
       " 24280094  23.55      S1  Final   0.91\n",
       " 24048878  20.71      S1  Final   0.91\n",
       " ...         ...     ...    ...    ...\n",
       " 28100719  33.95      S9  Final   0.63\n",
       " 27708766  33.83      S9  Final   0.63\n",
       " 27493922  21.01      S9  Final   0.63\n",
       " 27704997  33.75      S9  Final   0.63\n",
       " 28051919  34.11      S9  Final   0.63\n",
       " \n",
       " [13071692 rows x 4 columns],\n",
       "                0 Subject   Test  Score\n",
       " 24537921  112.83      S1  Final   0.91\n",
       " 24168376  116.00      S1  Final   0.91\n",
       " 23748913   98.60      S1  Final   0.91\n",
       " 23752791   78.95      S1  Final   0.91\n",
       " 24608000  115.23      S1  Final   0.91\n",
       " ...          ...     ...    ...    ...\n",
       " 28028979   89.80      S9  Final   0.63\n",
       " 28218840   76.22      S9  Final   0.63\n",
       " 27662899   84.58      S9  Final   0.63\n",
       " 28317277   98.37      S9  Final   0.63\n",
       " 28130385   72.72      S9  Final   0.63\n",
       " \n",
       " [13071692 rows x 4 columns]]"
      ]
     },
     "execution_count": 22,
     "metadata": {},
     "output_type": "execute_result"
    }
   ],
   "source": [
    "final_list"
   ]
  },
  {
   "cell_type": "code",
   "execution_count": 61,
   "id": "7526f953",
   "metadata": {},
   "outputs": [],
   "source": [
    "EDA_test=resample(EDA_OG, replace=True, n_samples=len(EDA_OG)*2)"
   ]
  },
  {
   "cell_type": "code",
   "execution_count": 64,
   "id": "54c369c0",
   "metadata": {},
   "outputs": [],
   "source": [
    "EDA_test=EDA_test.sort_index()"
   ]
  },
  {
   "cell_type": "code",
   "execution_count": 57,
   "id": "2de5926f",
   "metadata": {},
   "outputs": [],
   "source": [
    "EDA_OG=EDA_OG.reset_index(drop=True) #EDA_OG had multi-level index for some reason, so needed to reset and then resample\n",
    "        #EDA_test again"
   ]
  },
  {
   "cell_type": "code",
   "execution_count": 58,
   "id": "37bc92b9",
   "metadata": {},
   "outputs": [],
   "source": [
    "EDA_test=EDA_test.sort_index().reset_index(drop=True)"
   ]
  },
  {
   "cell_type": "code",
   "execution_count": 65,
   "id": "940cd410",
   "metadata": {},
   "outputs": [
    {
     "data": {
      "text/html": [
       "<div>\n",
       "<style scoped>\n",
       "    .dataframe tbody tr th:only-of-type {\n",
       "        vertical-align: middle;\n",
       "    }\n",
       "\n",
       "    .dataframe tbody tr th {\n",
       "        vertical-align: top;\n",
       "    }\n",
       "\n",
       "    .dataframe thead th {\n",
       "        text-align: right;\n",
       "    }\n",
       "</style>\n",
       "<table border=\"1\" class=\"dataframe\">\n",
       "  <thead>\n",
       "    <tr style=\"text-align: right;\">\n",
       "      <th></th>\n",
       "      <th>0</th>\n",
       "      <th>Subject</th>\n",
       "      <th>Test</th>\n",
       "      <th>Score</th>\n",
       "    </tr>\n",
       "  </thead>\n",
       "  <tbody>\n",
       "    <tr>\n",
       "      <th>0</th>\n",
       "      <td>0.000000</td>\n",
       "      <td>S5</td>\n",
       "      <td>Midterm 2</td>\n",
       "      <td>0.77</td>\n",
       "    </tr>\n",
       "    <tr>\n",
       "      <th>1</th>\n",
       "      <td>0.002562</td>\n",
       "      <td>S5</td>\n",
       "      <td>Midterm 2</td>\n",
       "      <td>0.77</td>\n",
       "    </tr>\n",
       "    <tr>\n",
       "      <th>2</th>\n",
       "      <td>0.021776</td>\n",
       "      <td>S5</td>\n",
       "      <td>Midterm 2</td>\n",
       "      <td>0.77</td>\n",
       "    </tr>\n",
       "    <tr>\n",
       "      <th>3</th>\n",
       "      <td>0.021776</td>\n",
       "      <td>S5</td>\n",
       "      <td>Midterm 2</td>\n",
       "      <td>0.77</td>\n",
       "    </tr>\n",
       "    <tr>\n",
       "      <th>4</th>\n",
       "      <td>0.019214</td>\n",
       "      <td>S5</td>\n",
       "      <td>Midterm 2</td>\n",
       "      <td>0.77</td>\n",
       "    </tr>\n",
       "    <tr>\n",
       "      <th>...</th>\n",
       "      <td>...</td>\n",
       "      <td>...</td>\n",
       "      <td>...</td>\n",
       "      <td>...</td>\n",
       "    </tr>\n",
       "    <tr>\n",
       "      <th>1773115</th>\n",
       "      <td>0.011532</td>\n",
       "      <td>S9</td>\n",
       "      <td>Final</td>\n",
       "      <td>0.63</td>\n",
       "    </tr>\n",
       "    <tr>\n",
       "      <th>1773116</th>\n",
       "      <td>0.012813</td>\n",
       "      <td>S9</td>\n",
       "      <td>Final</td>\n",
       "      <td>0.63</td>\n",
       "    </tr>\n",
       "    <tr>\n",
       "      <th>1773117</th>\n",
       "      <td>0.011532</td>\n",
       "      <td>S9</td>\n",
       "      <td>Final</td>\n",
       "      <td>0.63</td>\n",
       "    </tr>\n",
       "    <tr>\n",
       "      <th>1773118</th>\n",
       "      <td>0.011532</td>\n",
       "      <td>S9</td>\n",
       "      <td>Final</td>\n",
       "      <td>0.63</td>\n",
       "    </tr>\n",
       "    <tr>\n",
       "      <th>1773119</th>\n",
       "      <td>0.012813</td>\n",
       "      <td>S9</td>\n",
       "      <td>Final</td>\n",
       "      <td>0.63</td>\n",
       "    </tr>\n",
       "  </tbody>\n",
       "</table>\n",
       "<p>1773120 rows × 4 columns</p>\n",
       "</div>"
      ],
      "text/plain": [
       "                0 Subject       Test  Score\n",
       "0        0.000000      S5  Midterm 2   0.77\n",
       "1        0.002562      S5  Midterm 2   0.77\n",
       "2        0.021776      S5  Midterm 2   0.77\n",
       "3        0.021776      S5  Midterm 2   0.77\n",
       "4        0.019214      S5  Midterm 2   0.77\n",
       "...           ...     ...        ...    ...\n",
       "1773115  0.011532      S9      Final   0.63\n",
       "1773116  0.012813      S9      Final   0.63\n",
       "1773117  0.011532      S9      Final   0.63\n",
       "1773118  0.011532      S9      Final   0.63\n",
       "1773119  0.012813      S9      Final   0.63\n",
       "\n",
       "[1773120 rows x 4 columns]"
      ]
     },
     "execution_count": 65,
     "metadata": {},
     "output_type": "execute_result"
    }
   ],
   "source": [
    "EDA_OG"
   ]
  },
  {
   "cell_type": "code",
   "execution_count": 66,
   "id": "f2bb3a72",
   "metadata": {},
   "outputs": [
    {
     "data": {
      "text/html": [
       "<div>\n",
       "<style scoped>\n",
       "    .dataframe tbody tr th:only-of-type {\n",
       "        vertical-align: middle;\n",
       "    }\n",
       "\n",
       "    .dataframe tbody tr th {\n",
       "        vertical-align: top;\n",
       "    }\n",
       "\n",
       "    .dataframe thead th {\n",
       "        text-align: right;\n",
       "    }\n",
       "</style>\n",
       "<table border=\"1\" class=\"dataframe\">\n",
       "  <thead>\n",
       "    <tr style=\"text-align: right;\">\n",
       "      <th></th>\n",
       "      <th>0</th>\n",
       "      <th>Subject</th>\n",
       "      <th>Test</th>\n",
       "      <th>Score</th>\n",
       "    </tr>\n",
       "  </thead>\n",
       "  <tbody>\n",
       "    <tr>\n",
       "      <th>0</th>\n",
       "      <td>0.000000</td>\n",
       "      <td>S5</td>\n",
       "      <td>Midterm 2</td>\n",
       "      <td>0.77</td>\n",
       "    </tr>\n",
       "    <tr>\n",
       "      <th>0</th>\n",
       "      <td>0.000000</td>\n",
       "      <td>S5</td>\n",
       "      <td>Midterm 2</td>\n",
       "      <td>0.77</td>\n",
       "    </tr>\n",
       "    <tr>\n",
       "      <th>0</th>\n",
       "      <td>0.000000</td>\n",
       "      <td>S5</td>\n",
       "      <td>Midterm 2</td>\n",
       "      <td>0.77</td>\n",
       "    </tr>\n",
       "    <tr>\n",
       "      <th>1</th>\n",
       "      <td>0.002562</td>\n",
       "      <td>S5</td>\n",
       "      <td>Midterm 2</td>\n",
       "      <td>0.77</td>\n",
       "    </tr>\n",
       "    <tr>\n",
       "      <th>2</th>\n",
       "      <td>0.021776</td>\n",
       "      <td>S5</td>\n",
       "      <td>Midterm 2</td>\n",
       "      <td>0.77</td>\n",
       "    </tr>\n",
       "    <tr>\n",
       "      <th>...</th>\n",
       "      <td>...</td>\n",
       "      <td>...</td>\n",
       "      <td>...</td>\n",
       "      <td>...</td>\n",
       "    </tr>\n",
       "    <tr>\n",
       "      <th>1773117</th>\n",
       "      <td>0.011532</td>\n",
       "      <td>S9</td>\n",
       "      <td>Final</td>\n",
       "      <td>0.63</td>\n",
       "    </tr>\n",
       "    <tr>\n",
       "      <th>1773118</th>\n",
       "      <td>0.011532</td>\n",
       "      <td>S9</td>\n",
       "      <td>Final</td>\n",
       "      <td>0.63</td>\n",
       "    </tr>\n",
       "    <tr>\n",
       "      <th>1773118</th>\n",
       "      <td>0.011532</td>\n",
       "      <td>S9</td>\n",
       "      <td>Final</td>\n",
       "      <td>0.63</td>\n",
       "    </tr>\n",
       "    <tr>\n",
       "      <th>1773119</th>\n",
       "      <td>0.012813</td>\n",
       "      <td>S9</td>\n",
       "      <td>Final</td>\n",
       "      <td>0.63</td>\n",
       "    </tr>\n",
       "    <tr>\n",
       "      <th>1773119</th>\n",
       "      <td>0.012813</td>\n",
       "      <td>S9</td>\n",
       "      <td>Final</td>\n",
       "      <td>0.63</td>\n",
       "    </tr>\n",
       "  </tbody>\n",
       "</table>\n",
       "<p>3546240 rows × 4 columns</p>\n",
       "</div>"
      ],
      "text/plain": [
       "                0 Subject       Test  Score\n",
       "0        0.000000      S5  Midterm 2   0.77\n",
       "0        0.000000      S5  Midterm 2   0.77\n",
       "0        0.000000      S5  Midterm 2   0.77\n",
       "1        0.002562      S5  Midterm 2   0.77\n",
       "2        0.021776      S5  Midterm 2   0.77\n",
       "...           ...     ...        ...    ...\n",
       "1773117  0.011532      S9      Final   0.63\n",
       "1773118  0.011532      S9      Final   0.63\n",
       "1773118  0.011532      S9      Final   0.63\n",
       "1773119  0.012813      S9      Final   0.63\n",
       "1773119  0.012813      S9      Final   0.63\n",
       "\n",
       "[3546240 rows x 4 columns]"
      ]
     },
     "execution_count": 66,
     "metadata": {},
     "output_type": "execute_result"
    }
   ],
   "source": [
    "EDA_test"
   ]
  },
  {
   "cell_type": "code",
   "execution_count": 70,
   "id": "c4650b8e",
   "metadata": {},
   "outputs": [
    {
     "data": {
      "text/plain": [
       "<AxesSubplot:>"
      ]
     },
     "execution_count": 70,
     "metadata": {},
     "output_type": "execute_result"
    },
    {
     "data": {
      "image/png": "[encoded data removed]",
      "text/plain": [
       "<Figure size 640x480 with 1 Axes>"
      ]
     },
     "metadata": {},
     "output_type": "display_data"
    }
   ],
   "source": [
    "EDA_OG[0].plot() #Data matches\n",
    "EDA_test[0][::2].plot()"
   ]
  },
  {
   "cell_type": "code",
   "execution_count": 72,
   "id": "503c7b52",
   "metadata": {},
   "outputs": [
    {
     "data": {
      "text/plain": [
       "28370518"
      ]
     },
     "execution_count": 72,
     "metadata": {},
     "output_type": "execute_result"
    }
   ],
   "source": [
    "length"
   ]
  },
  {
   "cell_type": "code",
   "execution_count": 75,
   "id": "2a0dbc10",
   "metadata": {},
   "outputs": [],
   "source": [
    "upsampling_factor=int(length/len(EDA_OG))"
   ]
  },
  {
   "cell_type": "code",
   "execution_count": 76,
   "id": "2e33aba9",
   "metadata": {},
   "outputs": [
    {
     "data": {
      "text/plain": [
       "16"
      ]
     },
     "execution_count": 76,
     "metadata": {},
     "output_type": "execute_result"
    }
   ],
   "source": [
    "upsampling_factor"
   ]
  },
  {
   "cell_type": "code",
   "execution_count": 68,
   "id": "99a7bfa8",
   "metadata": {},
   "outputs": [
    {
     "data": {
      "text/plain": [
       "<AxesSubplot:>"
      ]
     },
     "execution_count": 68,
     "metadata": {},
     "output_type": "execute_result"
    },
    {
     "data": {
      "image/png": "[encoded data removed]",
      "text/plain": [
       "<Figure size 640x480 with 1 Axes>"
      ]
     },
     "metadata": {},
     "output_type": "display_data"
    }
   ],
   "source": [
    "EDA_test[0][::2].plot()"
   ]
  },
  {
   "cell_type": "code",
   "execution_count": 94,
   "id": "521632a8",
   "metadata": {},
   "outputs": [],
   "source": [
    "final_EDA_test=resample(EDA_OG, replace=True, n_samples=length)"
   ]
  },
  {
   "cell_type": "code",
   "execution_count": 97,
   "id": "723ba24a",
   "metadata": {},
   "outputs": [],
   "source": [
    "final_EDA_test=final_EDA_test.sort_index()"
   ]
  },
  {
   "cell_type": "code",
   "execution_count": 84,
   "id": "4d9a9d5e",
   "metadata": {},
   "outputs": [
    {
     "data": {
      "text/plain": [
       "0           0.474217\n",
       "Subject           S5\n",
       "Test       Midterm 2\n",
       "Score           0.77\n",
       "Name: 160000, dtype: object"
      ]
     },
     "execution_count": 84,
     "metadata": {},
     "output_type": "execute_result"
    }
   ],
   "source": [
    "EDA.iloc[10000*16]"
   ]
  },
  {
   "cell_type": "code",
   "execution_count": 85,
   "id": "c2fcb7aa",
   "metadata": {},
   "outputs": [
    {
     "data": {
      "text/plain": [
       "0           0.475498\n",
       "Subject           S5\n",
       "Test       Midterm 2\n",
       "Score           0.77\n",
       "Name: 10000, dtype: object"
      ]
     },
     "execution_count": 85,
     "metadata": {},
     "output_type": "execute_result"
    }
   ],
   "source": [
    "EDA_OG.iloc[10000]"
   ]
  },
  {
   "cell_type": "code",
   "execution_count": 88,
   "id": "58ad31bf",
   "metadata": {},
   "outputs": [
    {
     "data": {
      "text/plain": [
       "<AxesSubplot:>"
      ]
     },
     "execution_count": 88,
     "metadata": {},
     "output_type": "execute_result"
    },
    {
     "data": {
      "image/png": "[encoded data removed]",
      "text/plain": [
       "<Figure size 640x480 with 1 Axes>"
      ]
     },
     "metadata": {},
     "output_type": "display_data"
    }
   ],
   "source": [
    "EDA[0][10000*16:20000*16].plot()"
   ]
  },
  {
   "cell_type": "code",
   "execution_count": 98,
   "id": "609fe32c",
   "metadata": {},
   "outputs": [
    {
     "name": "stderr",
     "output_type": "stream",
     "text": [
      "/var/folders/wv/c3g7vgxd10n0mdl2_flcjj480000gn/T/ipykernel_1020/3033095137.py:2: FutureWarning: The behavior of `series[i:j]` with an integer-dtype index is deprecated. In a future version, this will be treated as *label-based* indexing, consistent with e.g. `series[i]` lookups. To retain the old behavior, use `series.iloc[i:j]`. To get the future behavior, use `series.loc[i:j]`.\n",
      "  EDA_test[0][10000*2:20000*2].plot(sharex=True)\n",
      "/var/folders/wv/c3g7vgxd10n0mdl2_flcjj480000gn/T/ipykernel_1020/3033095137.py:3: FutureWarning: The behavior of `series[i:j]` with an integer-dtype index is deprecated. In a future version, this will be treated as *label-based* indexing, consistent with e.g. `series[i]` lookups. To retain the old behavior, use `series.iloc[i:j]`. To get the future behavior, use `series.loc[i:j]`.\n",
      "  final_EDA_test[0][10000*16:20000*16].plot(sharex=True)\n"
     ]
    },
    {
     "data": {
      "text/plain": [
       "<AxesSubplot:>"
      ]
     },
     "execution_count": 98,
     "metadata": {},
     "output_type": "execute_result"
    },
    {
     "data": {
      "image/png": "[encoded data removed]",
      "text/plain": [
       "<Figure size 640x480 with 1 Axes>"
      ]
     },
     "metadata": {},
     "output_type": "display_data"
    }
   ],
   "source": [
    "EDA_OG[0][10000:20000].plot(sharex=True)\n",
    "EDA_test[0][10000*2:20000*2].plot(sharex=True)\n",
    "final_EDA_test[0][10000*16:20000*16].plot(sharex=True) #Validate the resmapling method..all looks the same"
   ]
  },
  {
   "cell_type": "code",
   "execution_count": 101,
   "id": "77ee3b48",
   "metadata": {},
   "outputs": [
    {
     "name": "stdout",
     "output_type": "stream",
     "text": [
      "0.26008439247089876\n",
      "0.39807888302621985\n",
      "0.26042640339035145\n",
      "0.39908241674997\n",
      "0.26011511339761245\n",
      "0.3981227579880438\n"
     ]
    }
   ],
   "source": [
    "print(EDA_OG[0].mean())\n",
    "print(EDA_OG[0].std())\n",
    "\n",
    "print(EDA_test[0].mean()) #Upsampled by factor of 2\n",
    "print(EDA_test[0].std())\n",
    "\n",
    "print(final_EDA_test[0].mean())\n",
    "print(final_EDA_test[0].std()) #Updampled by factor of 16"
   ]
  },
  {
   "cell_type": "code",
   "execution_count": 116,
   "id": "d25f0295",
   "metadata": {},
   "outputs": [],
   "source": [
    "eda_og_2=EDA_OG[EDA_OG['Test']=='Midterm 2']"
   ]
  },
  {
   "cell_type": "code",
   "execution_count": 117,
   "id": "92ad79c2",
   "metadata": {},
   "outputs": [
    {
     "data": {
      "text/html": [
       "<div>\n",
       "<style scoped>\n",
       "    .dataframe tbody tr th:only-of-type {\n",
       "        vertical-align: middle;\n",
       "    }\n",
       "\n",
       "    .dataframe tbody tr th {\n",
       "        vertical-align: top;\n",
       "    }\n",
       "\n",
       "    .dataframe thead th {\n",
       "        text-align: right;\n",
       "    }\n",
       "</style>\n",
       "<table border=\"1\" class=\"dataframe\">\n",
       "  <thead>\n",
       "    <tr style=\"text-align: right;\">\n",
       "      <th></th>\n",
       "      <th>0</th>\n",
       "      <th>Subject</th>\n",
       "      <th>Test</th>\n",
       "      <th>Score</th>\n",
       "    </tr>\n",
       "  </thead>\n",
       "  <tbody>\n",
       "    <tr>\n",
       "      <th>0</th>\n",
       "      <td>0.000000</td>\n",
       "      <td>S5</td>\n",
       "      <td>Midterm 2</td>\n",
       "      <td>0.77</td>\n",
       "    </tr>\n",
       "    <tr>\n",
       "      <th>1</th>\n",
       "      <td>0.002562</td>\n",
       "      <td>S5</td>\n",
       "      <td>Midterm 2</td>\n",
       "      <td>0.77</td>\n",
       "    </tr>\n",
       "    <tr>\n",
       "      <th>2</th>\n",
       "      <td>0.021776</td>\n",
       "      <td>S5</td>\n",
       "      <td>Midterm 2</td>\n",
       "      <td>0.77</td>\n",
       "    </tr>\n",
       "    <tr>\n",
       "      <th>3</th>\n",
       "      <td>0.021776</td>\n",
       "      <td>S5</td>\n",
       "      <td>Midterm 2</td>\n",
       "      <td>0.77</td>\n",
       "    </tr>\n",
       "    <tr>\n",
       "      <th>4</th>\n",
       "      <td>0.019214</td>\n",
       "      <td>S5</td>\n",
       "      <td>Midterm 2</td>\n",
       "      <td>0.77</td>\n",
       "    </tr>\n",
       "    <tr>\n",
       "      <th>...</th>\n",
       "      <td>...</td>\n",
       "      <td>...</td>\n",
       "      <td>...</td>\n",
       "      <td>...</td>\n",
       "    </tr>\n",
       "    <tr>\n",
       "      <th>484243</th>\n",
       "      <td>0.015375</td>\n",
       "      <td>S9</td>\n",
       "      <td>Midterm 2</td>\n",
       "      <td>0.39</td>\n",
       "    </tr>\n",
       "    <tr>\n",
       "      <th>484244</th>\n",
       "      <td>0.014094</td>\n",
       "      <td>S9</td>\n",
       "      <td>Midterm 2</td>\n",
       "      <td>0.39</td>\n",
       "    </tr>\n",
       "    <tr>\n",
       "      <th>484245</th>\n",
       "      <td>0.015375</td>\n",
       "      <td>S9</td>\n",
       "      <td>Midterm 2</td>\n",
       "      <td>0.39</td>\n",
       "    </tr>\n",
       "    <tr>\n",
       "      <th>484246</th>\n",
       "      <td>0.014094</td>\n",
       "      <td>S9</td>\n",
       "      <td>Midterm 2</td>\n",
       "      <td>0.39</td>\n",
       "    </tr>\n",
       "    <tr>\n",
       "      <th>484247</th>\n",
       "      <td>0.015375</td>\n",
       "      <td>S9</td>\n",
       "      <td>Midterm 2</td>\n",
       "      <td>0.39</td>\n",
       "    </tr>\n",
       "  </tbody>\n",
       "</table>\n",
       "<p>484248 rows × 4 columns</p>\n",
       "</div>"
      ],
      "text/plain": [
       "               0 Subject       Test  Score\n",
       "0       0.000000      S5  Midterm 2   0.77\n",
       "1       0.002562      S5  Midterm 2   0.77\n",
       "2       0.021776      S5  Midterm 2   0.77\n",
       "3       0.021776      S5  Midterm 2   0.77\n",
       "4       0.019214      S5  Midterm 2   0.77\n",
       "...          ...     ...        ...    ...\n",
       "484243  0.015375      S9  Midterm 2   0.39\n",
       "484244  0.014094      S9  Midterm 2   0.39\n",
       "484245  0.015375      S9  Midterm 2   0.39\n",
       "484246  0.014094      S9  Midterm 2   0.39\n",
       "484247  0.015375      S9  Midterm 2   0.39\n",
       "\n",
       "[484248 rows x 4 columns]"
      ]
     },
     "execution_count": 117,
     "metadata": {},
     "output_type": "execute_result"
    }
   ],
   "source": [
    "eda_og_2 #Original number of samples in EDA for midterm 2"
   ]
  },
  {
   "cell_type": "code",
   "execution_count": 115,
   "id": "5a138947",
   "metadata": {},
   "outputs": [
    {
     "data": {
      "text/html": [
       "<div>\n",
       "<style scoped>\n",
       "    .dataframe tbody tr th:only-of-type {\n",
       "        vertical-align: middle;\n",
       "    }\n",
       "\n",
       "    .dataframe tbody tr th {\n",
       "        vertical-align: top;\n",
       "    }\n",
       "\n",
       "    .dataframe thead th {\n",
       "        text-align: right;\n",
       "    }\n",
       "</style>\n",
       "<table border=\"1\" class=\"dataframe\">\n",
       "  <thead>\n",
       "    <tr style=\"text-align: right;\">\n",
       "      <th></th>\n",
       "      <th>0</th>\n",
       "      <th>Subject</th>\n",
       "      <th>Test</th>\n",
       "      <th>Score</th>\n",
       "    </tr>\n",
       "  </thead>\n",
       "  <tbody>\n",
       "    <tr>\n",
       "      <th>0</th>\n",
       "      <td>0.000000</td>\n",
       "      <td>S5</td>\n",
       "      <td>Midterm 2</td>\n",
       "      <td>0.77</td>\n",
       "    </tr>\n",
       "    <tr>\n",
       "      <th>1</th>\n",
       "      <td>0.000000</td>\n",
       "      <td>S5</td>\n",
       "      <td>Midterm 2</td>\n",
       "      <td>0.77</td>\n",
       "    </tr>\n",
       "    <tr>\n",
       "      <th>2</th>\n",
       "      <td>0.000000</td>\n",
       "      <td>S5</td>\n",
       "      <td>Midterm 2</td>\n",
       "      <td>0.77</td>\n",
       "    </tr>\n",
       "    <tr>\n",
       "      <th>3</th>\n",
       "      <td>0.000000</td>\n",
       "      <td>S5</td>\n",
       "      <td>Midterm 2</td>\n",
       "      <td>0.77</td>\n",
       "    </tr>\n",
       "    <tr>\n",
       "      <th>4</th>\n",
       "      <td>0.000000</td>\n",
       "      <td>S5</td>\n",
       "      <td>Midterm 2</td>\n",
       "      <td>0.77</td>\n",
       "    </tr>\n",
       "    <tr>\n",
       "      <th>...</th>\n",
       "      <td>...</td>\n",
       "      <td>...</td>\n",
       "      <td>...</td>\n",
       "      <td>...</td>\n",
       "    </tr>\n",
       "    <tr>\n",
       "      <th>7747148</th>\n",
       "      <td>0.015375</td>\n",
       "      <td>S9</td>\n",
       "      <td>Midterm 2</td>\n",
       "      <td>0.39</td>\n",
       "    </tr>\n",
       "    <tr>\n",
       "      <th>7747149</th>\n",
       "      <td>0.015375</td>\n",
       "      <td>S9</td>\n",
       "      <td>Midterm 2</td>\n",
       "      <td>0.39</td>\n",
       "    </tr>\n",
       "    <tr>\n",
       "      <th>7747150</th>\n",
       "      <td>0.015375</td>\n",
       "      <td>S9</td>\n",
       "      <td>Midterm 2</td>\n",
       "      <td>0.39</td>\n",
       "    </tr>\n",
       "    <tr>\n",
       "      <th>7747151</th>\n",
       "      <td>0.015375</td>\n",
       "      <td>S9</td>\n",
       "      <td>Midterm 2</td>\n",
       "      <td>0.39</td>\n",
       "    </tr>\n",
       "    <tr>\n",
       "      <th>7747152</th>\n",
       "      <td>0.015375</td>\n",
       "      <td>S9</td>\n",
       "      <td>Midterm 2</td>\n",
       "      <td>0.39</td>\n",
       "    </tr>\n",
       "  </tbody>\n",
       "</table>\n",
       "<p>7747153 rows × 4 columns</p>\n",
       "</div>"
      ],
      "text/plain": [
       "                0 Subject       Test  Score\n",
       "0        0.000000      S5  Midterm 2   0.77\n",
       "1        0.000000      S5  Midterm 2   0.77\n",
       "2        0.000000      S5  Midterm 2   0.77\n",
       "3        0.000000      S5  Midterm 2   0.77\n",
       "4        0.000000      S5  Midterm 2   0.77\n",
       "...           ...     ...        ...    ...\n",
       "7747148  0.015375      S9  Midterm 2   0.39\n",
       "7747149  0.015375      S9  Midterm 2   0.39\n",
       "7747150  0.015375      S9  Midterm 2   0.39\n",
       "7747151  0.015375      S9  Midterm 2   0.39\n",
       "7747152  0.015375      S9  Midterm 2   0.39\n",
       "\n",
       "[7747153 rows x 4 columns]"
      ]
     },
     "execution_count": 115,
     "metadata": {},
     "output_type": "execute_result"
    }
   ],
   "source": [
    "eda_2 #number of samples in midterm 2 when upsamples by 16"
   ]
  },
  {
   "cell_type": "code",
   "execution_count": 113,
   "id": "692d82c1",
   "metadata": {},
   "outputs": [
    {
     "data": {
      "text/html": [
       "<div>\n",
       "<style scoped>\n",
       "    .dataframe tbody tr th:only-of-type {\n",
       "        vertical-align: middle;\n",
       "    }\n",
       "\n",
       "    .dataframe tbody tr th {\n",
       "        vertical-align: top;\n",
       "    }\n",
       "\n",
       "    .dataframe thead th {\n",
       "        text-align: right;\n",
       "    }\n",
       "</style>\n",
       "<table border=\"1\" class=\"dataframe\">\n",
       "  <thead>\n",
       "    <tr style=\"text-align: right;\">\n",
       "      <th></th>\n",
       "      <th>0</th>\n",
       "      <th>Subject</th>\n",
       "      <th>Test</th>\n",
       "      <th>Score</th>\n",
       "    </tr>\n",
       "  </thead>\n",
       "  <tbody>\n",
       "    <tr>\n",
       "      <th>0</th>\n",
       "      <td>0.000000</td>\n",
       "      <td>S5</td>\n",
       "      <td>Midterm 2</td>\n",
       "      <td>0.77</td>\n",
       "    </tr>\n",
       "    <tr>\n",
       "      <th>1</th>\n",
       "      <td>0.000000</td>\n",
       "      <td>S5</td>\n",
       "      <td>Midterm 2</td>\n",
       "      <td>0.77</td>\n",
       "    </tr>\n",
       "    <tr>\n",
       "      <th>1</th>\n",
       "      <td>0.000000</td>\n",
       "      <td>S5</td>\n",
       "      <td>Midterm 2</td>\n",
       "      <td>0.77</td>\n",
       "    </tr>\n",
       "    <tr>\n",
       "      <th>1</th>\n",
       "      <td>0.000000</td>\n",
       "      <td>S5</td>\n",
       "      <td>Midterm 2</td>\n",
       "      <td>0.77</td>\n",
       "    </tr>\n",
       "    <tr>\n",
       "      <th>1</th>\n",
       "      <td>0.000000</td>\n",
       "      <td>S5</td>\n",
       "      <td>Midterm 2</td>\n",
       "      <td>0.77</td>\n",
       "    </tr>\n",
       "    <tr>\n",
       "      <th>...</th>\n",
       "      <td>...</td>\n",
       "      <td>...</td>\n",
       "      <td>...</td>\n",
       "      <td>...</td>\n",
       "    </tr>\n",
       "    <tr>\n",
       "      <th>7747147</th>\n",
       "      <td>0.015375</td>\n",
       "      <td>S9</td>\n",
       "      <td>Midterm 2</td>\n",
       "      <td>0.39</td>\n",
       "    </tr>\n",
       "    <tr>\n",
       "      <th>7747148</th>\n",
       "      <td>0.015375</td>\n",
       "      <td>S9</td>\n",
       "      <td>Midterm 2</td>\n",
       "      <td>0.39</td>\n",
       "    </tr>\n",
       "    <tr>\n",
       "      <th>7747149</th>\n",
       "      <td>0.015375</td>\n",
       "      <td>S9</td>\n",
       "      <td>Midterm 2</td>\n",
       "      <td>0.39</td>\n",
       "    </tr>\n",
       "    <tr>\n",
       "      <th>7747151</th>\n",
       "      <td>0.015375</td>\n",
       "      <td>S9</td>\n",
       "      <td>Midterm 2</td>\n",
       "      <td>0.39</td>\n",
       "    </tr>\n",
       "    <tr>\n",
       "      <th>7747151</th>\n",
       "      <td>0.015375</td>\n",
       "      <td>S9</td>\n",
       "      <td>Midterm 2</td>\n",
       "      <td>0.39</td>\n",
       "    </tr>\n",
       "  </tbody>\n",
       "</table>\n",
       "<p>7737013 rows × 4 columns</p>\n",
       "</div>"
      ],
      "text/plain": [
       "                0 Subject       Test  Score\n",
       "0        0.000000      S5  Midterm 2   0.77\n",
       "1        0.000000      S5  Midterm 2   0.77\n",
       "1        0.000000      S5  Midterm 2   0.77\n",
       "1        0.000000      S5  Midterm 2   0.77\n",
       "1        0.000000      S5  Midterm 2   0.77\n",
       "...           ...     ...        ...    ...\n",
       "7747147  0.015375      S9  Midterm 2   0.39\n",
       "7747148  0.015375      S9  Midterm 2   0.39\n",
       "7747149  0.015375      S9  Midterm 2   0.39\n",
       "7747151  0.015375      S9  Midterm 2   0.39\n",
       "7747151  0.015375      S9  Midterm 2   0.39\n",
       "\n",
       "[7737013 rows x 4 columns]"
      ]
     },
     "execution_count": 113,
     "metadata": {},
     "output_type": "execute_result"
    }
   ],
   "source": [
    "another_EDA_test=final_list[7].sort_index()\n",
    "another_EDA_test #Final number of samples for EDA midterm 2 when i equalled out the within subject number of samples"
   ]
  },
  {
   "cell_type": "code",
   "execution_count": 121,
   "id": "ea21c7f8",
   "metadata": {},
   "outputs": [
    {
     "data": {
      "text/plain": [
       "<AxesSubplot:>"
      ]
     },
     "execution_count": 121,
     "metadata": {},
     "output_type": "execute_result"
    },
    {
     "data": {
      "image/png": "[encoded data removed]",
      "text/plain": [
       "<Figure size 640x480 with 1 Axes>"
      ]
     },
     "metadata": {},
     "output_type": "display_data"
    }
   ],
   "source": [
    "eda_og_2[0][10000:20000].plot()"
   ]
  },
  {
   "cell_type": "code",
   "execution_count": 125,
   "id": "488c266d",
   "metadata": {},
   "outputs": [
    {
     "name": "stderr",
     "output_type": "stream",
     "text": [
      "/var/folders/wv/c3g7vgxd10n0mdl2_flcjj480000gn/T/ipykernel_1020/1672126744.py:1: FutureWarning: The behavior of `series[i:j]` with an integer-dtype index is deprecated. In a future version, this will be treated as *label-based* indexing, consistent with e.g. `series[i]` lookups. To retain the old behavior, use `series.iloc[i:j]`. To get the future behavior, use `series.loc[i:j]`.\n",
      "  another_EDA_test[0][10000*16:20000*16].plot(xlabel='')\n"
     ]
    },
    {
     "data": {
      "text/plain": [
       "<AxesSubplot:>"
      ]
     },
     "execution_count": 125,
     "metadata": {},
     "output_type": "execute_result"
    },
    {
     "data": {
      "image/png": "[encoded data removed]",
      "text/plain": [
       "<Figure size 640x480 with 1 Axes>"
      ]
     },
     "metadata": {},
     "output_type": "display_data"
    }
   ],
   "source": [
    "another_EDA_test[0][10000*16:20000*16].plot(xlabel='') #So my final resmapled data still looks comparable\n",
    "eda_2[0][10000*16:20000*16].plot(xlabel='')"
   ]
  },
  {
   "cell_type": "code",
   "execution_count": 63,
   "id": "b04b6675",
   "metadata": {},
   "outputs": [
    {
     "data": {
      "text/html": [
       "<div>\n",
       "<style scoped>\n",
       "    .dataframe tbody tr th:only-of-type {\n",
       "        vertical-align: middle;\n",
       "    }\n",
       "\n",
       "    .dataframe tbody tr th {\n",
       "        vertical-align: top;\n",
       "    }\n",
       "\n",
       "    .dataframe thead th {\n",
       "        text-align: right;\n",
       "    }\n",
       "</style>\n",
       "<table border=\"1\" class=\"dataframe\">\n",
       "  <thead>\n",
       "    <tr style=\"text-align: right;\">\n",
       "      <th></th>\n",
       "      <th>0</th>\n",
       "      <th>Subject</th>\n",
       "      <th>Test</th>\n",
       "      <th>Score</th>\n",
       "    </tr>\n",
       "  </thead>\n",
       "  <tbody>\n",
       "    <tr>\n",
       "      <th>5075668</th>\n",
       "      <td>5.03</td>\n",
       "      <td>S1</td>\n",
       "      <td>Midterm 2</td>\n",
       "      <td>0.82</td>\n",
       "    </tr>\n",
       "    <tr>\n",
       "      <th>4787794</th>\n",
       "      <td>-29.45</td>\n",
       "      <td>S1</td>\n",
       "      <td>Midterm 2</td>\n",
       "      <td>0.82</td>\n",
       "    </tr>\n",
       "    <tr>\n",
       "      <th>5036561</th>\n",
       "      <td>12.16</td>\n",
       "      <td>S1</td>\n",
       "      <td>Midterm 2</td>\n",
       "      <td>0.82</td>\n",
       "    </tr>\n",
       "    <tr>\n",
       "      <th>4666318</th>\n",
       "      <td>248.39</td>\n",
       "      <td>S1</td>\n",
       "      <td>Midterm 2</td>\n",
       "      <td>0.82</td>\n",
       "    </tr>\n",
       "    <tr>\n",
       "      <th>5241249</th>\n",
       "      <td>0.36</td>\n",
       "      <td>S1</td>\n",
       "      <td>Midterm 2</td>\n",
       "      <td>0.82</td>\n",
       "    </tr>\n",
       "    <tr>\n",
       "      <th>...</th>\n",
       "      <td>...</td>\n",
       "      <td>...</td>\n",
       "      <td>...</td>\n",
       "      <td>...</td>\n",
       "    </tr>\n",
       "    <tr>\n",
       "      <th>7681283</th>\n",
       "      <td>-4.54</td>\n",
       "      <td>S9</td>\n",
       "      <td>Midterm 2</td>\n",
       "      <td>0.39</td>\n",
       "    </tr>\n",
       "    <tr>\n",
       "      <th>7269964</th>\n",
       "      <td>-29.21</td>\n",
       "      <td>S9</td>\n",
       "      <td>Midterm 2</td>\n",
       "      <td>0.39</td>\n",
       "    </tr>\n",
       "    <tr>\n",
       "      <th>7565531</th>\n",
       "      <td>7.12</td>\n",
       "      <td>S9</td>\n",
       "      <td>Midterm 2</td>\n",
       "      <td>0.39</td>\n",
       "    </tr>\n",
       "    <tr>\n",
       "      <th>7507910</th>\n",
       "      <td>-2.21</td>\n",
       "      <td>S9</td>\n",
       "      <td>Midterm 2</td>\n",
       "      <td>0.39</td>\n",
       "    </tr>\n",
       "    <tr>\n",
       "      <th>7456013</th>\n",
       "      <td>22.22</td>\n",
       "      <td>S9</td>\n",
       "      <td>Midterm 2</td>\n",
       "      <td>0.39</td>\n",
       "    </tr>\n",
       "  </tbody>\n",
       "</table>\n",
       "<p>7736469 rows × 4 columns</p>\n",
       "</div>"
      ],
      "text/plain": [
       "              0 Subject       Test  Score\n",
       "5075668    5.03      S1  Midterm 2   0.82\n",
       "4787794  -29.45      S1  Midterm 2   0.82\n",
       "5036561   12.16      S1  Midterm 2   0.82\n",
       "4666318  248.39      S1  Midterm 2   0.82\n",
       "5241249    0.36      S1  Midterm 2   0.82\n",
       "...         ...     ...        ...    ...\n",
       "7681283   -4.54      S9  Midterm 2   0.39\n",
       "7269964  -29.21      S9  Midterm 2   0.39\n",
       "7565531    7.12      S9  Midterm 2   0.39\n",
       "7507910   -2.21      S9  Midterm 2   0.39\n",
       "7456013   22.22      S9  Midterm 2   0.39\n",
       "\n",
       "[7736469 rows x 4 columns]"
      ]
     },
     "execution_count": 63,
     "metadata": {},
     "output_type": "execute_result"
    }
   ],
   "source": [
    "final_list[5]"
   ]
  },
  {
   "cell_type": "code",
   "execution_count": 159,
   "id": "98a93004",
   "metadata": {},
   "outputs": [],
   "source": [
    "all_exam_sensors=[pd.concat(final_list[i::5]) for i in range(5)]"
   ]
  },
  {
   "cell_type": "code",
   "execution_count": 28,
   "id": "dda79a3a",
   "metadata": {},
   "outputs": [
    {
     "data": {
      "text/plain": [
       "[              0 Subject       Test  Score\n",
       " 12650351  -0.39      S1  Midterm 1   0.78\n",
       " 12367434  -0.61      S1  Midterm 1   0.78\n",
       " 12736472  -0.74      S1  Midterm 1   0.78\n",
       " 12771860  -1.08      S1  Midterm 1   0.78\n",
       " 12367711   0.29      S1  Midterm 1   0.78\n",
       " ...         ...     ...        ...    ...\n",
       " 14901113  -0.47      S9  Midterm 1   0.80\n",
       " 14967224 -11.74      S9  Midterm 1   0.80\n",
       " 14976483   0.37      S9  Midterm 1   0.80\n",
       " 14892874   2.43      S9  Midterm 1   0.80\n",
       " 14511428   0.07      S9  Midterm 1   0.80\n",
       " \n",
       " [7526499 rows x 4 columns],\n",
       "            0   1   2 Subject       Test  Score\n",
       " 12286268  -2  64  11      S1  Midterm 1   0.78\n",
       " 12932082  -3 -62  10      S1  Midterm 1   0.78\n",
       " 12524729 -38   8  51      S1  Midterm 1   0.78\n",
       " 12284405  -2  64  11      S1  Midterm 1   0.78\n",
       " 12549578 -64  -8  -8      S1  Midterm 1   0.78\n",
       " ...       ..  ..  ..     ...        ...    ...\n",
       " 14608328  -3  63  10      S9  Midterm 1   0.80\n",
       " 15030032 -66   1 -21      S9  Midterm 1   0.80\n",
       " 14931483 -40 -40 -16      S9  Midterm 1   0.80\n",
       " 14650656  -4  63  12      S9  Midterm 1   0.80\n",
       " 15032050 -63  -6 -16      S9  Midterm 1   0.80\n",
       " \n",
       " [7526499 rows x 6 columns],\n",
       "                  0 Subject       Test  Score\n",
       " 12514634  0.573056      S1  Midterm 1   0.78\n",
       " 12480469  0.589715      S1  Midterm 1   0.78\n",
       " 12901333  0.024347      S1  Midterm 1   0.78\n",
       " 12338599  0.023065      S1  Midterm 1   0.78\n",
       " 12589437  1.411465      S1  Midterm 1   0.78\n",
       " ...            ...     ...        ...    ...\n",
       " 15263513  0.014096      S9  Midterm 1   0.80\n",
       " 14984792  0.357513      S9  Midterm 1   0.80\n",
       " 15080085  0.345980      S9  Midterm 1   0.80\n",
       " 14756522  0.202463      S9  Midterm 1   0.80\n",
       " 14796308  0.260126      S9  Midterm 1   0.80\n",
       " \n",
       " [7526499 rows x 4 columns],\n",
       "               0 Subject       Test  Score\n",
       " 12419657  23.15      S1  Midterm 1   0.78\n",
       " 12317291  23.07      S1  Midterm 1   0.78\n",
       " 12868163  27.59      S1  Midterm 1   0.78\n",
       " 12902072  27.07      S1  Midterm 1   0.78\n",
       " 12494324  27.07      S1  Midterm 1   0.78\n",
       " ...         ...     ...        ...    ...\n",
       " 14981049  28.51      S9  Midterm 1   0.80\n",
       " 14688700  26.35      S9  Midterm 1   0.80\n",
       " 15281840  23.53      S9  Midterm 1   0.80\n",
       " 14652706  22.85      S9  Midterm 1   0.80\n",
       " 15037548  28.61      S9  Midterm 1   0.80\n",
       " \n",
       " [7526499 rows x 4 columns],\n",
       "                0 Subject       Test  Score\n",
       " 12887158   90.53      S1  Midterm 1   0.78\n",
       " 12416574  140.48      S1  Midterm 1   0.78\n",
       " 12549780   84.80      S1  Midterm 1   0.78\n",
       " 12619616   78.67      S1  Midterm 1   0.78\n",
       " 12311292  127.45      S1  Midterm 1   0.78\n",
       " ...          ...     ...        ...    ...\n",
       " 14645971  106.28      S9  Midterm 1   0.80\n",
       " 14853550   73.97      S9  Midterm 1   0.80\n",
       " 14868951   76.53      S9  Midterm 1   0.80\n",
       " 14883823   91.10      S9  Midterm 1   0.80\n",
       " 14881561   92.20      S9  Midterm 1   0.80\n",
       " \n",
       " [7526499 rows x 4 columns]]"
      ]
     },
     "execution_count": 28,
     "metadata": {},
     "output_type": "execute_result"
    }
   ],
   "source": [
    "result_1"
   ]
  },
  {
   "cell_type": "code",
   "execution_count": 29,
   "id": "65a92052",
   "metadata": {},
   "outputs": [
    {
     "data": {
      "text/plain": [
       "[              0 Subject       Test  Score\n",
       " 5075668    5.03      S1  Midterm 2   0.82\n",
       " 4787794  -29.45      S1  Midterm 2   0.82\n",
       " 5036561   12.16      S1  Midterm 2   0.82\n",
       " 4666318  248.39      S1  Midterm 2   0.82\n",
       " 5241249    0.36      S1  Midterm 2   0.82\n",
       " ...         ...     ...        ...    ...\n",
       " 7681283   -4.54      S9  Midterm 2   0.39\n",
       " 7269964  -29.21      S9  Midterm 2   0.39\n",
       " 7565531    7.12      S9  Midterm 2   0.39\n",
       " 7507910   -2.21      S9  Midterm 2   0.39\n",
       " 7456013   22.22      S9  Midterm 2   0.39\n",
       " \n",
       " [7736469 rows x 4 columns],\n",
       "           0   1   2 Subject       Test  Score\n",
       " 4776193 -38 -47 -23      S1  Midterm 2   0.82\n",
       " 5148528 -63 -17  -6      S1  Midterm 2   0.82\n",
       " 4952771 -15  -5  60      S1  Midterm 2   0.82\n",
       " 5221804  -5  65   2      S1  Midterm 2   0.82\n",
       " 4669417 -40  92 -14      S1  Midterm 2   0.82\n",
       " ...      ..  ..  ..     ...        ...    ...\n",
       " 7614398 -59   1 -28      S9  Midterm 2   0.39\n",
       " 7218127 -58   3  52      S9  Midterm 2   0.39\n",
       " 7265765 -41   2  52      S9  Midterm 2   0.39\n",
       " 6955036   0 -63   6      S9  Midterm 2   0.39\n",
       " 7238474 -46   4  47      S9  Midterm 2   0.39\n",
       " \n",
       " [7736469 rows x 6 columns],\n",
       "                 0 Subject       Test  Score\n",
       " 4832773  0.442059      S1  Midterm 2   0.82\n",
       " 5053013  0.206294      S1  Midterm 2   0.82\n",
       " 4895527  0.176824      S1  Midterm 2   0.82\n",
       " 4719937  0.023064      S1  Midterm 2   0.82\n",
       " 4796150  0.096100      S1  Midterm 2   0.82\n",
       " ...           ...     ...        ...    ...\n",
       " 7582760  0.012813      S9  Midterm 2   0.39\n",
       " 7549819  0.014094      S9  Midterm 2   0.39\n",
       " 7338353  0.419237      S9  Midterm 2   0.39\n",
       " 7622541  0.014094      S9  Midterm 2   0.39\n",
       " 7336093  0.455112      S9  Midterm 2   0.39\n",
       " \n",
       " [7736469 rows x 4 columns],\n",
       "              0 Subject       Test  Score\n",
       " 5263835  23.21      S1  Midterm 2   0.82\n",
       " 5233953  23.27      S1  Midterm 2   0.82\n",
       " 4841878  29.03      S1  Midterm 2   0.82\n",
       " 4832789  28.61      S1  Midterm 2   0.82\n",
       " 4722715  20.79      S1  Midterm 2   0.82\n",
       " ...        ...     ...        ...    ...\n",
       " 7631795  22.33      S9  Midterm 2   0.39\n",
       " 7407329  33.25      S9  Midterm 2   0.39\n",
       " 7539600  21.67      S9  Midterm 2   0.39\n",
       " 7196470  33.11      S9  Midterm 2   0.39\n",
       " 6972567  22.03      S9  Midterm 2   0.39\n",
       " \n",
       " [7736469 rows x 4 columns],\n",
       "               0 Subject       Test  Score\n",
       " 5200014  131.50      S1  Midterm 2   0.82\n",
       " 5220620   95.82      S1  Midterm 2   0.82\n",
       " 4894604  120.13      S1  Midterm 2   0.82\n",
       " 5210383  132.05      S1  Midterm 2   0.82\n",
       " 5173233   69.00      S1  Midterm 2   0.82\n",
       " ...         ...     ...        ...    ...\n",
       " 7377978   93.15      S9  Midterm 2   0.39\n",
       " 7073626   89.12      S9  Midterm 2   0.39\n",
       " 7132197   88.65      S9  Midterm 2   0.39\n",
       " 7151112   90.62      S9  Midterm 2   0.39\n",
       " 7642080  124.20      S9  Midterm 2   0.39\n",
       " \n",
       " [7736469 rows x 4 columns]]"
      ]
     },
     "execution_count": 29,
     "metadata": {},
     "output_type": "execute_result"
    }
   ],
   "source": [
    "result_2"
   ]
  },
  {
   "cell_type": "code",
   "execution_count": 23,
   "id": "33ba624d",
   "metadata": {},
   "outputs": [],
   "source": [
    "#A) Develop model to train data on Midterm 1 and midterm 2 and predict final score\n",
    "\n",
    "test=result_1[0]\n",
    "\n",
    "midterm_1_labels=test[['Subject', 'Test', 'Score']]\n",
    "midterm_1_features=[i.drop(columns=['Subject', 'Test', 'Score']) for i in result_1]\n",
    "midterm_1_features=[i.reset_index(drop=True) for i in midterm_1_features]\n",
    "midterm_1_labels=midterm_1_labels.reset_index(drop=True)"
   ]
  },
  {
   "cell_type": "code",
   "execution_count": 24,
   "id": "f563766d",
   "metadata": {},
   "outputs": [],
   "source": [
    "midterm_1_features=pd.concat(midterm_1_features, axis=1)"
   ]
  },
  {
   "cell_type": "code",
   "execution_count": 53,
   "id": "081b2629",
   "metadata": {},
   "outputs": [
    {
     "name": "stdout",
     "output_type": "stream",
     "text": [
      "0.005825723221380881\n",
      "9.091763267515883\n"
     ]
    }
   ],
   "source": [
    "print(midterm_1_features.iloc[:,0].mean())\n",
    "print(midterm_1_features.iloc[:,0].std())"
   ]
  },
  {
   "cell_type": "code",
   "execution_count": 26,
   "id": "9462aba8",
   "metadata": {},
   "outputs": [],
   "source": [
    "#Repeat same code as above for midterm 2\n",
    "\n",
    "sample=result_2[0]\n",
    "midterm_2_labels=sample[['Subject', 'Test', 'Score']]\n",
    "\n",
    "midterm_2_features=[i.drop(columns=['Subject', 'Test', 'Score']) for i in result_2]\n",
    "midterm_2_features=[i.reset_index(drop=True) for i in midterm_2_features]\n",
    "midterm_2_labels=midterm_2_labels.reset_index(drop=True)\n",
    "\n",
    "midterm_2_features=pd.concat(midterm_2_features, axis=1)"
   ]
  },
  {
   "cell_type": "code",
   "execution_count": 52,
   "id": "d612674f",
   "metadata": {},
   "outputs": [
    {
     "name": "stdout",
     "output_type": "stream",
     "text": [
      "-0.009967573062077843\n",
      "95.62306217064867\n"
     ]
    }
   ],
   "source": [
    "print(midterm_2_features.iloc[:,0].mean())\n",
    "print(midterm_2_features.iloc[:,0].std()) #Something to look at here, if the massive std difference\n",
    "        #was a single subject and perhaps removing them from analysis. Also column at index 3 had big mean difference"
   ]
  },
  {
   "cell_type": "code",
   "execution_count": 93,
   "id": "c6f0fc17",
   "metadata": {},
   "outputs": [
    {
     "data": {
      "text/plain": [
       "363404.0"
      ]
     },
     "execution_count": 93,
     "metadata": {},
     "output_type": "execute_result"
    }
   ],
   "source": [
    "(len(midterm_1_features)+len(midterm_2_features))/42"
   ]
  },
  {
   "cell_type": "code",
   "execution_count": 191,
   "id": "edfcdfaa",
   "metadata": {},
   "outputs": [
    {
     "data": {
      "text/plain": [
       "(15262968, 7)"
      ]
     },
     "execution_count": 191,
     "metadata": {},
     "output_type": "execute_result"
    }
   ],
   "source": [
    "#Developing and scaling features\n",
    "model_1_features=pd.concat([midterm_2_features, midterm_1_features], axis=0)\n",
    "model_1_features=preprocessing.StandardScaler().fit_transform(model_1_features)\n",
    "model_1_features.shape"
   ]
  },
  {
   "cell_type": "code",
   "execution_count": 192,
   "id": "412c5aca",
   "metadata": {},
   "outputs": [],
   "source": [
    "model_1_features=model_1_features.reshape(-1,42,7) #Splice up data in some window"
   ]
  },
  {
   "cell_type": "code",
   "execution_count": 193,
   "id": "42f7b794",
   "metadata": {},
   "outputs": [
    {
     "data": {
      "text/plain": [
       "(363404, 42, 7)"
      ]
     },
     "execution_count": 193,
     "metadata": {},
     "output_type": "execute_result"
    }
   ],
   "source": [
    "model_1_features.shape"
   ]
  },
  {
   "cell_type": "code",
   "execution_count": 117,
   "id": "2a86ec73",
   "metadata": {},
   "outputs": [],
   "source": [
    "model_1_labels=pd.concat([midterm_1_labels['Score'], midterm_2_labels['Score']], axis=0)"
   ]
  },
  {
   "cell_type": "code",
   "execution_count": 96,
   "id": "252fc8a7",
   "metadata": {},
   "outputs": [],
   "source": [
    "#Developing labels\n",
    "model_1_labels=pd.concat([midterm_1_labels['Score'], midterm_2_labels['Score']], axis=0)\n",
    "modes=[]\n",
    "for i in range(0, len(model_1_labels), 42):\n",
    "    batch = model_1_labels[i:i+42]\n",
    "    mode = stats.mode(batch)[0][0]\n",
    "    # Append the mode to the new array\n",
    "    modes.append(mode)\n",
    "model_1_labels=np.asarray(modes)"
   ]
  },
  {
   "cell_type": "code",
   "execution_count": 143,
   "id": "4ac2d3a9",
   "metadata": {},
   "outputs": [],
   "source": [
    "model_1_labels=model_1_labels.reshape(-1,1)"
   ]
  },
  {
   "cell_type": "code",
   "execution_count": 194,
   "id": "1a6b8b9a",
   "metadata": {},
   "outputs": [
    {
     "data": {
      "text/plain": [
       "(363404, 1)"
      ]
     },
     "execution_count": 194,
     "metadata": {},
     "output_type": "execute_result"
    }
   ],
   "source": [
    "model_1_labels.shape"
   ]
  },
  {
   "cell_type": "code",
   "execution_count": 196,
   "id": "f195e59f",
   "metadata": {},
   "outputs": [
    {
     "data": {
      "text/plain": [
       "array([[0.78],\n",
       "       [0.78],\n",
       "       [0.78],\n",
       "       ...,\n",
       "       [0.39],\n",
       "       [0.39],\n",
       "       [0.39]])"
      ]
     },
     "execution_count": 196,
     "metadata": {},
     "output_type": "execute_result"
    }
   ],
   "source": [
    "model_1_labels"
   ]
  },
  {
   "cell_type": "code",
   "execution_count": 243,
   "id": "3e39be45",
   "metadata": {},
   "outputs": [
    {
     "name": "stdout",
     "output_type": "stream",
     "text": [
      "Model: \"simple LSTM\"\n",
      "_________________________________________________________________\n",
      " Layer (type)                Output Shape              Param #   \n",
      "=================================================================\n",
      " input_10 (InputLayer)       [(None, 1, 7)]            0         \n",
      "                                                                 \n",
      " lstm_35 (LSTM)              (None, 1, 256)            270336    \n",
      "                                                                 \n",
      " dropout_17 (Dropout)        (None, 1, 256)            0         \n",
      "                                                                 \n",
      " lstm_36 (LSTM)              (None, 1, 128)            197120    \n",
      "                                                                 \n",
      " dropout_18 (Dropout)        (None, 1, 128)            0         \n",
      "                                                                 \n",
      " lstm_37 (LSTM)              (None, 1, 64)             49408     \n",
      "                                                                 \n",
      " dropout_19 (Dropout)        (None, 1, 64)             0         \n",
      "                                                                 \n",
      " dense_32 (Dense)            (None, 1, 32)             2080      \n",
      "                                                                 \n",
      " dense_33 (Dense)            (None, 1, 1)              33        \n",
      "                                                                 \n",
      "=================================================================\n",
      "Total params: 518,977\n",
      "Trainable params: 518,977\n",
      "Non-trainable params: 0\n",
      "_________________________________________________________________\n"
     ]
    }
   ],
   "source": [
    "#A) Performance Prediction model\n",
    "\n",
    "inputs=tf.keras.Input(shape=(1,7))\n",
    "x=keras.layers.LSTM(256, return_sequences=True)(inputs)\n",
    "x=keras.layers.Dropout(0.3)(x)\n",
    "x=keras.layers.LSTM(128, return_sequences=True)(x)\n",
    "x=keras.layers.Dropout(0.3)(x)\n",
    "x=keras.layers.LSTM(64, return_sequences=True)(x)\n",
    "x=keras.layers.Dropout(0.3)(x)\n",
    "x=keras.layers.Dense(32, activation='relu')(x)\n",
    "z=keras.layers.Dense(1, activation='relu')(x)\n",
    "\n",
    "model_1=keras.Model(inputs=inputs, outputs=z, name='simple LSTM')\n",
    "\n",
    "model_1.compile(optimizer='rmsprop', loss='mse', metrics=['mae'])\n",
    "\n",
    "model_1.summary()"
   ]
  },
  {
   "cell_type": "code",
   "execution_count": 244,
   "id": "553131cc",
   "metadata": {},
   "outputs": [],
   "source": [
    "model_1_features=model_1_features.reshape(-1,1,7) #redoing the shape of input data because test data is different"
   ]
  },
  {
   "cell_type": "code",
   "execution_count": 246,
   "id": "2aeacecd",
   "metadata": {},
   "outputs": [],
   "source": [
    "model_1_labels=pd.concat([midterm_1_labels['Score'], midterm_2_labels['Score']], axis=0)"
   ]
  },
  {
   "cell_type": "code",
   "execution_count": 248,
   "id": "f8cb1a2a",
   "metadata": {},
   "outputs": [],
   "source": [
    "model_1_labels=model_1_labels.to_numpy()"
   ]
  },
  {
   "cell_type": "code",
   "execution_count": 249,
   "id": "56b4f2f9",
   "metadata": {},
   "outputs": [
    {
     "name": "stderr",
     "output_type": "stream",
     "text": [
      "/Users/jaredperez/opt/miniconda3/envs/tf/lib/python3.10/site-packages/tensorflow/python/data/ops/structured_function.py:264: UserWarning: Even though the `tf.config.experimental_run_functions_eagerly` option is set, this option does not apply to tf.data functions. To force eager execution of tf.data functions, please use `tf.data.experimental.enable_debug_mode()`.\n",
      "  warnings.warn(\n"
     ]
    },
    {
     "name": "stdout",
     "output_type": "stream",
     "text": [
      "Epoch 1/3\n",
      "2443/2443 [==============================] - 239s 96ms/step - loss: 0.0094 - mae: 0.0713 - val_loss: 0.0948 - val_mae: 0.2678\n",
      "Epoch 2/3\n",
      "2443/2443 [==============================] - 239s 98ms/step - loss: 0.0069 - mae: 0.0658 - val_loss: 0.0885 - val_mae: 0.2594\n",
      "Epoch 3/3\n",
      "2443/2443 [==============================] - 253s 103ms/step - loss: 0.0069 - mae: 0.0658 - val_loss: 0.1010 - val_mae: 0.2755\n"
     ]
    },
    {
     "data": {
      "text/plain": [
       "<keras.callbacks.History at 0x38d41a4a0>"
      ]
     },
     "execution_count": 249,
     "metadata": {},
     "output_type": "execute_result"
    }
   ],
   "source": [
    "model_1.fit(model_1_features, model_1_labels, validation_split=0.2, epochs=3, batch_size=5000, verbose=1)"
   ]
  },
  {
   "cell_type": "code",
   "execution_count": 205,
   "id": "d80a199c",
   "metadata": {},
   "outputs": [
    {
     "ename": "ValueError",
     "evalue": "setting an array element with a sequence. The requested array has an inhomogeneous shape after 2 dimensions. The detected shape was (5, 13071692) + inhomogeneous part.",
     "output_type": "error",
     "traceback": [
      "\u001b[0;31m---------------------------------------------------------------------------\u001b[0m",
      "\u001b[0;31mValueError\u001b[0m                                Traceback (most recent call last)",
      "Cell \u001b[0;32mIn [205], line 10\u001b[0m\n\u001b[1;32m      7\u001b[0m final_x_test\u001b[38;5;241m=\u001b[39m[i\u001b[38;5;241m.\u001b[39mreset_index(drop\u001b[38;5;241m=\u001b[39m\u001b[38;5;28;01mTrue\u001b[39;00m) \u001b[38;5;28;01mfor\u001b[39;00m i \u001b[38;5;129;01min\u001b[39;00m final_x_test]\n\u001b[1;32m      8\u001b[0m final_y_test\u001b[38;5;241m=\u001b[39mfinal_labels\u001b[38;5;241m.\u001b[39mreset_index(drop\u001b[38;5;241m=\u001b[39m\u001b[38;5;28;01mTrue\u001b[39;00m)\n\u001b[0;32m---> 10\u001b[0m final_x_test\u001b[38;5;241m=\u001b[39m\u001b[43mpreprocessing\u001b[49m\u001b[38;5;241;43m.\u001b[39;49m\u001b[43mStandardScaler\u001b[49m\u001b[43m(\u001b[49m\u001b[43m)\u001b[49m\u001b[38;5;241;43m.\u001b[39;49m\u001b[43mfit_transform\u001b[49m\u001b[43m(\u001b[49m\u001b[43mfinal_x_test\u001b[49m\u001b[43m)\u001b[49m\n\u001b[1;32m     11\u001b[0m final_x_test\u001b[38;5;241m.\u001b[39mshape\n",
      "File \u001b[0;32m~/opt/miniconda3/envs/tf/lib/python3.10/site-packages/sklearn/base.py:867\u001b[0m, in \u001b[0;36mTransformerMixin.fit_transform\u001b[0;34m(self, X, y, **fit_params)\u001b[0m\n\u001b[1;32m    863\u001b[0m \u001b[38;5;66;03m# non-optimized default implementation; override when a better\u001b[39;00m\n\u001b[1;32m    864\u001b[0m \u001b[38;5;66;03m# method is possible for a given clustering algorithm\u001b[39;00m\n\u001b[1;32m    865\u001b[0m \u001b[38;5;28;01mif\u001b[39;00m y \u001b[38;5;129;01mis\u001b[39;00m \u001b[38;5;28;01mNone\u001b[39;00m:\n\u001b[1;32m    866\u001b[0m     \u001b[38;5;66;03m# fit method of arity 1 (unsupervised transformation)\u001b[39;00m\n\u001b[0;32m--> 867\u001b[0m     \u001b[38;5;28;01mreturn\u001b[39;00m \u001b[38;5;28;43mself\u001b[39;49m\u001b[38;5;241;43m.\u001b[39;49m\u001b[43mfit\u001b[49m\u001b[43m(\u001b[49m\u001b[43mX\u001b[49m\u001b[43m,\u001b[49m\u001b[43m \u001b[49m\u001b[38;5;241;43m*\u001b[39;49m\u001b[38;5;241;43m*\u001b[39;49m\u001b[43mfit_params\u001b[49m\u001b[43m)\u001b[49m\u001b[38;5;241m.\u001b[39mtransform(X)\n\u001b[1;32m    868\u001b[0m \u001b[38;5;28;01melse\u001b[39;00m:\n\u001b[1;32m    869\u001b[0m     \u001b[38;5;66;03m# fit method of arity 2 (supervised transformation)\u001b[39;00m\n\u001b[1;32m    870\u001b[0m     \u001b[38;5;28;01mreturn\u001b[39;00m \u001b[38;5;28mself\u001b[39m\u001b[38;5;241m.\u001b[39mfit(X, y, \u001b[38;5;241m*\u001b[39m\u001b[38;5;241m*\u001b[39mfit_params)\u001b[38;5;241m.\u001b[39mtransform(X)\n",
      "File \u001b[0;32m~/opt/miniconda3/envs/tf/lib/python3.10/site-packages/sklearn/preprocessing/_data.py:809\u001b[0m, in \u001b[0;36mStandardScaler.fit\u001b[0;34m(self, X, y, sample_weight)\u001b[0m\n\u001b[1;32m    807\u001b[0m \u001b[38;5;66;03m# Reset internal state before fitting\u001b[39;00m\n\u001b[1;32m    808\u001b[0m \u001b[38;5;28mself\u001b[39m\u001b[38;5;241m.\u001b[39m_reset()\n\u001b[0;32m--> 809\u001b[0m \u001b[38;5;28;01mreturn\u001b[39;00m \u001b[38;5;28;43mself\u001b[39;49m\u001b[38;5;241;43m.\u001b[39;49m\u001b[43mpartial_fit\u001b[49m\u001b[43m(\u001b[49m\u001b[43mX\u001b[49m\u001b[43m,\u001b[49m\u001b[43m \u001b[49m\u001b[43my\u001b[49m\u001b[43m,\u001b[49m\u001b[43m \u001b[49m\u001b[43msample_weight\u001b[49m\u001b[43m)\u001b[49m\n",
      "File \u001b[0;32m~/opt/miniconda3/envs/tf/lib/python3.10/site-packages/sklearn/preprocessing/_data.py:844\u001b[0m, in \u001b[0;36mStandardScaler.partial_fit\u001b[0;34m(self, X, y, sample_weight)\u001b[0m\n\u001b[1;32m    812\u001b[0m \u001b[38;5;124;03m\"\"\"Online computation of mean and std on X for later scaling.\u001b[39;00m\n\u001b[1;32m    813\u001b[0m \n\u001b[1;32m    814\u001b[0m \u001b[38;5;124;03mAll of X is processed as a single batch. This is intended for cases\u001b[39;00m\n\u001b[0;32m   (...)\u001b[0m\n\u001b[1;32m    841\u001b[0m \u001b[38;5;124;03m    Fitted scaler.\u001b[39;00m\n\u001b[1;32m    842\u001b[0m \u001b[38;5;124;03m\"\"\"\u001b[39;00m\n\u001b[1;32m    843\u001b[0m first_call \u001b[38;5;241m=\u001b[39m \u001b[38;5;129;01mnot\u001b[39;00m \u001b[38;5;28mhasattr\u001b[39m(\u001b[38;5;28mself\u001b[39m, \u001b[38;5;124m\"\u001b[39m\u001b[38;5;124mn_samples_seen_\u001b[39m\u001b[38;5;124m\"\u001b[39m)\n\u001b[0;32m--> 844\u001b[0m X \u001b[38;5;241m=\u001b[39m \u001b[38;5;28;43mself\u001b[39;49m\u001b[38;5;241;43m.\u001b[39;49m\u001b[43m_validate_data\u001b[49m\u001b[43m(\u001b[49m\n\u001b[1;32m    845\u001b[0m \u001b[43m    \u001b[49m\u001b[43mX\u001b[49m\u001b[43m,\u001b[49m\n\u001b[1;32m    846\u001b[0m \u001b[43m    \u001b[49m\u001b[43maccept_sparse\u001b[49m\u001b[38;5;241;43m=\u001b[39;49m\u001b[43m(\u001b[49m\u001b[38;5;124;43m\"\u001b[39;49m\u001b[38;5;124;43mcsr\u001b[39;49m\u001b[38;5;124;43m\"\u001b[39;49m\u001b[43m,\u001b[49m\u001b[43m \u001b[49m\u001b[38;5;124;43m\"\u001b[39;49m\u001b[38;5;124;43mcsc\u001b[39;49m\u001b[38;5;124;43m\"\u001b[39;49m\u001b[43m)\u001b[49m\u001b[43m,\u001b[49m\n\u001b[1;32m    847\u001b[0m \u001b[43m    \u001b[49m\u001b[43mdtype\u001b[49m\u001b[38;5;241;43m=\u001b[39;49m\u001b[43mFLOAT_DTYPES\u001b[49m\u001b[43m,\u001b[49m\n\u001b[1;32m    848\u001b[0m \u001b[43m    \u001b[49m\u001b[43mforce_all_finite\u001b[49m\u001b[38;5;241;43m=\u001b[39;49m\u001b[38;5;124;43m\"\u001b[39;49m\u001b[38;5;124;43mallow-nan\u001b[39;49m\u001b[38;5;124;43m\"\u001b[39;49m\u001b[43m,\u001b[49m\n\u001b[1;32m    849\u001b[0m \u001b[43m    \u001b[49m\u001b[43mreset\u001b[49m\u001b[38;5;241;43m=\u001b[39;49m\u001b[43mfirst_call\u001b[49m\u001b[43m,\u001b[49m\n\u001b[1;32m    850\u001b[0m \u001b[43m\u001b[49m\u001b[43m)\u001b[49m\n\u001b[1;32m    851\u001b[0m n_features \u001b[38;5;241m=\u001b[39m X\u001b[38;5;241m.\u001b[39mshape[\u001b[38;5;241m1\u001b[39m]\n\u001b[1;32m    853\u001b[0m \u001b[38;5;28;01mif\u001b[39;00m sample_weight \u001b[38;5;129;01mis\u001b[39;00m \u001b[38;5;129;01mnot\u001b[39;00m \u001b[38;5;28;01mNone\u001b[39;00m:\n",
      "File \u001b[0;32m~/opt/miniconda3/envs/tf/lib/python3.10/site-packages/sklearn/base.py:577\u001b[0m, in \u001b[0;36mBaseEstimator._validate_data\u001b[0;34m(self, X, y, reset, validate_separately, **check_params)\u001b[0m\n\u001b[1;32m    575\u001b[0m     \u001b[38;5;28;01mraise\u001b[39;00m \u001b[38;5;167;01mValueError\u001b[39;00m(\u001b[38;5;124m\"\u001b[39m\u001b[38;5;124mValidation should be done on X, y or both.\u001b[39m\u001b[38;5;124m\"\u001b[39m)\n\u001b[1;32m    576\u001b[0m \u001b[38;5;28;01melif\u001b[39;00m \u001b[38;5;129;01mnot\u001b[39;00m no_val_X \u001b[38;5;129;01mand\u001b[39;00m no_val_y:\n\u001b[0;32m--> 577\u001b[0m     X \u001b[38;5;241m=\u001b[39m \u001b[43mcheck_array\u001b[49m\u001b[43m(\u001b[49m\u001b[43mX\u001b[49m\u001b[43m,\u001b[49m\u001b[43m \u001b[49m\u001b[43minput_name\u001b[49m\u001b[38;5;241;43m=\u001b[39;49m\u001b[38;5;124;43m\"\u001b[39;49m\u001b[38;5;124;43mX\u001b[39;49m\u001b[38;5;124;43m\"\u001b[39;49m\u001b[43m,\u001b[49m\u001b[43m \u001b[49m\u001b[38;5;241;43m*\u001b[39;49m\u001b[38;5;241;43m*\u001b[39;49m\u001b[43mcheck_params\u001b[49m\u001b[43m)\u001b[49m\n\u001b[1;32m    578\u001b[0m     out \u001b[38;5;241m=\u001b[39m X\n\u001b[1;32m    579\u001b[0m \u001b[38;5;28;01melif\u001b[39;00m no_val_X \u001b[38;5;129;01mand\u001b[39;00m \u001b[38;5;129;01mnot\u001b[39;00m no_val_y:\n",
      "File \u001b[0;32m~/opt/miniconda3/envs/tf/lib/python3.10/site-packages/sklearn/utils/validation.py:856\u001b[0m, in \u001b[0;36mcheck_array\u001b[0;34m(array, accept_sparse, accept_large_sparse, dtype, order, copy, force_all_finite, ensure_2d, allow_nd, ensure_min_samples, ensure_min_features, estimator, input_name)\u001b[0m\n\u001b[1;32m    854\u001b[0m         array \u001b[38;5;241m=\u001b[39m array\u001b[38;5;241m.\u001b[39mastype(dtype, casting\u001b[38;5;241m=\u001b[39m\u001b[38;5;124m\"\u001b[39m\u001b[38;5;124munsafe\u001b[39m\u001b[38;5;124m\"\u001b[39m, copy\u001b[38;5;241m=\u001b[39m\u001b[38;5;28;01mFalse\u001b[39;00m)\n\u001b[1;32m    855\u001b[0m     \u001b[38;5;28;01melse\u001b[39;00m:\n\u001b[0;32m--> 856\u001b[0m         array \u001b[38;5;241m=\u001b[39m \u001b[43mnp\u001b[49m\u001b[38;5;241;43m.\u001b[39;49m\u001b[43masarray\u001b[49m\u001b[43m(\u001b[49m\u001b[43marray\u001b[49m\u001b[43m,\u001b[49m\u001b[43m \u001b[49m\u001b[43morder\u001b[49m\u001b[38;5;241;43m=\u001b[39;49m\u001b[43morder\u001b[49m\u001b[43m,\u001b[49m\u001b[43m \u001b[49m\u001b[43mdtype\u001b[49m\u001b[38;5;241;43m=\u001b[39;49m\u001b[43mdtype\u001b[49m\u001b[43m)\u001b[49m\n\u001b[1;32m    857\u001b[0m \u001b[38;5;28;01mexcept\u001b[39;00m ComplexWarning \u001b[38;5;28;01mas\u001b[39;00m complex_warning:\n\u001b[1;32m    858\u001b[0m     \u001b[38;5;28;01mraise\u001b[39;00m \u001b[38;5;167;01mValueError\u001b[39;00m(\n\u001b[1;32m    859\u001b[0m         \u001b[38;5;124m\"\u001b[39m\u001b[38;5;124mComplex data not supported\u001b[39m\u001b[38;5;130;01m\\n\u001b[39;00m\u001b[38;5;132;01m{}\u001b[39;00m\u001b[38;5;130;01m\\n\u001b[39;00m\u001b[38;5;124m\"\u001b[39m\u001b[38;5;241m.\u001b[39mformat(array)\n\u001b[1;32m    860\u001b[0m     ) \u001b[38;5;28;01mfrom\u001b[39;00m \u001b[38;5;21;01mcomplex_warning\u001b[39;00m\n",
      "\u001b[0;31mValueError\u001b[0m: setting an array element with a sequence. The requested array has an inhomogeneous shape after 2 dimensions. The detected shape was (5, 13071692) + inhomogeneous part."
     ]
    }
   ],
   "source": [
    "#Develop the Test Set (i.e finals scores)\n",
    "\n",
    "test=result_3[0]\n",
    "\n",
    "final_labels=test[['Subject', 'Test', 'Score']]\n",
    "final_x_test=[i.drop(columns=['Subject', 'Test', 'Score']) for i in result_3]\n",
    "final_x_test=[i.reset_index(drop=True) for i in final_x_test]\n",
    "final_y_test=final_labels.reset_index(drop=True)"
   ]
  },
  {
   "cell_type": "code",
   "execution_count": 208,
   "id": "53a91f3d",
   "metadata": {},
   "outputs": [],
   "source": [
    "final_x_test=pd.concat([i for i in final_x_test], axis=1)"
   ]
  },
  {
   "cell_type": "code",
   "execution_count": 220,
   "id": "87083a4c",
   "metadata": {},
   "outputs": [
    {
     "name": "stdout",
     "output_type": "stream",
     "text": [
      "[1, 13071692, 2, 6535846, 4, 3267923, 29, 450748, 58, 225374, 116, 112687]\n"
     ]
    }
   ],
   "source": [
    "import math\n",
    "\n",
    "def factors(n):\n",
    "    factors = []\n",
    "    for i in range(1, int(math.sqrt(n))+1): #+1 because range stops 1 number short\n",
    "        if n % i == 0:\n",
    "            factors.append(i)\n",
    "            if i != n // i: #Check if perfect square root\n",
    "                factors.append(n//i)\n",
    "    return factors\n",
    "\n",
    "print(factors(13071692))"
   ]
  },
  {
   "cell_type": "code",
   "execution_count": 221,
   "id": "9018694a",
   "metadata": {},
   "outputs": [],
   "source": [
    "final_x_test=preprocessing.StandardScaler().fit_transform(final_x_test)"
   ]
  },
  {
   "cell_type": "code",
   "execution_count": 240,
   "id": "5ba0fc59",
   "metadata": {},
   "outputs": [],
   "source": [
    "final_x_test=final_x_test.reshape(-1,1,7)"
   ]
  },
  {
   "cell_type": "code",
   "execution_count": 242,
   "id": "c5c04b6e",
   "metadata": {},
   "outputs": [
    {
     "data": {
      "text/plain": [
       "(13071692, 1, 7)"
      ]
     },
     "execution_count": 242,
     "metadata": {},
     "output_type": "execute_result"
    }
   ],
   "source": [
    "final_x_test.shape"
   ]
  },
  {
   "cell_type": "code",
   "execution_count": 251,
   "id": "6573d398",
   "metadata": {},
   "outputs": [],
   "source": [
    "final_y_test=final_labels['Score'].to_numpy()"
   ]
  },
  {
   "cell_type": "code",
   "execution_count": 250,
   "id": "2be769fe",
   "metadata": {},
   "outputs": [
    {
     "data": {
      "text/plain": [
       "(225374, 1)"
      ]
     },
     "execution_count": 250,
     "metadata": {},
     "output_type": "execute_result"
    }
   ],
   "source": [
    "final_y_test.shape"
   ]
  },
  {
   "cell_type": "code",
   "execution_count": 232,
   "id": "84f1c6e7",
   "metadata": {},
   "outputs": [
    {
     "name": "stderr",
     "output_type": "stream",
     "text": [
      "/var/folders/wv/c3g7vgxd10n0mdl2_flcjj480000gn/T/ipykernel_2861/178294602.py:4: FutureWarning: Unlike other reduction functions (e.g. `skew`, `kurtosis`), the default behavior of `mode` typically preserves the axis it acts along. In SciPy 1.11.0, this behavior will change: the default value of `keepdims` will become False, the `axis` over which the statistic is taken will be eliminated, and the value None will no longer be accepted. Set `keepdims` to True or False to avoid this warning.\n",
      "  mode = stats.mode(batch)[0][0]\n"
     ]
    }
   ],
   "source": [
    "modes=[]\n",
    "for i in range(0, len(final_y_test), 58):\n",
    "    batch = final_y_test[i:i+58]\n",
    "    mode = stats.mode(batch)[0][0]\n",
    "    # Append the mode to the new array\n",
    "    modes.append(mode)\n",
    "final_y_test=np.asarray(modes)"
   ]
  },
  {
   "cell_type": "code",
   "execution_count": 238,
   "id": "961e82c7",
   "metadata": {},
   "outputs": [],
   "source": [
    "final_y_test=final_y_test.reshape(-1,1)"
   ]
  },
  {
   "cell_type": "code",
   "execution_count": 252,
   "id": "1c810c0d",
   "metadata": {},
   "outputs": [
    {
     "name": "stderr",
     "output_type": "stream",
     "text": [
      "/Users/jaredperez/opt/miniconda3/envs/tf/lib/python3.10/site-packages/tensorflow/python/data/ops/structured_function.py:264: UserWarning: Even though the `tf.config.experimental_run_functions_eagerly` option is set, this option does not apply to tf.data functions. To force eager execution of tf.data functions, please use `tf.data.experimental.enable_debug_mode()`.\n",
      "  warnings.warn(\n"
     ]
    },
    {
     "name": "stdout",
     "output_type": "stream",
     "text": [
      "13072/13072 [==============================] - 272s 21ms/step - loss: 0.0207 - mae: 0.1285\n"
     ]
    },
    {
     "data": {
      "text/plain": [
       "[0.020731130614876747, 0.12848584353923798]"
      ]
     },
     "execution_count": 252,
     "metadata": {},
     "output_type": "execute_result"
    }
   ],
   "source": [
    "model_1.evaluate(x=final_x_test, y=final_y_test, verbose=1, batch_size=1000)"
   ]
  },
  {
   "cell_type": "code",
   "execution_count": 253,
   "id": "a6e76cb0",
   "metadata": {},
   "outputs": [
    {
     "name": "stdout",
     "output_type": "stream",
     "text": [
      "13072/13072 [==============================] - 222s 17ms/step\n"
     ]
    }
   ],
   "source": [
    "final_grades_predictions=model_1.predict(final_x_test, batch_size=1000)"
   ]
  },
  {
   "cell_type": "code",
   "execution_count": 273,
   "id": "369c0f62",
   "metadata": {},
   "outputs": [],
   "source": [
    "final_grades_predictions=final_grades_predictions.flatten()"
   ]
  },
  {
   "cell_type": "code",
   "execution_count": 274,
   "id": "ef90f485",
   "metadata": {},
   "outputs": [
    {
     "data": {
      "image/png": "[encoded data removed]",
      "text/plain": [
       "<Figure size 640x480 with 1 Axes>"
      ]
     },
     "metadata": {},
     "output_type": "display_data"
    }
   ],
   "source": [
    "plt.hist(final_grades_predictions, bins=20)\n",
    "\n",
    "plt.xlabel('Data')\n",
    "plt.ylabel('Frequency')\n",
    "plt.title('Histogram of Performance Predictions with all Scores Included')\n",
    "plt.show()`"
   ]
  },
  {
   "cell_type": "code",
   "execution_count": 278,
   "id": "7c9719cf",
   "metadata": {},
   "outputs": [
    {
     "name": "stdout",
     "output_type": "stream",
     "text": [
      "Model: \"GRU Attention\"\n",
      "__________________________________________________________________________________________________\n",
      " Layer (type)                   Output Shape         Param #     Connected to                     \n",
      "==================================================================================================\n",
      " input_19 (InputLayer)          [(None, 1, 7)]       0           []                               \n",
      "                                                                                                  \n",
      " dense_55 (Dense)               (None, 1, 256)       2048        ['input_19[0][0]']               \n",
      "                                                                                                  \n",
      " gru_6 (GRU)                    (None, 1, 256)       394752      ['dense_55[0][0]']               \n",
      "                                                                                                  \n",
      " attention_12 (Attention)       (None, 1, 256)       0           ['dense_55[0][0]',               \n",
      "                                                                  'gru_6[0][0]']                  \n",
      "                                                                                                  \n",
      " dense_56 (Dense)               (None, 1, 128)       32896       ['attention_12[0][0]']           \n",
      "                                                                                                  \n",
      " gru_7 (GRU)                    (None, 1, 128)       99072       ['dense_56[0][0]']               \n",
      "                                                                                                  \n",
      " attention_13 (Attention)       (None, 1, 128)       0           ['dense_56[0][0]',               \n",
      "                                                                  'gru_7[0][0]']                  \n",
      "                                                                                                  \n",
      " gru_8 (GRU)                    (None, 64)           37248       ['attention_13[0][0]']           \n",
      "                                                                                                  \n",
      " dropout_25 (Dropout)           (None, 64)           0           ['gru_8[0][0]']                  \n",
      "                                                                                                  \n",
      " dense_57 (Dense)               (None, 32)           2080        ['dropout_25[0][0]']             \n",
      "                                                                                                  \n",
      " dense_58 (Dense)               (None, 1)            33          ['dense_57[0][0]']               \n",
      "                                                                                                  \n",
      "==================================================================================================\n",
      "Total params: 568,129\n",
      "Trainable params: 568,129\n",
      "Non-trainable params: 0\n",
      "__________________________________________________________________________________________________\n"
     ]
    }
   ],
   "source": [
    "#A2) 2nd Performance Prediction Model..more complex architecture\n",
    "\n",
    "inputs=tf.keras.Input(shape=(1,7))\n",
    "x=keras.layers.Dense(256, activation='relu')(inputs)\n",
    "y=keras.layers.GRU(256, return_sequences=True)(x)\n",
    "\n",
    "attention=keras.layers.Attention()([x,y])\n",
    "\n",
    "x=keras.layers.Dense(128, activation='relu')(attention)\n",
    "y=keras.layers.GRU(128, return_sequences=True)(x)\n",
    "\n",
    "attention2=keras.layers.Attention()([x,y])\n",
    "\n",
    "x=keras.layers.GRU(64)(attention2)\n",
    "x=keras.layers.Dropout(0.3)(x)\n",
    "x=keras.layers.Dense(32, activation='relu')(x)\n",
    "x=keras.layers.Dense(1, activation='relu')(x)\n",
    "\n",
    "model_2=keras.Model(inputs=inputs, outputs=x, name='GRU Attention')\n",
    "\n",
    "model_2.compile(optimizer='rmsprop', loss='mse', metrics=['mae'])\n",
    "\n",
    "model_2.summary()"
   ]
  },
  {
   "cell_type": "code",
   "execution_count": 279,
   "id": "02b2e301",
   "metadata": {},
   "outputs": [
    {
     "data": {
      "text/plain": [
       "array([0.78, 0.78, 0.78, ..., 0.39, 0.39, 0.39])"
      ]
     },
     "execution_count": 279,
     "metadata": {},
     "output_type": "execute_result"
    }
   ],
   "source": [
    "model_1_labels"
   ]
  },
  {
   "cell_type": "code",
   "execution_count": 280,
   "id": "597b6ffa",
   "metadata": {},
   "outputs": [
    {
     "name": "stderr",
     "output_type": "stream",
     "text": [
      "/Users/jaredperez/opt/miniconda3/envs/tf/lib/python3.10/site-packages/tensorflow/python/data/ops/structured_function.py:264: UserWarning: Even though the `tf.config.experimental_run_functions_eagerly` option is set, this option does not apply to tf.data functions. To force eager execution of tf.data functions, please use `tf.data.experimental.enable_debug_mode()`.\n",
      "  warnings.warn(\n"
     ]
    },
    {
     "name": "stdout",
     "output_type": "stream",
     "text": [
      "Epoch 1/3\n",
      "1527/1527 [==============================] - 246s 160ms/step - loss: 0.0191 - mae: 0.1023\n",
      "Epoch 2/3\n",
      "1527/1527 [==============================] - 235s 154ms/step - loss: 0.0133 - mae: 0.0825\n",
      "Epoch 3/3\n",
      "1527/1527 [==============================] - 226s 148ms/step - loss: 0.0120 - mae: 0.0768\n"
     ]
    },
    {
     "data": {
      "text/plain": [
       "<keras.callbacks.History at 0x78646d4e0>"
      ]
     },
     "execution_count": 280,
     "metadata": {},
     "output_type": "execute_result"
    }
   ],
   "source": [
    "model_2.fit(model_1_features, model_1_labels, batch_size=10000, verbose=1, epochs=3)"
   ]
  },
  {
   "cell_type": "code",
   "execution_count": 281,
   "id": "b54beb20",
   "metadata": {},
   "outputs": [
    {
     "name": "stderr",
     "output_type": "stream",
     "text": [
      "/Users/jaredperez/opt/miniconda3/envs/tf/lib/python3.10/site-packages/tensorflow/python/data/ops/structured_function.py:264: UserWarning: Even though the `tf.config.experimental_run_functions_eagerly` option is set, this option does not apply to tf.data functions. To force eager execution of tf.data functions, please use `tf.data.experimental.enable_debug_mode()`.\n",
      "  warnings.warn(\n"
     ]
    },
    {
     "name": "stdout",
     "output_type": "stream",
     "text": [
      "1308/1308 [==============================] - 55s 42ms/step\n"
     ]
    }
   ],
   "source": [
    "final_grades_predictions2=model_2.predict(final_x_test, batch_size=10000, verbose=1)"
   ]
  },
  {
   "cell_type": "code",
   "execution_count": 282,
   "id": "ad2f1a43",
   "metadata": {},
   "outputs": [
    {
     "data": {
      "text/plain": [
       "array([[0.7592111 ],\n",
       "       [0.67758113],\n",
       "       [0.76907057],\n",
       "       ...,\n",
       "       [0.7787059 ],\n",
       "       [0.7328728 ],\n",
       "       [0.80576503]], dtype=float32)"
      ]
     },
     "execution_count": 282,
     "metadata": {},
     "output_type": "execute_result"
    }
   ],
   "source": [
    "final_grades_predictions2"
   ]
  },
  {
   "cell_type": "code",
   "execution_count": 288,
   "id": "63b76b14",
   "metadata": {},
   "outputs": [
    {
     "name": "stderr",
     "output_type": "stream",
     "text": [
      "/Users/jaredperez/opt/miniconda3/envs/tf/lib/python3.10/site-packages/tensorflow/python/data/ops/structured_function.py:264: UserWarning: Even though the `tf.config.experimental_run_functions_eagerly` option is set, this option does not apply to tf.data functions. To force eager execution of tf.data functions, please use `tf.data.experimental.enable_debug_mode()`.\n",
      "  warnings.warn(\n"
     ]
    },
    {
     "name": "stdout",
     "output_type": "stream",
     "text": [
      "1308/1308 [==============================] - 55s 42ms/step - loss: 0.0213 - mae: 0.1308\n"
     ]
    },
    {
     "data": {
      "text/plain": [
       "[0.021272964775562286, 0.13077592849731445]"
      ]
     },
     "execution_count": 288,
     "metadata": {},
     "output_type": "execute_result"
    }
   ],
   "source": [
    "model_2.evaluate(final_x_test, final_y_test, batch_size=10000, verbose=1)"
   ]
  },
  {
   "cell_type": "code",
   "execution_count": null,
   "id": "6be7beb4",
   "metadata": {},
   "outputs": [],
   "source": [
    "#A3) Performance Predictions with less of a range of values\n",
    "\n",
    "model_1_features=pd.concat([midterm_2_features, midterm_1_features], axis=0)\n",
    "model_1_labels=pd.Series(model_1_labels)\n",
    "\n",
    "len(model_1_labels)==len(model_1_features)"
   ]
  },
  {
   "cell_type": "code",
   "execution_count": 293,
   "id": "bc45dfe2",
   "metadata": {},
   "outputs": [],
   "source": []
  },
  {
   "cell_type": "code",
   "execution_count": 164,
   "id": "cd556b7f",
   "metadata": {},
   "outputs": [],
   "source": [
    "#B) Develop model to classify the exams"
   ]
  },
  {
   "cell_type": "code",
   "execution_count": null,
   "id": "2ff24f3d",
   "metadata": {},
   "outputs": [],
   "source": [
    "#C) Develop model to classify the student"
   ]
  },
  {
   "cell_type": "code",
   "execution_count": null,
   "id": "c63c40ab",
   "metadata": {},
   "outputs": [],
   "source": [
    "#To get more data, I can look at low scores, high scores, middle scores and see where the data falls \n",
    "    #maybe try increase amount of data according to scores\n",
    "    #Data Augmentation...make it realsitic of data in test set, does not help for it to be random\n",
    "    #Can also synthesis training examples"
   ]
  }
 ],
 "metadata": {
  "kernelspec": {
   "display_name": "Python 3 (ipykernel)",
   "language": "python",
   "name": "python3"
  },
  "language_info": {
   "codemirror_mode": {
    "name": "ipython",
    "version": 3
   },
   "file_extension": ".py",
   "mimetype": "text/x-python",
   "name": "python",
   "nbconvert_exporter": "python",
   "pygments_lexer": "ipython3",
   "version": "3.10.8"
  }
 },
 "nbformat": 4,
 "nbformat_minor": 5
}
