{
 "cells": [
  {
   "cell_type": "code",
   "execution_count": 1,
   "id": "85420b1e",
   "metadata": {},
   "outputs": [],
   "source": [
    "import shutil\n",
    "import os\n",
    "import numpy as np\n",
    "import pandas as pd\n",
    "import matplotlib.pyplot as plt\n",
    "import time\n",
    "from keras.models import Sequential\n",
    "from keras.layers import Dense,LSTM,Dropout,Flatten\n",
    "from keras.preprocessing import  sequence\n",
    "import glob\n",
    "import keras.layers\n",
    "from sklearn.model_selection import train_test_split\n",
    "from sklearn import preprocessing\n",
    "import tensorflow as tf\n",
    "from scipy import stats\n",
    "from sklearn.utils import resample\n",
    "from collections import defaultdict"
   ]
  },
  {
   "cell_type": "code",
   "execution_count": 2,
   "id": "b803fdb2",
   "metadata": {},
   "outputs": [],
   "source": [
    "root_dir = glob.glob('/Users/jaredperez/Portfolio Project 3 Exam Performance/Data/Data/*/*/*')\n",
    "file_names = ['info', 'tags']"
   ]
  },
  {
   "cell_type": "code",
   "execution_count": 3,
   "id": "1723ec3e",
   "metadata": {},
   "outputs": [],
   "source": [
    "#Delete erroneous info.txt and tags.csv files\n",
    "for files in root_dir:\n",
    "    if os.path.splitext(os.path.basename(files))[0] in file_names:\n",
    "        x=files\n",
    "        os.remove(x)"
   ]
  },
  {
   "cell_type": "code",
   "execution_count": 4,
   "id": "858525b8",
   "metadata": {},
   "outputs": [],
   "source": [
    "#Load the Data and attach labels to each of the files for each exam\n",
    "\n",
    "def data_upload(x):\n",
    "    dfs={\"IBI\": [],\n",
    "     \"ACC\":[],\n",
    "     'EDA':[],\n",
    "     'HR':[],\n",
    "     'TEMP':[],\n",
    "     'BVP':[]}\n",
    "    for files in glob.glob('/Users/jaredperez/Portfolio Project 3 Exam Performance/Data/Data/*/*/*'):\n",
    "        key = os.path.splitext(os.path.basename(files))[0]\n",
    "        df=pd.read_csv(files, header=None, skiprows=[0,1], on_bad_lines='skip')\n",
    "        df['Subject']=files.split('/')[-3]\n",
    "        df['Test']=files.split('/')[-2]\n",
    "        dfs[key].append(df)\n",
    "    return dfs"
   ]
  },
  {
   "cell_type": "code",
   "execution_count": 5,
   "id": "d6968053",
   "metadata": {},
   "outputs": [],
   "source": [
    "dfs=data_upload('x')"
   ]
  },
  {
   "cell_type": "code",
   "execution_count": 8,
   "id": "a7a7971d",
   "metadata": {},
   "outputs": [],
   "source": [
    "final_dfs = defaultdict(dict) #Concatenate dfs by sensor and test\n",
    "for key, value in dfs.items():\n",
    "    df_dict = defaultdict(list) #test(midterm 2, etc) didn't exist, so defaultdict(list) allows creation of key \"Test\"\n",
    "    for df in value:\n",
    "        df_dict[df['Test'].iloc[0]].append(df) \n",
    "    for test, df_group in df_dict.items(): #test key is midterm 1/2/final\n",
    "        final_dfs[key][test] = pd.concat(df_group)"
   ]
  },
  {
   "cell_type": "code",
   "execution_count": 11,
   "id": "3328dbd2",
   "metadata": {},
   "outputs": [],
   "source": [
    "def map_values(row):\n",
    "    test = row['Test']\n",
    "    subject = row['Subject']\n",
    "    return scores[test][subject] #scores=name of scores variable"
   ]
  },
  {
   "cell_type": "code",
   "execution_count": 12,
   "id": "dac28450",
   "metadata": {},
   "outputs": [],
   "source": [
    "midterm_1={'S1' : 78/100,\n",
    "           'S2' : 82/100,\n",
    "           'S3' : 77/100,\n",
    "           'S4' : 75/100,\n",
    "           'S5' : 67/100,\n",
    "           'S6' : 71/100,\n",
    "           'S7' : 64/100,\n",
    "           'S8' : 92/100,\n",
    "           'S9' : 80/100,\n",
    "           'S10' : 89/100}\n",
    "\n",
    "\n",
    "\n",
    "midterm_2={'S1' : 82/100,\n",
    "           'S2' : 85/100,\n",
    "           'S3' : 90/100,\n",
    "           'S4' : 77/100,\n",
    "           'S5' : 77/100,\n",
    "           'S6' : 64/100,\n",
    "           'S7' : 33/100,\n",
    "           'S8' : 88/100,\n",
    "           'S9' : 39/100,\n",
    "           'S10' : 64/100}\n",
    "\n",
    "\n",
    "\n",
    "final={'S1' : 182/200,\n",
    "       'S2' : 180/200,\n",
    "       'S3' : 188/200,\n",
    "       'S4' : 149/200,\n",
    "       'S5' : 157/200,\n",
    "       'S6' : 175/200,\n",
    "       'S7' : 110/200,\n",
    "       'S8' : 184/200,\n",
    "       'S9' : 126/200,\n",
    "       'S10' : 116/200}\n",
    "\n",
    "\n",
    "scores=defaultdict(dict)\n",
    "scores['Midterm 1']=midterm_1\n",
    "scores['Midterm 2']=midterm_2\n",
    "scores['Final']=final"
   ]
  },
  {
   "cell_type": "code",
   "execution_count": 14,
   "id": "cc19b1a6",
   "metadata": {},
   "outputs": [],
   "source": [
    "midterm_1_scores=list(scores['Midterm 1'].values())\n",
    "midterm_2_scores=list(scores['Midterm 2'].values())\n",
    "final_scores=list(scores['Final'].values())"
   ]
  },
  {
   "cell_type": "code",
   "execution_count": 15,
   "id": "1cce8eab",
   "metadata": {},
   "outputs": [],
   "source": [
    "def print_subject_score_max(test): #Functions to provide subject who performed worst/best on tests\n",
    "    keys=list(scores[test].keys())\n",
    "    values=list(scores[test].values())\n",
    "    max_value=max(values)\n",
    "    index=values.index(max_value)\n",
    "    return keys[index]\n",
    "\n",
    "def print_subject_score_min(test):\n",
    "    keys=list(scores[test].keys())\n",
    "    values=list(scores[test].values())\n",
    "    min_value=min(values)\n",
    "    index=values.index(min_value)\n",
    "    return keys[index]"
   ]
  },
  {
   "cell_type": "code",
   "execution_count": 17,
   "id": "ee721d83",
   "metadata": {},
   "outputs": [
    {
     "name": "stdout",
     "output_type": "stream",
     "text": [
      "Midterm 1 mean value is 0.775\n",
      "Midterm 2 mean value is 0.699\n",
      "Final mean value is 0.7835\n",
      "Midterm 1 Max value is 0.92 and belongs to S8\n",
      "Midterm 2 Max value is 0.9 and belongs to S3\n",
      "Midterm 1 Max value is 0.94 and belongs to S3\n",
      "Midterm 1 Min value is 0.64 and belongs to S7\n",
      "Midterm 2 Min value is 0.33 and belongs to S7\n",
      "Midterm 1 Min value is 0.55 and belongs to S7\n"
     ]
    }
   ],
   "source": [
    "print(f\"Midterm 1 mean value is {np.mean(midterm_1_scores)}\")\n",
    "print(f\"Midterm 2 mean value is {np.mean(midterm_2_scores)}\")\n",
    "print(f\"Final mean value is {np.mean(final_scores)}\")\n",
    "\n",
    "print(f\"Midterm 1 Max value is {(max(list(scores['Midterm 1'].values())))} and belongs to {print_subject_score_max('Midterm 1')}\")\n",
    "print(f\"Midterm 2 Max value is {(max(list(scores['Midterm 2'].values())))} and belongs to {print_subject_score_max('Midterm 2')}\")\n",
    "print(f\"Midterm 1 Max value is {(max(list(scores['Final'].values())))} and belongs to {print_subject_score_max('Final')}\")\n",
    "\n",
    "\n",
    "print(f\"Midterm 1 Min value is {(min(list(scores['Midterm 1'].values())))} and belongs to {print_subject_score_min('Midterm 1')}\")\n",
    "print(f\"Midterm 2 Min value is {(min(list(scores['Midterm 2'].values())))} and belongs to {print_subject_score_min('Midterm 2')}\")\n",
    "print(f\"Midterm 1 Min value is {(min(list(scores['Final'].values())))} and belongs to {print_subject_score_min('Final')}\")"
   ]
  },
  {
   "cell_type": "code",
   "execution_count": 18,
   "id": "01d6947f",
   "metadata": {},
   "outputs": [],
   "source": [
    "for key, value in final_dfs.items():\n",
    "    for df, value2 in value.items():\n",
    "        value2['Score']=value2.apply(map_values, axis=1)"
   ]
  },
  {
   "cell_type": "code",
   "execution_count": 9,
   "id": "2d05200d",
   "metadata": {},
   "outputs": [
    {
     "name": "stderr",
     "output_type": "stream",
     "text": [
      "UsageError: Unknown variable 'final_dfs'\n"
     ]
    }
   ],
   "source": [
    "%store final_dfs"
   ]
  },
  {
   "cell_type": "code",
   "execution_count": 3,
   "id": "c48a1385",
   "metadata": {},
   "outputs": [],
   "source": [
    "%store -r final_dfs\n"
   ]
  },
  {
   "cell_type": "code",
   "execution_count": 4,
   "id": "1f59b335",
   "metadata": {},
   "outputs": [],
   "source": [
    "IBI=pd.concat(final_dfs['IBI']).reset_index().drop(columns=['level_0', 'level_1'])\n",
    "ACC=pd.concat(final_dfs['ACC']).reset_index().drop(columns=['level_1', 'level_0'])\n",
    "EDA=pd.concat(final_dfs['EDA']).reset_index().drop(columns=['level_1', 'level_0'])\n",
    "HR=pd.concat(final_dfs['HR']).reset_index().drop(columns=['level_1', 'level_0'])\n",
    "BVP=pd.concat(final_dfs['BVP']).reset_index().drop(columns=['level_1', 'level_0'])\n",
    "TEMP=pd.concat(final_dfs['TEMP']).reset_index().drop(columns=['level_1', 'level_0'])"
   ]
  },
  {
   "cell_type": "code",
   "execution_count": 4,
   "id": "5c738ced",
   "metadata": {},
   "outputs": [
    {
     "data": {
      "text/plain": [
       "<AxesSubplot:>"
      ]
     },
     "execution_count": 4,
     "metadata": {},
     "output_type": "execute_result"
    },
    {
     "data": {
      "image/png": "[encoded data removed]",
      "text/plain": [
       "<Figure size 640x480 with 1 Axes>"
      ]
     },
     "metadata": {},
     "output_type": "display_data"
    }
   ],
   "source": [
    "BVP_Midterm_2=BVP[BVP['Test']=='Midterm 2']\n",
    "test=BVP_Midterm_2[BVP_Midterm_2['Subject']=='S5']\n",
    "test[0].iloc[200000:201000].plot() #Plot some data"
   ]
  },
  {
   "cell_type": "code",
   "execution_count": null,
   "id": "c1592f06",
   "metadata": {},
   "outputs": [],
   "source": [
    "#How do i want to modify the data? Midterm 2=Lowest Scores...performance under Stress Conditions?\n",
    "    #Look up data augmentation for 1D data...it is used in image recognition but perhaps I can do something similar\n",
    "    #with time series data\n",
    "\n",
    "#First lets build a classifier to see if it can classifiy between the different tests...Essentially identical\n",
    "    #cconditions. Interesting to see if physiological data can differentiate between exames\n",
    "    \n",
    "#Validate the classification model of subjects again with appropriate data\n",
    "\n",
    "#Subsample to cluster data and create samples...Use Autoencoder to filter out noise\n",
    "    #Subsample all the 70-80% scores, all 80-90% etc. and see if clustering analysis can detect anything\n",
    "    \n",
    "#Build general model, fine tune for individuals..."
   ]
  },
  {
   "cell_type": "code",
   "execution_count": 5,
   "id": "9070c203",
   "metadata": {},
   "outputs": [],
   "source": [
    "from sklearn.utils import resample"
   ]
  },
  {
   "cell_type": "code",
   "execution_count": 30,
   "id": "82239e44",
   "metadata": {},
   "outputs": [],
   "source": [
    "def equal_samples(df, unique_indexes): #DONT USE..INCORRECTLY MODIFIES SAMPLE RATES\n",
    "    resampled_dfs = []\n",
    "    for subject_value in unique_indexes:\n",
    "        frame = df[df['Subject'] == subject_value]\n",
    "        df_resampled = resample(frame, replace=True, n_samples=int(len(df)/10))\n",
    "        resampled_dfs.append(df_resampled)\n",
    "    resampled_df = pd.concat(resampled_dfs)\n",
    "    return resampled_df"
   ]
  },
  {
   "cell_type": "code",
   "execution_count": 6,
   "id": "55db5504",
   "metadata": {},
   "outputs": [],
   "source": [
    "length=len(BVP) #resample all data to 64 Hz\n",
    "\n",
    "signals=[BVP, ACC, EDA, TEMP, HR] #Removing IBI Data due to inconsistenscies\n",
    "\n",
    "signals=[resample(i, replace=True, n_samples=length) for i in signals]"
   ]
  },
  {
   "cell_type": "code",
   "execution_count": 7,
   "id": "9f4b2720",
   "metadata": {},
   "outputs": [],
   "source": [
    "BVP=signals[0]\n",
    "ACC=signals[1]\n",
    "EDA=signals[2]\n",
    "TEMP=signals[3]\n",
    "HR=signals[4]\n",
    "\n",
    "signals=[i.sort_index().reset_index(drop=True) for i in signals]\n",
    "\n",
    "BVP=signals[0]\n",
    "ACC=signals[1]\n",
    "EDA=signals[2]\n",
    "TEMP=signals[3]\n",
    "HR=signals[4]"
   ]
  },
  {
   "cell_type": "code",
   "execution_count": 9,
   "id": "82af7f88",
   "metadata": {},
   "outputs": [
    {
     "data": {
      "text/plain": [
       "S2     3275560\n",
       "S6     3154274\n",
       "S3     3093343\n",
       "S10    3054781\n",
       "S1     2926028\n",
       "S7     2742547\n",
       "S4     2623260\n",
       "S9     2514975\n",
       "S5     2513246\n",
       "S8     2472504\n",
       "Name: Subject, dtype: int64"
      ]
     },
     "execution_count": 9,
     "metadata": {},
     "output_type": "execute_result"
    }
   ],
   "source": [
    "EDA['Subject'].value_counts() #Keeps correct proportion of samples...between subject variability"
   ]
  },
  {
   "cell_type": "code",
   "execution_count": 23,
   "id": "64c2d30c",
   "metadata": {},
   "outputs": [],
   "source": [
    "big_test=pd.concat([signals[0], signals[1]], axis=1)\n",
    "mapper=['BVP_Signal', 'BVP_Subject', 'BVP_Test', 'BVP_Score', 'x','y','z','ACC_Subject', \"ACC_Test\", \"ACC_Score\"]\n",
    "big_test.columns=mapper\n",
    "big_test"
   ]
  },
  {
   "cell_type": "code",
   "execution_count": 27,
   "id": "c3ea7afd",
   "metadata": {},
   "outputs": [
    {
     "data": {
      "text/html": [
       "<div>\n",
       "<style scoped>\n",
       "    .dataframe tbody tr th:only-of-type {\n",
       "        vertical-align: middle;\n",
       "    }\n",
       "\n",
       "    .dataframe tbody tr th {\n",
       "        vertical-align: top;\n",
       "    }\n",
       "\n",
       "    .dataframe thead th {\n",
       "        text-align: right;\n",
       "    }\n",
       "</style>\n",
       "<table border=\"1\" class=\"dataframe\">\n",
       "  <thead>\n",
       "    <tr style=\"text-align: right;\">\n",
       "      <th></th>\n",
       "      <th>BVP_Signal</th>\n",
       "      <th>BVP_Subject</th>\n",
       "      <th>BVP_Test</th>\n",
       "      <th>BVP_Score</th>\n",
       "      <th>x</th>\n",
       "      <th>y</th>\n",
       "      <th>z</th>\n",
       "      <th>ACC_Subject</th>\n",
       "      <th>ACC_Test</th>\n",
       "      <th>ACC_Score</th>\n",
       "    </tr>\n",
       "  </thead>\n",
       "  <tbody>\n",
       "    <tr>\n",
       "      <th>0</th>\n",
       "      <td>-0.00</td>\n",
       "      <td>S5</td>\n",
       "      <td>Midterm 2</td>\n",
       "      <td>0.77</td>\n",
       "      <td>-1</td>\n",
       "      <td>-63</td>\n",
       "      <td>5</td>\n",
       "      <td>S5</td>\n",
       "      <td>Midterm 2</td>\n",
       "      <td>0.77</td>\n",
       "    </tr>\n",
       "    <tr>\n",
       "      <th>1</th>\n",
       "      <td>-0.00</td>\n",
       "      <td>S5</td>\n",
       "      <td>Midterm 2</td>\n",
       "      <td>0.77</td>\n",
       "      <td>-1</td>\n",
       "      <td>-63</td>\n",
       "      <td>5</td>\n",
       "      <td>S5</td>\n",
       "      <td>Midterm 2</td>\n",
       "      <td>0.77</td>\n",
       "    </tr>\n",
       "    <tr>\n",
       "      <th>2</th>\n",
       "      <td>-0.00</td>\n",
       "      <td>S5</td>\n",
       "      <td>Midterm 2</td>\n",
       "      <td>0.77</td>\n",
       "      <td>-1</td>\n",
       "      <td>-63</td>\n",
       "      <td>5</td>\n",
       "      <td>S5</td>\n",
       "      <td>Midterm 2</td>\n",
       "      <td>0.77</td>\n",
       "    </tr>\n",
       "    <tr>\n",
       "      <th>3</th>\n",
       "      <td>-0.00</td>\n",
       "      <td>S5</td>\n",
       "      <td>Midterm 2</td>\n",
       "      <td>0.77</td>\n",
       "      <td>-1</td>\n",
       "      <td>-63</td>\n",
       "      <td>5</td>\n",
       "      <td>S5</td>\n",
       "      <td>Midterm 2</td>\n",
       "      <td>0.77</td>\n",
       "    </tr>\n",
       "    <tr>\n",
       "      <th>4</th>\n",
       "      <td>-0.00</td>\n",
       "      <td>S5</td>\n",
       "      <td>Midterm 2</td>\n",
       "      <td>0.77</td>\n",
       "      <td>-1</td>\n",
       "      <td>-63</td>\n",
       "      <td>5</td>\n",
       "      <td>S5</td>\n",
       "      <td>Midterm 2</td>\n",
       "      <td>0.77</td>\n",
       "    </tr>\n",
       "    <tr>\n",
       "      <th>...</th>\n",
       "      <td>...</td>\n",
       "      <td>...</td>\n",
       "      <td>...</td>\n",
       "      <td>...</td>\n",
       "      <td>...</td>\n",
       "      <td>...</td>\n",
       "      <td>...</td>\n",
       "      <td>...</td>\n",
       "      <td>...</td>\n",
       "      <td>...</td>\n",
       "    </tr>\n",
       "    <tr>\n",
       "      <th>28370513</th>\n",
       "      <td>-0.81</td>\n",
       "      <td>S9</td>\n",
       "      <td>Final</td>\n",
       "      <td>0.63</td>\n",
       "      <td>40</td>\n",
       "      <td>-34</td>\n",
       "      <td>-37</td>\n",
       "      <td>S9</td>\n",
       "      <td>Final</td>\n",
       "      <td>0.63</td>\n",
       "    </tr>\n",
       "    <tr>\n",
       "      <th>28370514</th>\n",
       "      <td>-0.89</td>\n",
       "      <td>S9</td>\n",
       "      <td>Final</td>\n",
       "      <td>0.63</td>\n",
       "      <td>40</td>\n",
       "      <td>-34</td>\n",
       "      <td>-37</td>\n",
       "      <td>S9</td>\n",
       "      <td>Final</td>\n",
       "      <td>0.63</td>\n",
       "    </tr>\n",
       "    <tr>\n",
       "      <th>28370515</th>\n",
       "      <td>-0.89</td>\n",
       "      <td>S9</td>\n",
       "      <td>Final</td>\n",
       "      <td>0.63</td>\n",
       "      <td>40</td>\n",
       "      <td>-34</td>\n",
       "      <td>-37</td>\n",
       "      <td>S9</td>\n",
       "      <td>Final</td>\n",
       "      <td>0.63</td>\n",
       "    </tr>\n",
       "    <tr>\n",
       "      <th>28370516</th>\n",
       "      <td>-1.09</td>\n",
       "      <td>S9</td>\n",
       "      <td>Final</td>\n",
       "      <td>0.63</td>\n",
       "      <td>36</td>\n",
       "      <td>-36</td>\n",
       "      <td>-34</td>\n",
       "      <td>S9</td>\n",
       "      <td>Final</td>\n",
       "      <td>0.63</td>\n",
       "    </tr>\n",
       "    <tr>\n",
       "      <th>28370517</th>\n",
       "      <td>-1.09</td>\n",
       "      <td>S9</td>\n",
       "      <td>Final</td>\n",
       "      <td>0.63</td>\n",
       "      <td>36</td>\n",
       "      <td>-36</td>\n",
       "      <td>-34</td>\n",
       "      <td>S9</td>\n",
       "      <td>Final</td>\n",
       "      <td>0.63</td>\n",
       "    </tr>\n",
       "  </tbody>\n",
       "</table>\n",
       "<p>28370518 rows × 10 columns</p>\n",
       "</div>"
      ],
      "text/plain": [
       "          BVP_Signal BVP_Subject   BVP_Test  BVP_Score   x   y   z  \\\n",
       "0              -0.00          S5  Midterm 2       0.77  -1 -63   5   \n",
       "1              -0.00          S5  Midterm 2       0.77  -1 -63   5   \n",
       "2              -0.00          S5  Midterm 2       0.77  -1 -63   5   \n",
       "3              -0.00          S5  Midterm 2       0.77  -1 -63   5   \n",
       "4              -0.00          S5  Midterm 2       0.77  -1 -63   5   \n",
       "...              ...         ...        ...        ...  ..  ..  ..   \n",
       "28370513       -0.81          S9      Final       0.63  40 -34 -37   \n",
       "28370514       -0.89          S9      Final       0.63  40 -34 -37   \n",
       "28370515       -0.89          S9      Final       0.63  40 -34 -37   \n",
       "28370516       -1.09          S9      Final       0.63  36 -36 -34   \n",
       "28370517       -1.09          S9      Final       0.63  36 -36 -34   \n",
       "\n",
       "         ACC_Subject   ACC_Test  ACC_Score  \n",
       "0                 S5  Midterm 2       0.77  \n",
       "1                 S5  Midterm 2       0.77  \n",
       "2                 S5  Midterm 2       0.77  \n",
       "3                 S5  Midterm 2       0.77  \n",
       "4                 S5  Midterm 2       0.77  \n",
       "...              ...        ...        ...  \n",
       "28370513          S9      Final       0.63  \n",
       "28370514          S9      Final       0.63  \n",
       "28370515          S9      Final       0.63  \n",
       "28370516          S9      Final       0.63  \n",
       "28370517          S9      Final       0.63  \n",
       "\n",
       "[28370518 rows x 10 columns]"
      ]
     },
     "execution_count": 27,
     "metadata": {},
     "output_type": "execute_result"
    }
   ],
   "source": [
    "big_test #Test dataframe to examine if data is imbalanced"
   ]
  },
  {
   "cell_type": "code",
   "execution_count": 148,
   "id": "569dfd9b",
   "metadata": {},
   "outputs": [
    {
     "name": "stdout",
     "output_type": "stream",
     "text": [
      "2928630\n",
      "2926799\n",
      "7538753\n",
      "7747237\n"
     ]
    }
   ],
   "source": [
    "print(len(big_test[big_test['BVP_Subject']=='S1'])) #Not perfectly balanced but pretty similar amounts\n",
    "print(len(big_test[big_test['ACC_Subject']=='S1']))\n",
    "\n",
    "#Problem comes once I want to concatenate them all together, they need to have equal amounts\n",
    "\n",
    "print(len(big_test[big_test['BVP_Test']=='Midterm 1'])) \n",
    "print(len(big_test[big_test['ACC_Test']=='Midterm 2']))"
   ]
  },
  {
   "cell_type": "code",
   "execution_count": 11,
   "id": "38499e56",
   "metadata": {},
   "outputs": [
    {
     "data": {
      "text/plain": [
       "<AxesSubplot:>"
      ]
     },
     "execution_count": 11,
     "metadata": {},
     "output_type": "execute_result"
    },
    {
     "data": {
      "image/png": "[encoded data removed]",
      "text/plain": [
       "<Figure size 640x480 with 1 Axes>"
      ]
     },
     "metadata": {},
     "output_type": "display_data"
    }
   ],
   "source": [
    "EDA_OG=pd.concat(final_dfs['EDA'], axis=0)\n",
    "EDA_OG=EDA_OG.reset_index(drop=True)\n",
    "EDA_OG=EDA_OG.reset_index(drop=True)\n",
    "EDA_OG[0][:157068].plot() #Data looks the same...good to go"
   ]
  },
  {
   "cell_type": "code",
   "execution_count": 12,
   "id": "f08e39a8",
   "metadata": {},
   "outputs": [
    {
     "data": {
      "text/plain": [
       "<AxesSubplot:>"
      ]
     },
     "execution_count": 12,
     "metadata": {},
     "output_type": "execute_result"
    },
    {
     "data": {
      "image/png": "[encoded data removed]",
      "text/plain": [
       "<Figure size 640x480 with 1 Axes>"
      ]
     },
     "metadata": {},
     "output_type": "display_data"
    }
   ],
   "source": [
    "EDA[0][:2512834].plot() #Determined end point by index of which a specific subject ended"
   ]
  },
  {
   "cell_type": "code",
   "execution_count": null,
   "id": "da120ead",
   "metadata": {},
   "outputs": [],
   "source": [
    "#Successfully found way to resample data approprately...same amouint of samples within a 64Hz sample rate for all\n",
    "    #signals within each subject...Amount of samples between subjects varies because subjects may have finished test\n",
    "    #earlier...amount of samples between exams will also vary because tests takle different amount of time.\n",
    "    "
   ]
  },
  {
   "cell_type": "code",
   "execution_count": 10,
   "id": "7d7e4faf",
   "metadata": {},
   "outputs": [],
   "source": [
    "#Create a list of dfs for each signal for each test\n",
    "signals_1=[i[i['Test']=='Midterm 1'] for i in signals]\n",
    "signals_2=[i[i['Test']=='Midterm 2'] for i in signals]\n",
    "signals_3=[i[i['Test']=='Final'] for i in signals]"
   ]
  },
  {
   "cell_type": "code",
   "execution_count": 8,
   "id": "83820caf",
   "metadata": {},
   "outputs": [],
   "source": [
    "#Function to resample to equal data points within subject for each each sensor but keeps proportions of data otherwise\n",
    "    #same\n",
    "\n",
    "def resample_to_equal_within_subject_sr(signals_list):\n",
    "    samples=defaultdict(dict)\n",
    "    names=['BVP', 'ACC', 'EDA', 'TEMP', 'HR']\n",
    "    dict_lengths=[]\n",
    "    for df in signals_list:\n",
    "        sensor_lengths=df.groupby('Subject').size().to_dict()\n",
    "        dict_lengths.append(sensor_lengths)\n",
    "    for i in zip(names, dict_lengths):\n",
    "        samples[i[0]]=i[1]\n",
    "    df_min = pd.DataFrame(samples).min(axis=1) #Got minimum values each sensor for each subject to even sampling rate\n",
    "    lengths=list(df_min)\n",
    "    subjects=df_min.index.to_numpy()\n",
    "    resampled_dfs = [resample(df[df['Subject']==subj], replace=True, n_samples=length) \n",
    "                 for df in signals_list for subj, length in zip(subjects, lengths) if subj in df['Subject'].unique()]\n",
    "    return resampled_dfs #Will return list of 50 dfs, need to concatenate the ones of same sensor"
   ]
  },
  {
   "cell_type": "code",
   "execution_count": 11,
   "id": "309224ee",
   "metadata": {},
   "outputs": [
    {
     "name": "stdout",
     "output_type": "stream",
     "text": [
      "False\n",
      "True\n"
     ]
    }
   ],
   "source": [
    "print(len(signals_1[0][signals_1[0]['Subject']=='S5'])==len(signals_1[1][signals_1[1]['Subject']=='S5']))\n",
    "\n",
    "result_1=resample_to_equal_within_subject_sr(signals_1)\n",
    "\n",
    "print(len(result_1[0][result_1[0]['Subject']=='S5'])==len(result_1[1][result_1[1]['Subject']=='S5']))\n",
    "#Quick way to check if function did what is was supposed to..should be true after result 1 is made"
   ]
  },
  {
   "cell_type": "code",
   "execution_count": 12,
   "id": "864a3879",
   "metadata": {},
   "outputs": [],
   "source": [
    "result_1 = [pd.concat(result_1[i:i+10]) for i in range(0, 50, 10)] #Concatenating dfs of same sensor\n",
    "result_2=resample_to_equal_within_subject_sr(signals_2)\n",
    "result_3=resample_to_equal_within_subject_sr(signals_3)\n",
    "result_2 = [pd.concat(result_2[i:i+10]) for i in range(0, 50, 10)]\n",
    "result_3 = [pd.concat(result_3[i:i+10]) for i in range(0, 50, 10)]"
   ]
  },
  {
   "cell_type": "code",
   "execution_count": 13,
   "id": "aba63763",
   "metadata": {},
   "outputs": [
    {
     "name": "stdout",
     "output_type": "stream",
     "text": [
      "Stored 'result_1' (list)\n",
      "Stored 'result_2' (list)\n",
      "Stored 'result_3' (list)\n"
     ]
    }
   ],
   "source": [
    "#Store data in case of dead kernel\n",
    "\n",
    "%store result_1\n",
    "%store result_2\n",
    "%store result_3"
   ]
  },
  {
   "cell_type": "code",
   "execution_count": 2,
   "id": "e9e0bb80",
   "metadata": {},
   "outputs": [],
   "source": [
    "%store -r result_1\n",
    "%store -r result_2\n",
    "%store -r result_3"
   ]
  },
  {
   "cell_type": "code",
   "execution_count": 33,
   "id": "7526f953",
   "metadata": {},
   "outputs": [],
   "source": [
    "EDA_test=resample(EDA_OG, replace=True, n_samples=len(EDA_OG)*2)\n",
    "EDA_test=EDA_test.sort_index() #Generic upsample by 2\n",
    "\n",
    "final_EDA_test=resample(EDA_OG, replace=True, n_samples=length)\n",
    "final_EDA_test=final_EDA_test.sort_index() #Actual upsample by 16\n",
    "\n",
    "length=len(BVP)\n",
    "upsampling_factor=int(length/len(EDA_OG))"
   ]
  },
  {
   "cell_type": "code",
   "execution_count": 40,
   "id": "609fe32c",
   "metadata": {},
   "outputs": [
    {
     "name": "stderr",
     "output_type": "stream",
     "text": [
      "/var/folders/wv/c3g7vgxd10n0mdl2_flcjj480000gn/T/ipykernel_12678/2172909222.py:2: FutureWarning: The behavior of `series[i:j]` with an integer-dtype index is deprecated. In a future version, this will be treated as *label-based* indexing, consistent with e.g. `series[i]` lookups. To retain the old behavior, use `series.iloc[i:j]`. To get the future behavior, use `series.loc[i:j]`.\n",
      "  EDA_test[0][10000*2:20000*2].plot(sharex=True)\n",
      "/var/folders/wv/c3g7vgxd10n0mdl2_flcjj480000gn/T/ipykernel_12678/2172909222.py:3: FutureWarning: The behavior of `series[i:j]` with an integer-dtype index is deprecated. In a future version, this will be treated as *label-based* indexing, consistent with e.g. `series[i]` lookups. To retain the old behavior, use `series.iloc[i:j]`. To get the future behavior, use `series.loc[i:j]`.\n",
      "  final_EDA_test[0][10000*16:20000*16].plot(sharex=True) #Validate the resmapling method..all looks the same\n"
     ]
    },
    {
     "data": {
      "text/plain": [
       "<AxesSubplot:>"
      ]
     },
     "execution_count": 40,
     "metadata": {},
     "output_type": "execute_result"
    },
    {
     "data": {
      "image/png": "[encoded data removed]",
      "text/plain": [
       "<Figure size 640x480 with 1 Axes>"
      ]
     },
     "metadata": {},
     "output_type": "display_data"
    }
   ],
   "source": [
    "EDA_OG[0][10000:20000].plot(sharex=True)\n",
    "EDA_test[0][10000*2:20000*2].plot(sharex=True)\n",
    "final_EDA_test[0][10000*16:20000*16].plot(sharex=True) #Validate the resmapling method..all looks the same"
   ]
  },
  {
   "cell_type": "code",
   "execution_count": 101,
   "id": "77ee3b48",
   "metadata": {},
   "outputs": [
    {
     "name": "stdout",
     "output_type": "stream",
     "text": [
      "0.26008439247089876\n",
      "0.39807888302621985\n",
      "0.26042640339035145\n",
      "0.39908241674997\n",
      "0.26011511339761245\n",
      "0.3981227579880438\n"
     ]
    }
   ],
   "source": [
    "print(EDA_OG[0].mean())\n",
    "print(EDA_OG[0].std())\n",
    "\n",
    "print(EDA_test[0].mean()) #Upsampled by factor of 2\n",
    "print(EDA_test[0].std())\n",
    "\n",
    "print(final_EDA_test[0].mean())\n",
    "print(final_EDA_test[0].std()) #Updampled by factor of 16"
   ]
  },
  {
   "cell_type": "code",
   "execution_count": 28,
   "id": "dda79a3a",
   "metadata": {},
   "outputs": [
    {
     "data": {
      "text/plain": [
       "[              0 Subject       Test  Score\n",
       " 12650351  -0.39      S1  Midterm 1   0.78\n",
       " 12367434  -0.61      S1  Midterm 1   0.78\n",
       " 12736472  -0.74      S1  Midterm 1   0.78\n",
       " 12771860  -1.08      S1  Midterm 1   0.78\n",
       " 12367711   0.29      S1  Midterm 1   0.78\n",
       " ...         ...     ...        ...    ...\n",
       " 14901113  -0.47      S9  Midterm 1   0.80\n",
       " 14967224 -11.74      S9  Midterm 1   0.80\n",
       " 14976483   0.37      S9  Midterm 1   0.80\n",
       " 14892874   2.43      S9  Midterm 1   0.80\n",
       " 14511428   0.07      S9  Midterm 1   0.80\n",
       " \n",
       " [7526499 rows x 4 columns],\n",
       "            0   1   2 Subject       Test  Score\n",
       " 12286268  -2  64  11      S1  Midterm 1   0.78\n",
       " 12932082  -3 -62  10      S1  Midterm 1   0.78\n",
       " 12524729 -38   8  51      S1  Midterm 1   0.78\n",
       " 12284405  -2  64  11      S1  Midterm 1   0.78\n",
       " 12549578 -64  -8  -8      S1  Midterm 1   0.78\n",
       " ...       ..  ..  ..     ...        ...    ...\n",
       " 14608328  -3  63  10      S9  Midterm 1   0.80\n",
       " 15030032 -66   1 -21      S9  Midterm 1   0.80\n",
       " 14931483 -40 -40 -16      S9  Midterm 1   0.80\n",
       " 14650656  -4  63  12      S9  Midterm 1   0.80\n",
       " 15032050 -63  -6 -16      S9  Midterm 1   0.80\n",
       " \n",
       " [7526499 rows x 6 columns],\n",
       "                  0 Subject       Test  Score\n",
       " 12514634  0.573056      S1  Midterm 1   0.78\n",
       " 12480469  0.589715      S1  Midterm 1   0.78\n",
       " 12901333  0.024347      S1  Midterm 1   0.78\n",
       " 12338599  0.023065      S1  Midterm 1   0.78\n",
       " 12589437  1.411465      S1  Midterm 1   0.78\n",
       " ...            ...     ...        ...    ...\n",
       " 15263513  0.014096      S9  Midterm 1   0.80\n",
       " 14984792  0.357513      S9  Midterm 1   0.80\n",
       " 15080085  0.345980      S9  Midterm 1   0.80\n",
       " 14756522  0.202463      S9  Midterm 1   0.80\n",
       " 14796308  0.260126      S9  Midterm 1   0.80\n",
       " \n",
       " [7526499 rows x 4 columns],\n",
       "               0 Subject       Test  Score\n",
       " 12419657  23.15      S1  Midterm 1   0.78\n",
       " 12317291  23.07      S1  Midterm 1   0.78\n",
       " 12868163  27.59      S1  Midterm 1   0.78\n",
       " 12902072  27.07      S1  Midterm 1   0.78\n",
       " 12494324  27.07      S1  Midterm 1   0.78\n",
       " ...         ...     ...        ...    ...\n",
       " 14981049  28.51      S9  Midterm 1   0.80\n",
       " 14688700  26.35      S9  Midterm 1   0.80\n",
       " 15281840  23.53      S9  Midterm 1   0.80\n",
       " 14652706  22.85      S9  Midterm 1   0.80\n",
       " 15037548  28.61      S9  Midterm 1   0.80\n",
       " \n",
       " [7526499 rows x 4 columns],\n",
       "                0 Subject       Test  Score\n",
       " 12887158   90.53      S1  Midterm 1   0.78\n",
       " 12416574  140.48      S1  Midterm 1   0.78\n",
       " 12549780   84.80      S1  Midterm 1   0.78\n",
       " 12619616   78.67      S1  Midterm 1   0.78\n",
       " 12311292  127.45      S1  Midterm 1   0.78\n",
       " ...          ...     ...        ...    ...\n",
       " 14645971  106.28      S9  Midterm 1   0.80\n",
       " 14853550   73.97      S9  Midterm 1   0.80\n",
       " 14868951   76.53      S9  Midterm 1   0.80\n",
       " 14883823   91.10      S9  Midterm 1   0.80\n",
       " 14881561   92.20      S9  Midterm 1   0.80\n",
       " \n",
       " [7526499 rows x 4 columns]]"
      ]
     },
     "execution_count": 28,
     "metadata": {},
     "output_type": "execute_result"
    }
   ],
   "source": [
    "result_1"
   ]
  },
  {
   "cell_type": "code",
   "execution_count": 14,
   "id": "33ba624d",
   "metadata": {},
   "outputs": [],
   "source": [
    "#A) Develop model to train data on Midterm 1 and midterm 2 and predict final score\n",
    "\n",
    "sample_1=result_1[0]\n",
    "\n",
    "midterm_1_labels=sample_1[['Subject', 'Test', 'Score']]\n",
    "midterm_1_features=[i.drop(columns=['Subject', 'Test', 'Score']) for i in result_1]\n",
    "midterm_1_features=[i.reset_index(drop=True) for i in midterm_1_features]\n",
    "midterm_1_labels=midterm_1_labels.reset_index(drop=True)\n",
    "\n",
    "midterm_1_features=pd.concat(midterm_1_features, axis=1)"
   ]
  },
  {
   "cell_type": "code",
   "execution_count": 61,
   "id": "081b2629",
   "metadata": {},
   "outputs": [
    {
     "name": "stdout",
     "output_type": "stream",
     "text": [
      "0.0011962766275630545\n",
      "9.175133099074737\n"
     ]
    }
   ],
   "source": [
    "print(midterm_1_features.iloc[:,0].mean())\n",
    "print(midterm_1_features.iloc[:,0].std())"
   ]
  },
  {
   "cell_type": "code",
   "execution_count": 15,
   "id": "9462aba8",
   "metadata": {},
   "outputs": [],
   "source": [
    "#Repeat same code as above for midterm 2\n",
    "\n",
    "sample_2=result_2[0]\n",
    "midterm_2_labels=sample_2[['Subject', 'Test', 'Score']]\n",
    "\n",
    "midterm_2_features=[i.drop(columns=['Subject', 'Test', 'Score']) for i in result_2]\n",
    "midterm_2_features=[i.reset_index(drop=True) for i in midterm_2_features]\n",
    "midterm_2_labels=midterm_2_labels.reset_index(drop=True)\n",
    "\n",
    "midterm_2_features=pd.concat(midterm_2_features, axis=1)"
   ]
  },
  {
   "cell_type": "code",
   "execution_count": 62,
   "id": "d612674f",
   "metadata": {},
   "outputs": [
    {
     "name": "stdout",
     "output_type": "stream",
     "text": [
      "0.007281551403504171\n",
      "95.36223551146617\n"
     ]
    }
   ],
   "source": [
    "print(midterm_2_features.iloc[:,0].mean())\n",
    "print(midterm_2_features.iloc[:,0].std()) #Something to look at here, if the massive std difference\n",
    "        #was a single subject and perhaps removing them from analysis. Also column at index 3 had big mean difference"
   ]
  },
  {
   "cell_type": "code",
   "execution_count": 24,
   "id": "743cbfa5",
   "metadata": {},
   "outputs": [],
   "source": [
    "import math\n",
    "\n",
    "def factors(n):\n",
    "    factors = []\n",
    "    for i in range(1, int(math.sqrt(n))+1): #+1 because range stops 1 number short\n",
    "        if n % i == 0:\n",
    "            factors.append(i)\n",
    "            if i != n // i: #Check if perfect square root\n",
    "                factors.append(n//i)\n",
    "    return factors"
   ]
  },
  {
   "cell_type": "code",
   "execution_count": 18,
   "id": "edfcdfaa",
   "metadata": {},
   "outputs": [
    {
     "data": {
      "text/plain": [
       "(15264469, 7)"
      ]
     },
     "execution_count": 18,
     "metadata": {},
     "output_type": "execute_result"
    }
   ],
   "source": [
    "#Developing and scaling features\n",
    "model_1_features=pd.concat([midterm_2_features, midterm_1_features], axis=0)\n",
    "model_1_features=preprocessing.StandardScaler().fit_transform(model_1_features)\n",
    "model_1_features.shape"
   ]
  },
  {
   "cell_type": "code",
   "execution_count": 19,
   "id": "412c5aca",
   "metadata": {},
   "outputs": [],
   "source": [
    "model_1_features=model_1_features.reshape(-1,1,7) #Rehsape data"
   ]
  },
  {
   "cell_type": "code",
   "execution_count": 20,
   "id": "42f7b794",
   "metadata": {},
   "outputs": [
    {
     "data": {
      "text/plain": [
       "(15264469, 1, 7)"
      ]
     },
     "execution_count": 20,
     "metadata": {},
     "output_type": "execute_result"
    }
   ],
   "source": [
    "model_1_features.shape"
   ]
  },
  {
   "cell_type": "code",
   "execution_count": 70,
   "id": "2a86ec73",
   "metadata": {},
   "outputs": [],
   "source": [
    "model_1_labels=pd.concat([midterm_1_labels['Score'], midterm_2_labels['Score']], axis=0)"
   ]
  },
  {
   "cell_type": "code",
   "execution_count": 96,
   "id": "252fc8a7",
   "metadata": {},
   "outputs": [],
   "source": [
    "#Developing labels for splices...with only one row this is not needed\n",
    "\n",
    "\n",
    "model_1_labels=pd.concat([midterm_1_labels['Score'], midterm_2_labels['Score']], axis=0)\n",
    "modes=[]\n",
    "for i in range(0, len(model_1_labels), 42):\n",
    "    batch = model_1_labels[i:i+42]\n",
    "    mode = stats.mode(batch)[0][0]\n",
    "    # Append the mode to the new array\n",
    "    modes.append(mode)\n",
    "model_1_labels=np.asarray(modes)"
   ]
  },
  {
   "cell_type": "code",
   "execution_count": 73,
   "id": "4ac2d3a9",
   "metadata": {},
   "outputs": [],
   "source": [
    "model_1_labels=model_1_labels.to_numpy().reshape(-1,1)"
   ]
  },
  {
   "cell_type": "code",
   "execution_count": 74,
   "id": "1a6b8b9a",
   "metadata": {},
   "outputs": [
    {
     "data": {
      "text/plain": [
       "(15262271, 1)"
      ]
     },
     "execution_count": 74,
     "metadata": {},
     "output_type": "execute_result"
    }
   ],
   "source": [
    "model_1_labels.shape"
   ]
  },
  {
   "cell_type": "code",
   "execution_count": 75,
   "id": "f195e59f",
   "metadata": {},
   "outputs": [
    {
     "data": {
      "text/plain": [
       "array([[0.78],\n",
       "       [0.78],\n",
       "       [0.78],\n",
       "       ...,\n",
       "       [0.39],\n",
       "       [0.39],\n",
       "       [0.39]])"
      ]
     },
     "execution_count": 75,
     "metadata": {},
     "output_type": "execute_result"
    }
   ],
   "source": [
    "model_1_labels"
   ]
  },
  {
   "cell_type": "code",
   "execution_count": 243,
   "id": "3e39be45",
   "metadata": {},
   "outputs": [
    {
     "name": "stdout",
     "output_type": "stream",
     "text": [
      "Model: \"simple LSTM\"\n",
      "_________________________________________________________________\n",
      " Layer (type)                Output Shape              Param #   \n",
      "=================================================================\n",
      " input_10 (InputLayer)       [(None, 1, 7)]            0         \n",
      "                                                                 \n",
      " lstm_35 (LSTM)              (None, 1, 256)            270336    \n",
      "                                                                 \n",
      " dropout_17 (Dropout)        (None, 1, 256)            0         \n",
      "                                                                 \n",
      " lstm_36 (LSTM)              (None, 1, 128)            197120    \n",
      "                                                                 \n",
      " dropout_18 (Dropout)        (None, 1, 128)            0         \n",
      "                                                                 \n",
      " lstm_37 (LSTM)              (None, 1, 64)             49408     \n",
      "                                                                 \n",
      " dropout_19 (Dropout)        (None, 1, 64)             0         \n",
      "                                                                 \n",
      " dense_32 (Dense)            (None, 1, 32)             2080      \n",
      "                                                                 \n",
      " dense_33 (Dense)            (None, 1, 1)              33        \n",
      "                                                                 \n",
      "=================================================================\n",
      "Total params: 518,977\n",
      "Trainable params: 518,977\n",
      "Non-trainable params: 0\n",
      "_________________________________________________________________\n"
     ]
    }
   ],
   "source": [
    "#A) Performance Prediction model\n",
    "\n",
    "inputs=tf.keras.Input(shape=(1,7))\n",
    "x=keras.layers.LSTM(256, return_sequences=True)(inputs)\n",
    "x=keras.layers.Dropout(0.3)(x)\n",
    "x=keras.layers.LSTM(128, return_sequences=True)(x)\n",
    "x=keras.layers.Dropout(0.3)(x)\n",
    "x=keras.layers.LSTM(64, return_sequences=True)(x)\n",
    "x=keras.layers.Dropout(0.3)(x)\n",
    "x=keras.layers.Dense(32, activation='relu')(x)\n",
    "z=keras.layers.Dense(1, activation='relu')(x)\n",
    "\n",
    "model_1=keras.Model(inputs=inputs, outputs=z, name='simple LSTM')\n",
    "\n",
    "model_1.compile(optimizer='rmsprop', loss='mse', metrics=['mae'])\n",
    "\n",
    "model_1.summary()"
   ]
  },
  {
   "cell_type": "code",
   "execution_count": 244,
   "id": "553131cc",
   "metadata": {},
   "outputs": [],
   "source": [
    "model_1_features=model_1_features.reshape(-1,1,7) #redoing the shape of input data because test data is different"
   ]
  },
  {
   "cell_type": "code",
   "execution_count": 246,
   "id": "2aeacecd",
   "metadata": {},
   "outputs": [],
   "source": [
    "model_1_labels=pd.concat([midterm_1_labels['Score'], midterm_2_labels['Score']], axis=0)"
   ]
  },
  {
   "cell_type": "code",
   "execution_count": 248,
   "id": "f8cb1a2a",
   "metadata": {},
   "outputs": [],
   "source": [
    "model_1_labels=model_1_labels.to_numpy()"
   ]
  },
  {
   "cell_type": "code",
   "execution_count": 249,
   "id": "56b4f2f9",
   "metadata": {},
   "outputs": [
    {
     "name": "stderr",
     "output_type": "stream",
     "text": [
      "/Users/jaredperez/opt/miniconda3/envs/tf/lib/python3.10/site-packages/tensorflow/python/data/ops/structured_function.py:264: UserWarning: Even though the `tf.config.experimental_run_functions_eagerly` option is set, this option does not apply to tf.data functions. To force eager execution of tf.data functions, please use `tf.data.experimental.enable_debug_mode()`.\n",
      "  warnings.warn(\n"
     ]
    },
    {
     "name": "stdout",
     "output_type": "stream",
     "text": [
      "Epoch 1/3\n",
      "2443/2443 [==============================] - 239s 96ms/step - loss: 0.0094 - mae: 0.0713 - val_loss: 0.0948 - val_mae: 0.2678\n",
      "Epoch 2/3\n",
      "2443/2443 [==============================] - 239s 98ms/step - loss: 0.0069 - mae: 0.0658 - val_loss: 0.0885 - val_mae: 0.2594\n",
      "Epoch 3/3\n",
      "2443/2443 [==============================] - 253s 103ms/step - loss: 0.0069 - mae: 0.0658 - val_loss: 0.1010 - val_mae: 0.2755\n"
     ]
    },
    {
     "data": {
      "text/plain": [
       "<keras.callbacks.History at 0x38d41a4a0>"
      ]
     },
     "execution_count": 249,
     "metadata": {},
     "output_type": "execute_result"
    }
   ],
   "source": [
    "model_1.fit(model_1_features, model_1_labels, validation_split=0.2, epochs=3, batch_size=5000, verbose=1)"
   ]
  },
  {
   "cell_type": "code",
   "execution_count": 21,
   "id": "d80a199c",
   "metadata": {},
   "outputs": [],
   "source": [
    "#Develop the Test Set (i.e finals scores)\n",
    "\n",
    "test=result_3[0]\n",
    "\n",
    "final_labels=test[['Subject', 'Test', 'Score']]\n",
    "final_x_test=[i.drop(columns=['Subject', 'Test', 'Score']) for i in result_3]\n",
    "final_x_test=[i.reset_index(drop=True) for i in final_x_test]\n",
    "final_y_test=final_labels.reset_index(drop=True)\n",
    "final_x_test=pd.concat([i for i in final_x_test], axis=1)"
   ]
  },
  {
   "cell_type": "code",
   "execution_count": 22,
   "id": "9018694a",
   "metadata": {},
   "outputs": [
    {
     "data": {
      "text/plain": [
       "(13073764, 1, 7)"
      ]
     },
     "execution_count": 22,
     "metadata": {},
     "output_type": "execute_result"
    }
   ],
   "source": [
    "final_x_test=preprocessing.StandardScaler().fit_transform(final_x_test)\n",
    "final_x_test=final_x_test.reshape(-1,1,7)\n",
    "\n",
    "final_x_test.shape"
   ]
  },
  {
   "cell_type": "code",
   "execution_count": 23,
   "id": "6573d398",
   "metadata": {},
   "outputs": [
    {
     "data": {
      "text/plain": [
       "(13073764, 1)"
      ]
     },
     "execution_count": 23,
     "metadata": {},
     "output_type": "execute_result"
    }
   ],
   "source": [
    "final_y_test=final_labels['Score'].to_numpy()\n",
    "final_y_test=final_y_test.reshape(-1,1)\n",
    "final_y_test.shape"
   ]
  },
  {
   "cell_type": "code",
   "execution_count": 252,
   "id": "1c810c0d",
   "metadata": {},
   "outputs": [
    {
     "name": "stderr",
     "output_type": "stream",
     "text": [
      "/Users/jaredperez/opt/miniconda3/envs/tf/lib/python3.10/site-packages/tensorflow/python/data/ops/structured_function.py:264: UserWarning: Even though the `tf.config.experimental_run_functions_eagerly` option is set, this option does not apply to tf.data functions. To force eager execution of tf.data functions, please use `tf.data.experimental.enable_debug_mode()`.\n",
      "  warnings.warn(\n"
     ]
    },
    {
     "name": "stdout",
     "output_type": "stream",
     "text": [
      "13072/13072 [==============================] - 272s 21ms/step - loss: 0.0207 - mae: 0.1285\n"
     ]
    },
    {
     "data": {
      "text/plain": [
       "[0.020731130614876747, 0.12848584353923798]"
      ]
     },
     "execution_count": 252,
     "metadata": {},
     "output_type": "execute_result"
    }
   ],
   "source": [
    "model_1.evaluate(x=final_x_test, y=final_y_test, verbose=1, batch_size=1000)"
   ]
  },
  {
   "cell_type": "code",
   "execution_count": 253,
   "id": "a6e76cb0",
   "metadata": {},
   "outputs": [
    {
     "name": "stdout",
     "output_type": "stream",
     "text": [
      "13072/13072 [==============================] - 222s 17ms/step\n"
     ]
    }
   ],
   "source": [
    "final_grades_predictions=model_1.predict(final_x_test, batch_size=1000)"
   ]
  },
  {
   "cell_type": "code",
   "execution_count": 273,
   "id": "369c0f62",
   "metadata": {},
   "outputs": [],
   "source": [
    "final_grades_predictions=final_grades_predictions.flatten()"
   ]
  },
  {
   "cell_type": "code",
   "execution_count": 274,
   "id": "ef90f485",
   "metadata": {},
   "outputs": [
    {
     "data": {
      "image/png": "[encoded data removed]",
      "text/plain": [
       "<Figure size 640x480 with 1 Axes>"
      ]
     },
     "metadata": {},
     "output_type": "display_data"
    }
   ],
   "source": [
    "plt.hist(final_grades_predictions, bins=20) #Highly unrealistic predictions...all lumped aorund one number to minimize\n",
    "            #mae\n",
    "\n",
    "plt.xlabel('Data')\n",
    "plt.ylabel('Frequency')\n",
    "plt.title('Histogram of Performance Predictions with all Scores Included')\n",
    "plt.show()`"
   ]
  },
  {
   "cell_type": "code",
   "execution_count": 278,
   "id": "7c9719cf",
   "metadata": {},
   "outputs": [
    {
     "name": "stdout",
     "output_type": "stream",
     "text": [
      "Model: \"GRU Attention\"\n",
      "__________________________________________________________________________________________________\n",
      " Layer (type)                   Output Shape         Param #     Connected to                     \n",
      "==================================================================================================\n",
      " input_19 (InputLayer)          [(None, 1, 7)]       0           []                               \n",
      "                                                                                                  \n",
      " dense_55 (Dense)               (None, 1, 256)       2048        ['input_19[0][0]']               \n",
      "                                                                                                  \n",
      " gru_6 (GRU)                    (None, 1, 256)       394752      ['dense_55[0][0]']               \n",
      "                                                                                                  \n",
      " attention_12 (Attention)       (None, 1, 256)       0           ['dense_55[0][0]',               \n",
      "                                                                  'gru_6[0][0]']                  \n",
      "                                                                                                  \n",
      " dense_56 (Dense)               (None, 1, 128)       32896       ['attention_12[0][0]']           \n",
      "                                                                                                  \n",
      " gru_7 (GRU)                    (None, 1, 128)       99072       ['dense_56[0][0]']               \n",
      "                                                                                                  \n",
      " attention_13 (Attention)       (None, 1, 128)       0           ['dense_56[0][0]',               \n",
      "                                                                  'gru_7[0][0]']                  \n",
      "                                                                                                  \n",
      " gru_8 (GRU)                    (None, 64)           37248       ['attention_13[0][0]']           \n",
      "                                                                                                  \n",
      " dropout_25 (Dropout)           (None, 64)           0           ['gru_8[0][0]']                  \n",
      "                                                                                                  \n",
      " dense_57 (Dense)               (None, 32)           2080        ['dropout_25[0][0]']             \n",
      "                                                                                                  \n",
      " dense_58 (Dense)               (None, 1)            33          ['dense_57[0][0]']               \n",
      "                                                                                                  \n",
      "==================================================================================================\n",
      "Total params: 568,129\n",
      "Trainable params: 568,129\n",
      "Non-trainable params: 0\n",
      "__________________________________________________________________________________________________\n"
     ]
    }
   ],
   "source": [
    "#A2) 2nd Performance Prediction Model..more complex architecture\n",
    "\n",
    "inputs=tf.keras.Input(shape=(1,7))\n",
    "x=keras.layers.Dense(256, activation='relu')(inputs)\n",
    "y=keras.layers.GRU(256, return_sequences=True)(x)\n",
    "\n",
    "attention=keras.layers.Attention()([x,y])\n",
    "\n",
    "x=keras.layers.Dense(128, activation='relu')(attention)\n",
    "y=keras.layers.GRU(128, return_sequences=True)(x)\n",
    "\n",
    "attention2=keras.layers.Attention()([x,y])\n",
    "\n",
    "x=keras.layers.GRU(64)(attention2)\n",
    "x=keras.layers.Dropout(0.3)(x)\n",
    "x=keras.layers.Dense(32, activation='relu')(x)\n",
    "x=keras.layers.Dense(1, activation='relu')(x)\n",
    "\n",
    "model_2=keras.Model(inputs=inputs, outputs=x, name='GRU Attention')\n",
    "\n",
    "model_2.compile(optimizer='rmsprop', loss='mse', metrics=['mae'])\n",
    "\n",
    "model_2.summary()"
   ]
  },
  {
   "cell_type": "code",
   "execution_count": 279,
   "id": "02b2e301",
   "metadata": {},
   "outputs": [
    {
     "data": {
      "text/plain": [
       "array([0.78, 0.78, 0.78, ..., 0.39, 0.39, 0.39])"
      ]
     },
     "execution_count": 279,
     "metadata": {},
     "output_type": "execute_result"
    }
   ],
   "source": [
    "model_1_labels"
   ]
  },
  {
   "cell_type": "code",
   "execution_count": 280,
   "id": "597b6ffa",
   "metadata": {},
   "outputs": [
    {
     "name": "stderr",
     "output_type": "stream",
     "text": [
      "/Users/jaredperez/opt/miniconda3/envs/tf/lib/python3.10/site-packages/tensorflow/python/data/ops/structured_function.py:264: UserWarning: Even though the `tf.config.experimental_run_functions_eagerly` option is set, this option does not apply to tf.data functions. To force eager execution of tf.data functions, please use `tf.data.experimental.enable_debug_mode()`.\n",
      "  warnings.warn(\n"
     ]
    },
    {
     "name": "stdout",
     "output_type": "stream",
     "text": [
      "Epoch 1/3\n",
      "1527/1527 [==============================] - 246s 160ms/step - loss: 0.0191 - mae: 0.1023\n",
      "Epoch 2/3\n",
      "1527/1527 [==============================] - 235s 154ms/step - loss: 0.0133 - mae: 0.0825\n",
      "Epoch 3/3\n",
      "1527/1527 [==============================] - 226s 148ms/step - loss: 0.0120 - mae: 0.0768\n"
     ]
    },
    {
     "data": {
      "text/plain": [
       "<keras.callbacks.History at 0x78646d4e0>"
      ]
     },
     "execution_count": 280,
     "metadata": {},
     "output_type": "execute_result"
    }
   ],
   "source": [
    "model_2.fit(model_1_features, model_1_labels, batch_size=10000, verbose=1, epochs=3)"
   ]
  },
  {
   "cell_type": "code",
   "execution_count": 281,
   "id": "b54beb20",
   "metadata": {},
   "outputs": [
    {
     "name": "stderr",
     "output_type": "stream",
     "text": [
      "/Users/jaredperez/opt/miniconda3/envs/tf/lib/python3.10/site-packages/tensorflow/python/data/ops/structured_function.py:264: UserWarning: Even though the `tf.config.experimental_run_functions_eagerly` option is set, this option does not apply to tf.data functions. To force eager execution of tf.data functions, please use `tf.data.experimental.enable_debug_mode()`.\n",
      "  warnings.warn(\n"
     ]
    },
    {
     "name": "stdout",
     "output_type": "stream",
     "text": [
      "1308/1308 [==============================] - 55s 42ms/step\n"
     ]
    }
   ],
   "source": [
    "final_grades_predictions2=model_2.predict(final_x_test, batch_size=10000, verbose=1)"
   ]
  },
  {
   "cell_type": "code",
   "execution_count": 282,
   "id": "ad2f1a43",
   "metadata": {},
   "outputs": [
    {
     "data": {
      "text/plain": [
       "array([[0.7592111 ],\n",
       "       [0.67758113],\n",
       "       [0.76907057],\n",
       "       ...,\n",
       "       [0.7787059 ],\n",
       "       [0.7328728 ],\n",
       "       [0.80576503]], dtype=float32)"
      ]
     },
     "execution_count": 282,
     "metadata": {},
     "output_type": "execute_result"
    }
   ],
   "source": [
    "final_grades_predictions2 #More realistic range of predictions but worse mae performance"
   ]
  },
  {
   "cell_type": "code",
   "execution_count": 288,
   "id": "63b76b14",
   "metadata": {},
   "outputs": [
    {
     "name": "stderr",
     "output_type": "stream",
     "text": [
      "/Users/jaredperez/opt/miniconda3/envs/tf/lib/python3.10/site-packages/tensorflow/python/data/ops/structured_function.py:264: UserWarning: Even though the `tf.config.experimental_run_functions_eagerly` option is set, this option does not apply to tf.data functions. To force eager execution of tf.data functions, please use `tf.data.experimental.enable_debug_mode()`.\n",
      "  warnings.warn(\n"
     ]
    },
    {
     "name": "stdout",
     "output_type": "stream",
     "text": [
      "1308/1308 [==============================] - 55s 42ms/step - loss: 0.0213 - mae: 0.1308\n"
     ]
    },
    {
     "data": {
      "text/plain": [
       "[0.021272964775562286, 0.13077592849731445]"
      ]
     },
     "execution_count": 288,
     "metadata": {},
     "output_type": "execute_result"
    }
   ],
   "source": [
    "model_2.evaluate(final_x_test, final_y_test, batch_size=10000, verbose=1)"
   ]
  },
  {
   "cell_type": "code",
   "execution_count": 119,
   "id": "6be7beb4",
   "metadata": {},
   "outputs": [],
   "source": [
    "#A3) Performance Predictions with less of a range of values\n",
    "\n",
    "        #Step 1: Cut the range of scores...lets try and predict the top 50% of scores...define the top 50% of scores\n",
    "    \n",
    "greater_50_1=[i[i['Score']>i['Score'].mean()] for i in result_1]\n",
    "greater_50_2=[i[i['Score']>i['Score'].mean()] for i in result_2]\n",
    "greater_50_3=[i[i['Score']>i['Score'].mean()] for i in result_3]\n",
    "\n",
    "greater_50_1=[i.sort_index().reset_index(drop=True) for i in greater_50_1]\n",
    "greater_50_2=[i.sort_index().reset_index(drop=True) for i in greater_50_2]\n",
    "greater_50_3=[i.sort_index().reset_index(drop=True) for i in greater_50_3]\n",
    "\n",
    "greater_50_1_labels=greater_50_1[0]['Score']\n",
    "greater_50_2_labels=greater_50_2[0]['Score']\n",
    "greater_50_3_labels=greater_50_3[0]['Score']\n",
    "\n",
    "greater_50_1_features=[i.drop(columns=['Subject', 'Test', 'Score']) for i in greater_50_1]\n",
    "greater_50_2_features=[i.drop(columns=['Subject', 'Test', 'Score']) for i in greater_50_2]\n",
    "greater_50_3_features=[i.drop(columns=['Subject', 'Test', 'Score']) for i in greater_50_3]\n",
    "\n",
    "greater_50_1_features=pd.concat(greater_50_1_features, axis=1)\n",
    "greater_50_2_features=pd.concat(greater_50_2_features, axis=1)\n",
    "X_test=pd.concat(greater_50_3_features, axis=1)"
   ]
  },
  {
   "cell_type": "code",
   "execution_count": 151,
   "id": "5bbbd967",
   "metadata": {},
   "outputs": [],
   "source": [
    "#Normalize data\n",
    "\n",
    "model_3A_features=pd.concat([greater_50_1_features, greater_50_2_features], axis=0)\n",
    "model_3A_features=preprocessing.StandardScaler().fit_transform(model_3A_features)\n",
    "\n",
    "X_test=preprocessing.StandardScaler().fit_transform(X_test)\n",
    "X_test=X_test.reshape(-1,1,7)\n",
    "\n",
    "model_3A_labels=pd.concat([greater_50_1_labels, greater_50_2_labels], axis=0).to_numpy().reshape(-1,1)\n",
    "model_3A_features=model_3A_features.reshape(-1,1,7)\n",
    "\n",
    "y_test=y_test=greater_50_3_labels.to_numpy().reshape(-1,1)"
   ]
  },
  {
   "cell_type": "code",
   "execution_count": 164,
   "id": "315c2b73",
   "metadata": {},
   "outputs": [
    {
     "name": "stdout",
     "output_type": "stream",
     "text": [
      "Model: \"model\"\n",
      "_________________________________________________________________\n",
      " Layer (type)                Output Shape              Param #   \n",
      "=================================================================\n",
      " input_2 (InputLayer)        [(None, 1, 7)]            0         \n",
      "                                                                 \n",
      " lstm_3 (LSTM)               (None, 1, 256)            270336    \n",
      "                                                                 \n",
      " dropout_3 (Dropout)         (None, 1, 256)            0         \n",
      "                                                                 \n",
      " lstm_4 (LSTM)               (None, 1, 128)            197120    \n",
      "                                                                 \n",
      " dropout_4 (Dropout)         (None, 1, 128)            0         \n",
      "                                                                 \n",
      " lstm_5 (LSTM)               (None, 1, 64)             49408     \n",
      "                                                                 \n",
      " dropout_5 (Dropout)         (None, 1, 64)             0         \n",
      "                                                                 \n",
      " dense_2 (Dense)             (None, 1, 32)             2080      \n",
      "                                                                 \n",
      " dense_3 (Dense)             (None, 1, 1)              33        \n",
      "                                                                 \n",
      "=================================================================\n",
      "Total params: 518,977\n",
      "Trainable params: 518,977\n",
      "Non-trainable params: 0\n",
      "_________________________________________________________________\n"
     ]
    }
   ],
   "source": [
    "#Model 3A...simple LSTM\n",
    "\n",
    "inputs=tf.keras.Input(shape=(1,7))\n",
    "x=keras.layers.LSTM(256, return_sequences=True)(inputs)\n",
    "x=keras.layers.Dropout(0.3)(x)\n",
    "x=keras.layers.LSTM(128, return_sequences=True)(x)\n",
    "x=keras.layers.Dropout(0.3)(x)\n",
    "x=keras.layers.LSTM(64, return_sequences=True)(x)\n",
    "x=keras.layers.Dropout(0.3)(x)\n",
    "x=keras.layers.Dense(32, activation='relu')(x)\n",
    "z=keras.layers.Dense(1, activation='relu')(x)\n",
    "\n",
    "model_3A=keras.Model(inputs=inputs, outputs=z)\n",
    "\n",
    "model_3A.compile(optimizer='rmsprop', loss='mse', metrics=['mae'])\n",
    "\n",
    "model_3A.summary()"
   ]
  },
  {
   "cell_type": "code",
   "execution_count": 165,
   "id": "e08722bd",
   "metadata": {},
   "outputs": [
    {
     "name": "stdout",
     "output_type": "stream",
     "text": [
      "Epoch 1/3\n"
     ]
    },
    {
     "name": "stderr",
     "output_type": "stream",
     "text": [
      "2023-01-23 08:40:09.207291: I tensorflow/core/grappler/optimizers/custom_graph_optimizer_registry.cc:114] Plugin optimizer for device_type GPU is enabled.\n",
      "2023-01-23 08:40:09.773359: I tensorflow/core/grappler/optimizers/custom_graph_optimizer_registry.cc:114] Plugin optimizer for device_type GPU is enabled.\n",
      "2023-01-23 08:40:09.907234: I tensorflow/core/grappler/optimizers/custom_graph_optimizer_registry.cc:114] Plugin optimizer for device_type GPU is enabled.\n",
      "2023-01-23 08:40:09.957135: I tensorflow/core/grappler/optimizers/custom_graph_optimizer_registry.cc:114] Plugin optimizer for device_type GPU is enabled.\n",
      "2023-01-23 08:40:10.450049: I tensorflow/core/grappler/optimizers/custom_graph_optimizer_registry.cc:114] Plugin optimizer for device_type GPU is enabled.\n",
      "2023-01-23 08:40:10.580932: I tensorflow/core/grappler/optimizers/custom_graph_optimizer_registry.cc:114] Plugin optimizer for device_type GPU is enabled.\n"
     ]
    },
    {
     "name": "stdout",
     "output_type": "stream",
     "text": [
      "\r",
      "   1/6595 [..............................] - ETA: 8:53:59 - loss: 0.6959 - mae: 0.8325"
     ]
    },
    {
     "name": "stderr",
     "output_type": "stream",
     "text": [
      "2023-01-23 08:40:10.695058: I tensorflow/core/grappler/optimizers/custom_graph_optimizer_registry.cc:114] Plugin optimizer for device_type GPU is enabled.\n"
     ]
    },
    {
     "name": "stdout",
     "output_type": "stream",
     "text": [
      "6595/6595 [==============================] - ETA: 0s - loss: 0.0028 - mae: 0.0320"
     ]
    },
    {
     "name": "stderr",
     "output_type": "stream",
     "text": [
      "2023-01-23 08:43:21.801043: I tensorflow/core/grappler/optimizers/custom_graph_optimizer_registry.cc:114] Plugin optimizer for device_type GPU is enabled.\n",
      "2023-01-23 08:43:21.940680: I tensorflow/core/grappler/optimizers/custom_graph_optimizer_registry.cc:114] Plugin optimizer for device_type GPU is enabled.\n",
      "2023-01-23 08:43:21.981938: I tensorflow/core/grappler/optimizers/custom_graph_optimizer_registry.cc:114] Plugin optimizer for device_type GPU is enabled.\n",
      "2023-01-23 08:43:22.029774: I tensorflow/core/grappler/optimizers/custom_graph_optimizer_registry.cc:114] Plugin optimizer for device_type GPU is enabled.\n"
     ]
    },
    {
     "name": "stdout",
     "output_type": "stream",
     "text": [
      "6595/6595 [==============================] - 217s 32ms/step - loss: 0.0028 - mae: 0.0320 - val_loss: 0.0031 - val_mae: 0.0456\n",
      "Epoch 2/3\n",
      "6595/6595 [==============================] - 210s 32ms/step - loss: 6.5065e-04 - mae: 0.0157 - val_loss: 0.0030 - val_mae: 0.0436\n",
      "Epoch 3/3\n",
      "3395/6595 [==============>...............] - ETA: 1:33 - loss: 4.8381e-04 - mae: 0.0127"
     ]
    },
    {
     "ename": "KeyboardInterrupt",
     "evalue": "",
     "output_type": "error",
     "traceback": [
      "\u001b[0;31m---------------------------------------------------------------------------\u001b[0m",
      "\u001b[0;31mKeyboardInterrupt\u001b[0m                         Traceback (most recent call last)",
      "Cell \u001b[0;32mIn [165], line 1\u001b[0m\n\u001b[0;32m----> 1\u001b[0m \u001b[43mmodel_3A\u001b[49m\u001b[38;5;241;43m.\u001b[39;49m\u001b[43mfit\u001b[49m\u001b[43m(\u001b[49m\u001b[43mmodel_3A_features\u001b[49m\u001b[43m,\u001b[49m\u001b[43m \u001b[49m\u001b[43mmodel_3A_labels\u001b[49m\u001b[43m,\u001b[49m\u001b[43m \u001b[49m\u001b[43mbatch_size\u001b[49m\u001b[38;5;241;43m=\u001b[39;49m\u001b[38;5;241;43m1000\u001b[39;49m\u001b[43m,\u001b[49m\u001b[43m \u001b[49m\u001b[43mepochs\u001b[49m\u001b[38;5;241;43m=\u001b[39;49m\u001b[38;5;241;43m3\u001b[39;49m\u001b[43m,\u001b[49m\u001b[43m \u001b[49m\u001b[43mvalidation_split\u001b[49m\u001b[38;5;241;43m=\u001b[39;49m\u001b[38;5;241;43m.2\u001b[39;49m\u001b[43m,\u001b[49m\u001b[43m \u001b[49m\u001b[43mverbose\u001b[49m\u001b[38;5;241;43m=\u001b[39;49m\u001b[38;5;241;43m1\u001b[39;49m\u001b[43m)\u001b[49m\n",
      "File \u001b[0;32m~/opt/miniconda3/envs/tf/lib/python3.10/site-packages/keras/utils/traceback_utils.py:65\u001b[0m, in \u001b[0;36mfilter_traceback.<locals>.error_handler\u001b[0;34m(*args, **kwargs)\u001b[0m\n\u001b[1;32m     63\u001b[0m filtered_tb \u001b[38;5;241m=\u001b[39m \u001b[38;5;28;01mNone\u001b[39;00m\n\u001b[1;32m     64\u001b[0m \u001b[38;5;28;01mtry\u001b[39;00m:\n\u001b[0;32m---> 65\u001b[0m     \u001b[38;5;28;01mreturn\u001b[39;00m \u001b[43mfn\u001b[49m\u001b[43m(\u001b[49m\u001b[38;5;241;43m*\u001b[39;49m\u001b[43margs\u001b[49m\u001b[43m,\u001b[49m\u001b[43m \u001b[49m\u001b[38;5;241;43m*\u001b[39;49m\u001b[38;5;241;43m*\u001b[39;49m\u001b[43mkwargs\u001b[49m\u001b[43m)\u001b[49m\n\u001b[1;32m     66\u001b[0m \u001b[38;5;28;01mexcept\u001b[39;00m \u001b[38;5;167;01mException\u001b[39;00m \u001b[38;5;28;01mas\u001b[39;00m e:\n\u001b[1;32m     67\u001b[0m     filtered_tb \u001b[38;5;241m=\u001b[39m _process_traceback_frames(e\u001b[38;5;241m.\u001b[39m__traceback__)\n",
      "File \u001b[0;32m~/opt/miniconda3/envs/tf/lib/python3.10/site-packages/keras/engine/training.py:1564\u001b[0m, in \u001b[0;36mModel.fit\u001b[0;34m(self, x, y, batch_size, epochs, verbose, callbacks, validation_split, validation_data, shuffle, class_weight, sample_weight, initial_epoch, steps_per_epoch, validation_steps, validation_batch_size, validation_freq, max_queue_size, workers, use_multiprocessing)\u001b[0m\n\u001b[1;32m   1556\u001b[0m \u001b[38;5;28;01mwith\u001b[39;00m tf\u001b[38;5;241m.\u001b[39mprofiler\u001b[38;5;241m.\u001b[39mexperimental\u001b[38;5;241m.\u001b[39mTrace(\n\u001b[1;32m   1557\u001b[0m     \u001b[38;5;124m\"\u001b[39m\u001b[38;5;124mtrain\u001b[39m\u001b[38;5;124m\"\u001b[39m,\n\u001b[1;32m   1558\u001b[0m     epoch_num\u001b[38;5;241m=\u001b[39mepoch,\n\u001b[0;32m   (...)\u001b[0m\n\u001b[1;32m   1561\u001b[0m     _r\u001b[38;5;241m=\u001b[39m\u001b[38;5;241m1\u001b[39m,\n\u001b[1;32m   1562\u001b[0m ):\n\u001b[1;32m   1563\u001b[0m     callbacks\u001b[38;5;241m.\u001b[39mon_train_batch_begin(step)\n\u001b[0;32m-> 1564\u001b[0m     tmp_logs \u001b[38;5;241m=\u001b[39m \u001b[38;5;28;43mself\u001b[39;49m\u001b[38;5;241;43m.\u001b[39;49m\u001b[43mtrain_function\u001b[49m\u001b[43m(\u001b[49m\u001b[43miterator\u001b[49m\u001b[43m)\u001b[49m\n\u001b[1;32m   1565\u001b[0m     \u001b[38;5;28;01mif\u001b[39;00m data_handler\u001b[38;5;241m.\u001b[39mshould_sync:\n\u001b[1;32m   1566\u001b[0m         context\u001b[38;5;241m.\u001b[39masync_wait()\n",
      "File \u001b[0;32m~/opt/miniconda3/envs/tf/lib/python3.10/site-packages/tensorflow/python/util/traceback_utils.py:150\u001b[0m, in \u001b[0;36mfilter_traceback.<locals>.error_handler\u001b[0;34m(*args, **kwargs)\u001b[0m\n\u001b[1;32m    148\u001b[0m filtered_tb \u001b[38;5;241m=\u001b[39m \u001b[38;5;28;01mNone\u001b[39;00m\n\u001b[1;32m    149\u001b[0m \u001b[38;5;28;01mtry\u001b[39;00m:\n\u001b[0;32m--> 150\u001b[0m   \u001b[38;5;28;01mreturn\u001b[39;00m \u001b[43mfn\u001b[49m\u001b[43m(\u001b[49m\u001b[38;5;241;43m*\u001b[39;49m\u001b[43margs\u001b[49m\u001b[43m,\u001b[49m\u001b[43m \u001b[49m\u001b[38;5;241;43m*\u001b[39;49m\u001b[38;5;241;43m*\u001b[39;49m\u001b[43mkwargs\u001b[49m\u001b[43m)\u001b[49m\n\u001b[1;32m    151\u001b[0m \u001b[38;5;28;01mexcept\u001b[39;00m \u001b[38;5;167;01mException\u001b[39;00m \u001b[38;5;28;01mas\u001b[39;00m e:\n\u001b[1;32m    152\u001b[0m   filtered_tb \u001b[38;5;241m=\u001b[39m _process_traceback_frames(e\u001b[38;5;241m.\u001b[39m__traceback__)\n",
      "File \u001b[0;32m~/opt/miniconda3/envs/tf/lib/python3.10/site-packages/tensorflow/python/eager/def_function.py:915\u001b[0m, in \u001b[0;36mFunction.__call__\u001b[0;34m(self, *args, **kwds)\u001b[0m\n\u001b[1;32m    912\u001b[0m compiler \u001b[38;5;241m=\u001b[39m \u001b[38;5;124m\"\u001b[39m\u001b[38;5;124mxla\u001b[39m\u001b[38;5;124m\"\u001b[39m \u001b[38;5;28;01mif\u001b[39;00m \u001b[38;5;28mself\u001b[39m\u001b[38;5;241m.\u001b[39m_jit_compile \u001b[38;5;28;01melse\u001b[39;00m \u001b[38;5;124m\"\u001b[39m\u001b[38;5;124mnonXla\u001b[39m\u001b[38;5;124m\"\u001b[39m\n\u001b[1;32m    914\u001b[0m \u001b[38;5;28;01mwith\u001b[39;00m OptionalXlaContext(\u001b[38;5;28mself\u001b[39m\u001b[38;5;241m.\u001b[39m_jit_compile):\n\u001b[0;32m--> 915\u001b[0m   result \u001b[38;5;241m=\u001b[39m \u001b[38;5;28;43mself\u001b[39;49m\u001b[38;5;241;43m.\u001b[39;49m\u001b[43m_call\u001b[49m\u001b[43m(\u001b[49m\u001b[38;5;241;43m*\u001b[39;49m\u001b[43margs\u001b[49m\u001b[43m,\u001b[49m\u001b[43m \u001b[49m\u001b[38;5;241;43m*\u001b[39;49m\u001b[38;5;241;43m*\u001b[39;49m\u001b[43mkwds\u001b[49m\u001b[43m)\u001b[49m\n\u001b[1;32m    917\u001b[0m new_tracing_count \u001b[38;5;241m=\u001b[39m \u001b[38;5;28mself\u001b[39m\u001b[38;5;241m.\u001b[39mexperimental_get_tracing_count()\n\u001b[1;32m    918\u001b[0m without_tracing \u001b[38;5;241m=\u001b[39m (tracing_count \u001b[38;5;241m==\u001b[39m new_tracing_count)\n",
      "File \u001b[0;32m~/opt/miniconda3/envs/tf/lib/python3.10/site-packages/tensorflow/python/eager/def_function.py:947\u001b[0m, in \u001b[0;36mFunction._call\u001b[0;34m(self, *args, **kwds)\u001b[0m\n\u001b[1;32m    944\u001b[0m   \u001b[38;5;28mself\u001b[39m\u001b[38;5;241m.\u001b[39m_lock\u001b[38;5;241m.\u001b[39mrelease()\n\u001b[1;32m    945\u001b[0m   \u001b[38;5;66;03m# In this case we have created variables on the first call, so we run the\u001b[39;00m\n\u001b[1;32m    946\u001b[0m   \u001b[38;5;66;03m# defunned version which is guaranteed to never create variables.\u001b[39;00m\n\u001b[0;32m--> 947\u001b[0m   \u001b[38;5;28;01mreturn\u001b[39;00m \u001b[38;5;28;43mself\u001b[39;49m\u001b[38;5;241;43m.\u001b[39;49m\u001b[43m_stateless_fn\u001b[49m\u001b[43m(\u001b[49m\u001b[38;5;241;43m*\u001b[39;49m\u001b[43margs\u001b[49m\u001b[43m,\u001b[49m\u001b[43m \u001b[49m\u001b[38;5;241;43m*\u001b[39;49m\u001b[38;5;241;43m*\u001b[39;49m\u001b[43mkwds\u001b[49m\u001b[43m)\u001b[49m  \u001b[38;5;66;03m# pylint: disable=not-callable\u001b[39;00m\n\u001b[1;32m    948\u001b[0m \u001b[38;5;28;01melif\u001b[39;00m \u001b[38;5;28mself\u001b[39m\u001b[38;5;241m.\u001b[39m_stateful_fn \u001b[38;5;129;01mis\u001b[39;00m \u001b[38;5;129;01mnot\u001b[39;00m \u001b[38;5;28;01mNone\u001b[39;00m:\n\u001b[1;32m    949\u001b[0m   \u001b[38;5;66;03m# Release the lock early so that multiple threads can perform the call\u001b[39;00m\n\u001b[1;32m    950\u001b[0m   \u001b[38;5;66;03m# in parallel.\u001b[39;00m\n\u001b[1;32m    951\u001b[0m   \u001b[38;5;28mself\u001b[39m\u001b[38;5;241m.\u001b[39m_lock\u001b[38;5;241m.\u001b[39mrelease()\n",
      "File \u001b[0;32m~/opt/miniconda3/envs/tf/lib/python3.10/site-packages/tensorflow/python/eager/function.py:2496\u001b[0m, in \u001b[0;36mFunction.__call__\u001b[0;34m(self, *args, **kwargs)\u001b[0m\n\u001b[1;32m   2493\u001b[0m \u001b[38;5;28;01mwith\u001b[39;00m \u001b[38;5;28mself\u001b[39m\u001b[38;5;241m.\u001b[39m_lock:\n\u001b[1;32m   2494\u001b[0m   (graph_function,\n\u001b[1;32m   2495\u001b[0m    filtered_flat_args) \u001b[38;5;241m=\u001b[39m \u001b[38;5;28mself\u001b[39m\u001b[38;5;241m.\u001b[39m_maybe_define_function(args, kwargs)\n\u001b[0;32m-> 2496\u001b[0m \u001b[38;5;28;01mreturn\u001b[39;00m \u001b[43mgraph_function\u001b[49m\u001b[38;5;241;43m.\u001b[39;49m\u001b[43m_call_flat\u001b[49m\u001b[43m(\u001b[49m\n\u001b[1;32m   2497\u001b[0m \u001b[43m    \u001b[49m\u001b[43mfiltered_flat_args\u001b[49m\u001b[43m,\u001b[49m\u001b[43m \u001b[49m\u001b[43mcaptured_inputs\u001b[49m\u001b[38;5;241;43m=\u001b[39;49m\u001b[43mgraph_function\u001b[49m\u001b[38;5;241;43m.\u001b[39;49m\u001b[43mcaptured_inputs\u001b[49m\u001b[43m)\u001b[49m\n",
      "File \u001b[0;32m~/opt/miniconda3/envs/tf/lib/python3.10/site-packages/tensorflow/python/eager/function.py:1862\u001b[0m, in \u001b[0;36mConcreteFunction._call_flat\u001b[0;34m(self, args, captured_inputs, cancellation_manager)\u001b[0m\n\u001b[1;32m   1858\u001b[0m possible_gradient_type \u001b[38;5;241m=\u001b[39m gradients_util\u001b[38;5;241m.\u001b[39mPossibleTapeGradientTypes(args)\n\u001b[1;32m   1859\u001b[0m \u001b[38;5;28;01mif\u001b[39;00m (possible_gradient_type \u001b[38;5;241m==\u001b[39m gradients_util\u001b[38;5;241m.\u001b[39mPOSSIBLE_GRADIENT_TYPES_NONE\n\u001b[1;32m   1860\u001b[0m     \u001b[38;5;129;01mand\u001b[39;00m executing_eagerly):\n\u001b[1;32m   1861\u001b[0m   \u001b[38;5;66;03m# No tape is watching; skip to running the function.\u001b[39;00m\n\u001b[0;32m-> 1862\u001b[0m   \u001b[38;5;28;01mreturn\u001b[39;00m \u001b[38;5;28mself\u001b[39m\u001b[38;5;241m.\u001b[39m_build_call_outputs(\u001b[38;5;28;43mself\u001b[39;49m\u001b[38;5;241;43m.\u001b[39;49m\u001b[43m_inference_function\u001b[49m\u001b[38;5;241;43m.\u001b[39;49m\u001b[43mcall\u001b[49m\u001b[43m(\u001b[49m\n\u001b[1;32m   1863\u001b[0m \u001b[43m      \u001b[49m\u001b[43mctx\u001b[49m\u001b[43m,\u001b[49m\u001b[43m \u001b[49m\u001b[43margs\u001b[49m\u001b[43m,\u001b[49m\u001b[43m \u001b[49m\u001b[43mcancellation_manager\u001b[49m\u001b[38;5;241;43m=\u001b[39;49m\u001b[43mcancellation_manager\u001b[49m\u001b[43m)\u001b[49m)\n\u001b[1;32m   1864\u001b[0m forward_backward \u001b[38;5;241m=\u001b[39m \u001b[38;5;28mself\u001b[39m\u001b[38;5;241m.\u001b[39m_select_forward_and_backward_functions(\n\u001b[1;32m   1865\u001b[0m     args,\n\u001b[1;32m   1866\u001b[0m     possible_gradient_type,\n\u001b[1;32m   1867\u001b[0m     executing_eagerly)\n\u001b[1;32m   1868\u001b[0m forward_function, args_with_tangents \u001b[38;5;241m=\u001b[39m forward_backward\u001b[38;5;241m.\u001b[39mforward()\n",
      "File \u001b[0;32m~/opt/miniconda3/envs/tf/lib/python3.10/site-packages/tensorflow/python/eager/function.py:499\u001b[0m, in \u001b[0;36m_EagerDefinedFunction.call\u001b[0;34m(self, ctx, args, cancellation_manager)\u001b[0m\n\u001b[1;32m    497\u001b[0m \u001b[38;5;28;01mwith\u001b[39;00m _InterpolateFunctionError(\u001b[38;5;28mself\u001b[39m):\n\u001b[1;32m    498\u001b[0m   \u001b[38;5;28;01mif\u001b[39;00m cancellation_manager \u001b[38;5;129;01mis\u001b[39;00m \u001b[38;5;28;01mNone\u001b[39;00m:\n\u001b[0;32m--> 499\u001b[0m     outputs \u001b[38;5;241m=\u001b[39m \u001b[43mexecute\u001b[49m\u001b[38;5;241;43m.\u001b[39;49m\u001b[43mexecute\u001b[49m\u001b[43m(\u001b[49m\n\u001b[1;32m    500\u001b[0m \u001b[43m        \u001b[49m\u001b[38;5;28;43mstr\u001b[39;49m\u001b[43m(\u001b[49m\u001b[38;5;28;43mself\u001b[39;49m\u001b[38;5;241;43m.\u001b[39;49m\u001b[43msignature\u001b[49m\u001b[38;5;241;43m.\u001b[39;49m\u001b[43mname\u001b[49m\u001b[43m)\u001b[49m\u001b[43m,\u001b[49m\n\u001b[1;32m    501\u001b[0m \u001b[43m        \u001b[49m\u001b[43mnum_outputs\u001b[49m\u001b[38;5;241;43m=\u001b[39;49m\u001b[38;5;28;43mself\u001b[39;49m\u001b[38;5;241;43m.\u001b[39;49m\u001b[43m_num_outputs\u001b[49m\u001b[43m,\u001b[49m\n\u001b[1;32m    502\u001b[0m \u001b[43m        \u001b[49m\u001b[43minputs\u001b[49m\u001b[38;5;241;43m=\u001b[39;49m\u001b[43margs\u001b[49m\u001b[43m,\u001b[49m\n\u001b[1;32m    503\u001b[0m \u001b[43m        \u001b[49m\u001b[43mattrs\u001b[49m\u001b[38;5;241;43m=\u001b[39;49m\u001b[43mattrs\u001b[49m\u001b[43m,\u001b[49m\n\u001b[1;32m    504\u001b[0m \u001b[43m        \u001b[49m\u001b[43mctx\u001b[49m\u001b[38;5;241;43m=\u001b[39;49m\u001b[43mctx\u001b[49m\u001b[43m)\u001b[49m\n\u001b[1;32m    505\u001b[0m   \u001b[38;5;28;01melse\u001b[39;00m:\n\u001b[1;32m    506\u001b[0m     outputs \u001b[38;5;241m=\u001b[39m execute\u001b[38;5;241m.\u001b[39mexecute_with_cancellation(\n\u001b[1;32m    507\u001b[0m         \u001b[38;5;28mstr\u001b[39m(\u001b[38;5;28mself\u001b[39m\u001b[38;5;241m.\u001b[39msignature\u001b[38;5;241m.\u001b[39mname),\n\u001b[1;32m    508\u001b[0m         num_outputs\u001b[38;5;241m=\u001b[39m\u001b[38;5;28mself\u001b[39m\u001b[38;5;241m.\u001b[39m_num_outputs,\n\u001b[0;32m   (...)\u001b[0m\n\u001b[1;32m    511\u001b[0m         ctx\u001b[38;5;241m=\u001b[39mctx,\n\u001b[1;32m    512\u001b[0m         cancellation_manager\u001b[38;5;241m=\u001b[39mcancellation_manager)\n",
      "File \u001b[0;32m~/opt/miniconda3/envs/tf/lib/python3.10/site-packages/tensorflow/python/eager/execute.py:54\u001b[0m, in \u001b[0;36mquick_execute\u001b[0;34m(op_name, num_outputs, inputs, attrs, ctx, name)\u001b[0m\n\u001b[1;32m     52\u001b[0m \u001b[38;5;28;01mtry\u001b[39;00m:\n\u001b[1;32m     53\u001b[0m   ctx\u001b[38;5;241m.\u001b[39mensure_initialized()\n\u001b[0;32m---> 54\u001b[0m   tensors \u001b[38;5;241m=\u001b[39m \u001b[43mpywrap_tfe\u001b[49m\u001b[38;5;241;43m.\u001b[39;49m\u001b[43mTFE_Py_Execute\u001b[49m\u001b[43m(\u001b[49m\u001b[43mctx\u001b[49m\u001b[38;5;241;43m.\u001b[39;49m\u001b[43m_handle\u001b[49m\u001b[43m,\u001b[49m\u001b[43m \u001b[49m\u001b[43mdevice_name\u001b[49m\u001b[43m,\u001b[49m\u001b[43m \u001b[49m\u001b[43mop_name\u001b[49m\u001b[43m,\u001b[49m\n\u001b[1;32m     55\u001b[0m \u001b[43m                                      \u001b[49m\u001b[43minputs\u001b[49m\u001b[43m,\u001b[49m\u001b[43m \u001b[49m\u001b[43mattrs\u001b[49m\u001b[43m,\u001b[49m\u001b[43m \u001b[49m\u001b[43mnum_outputs\u001b[49m\u001b[43m)\u001b[49m\n\u001b[1;32m     56\u001b[0m \u001b[38;5;28;01mexcept\u001b[39;00m core\u001b[38;5;241m.\u001b[39m_NotOkStatusException \u001b[38;5;28;01mas\u001b[39;00m e:\n\u001b[1;32m     57\u001b[0m   \u001b[38;5;28;01mif\u001b[39;00m name \u001b[38;5;129;01mis\u001b[39;00m \u001b[38;5;129;01mnot\u001b[39;00m \u001b[38;5;28;01mNone\u001b[39;00m:\n",
      "\u001b[0;31mKeyboardInterrupt\u001b[0m: "
     ]
    }
   ],
   "source": [
    "model_3A.fit(model_3A_features, model_3A_labels, batch_size=1000, epochs=3, validation_split=.2, verbose=1)"
   ]
  },
  {
   "cell_type": "code",
   "execution_count": 168,
   "id": "01f76260",
   "metadata": {},
   "outputs": [
    {
     "name": "stderr",
     "output_type": "stream",
     "text": [
      "2023-01-23 08:50:41.232805: I tensorflow/core/grappler/optimizers/custom_graph_optimizer_registry.cc:114] Plugin optimizer for device_type GPU is enabled.\n",
      "2023-01-23 08:50:41.383282: I tensorflow/core/grappler/optimizers/custom_graph_optimizer_registry.cc:114] Plugin optimizer for device_type GPU is enabled.\n"
     ]
    },
    {
     "name": "stdout",
     "output_type": "stream",
     "text": [
      "   4/7441 [..............................] - ETA: 2:13   "
     ]
    },
    {
     "name": "stderr",
     "output_type": "stream",
     "text": [
      "2023-01-23 08:50:41.465544: I tensorflow/core/grappler/optimizers/custom_graph_optimizer_registry.cc:114] Plugin optimizer for device_type GPU is enabled.\n",
      "2023-01-23 08:50:41.542091: I tensorflow/core/grappler/optimizers/custom_graph_optimizer_registry.cc:114] Plugin optimizer for device_type GPU is enabled.\n"
     ]
    },
    {
     "name": "stdout",
     "output_type": "stream",
     "text": [
      "7441/7441 [==============================] - 85s 11ms/step\n"
     ]
    }
   ],
   "source": [
    "model_3A_predictions=model_3A.predict(X_test, batch_size=1000, verbose=1)"
   ]
  },
  {
   "cell_type": "code",
   "execution_count": 180,
   "id": "3e09b137",
   "metadata": {},
   "outputs": [
    {
     "data": {
      "text/plain": [
       "0.9607349"
      ]
     },
     "execution_count": 180,
     "metadata": {},
     "output_type": "execute_result"
    }
   ],
   "source": [
    "model_3A_predictions.max()"
   ]
  },
  {
   "cell_type": "code",
   "execution_count": 193,
   "id": "c0d6e601",
   "metadata": {},
   "outputs": [
    {
     "data": {
      "text/plain": [
       "0.77"
      ]
     },
     "execution_count": 193,
     "metadata": {},
     "output_type": "execute_result"
    }
   ],
   "source": [
    "model_3A_labels.min()"
   ]
  },
  {
   "cell_type": "code",
   "execution_count": 179,
   "id": "b84f5f83",
   "metadata": {},
   "outputs": [
    {
     "data": {
      "text/plain": [
       "0.94"
      ]
     },
     "execution_count": 179,
     "metadata": {},
     "output_type": "execute_result"
    }
   ],
   "source": [
    "y_test.max()"
   ]
  },
  {
   "cell_type": "code",
   "execution_count": 175,
   "id": "7051b804",
   "metadata": {},
   "outputs": [
    {
     "name": "stdout",
     "output_type": "stream",
     "text": [
      "7441/7441 [==============================] - 100s 13ms/step - loss: 0.0066 - mae: 0.0661\n"
     ]
    },
    {
     "data": {
      "text/plain": [
       "[0.0066494871862232685, 0.06613480299711227]"
      ]
     },
     "execution_count": 175,
     "metadata": {},
     "output_type": "execute_result"
    }
   ],
   "source": [
    "model_3A.evaluate(X_test, y_test, verbose=1, batch_size=1000)"
   ]
  },
  {
   "cell_type": "code",
   "execution_count": 200,
   "id": "c3923d04",
   "metadata": {},
   "outputs": [],
   "source": [
    "#Test model 3A on unseen data that is within the range of labels it saw...75% on midterm_1\n",
    "\n",
    "test=[i[i['Score']==.75] for i in result_1] #S4 scored 75% on midterm 1 and model did not see their data\n",
    "test=[i.sort_index().reset_index(drop=True) for i in test]\n",
    "test_labels=test[0]['Score']\n",
    "test_features=[i.drop(columns=['Subject', 'Test', 'Score']) for i in greater_50_1]\n",
    "test_features=pd.concat(test_features, axis=1)\n",
    "\n",
    "test_labels=test_labels.to_numpy().reshape(-1,1)\n",
    "test_features=preprocessing.StandardScaler().fit_transform(test_features).reshape(-1,1,7)"
   ]
  },
  {
   "cell_type": "code",
   "execution_count": 203,
   "id": "ddf5d5fb",
   "metadata": {},
   "outputs": [
    {
     "name": "stdout",
     "output_type": "stream",
     "text": [
      "3727/3727 [==============================] - 44s 12ms/step\n"
     ]
    },
    {
     "data": {
      "text/plain": [
       "array([[[0.8631384 ]],\n",
       "\n",
       "       [[0.8631384 ]],\n",
       "\n",
       "       [[0.8633057 ]],\n",
       "\n",
       "       ...,\n",
       "\n",
       "       [[0.8162212 ]],\n",
       "\n",
       "       [[0.8164206 ]],\n",
       "\n",
       "       [[0.81627923]]], dtype=float32)"
      ]
     },
     "execution_count": 203,
     "metadata": {},
     "output_type": "execute_result"
    }
   ],
   "source": [
    "unseen_predictions=model_3A.predict(test_features, verbose=1, batch_size=1000) \n",
    "\n",
    "#All the evidence we really need to show that this model doesn't work really well. What we can conclude is that\n",
    "    #The physiological signals collected are not in any way directly realated to exam performance"
   ]
  },
  {
   "cell_type": "code",
   "execution_count": 207,
   "id": "42e9e9ac",
   "metadata": {},
   "outputs": [
    {
     "data": {
      "text/html": [
       "<div>\n",
       "<style scoped>\n",
       "    .dataframe tbody tr th:only-of-type {\n",
       "        vertical-align: middle;\n",
       "    }\n",
       "\n",
       "    .dataframe tbody tr th {\n",
       "        vertical-align: top;\n",
       "    }\n",
       "\n",
       "    .dataframe thead th {\n",
       "        text-align: right;\n",
       "    }\n",
       "</style>\n",
       "<table border=\"1\" class=\"dataframe\">\n",
       "  <thead>\n",
       "    <tr style=\"text-align: right;\">\n",
       "      <th></th>\n",
       "      <th>Subject</th>\n",
       "      <th>Test</th>\n",
       "      <th>Score</th>\n",
       "    </tr>\n",
       "  </thead>\n",
       "  <tbody>\n",
       "    <tr>\n",
       "      <th>23975931</th>\n",
       "      <td>S1</td>\n",
       "      <td>Final</td>\n",
       "      <td>0.91</td>\n",
       "    </tr>\n",
       "    <tr>\n",
       "      <th>24203567</th>\n",
       "      <td>S1</td>\n",
       "      <td>Final</td>\n",
       "      <td>0.91</td>\n",
       "    </tr>\n",
       "    <tr>\n",
       "      <th>24425037</th>\n",
       "      <td>S1</td>\n",
       "      <td>Final</td>\n",
       "      <td>0.91</td>\n",
       "    </tr>\n",
       "    <tr>\n",
       "      <th>23321584</th>\n",
       "      <td>S1</td>\n",
       "      <td>Final</td>\n",
       "      <td>0.91</td>\n",
       "    </tr>\n",
       "    <tr>\n",
       "      <th>24368511</th>\n",
       "      <td>S1</td>\n",
       "      <td>Final</td>\n",
       "      <td>0.91</td>\n",
       "    </tr>\n",
       "    <tr>\n",
       "      <th>...</th>\n",
       "      <td>...</td>\n",
       "      <td>...</td>\n",
       "      <td>...</td>\n",
       "    </tr>\n",
       "    <tr>\n",
       "      <th>27463650</th>\n",
       "      <td>S9</td>\n",
       "      <td>Final</td>\n",
       "      <td>0.63</td>\n",
       "    </tr>\n",
       "    <tr>\n",
       "      <th>27807383</th>\n",
       "      <td>S9</td>\n",
       "      <td>Final</td>\n",
       "      <td>0.63</td>\n",
       "    </tr>\n",
       "    <tr>\n",
       "      <th>28213716</th>\n",
       "      <td>S9</td>\n",
       "      <td>Final</td>\n",
       "      <td>0.63</td>\n",
       "    </tr>\n",
       "    <tr>\n",
       "      <th>27914432</th>\n",
       "      <td>S9</td>\n",
       "      <td>Final</td>\n",
       "      <td>0.63</td>\n",
       "    </tr>\n",
       "    <tr>\n",
       "      <th>27826437</th>\n",
       "      <td>S9</td>\n",
       "      <td>Final</td>\n",
       "      <td>0.63</td>\n",
       "    </tr>\n",
       "  </tbody>\n",
       "</table>\n",
       "<p>13074397 rows × 3 columns</p>\n",
       "</div>"
      ],
      "text/plain": [
       "         Subject   Test  Score\n",
       "23975931      S1  Final   0.91\n",
       "24203567      S1  Final   0.91\n",
       "24425037      S1  Final   0.91\n",
       "23321584      S1  Final   0.91\n",
       "24368511      S1  Final   0.91\n",
       "...          ...    ...    ...\n",
       "27463650      S9  Final   0.63\n",
       "27807383      S9  Final   0.63\n",
       "28213716      S9  Final   0.63\n",
       "27914432      S9  Final   0.63\n",
       "27826437      S9  Final   0.63\n",
       "\n",
       "[13074397 rows x 3 columns]"
      ]
     },
     "execution_count": 207,
     "metadata": {},
     "output_type": "execute_result"
    }
   ],
   "source": [
    "final_labels"
   ]
  },
  {
   "cell_type": "code",
   "execution_count": 30,
   "id": "6e5d4b4a",
   "metadata": {},
   "outputs": [
    {
     "data": {
      "text/plain": [
       "28338233"
      ]
     },
     "execution_count": 30,
     "metadata": {},
     "output_type": "execute_result"
    }
   ],
   "source": [
    "len(model_1_features)+len(final_x_test)"
   ]
  },
  {
   "cell_type": "code",
   "execution_count": 27,
   "id": "cd556b7f",
   "metadata": {},
   "outputs": [],
   "source": [
    "#B) Develop model to classify the exams\n",
    "    #Step 1: Reorganize data\n",
    "Model_B_features=np.concatenate((model_1_features, final_x_test), axis=0) #Used preprocessed features that were scaled\n",
    "\n",
    "model_B_labels_1=midterm_1_labels['Test']\n",
    "model_B_labels_2=midterm_2_labels['Test']\n",
    "model_B_labels_3=final_labels['Test']\n",
    "\n",
    "model_B_labels=pd.concat([model_B_labels_1, model_B_labels_2, model_B_labels_3], axis=0)\n",
    "\n",
    "model_B_labels=model_B_labels.to_numpy().reshape(-1,1)\n",
    "model_B_features=Model_B_features"
   ]
  },
  {
   "cell_type": "code",
   "execution_count": 46,
   "id": "bb39a1c9",
   "metadata": {},
   "outputs": [
    {
     "name": "stderr",
     "output_type": "stream",
     "text": [
      "/Users/jaredperez/opt/miniconda3/envs/tf/lib/python3.10/site-packages/sklearn/preprocessing/_label.py:115: DataConversionWarning: A column-vector y was passed when a 1d array was expected. Please change the shape of y to (n_samples, ), for example using ravel().\n",
      "  y = column_or_1d(y, warn=True)\n"
     ]
    }
   ],
   "source": [
    "#One hot encode teh labels\n",
    "\n",
    "model_B_labels=preprocessing.LabelEncoder().fit_transform(model_B_labels)\n",
    "model_B_labels=keras.utils.np_utils.to_categorical(model_B_labels)"
   ]
  },
  {
   "cell_type": "code",
   "execution_count": 52,
   "id": "9535ef9a",
   "metadata": {},
   "outputs": [],
   "source": [
    "#Need to test/train split this data\n",
    "\n",
    "X_train, X_test, y_train, y_test=train_test_split(model_B_features, model_B_labels, train_size=0.5)"
   ]
  },
  {
   "cell_type": "code",
   "execution_count": 51,
   "id": "2b19321c",
   "metadata": {},
   "outputs": [
    {
     "name": "stdout",
     "output_type": "stream",
     "text": [
      "Model: \"model_1\"\n",
      "_________________________________________________________________\n",
      " Layer (type)                Output Shape              Param #   \n",
      "=================================================================\n",
      " input_2 (InputLayer)        [(None, 1, 7)]            0         \n",
      "                                                                 \n",
      " lstm_3 (LSTM)               (None, 1, 256)            270336    \n",
      "                                                                 \n",
      " dropout_3 (Dropout)         (None, 1, 256)            0         \n",
      "                                                                 \n",
      " lstm_4 (LSTM)               (None, 1, 128)            197120    \n",
      "                                                                 \n",
      " dropout_4 (Dropout)         (None, 1, 128)            0         \n",
      "                                                                 \n",
      " lstm_5 (LSTM)               (None, 64)                49408     \n",
      "                                                                 \n",
      " dropout_5 (Dropout)         (None, 64)                0         \n",
      "                                                                 \n",
      " dense_2 (Dense)             (None, 32)                2080      \n",
      "                                                                 \n",
      " dense_3 (Dense)             (None, 3)                 99        \n",
      "                                                                 \n",
      "=================================================================\n",
      "Total params: 519,043\n",
      "Trainable params: 519,043\n",
      "Non-trainable params: 0\n",
      "_________________________________________________________________\n"
     ]
    }
   ],
   "source": [
    "#Model 1B) Classification of exam with Softmax..simple LSTM\n",
    "\n",
    "inputs=tf.keras.Input(shape=(1,7))\n",
    "x=keras.layers.LSTM(256, return_sequences=True)(inputs)\n",
    "x=keras.layers.Dropout(0.3)(x)\n",
    "x=keras.layers.LSTM(128, return_sequences=True)(x)\n",
    "x=keras.layers.Dropout(0.3)(x)\n",
    "x=keras.layers.LSTM(64)(x)\n",
    "x=keras.layers.Dropout(0.3)(x)\n",
    "x=keras.layers.Dense(32, activation='relu')(x)\n",
    "z=keras.layers.Dense(3, activation='softmax')(x)\n",
    "\n",
    "model_1B=keras.Model(inputs=inputs, outputs=z)\n",
    "\n",
    "model_1B.compile(optimizer='adam', loss='categorical_crossentropy', metrics=['accuracy'])\n",
    "\n",
    "model_1B.summary()"
   ]
  },
  {
   "cell_type": "code",
   "execution_count": 53,
   "id": "6ffe0f0d",
   "metadata": {},
   "outputs": [
    {
     "name": "stdout",
     "output_type": "stream",
     "text": [
      "Epoch 1/3\n"
     ]
    },
    {
     "name": "stderr",
     "output_type": "stream",
     "text": [
      "2023-01-23 15:01:00.229928: I tensorflow/core/grappler/optimizers/custom_graph_optimizer_registry.cc:114] Plugin optimizer for device_type GPU is enabled.\n",
      "2023-01-23 15:01:01.120645: I tensorflow/core/grappler/optimizers/custom_graph_optimizer_registry.cc:114] Plugin optimizer for device_type GPU is enabled.\n",
      "2023-01-23 15:01:01.412845: I tensorflow/core/grappler/optimizers/custom_graph_optimizer_registry.cc:114] Plugin optimizer for device_type GPU is enabled.\n",
      "2023-01-23 15:01:01.466860: I tensorflow/core/grappler/optimizers/custom_graph_optimizer_registry.cc:114] Plugin optimizer for device_type GPU is enabled.\n",
      "2023-01-23 15:01:02.504197: I tensorflow/core/grappler/optimizers/custom_graph_optimizer_registry.cc:114] Plugin optimizer for device_type GPU is enabled.\n",
      "2023-01-23 15:01:02.632376: I tensorflow/core/grappler/optimizers/custom_graph_optimizer_registry.cc:114] Plugin optimizer for device_type GPU is enabled.\n"
     ]
    },
    {
     "name": "stdout",
     "output_type": "stream",
     "text": [
      "    2/11336 [..............................] - ETA: 13:02 - loss: 1.0984 - accuracy: 0.3650   "
     ]
    },
    {
     "name": "stderr",
     "output_type": "stream",
     "text": [
      "2023-01-23 15:01:02.735197: I tensorflow/core/grappler/optimizers/custom_graph_optimizer_registry.cc:114] Plugin optimizer for device_type GPU is enabled.\n"
     ]
    },
    {
     "name": "stdout",
     "output_type": "stream",
     "text": [
      "11336/11336 [==============================] - ETA: 0s - loss: 0.4766 - accuracy: 0.8040"
     ]
    },
    {
     "name": "stderr",
     "output_type": "stream",
     "text": [
      "2023-01-23 15:05:42.470085: I tensorflow/core/grappler/optimizers/custom_graph_optimizer_registry.cc:114] Plugin optimizer for device_type GPU is enabled.\n",
      "2023-01-23 15:05:42.605009: I tensorflow/core/grappler/optimizers/custom_graph_optimizer_registry.cc:114] Plugin optimizer for device_type GPU is enabled.\n",
      "2023-01-23 15:05:42.651910: I tensorflow/core/grappler/optimizers/custom_graph_optimizer_registry.cc:114] Plugin optimizer for device_type GPU is enabled.\n",
      "2023-01-23 15:05:42.721732: I tensorflow/core/grappler/optimizers/custom_graph_optimizer_registry.cc:114] Plugin optimizer for device_type GPU is enabled.\n"
     ]
    },
    {
     "name": "stdout",
     "output_type": "stream",
     "text": [
      "11336/11336 [==============================] - 315s 27ms/step - loss: 0.4766 - accuracy: 0.8040 - val_loss: 0.3089 - val_accuracy: 0.8830\n",
      "Epoch 2/3\n",
      "11336/11336 [==============================] - 331s 29ms/step - loss: 0.3393 - accuracy: 0.8714 - val_loss: 0.2788 - val_accuracy: 0.8946\n",
      "Epoch 3/3\n",
      "11336/11336 [==============================] - 320s 28ms/step - loss: 0.3005 - accuracy: 0.8866 - val_loss: 0.2308 - val_accuracy: 0.9132\n"
     ]
    },
    {
     "data": {
      "text/plain": [
       "<keras.callbacks.History at 0x14af482e0>"
      ]
     },
     "execution_count": 53,
     "metadata": {},
     "output_type": "execute_result"
    }
   ],
   "source": [
    "model_1B.fit(X_train, y_train, epochs=3, validation_split=0.2, batch_size=1000, verbose=1)"
   ]
  },
  {
   "cell_type": "code",
   "execution_count": 54,
   "id": "212cd400",
   "metadata": {},
   "outputs": [
    {
     "name": "stdout",
     "output_type": "stream",
     "text": [
      "14170/14170 [==============================] - 173s 12ms/step - loss: 0.2309 - accuracy: 0.9132\n"
     ]
    },
    {
     "data": {
      "text/plain": [
       "[0.23087038099765778, 0.9131582379341125]"
      ]
     },
     "execution_count": 54,
     "metadata": {},
     "output_type": "execute_result"
    }
   ],
   "source": [
    "model_1B.evaluate(X_test, y_test, batch_size=1000, verbose=1)"
   ]
  },
  {
   "cell_type": "code",
   "execution_count": 55,
   "id": "2280210d",
   "metadata": {},
   "outputs": [
    {
     "name": "stderr",
     "output_type": "stream",
     "text": [
      "2023-01-23 15:26:08.526650: I tensorflow/core/grappler/optimizers/custom_graph_optimizer_registry.cc:114] Plugin optimizer for device_type GPU is enabled.\n",
      "2023-01-23 15:26:08.759794: I tensorflow/core/grappler/optimizers/custom_graph_optimizer_registry.cc:114] Plugin optimizer for device_type GPU is enabled.\n",
      "2023-01-23 15:26:09.128791: I tensorflow/core/grappler/optimizers/custom_graph_optimizer_registry.cc:114] Plugin optimizer for device_type GPU is enabled.\n",
      "2023-01-23 15:26:09.304944: I tensorflow/core/grappler/optimizers/custom_graph_optimizer_registry.cc:114] Plugin optimizer for device_type GPU is enabled.\n"
     ]
    },
    {
     "name": "stdout",
     "output_type": "stream",
     "text": [
      "14170/14170 [==============================] - 127s 9ms/step\n"
     ]
    }
   ],
   "source": [
    "model_1B_predictions=model_1B.predict(X_test, batch_size=1000)"
   ]
  },
  {
   "cell_type": "code",
   "execution_count": 61,
   "id": "04718e50",
   "metadata": {},
   "outputs": [],
   "source": [
    "model_1B_predictions=np.round(model_1B_predictions)"
   ]
  },
  {
   "cell_type": "code",
   "execution_count": 64,
   "id": "cfa30e7b",
   "metadata": {},
   "outputs": [],
   "source": [
    "from sklearn.metrics import ConfusionMatrixDisplay\n",
    "from sklearn.metrics import confusion_matrix"
   ]
  },
  {
   "cell_type": "code",
   "execution_count": 81,
   "id": "87efd90a",
   "metadata": {},
   "outputs": [
    {
     "data": {
      "text/plain": [
       "array([[6206127,  224589,  108244],\n",
       "       [ 331670, 3245636,  186236],\n",
       "       [ 185240,  218809, 3462566]])"
      ]
     },
     "execution_count": 81,
     "metadata": {},
     "output_type": "execute_result"
    }
   ],
   "source": [
    "#For confusuion matrix to work, must return one hot encoded variables to string\n",
    "\n",
    "test_labels=np.argmax(y_test, axis=1)\n",
    "\n",
    "model_1B_predictions=np.argmax(model_1B_predictions, axis=1)\n",
    "\n",
    "\n",
    "confusion_matrix(test_labels, model_1B_predictions)"
   ]
  },
  {
   "cell_type": "code",
   "execution_count": 82,
   "id": "a8cd2143",
   "metadata": {},
   "outputs": [
    {
     "data": {
      "text/plain": [
       "<sklearn.metrics._plot.confusion_matrix.ConfusionMatrixDisplay at 0x2c1ad13f0>"
      ]
     },
     "execution_count": 82,
     "metadata": {},
     "output_type": "execute_result"
    },
    {
     "data": {
      "image/png": "[encoded data removed]",
      "text/plain": [
       "<Figure size 640x480 with 2 Axes>"
      ]
     },
     "metadata": {},
     "output_type": "display_data"
    }
   ],
   "source": [
    "ConfusionMatrixDisplay.from_predictions(test_labels, model_1B_predictions)"
   ]
  },
  {
   "cell_type": "code",
   "execution_count": 102,
   "id": "704f51c5",
   "metadata": {},
   "outputs": [
    {
     "data": {
      "text/plain": [
       "[            0 Subject       Test  Score\n",
       " 0       -0.00      S5  Midterm 1   0.67\n",
       " 1       -0.00      S5  Midterm 1   0.67\n",
       " 2       -0.00      S5  Midterm 1   0.67\n",
       " 3       -0.00      S5  Midterm 1   0.67\n",
       " 4       -0.00      S5  Midterm 1   0.67\n",
       " ...       ...     ...        ...    ...\n",
       " 7528774  1.88      S9  Midterm 1   0.80\n",
       " 7528775  1.69      S9  Midterm 1   0.80\n",
       " 7528776  1.69      S9  Midterm 1   0.80\n",
       " 7528777  1.69      S9  Midterm 1   0.80\n",
       " 7528778  1.46      S9  Midterm 1   0.80\n",
       " \n",
       " [7528779 rows x 4 columns],\n",
       "           0   1   2 Subject       Test  Score\n",
       " 0        -1 -62  12      S5  Midterm 1   0.67\n",
       " 1        -1 -62  12      S5  Midterm 1   0.67\n",
       " 2        -1 -61  12      S5  Midterm 1   0.67\n",
       " 3        -1 -61  12      S5  Midterm 1   0.67\n",
       " 4        -1 -61  12      S5  Midterm 1   0.67\n",
       " ...      ..  ..  ..     ...        ...    ...\n",
       " 7528774 -37   4  56      S9  Midterm 1   0.80\n",
       " 7528775 -37   4  56      S9  Midterm 1   0.80\n",
       " 7528776 -35   3  58      S9  Midterm 1   0.80\n",
       " 7528777 -35   3  58      S9  Midterm 1   0.80\n",
       " 7528778 -35   3  58      S9  Midterm 1   0.80\n",
       " \n",
       " [7528779 rows x 6 columns],\n",
       "                 0 Subject       Test  Score\n",
       " 0        0.000000      S5  Midterm 1   0.67\n",
       " 1        0.000000      S5  Midterm 1   0.67\n",
       " 2        0.000000      S5  Midterm 1   0.67\n",
       " 3        0.000000      S5  Midterm 1   0.67\n",
       " 4        0.000000      S5  Midterm 1   0.67\n",
       " ...           ...     ...        ...    ...\n",
       " 7528774  0.015377      S9  Midterm 1   0.80\n",
       " 7528775  0.015377      S9  Midterm 1   0.80\n",
       " 7528776  0.015377      S9  Midterm 1   0.80\n",
       " 7528777  0.015377      S9  Midterm 1   0.80\n",
       " 7528778  0.015377      S9  Midterm 1   0.80\n",
       " \n",
       " [7528779 rows x 4 columns],\n",
       "              0 Subject       Test  Score\n",
       " 0        22.23      S5  Midterm 1   0.67\n",
       " 1        22.23      S5  Midterm 1   0.67\n",
       " 2        22.23      S5  Midterm 1   0.67\n",
       " 3        22.23      S5  Midterm 1   0.67\n",
       " 4        22.23      S5  Midterm 1   0.67\n",
       " ...        ...     ...        ...    ...\n",
       " 7528774  23.49      S9  Midterm 1   0.80\n",
       " 7528775  23.49      S9  Midterm 1   0.80\n",
       " 7528776  23.49      S9  Midterm 1   0.80\n",
       " 7528777  23.49      S9  Midterm 1   0.80\n",
       " 7528778  23.49      S9  Midterm 1   0.80\n",
       " \n",
       " [7528779 rows x 4 columns],\n",
       "               0 Subject       Test  Score\n",
       " 0         50.00      S5  Midterm 1   0.67\n",
       " 1         50.00      S5  Midterm 1   0.67\n",
       " 2         50.00      S5  Midterm 1   0.67\n",
       " 3         50.00      S5  Midterm 1   0.67\n",
       " 4         50.00      S5  Midterm 1   0.67\n",
       " ...         ...     ...        ...    ...\n",
       " 7528774  159.18      S9  Midterm 1   0.80\n",
       " 7528775  159.18      S9  Midterm 1   0.80\n",
       " 7528776  159.18      S9  Midterm 1   0.80\n",
       " 7528777  159.18      S9  Midterm 1   0.80\n",
       " 7528778  159.18      S9  Midterm 1   0.80\n",
       " \n",
       " [7528779 rows x 4 columns]]"
      ]
     },
     "execution_count": 102,
     "metadata": {},
     "output_type": "execute_result"
    }
   ],
   "source": [
    "result_1"
   ]
  },
  {
   "cell_type": "code",
   "execution_count": 16,
   "id": "85e5b86d",
   "metadata": {},
   "outputs": [],
   "source": [
    "#Model 2B) Same Model, leave 1 or 2 subjects out and see if it is still capable of being accurate\n",
    "    #Reorganize Data\n",
    "    \n",
    "result_1=[i.sort_index().reset_index(drop=True) for i in result_1]\n",
    "result_2=[i.sort_index().reset_index(drop=True) for i in result_2]\n",
    "result_3=[i.sort_index().reset_index(drop=True) for i in result_3]\n",
    "\n",
    "\n",
    "holdout_1=[i[i['Subject'].isin(['S4', 'S6'])] for i in result_1]\n",
    "holdout_2=[i[i['Subject'].isin(['S4', 'S6'])] for i in result_2]\n",
    "holdout_3=[i[i['Subject'].isin(['S4', 'S6'])] for i in result_3]"
   ]
  },
  {
   "cell_type": "code",
   "execution_count": 20,
   "id": "ef5ae50b",
   "metadata": {},
   "outputs": [],
   "source": [
    "model_2B_f_1=[]\n",
    "for df in result_1:\n",
    "    df_new=df[~df['Subject'].isin(['S4','S6'])]\n",
    "    model_2B_f_1.append(df_new)"
   ]
  },
  {
   "cell_type": "code",
   "execution_count": 21,
   "id": "9c61eaf3",
   "metadata": {},
   "outputs": [],
   "source": [
    "model_2B_f_2=[]\n",
    "for df in result_2:\n",
    "    df_new=df[~df['Subject'].isin(['S4','S6'])]\n",
    "    model_2B_f_2.append(df_new)"
   ]
  },
  {
   "cell_type": "code",
   "execution_count": 22,
   "id": "c5afe4b9",
   "metadata": {},
   "outputs": [],
   "source": [
    "model_2B_f_3=[]\n",
    "for df in result_3:\n",
    "    df_new=df[~df['Subject'].isin(['S4','S6'])]\n",
    "    model_2B_f_3.append(df_new)"
   ]
  },
  {
   "cell_type": "code",
   "execution_count": 25,
   "id": "9e2e2c01",
   "metadata": {},
   "outputs": [],
   "source": [
    "#Develop train labels and data\n",
    "\n",
    "model_2B_labels_1=model_2B_f_1[0]['Test']\n",
    "model_2B_labels_2=model_2B_f_2[0]['Test']\n",
    "model_2B_labels_3=model_2B_f_3[0]['Test']\n",
    "\n",
    "train_labels=pd.concat([model_2B_labels_1, model_2B_labels_2, model_2B_labels_3], axis=0)\n",
    "\n",
    "model_2B_f_1=[i.drop(columns=['Subject', 'Test', 'Score']) for i in model_2B_f_1]\n",
    "model_2B_f_2=[i.drop(columns=['Subject', 'Test', 'Score']) for i in model_2B_f_2]\n",
    "model_2B_f_3=[i.drop(columns=['Subject', 'Test', 'Score']) for i in model_2B_f_3]\n",
    "\n",
    "f=[model_2B_f_1, model_2B_f_2, model_2B_f_3]\n",
    "model_2B_features=[]\n",
    "for i in f:\n",
    "    x=pd.concat(i, axis=1)\n",
    "    model_2B_features.append(x)\n",
    "\n",
    "model_2B_features=pd.concat(model_2B_features, axis=0)"
   ]
  },
  {
   "cell_type": "code",
   "execution_count": 33,
   "id": "52e8b05c",
   "metadata": {},
   "outputs": [],
   "source": [
    "#Normalize features and one hot encode labels\n",
    "\n",
    "model_2B_features=preprocessing.StandardScaler().fit_transform(model_2B_features)\n",
    "model_2B_features=model_2B_features.reshape(-1,1,7)\n",
    "\n",
    "train_labels=train_labels.to_numpy()\n",
    "train_labels=preprocessing.LabelEncoder().fit_transform(train_labels)\n",
    "train_labels=keras.utils.np_utils.to_categorical(train_labels)"
   ]
  },
  {
   "cell_type": "code",
   "execution_count": 39,
   "id": "5664b7d0",
   "metadata": {},
   "outputs": [],
   "source": [
    "X_train, X_test, y_train, y_test=train_test_split(model_2B_features, train_labels, train_size=0.5)"
   ]
  },
  {
   "cell_type": "code",
   "execution_count": 53,
   "id": "254a7aae",
   "metadata": {},
   "outputs": [
    {
     "ename": "KeyboardInterrupt",
     "evalue": "",
     "output_type": "error",
     "traceback": [
      "\u001b[0;31m---------------------------------------------------------------------------\u001b[0m",
      "\u001b[0;31mKeyboardInterrupt\u001b[0m                         Traceback (most recent call last)",
      "Cell \u001b[0;32mIn [53], line 3\u001b[0m\n\u001b[1;32m      1\u001b[0m \u001b[38;5;66;03m#Train Model 1B on data that is missing two subjects\u001b[39;00m\n\u001b[0;32m----> 3\u001b[0m history\u001b[38;5;241m=\u001b[39m\u001b[43mmodel_1B\u001b[49m\u001b[38;5;241;43m.\u001b[39;49m\u001b[43mfit\u001b[49m\u001b[43m(\u001b[49m\u001b[43mmodel_2B_features\u001b[49m\u001b[43m,\u001b[49m\u001b[43m \u001b[49m\u001b[43mtrain_labels\u001b[49m\u001b[43m,\u001b[49m\u001b[43m \u001b[49m\u001b[43mepochs\u001b[49m\u001b[38;5;241;43m=\u001b[39;49m\u001b[38;5;241;43m1\u001b[39;49m\u001b[43m,\u001b[49m\u001b[43m \u001b[49m\u001b[43mvalidation_split\u001b[49m\u001b[38;5;241;43m=\u001b[39;49m\u001b[38;5;241;43m0.3\u001b[39;49m\u001b[43m,\u001b[49m\u001b[43m \u001b[49m\u001b[43mverbose\u001b[49m\u001b[38;5;241;43m=\u001b[39;49m\u001b[38;5;241;43m3\u001b[39;49m\u001b[43m,\u001b[49m\u001b[43m \u001b[49m\u001b[43mbatch_size\u001b[49m\u001b[38;5;241;43m=\u001b[39;49m\u001b[38;5;241;43m1000\u001b[39;49m\u001b[43m)\u001b[49m\n",
      "File \u001b[0;32m~/opt/miniconda3/envs/tf/lib/python3.10/site-packages/keras/utils/traceback_utils.py:65\u001b[0m, in \u001b[0;36mfilter_traceback.<locals>.error_handler\u001b[0;34m(*args, **kwargs)\u001b[0m\n\u001b[1;32m     63\u001b[0m filtered_tb \u001b[38;5;241m=\u001b[39m \u001b[38;5;28;01mNone\u001b[39;00m\n\u001b[1;32m     64\u001b[0m \u001b[38;5;28;01mtry\u001b[39;00m:\n\u001b[0;32m---> 65\u001b[0m     \u001b[38;5;28;01mreturn\u001b[39;00m \u001b[43mfn\u001b[49m\u001b[43m(\u001b[49m\u001b[38;5;241;43m*\u001b[39;49m\u001b[43margs\u001b[49m\u001b[43m,\u001b[49m\u001b[43m \u001b[49m\u001b[38;5;241;43m*\u001b[39;49m\u001b[38;5;241;43m*\u001b[39;49m\u001b[43mkwargs\u001b[49m\u001b[43m)\u001b[49m\n\u001b[1;32m     66\u001b[0m \u001b[38;5;28;01mexcept\u001b[39;00m \u001b[38;5;167;01mException\u001b[39;00m \u001b[38;5;28;01mas\u001b[39;00m e:\n\u001b[1;32m     67\u001b[0m     filtered_tb \u001b[38;5;241m=\u001b[39m _process_traceback_frames(e\u001b[38;5;241m.\u001b[39m__traceback__)\n",
      "File \u001b[0;32m~/opt/miniconda3/envs/tf/lib/python3.10/site-packages/keras/engine/training.py:1564\u001b[0m, in \u001b[0;36mModel.fit\u001b[0;34m(self, x, y, batch_size, epochs, verbose, callbacks, validation_split, validation_data, shuffle, class_weight, sample_weight, initial_epoch, steps_per_epoch, validation_steps, validation_batch_size, validation_freq, max_queue_size, workers, use_multiprocessing)\u001b[0m\n\u001b[1;32m   1556\u001b[0m \u001b[38;5;28;01mwith\u001b[39;00m tf\u001b[38;5;241m.\u001b[39mprofiler\u001b[38;5;241m.\u001b[39mexperimental\u001b[38;5;241m.\u001b[39mTrace(\n\u001b[1;32m   1557\u001b[0m     \u001b[38;5;124m\"\u001b[39m\u001b[38;5;124mtrain\u001b[39m\u001b[38;5;124m\"\u001b[39m,\n\u001b[1;32m   1558\u001b[0m     epoch_num\u001b[38;5;241m=\u001b[39mepoch,\n\u001b[0;32m   (...)\u001b[0m\n\u001b[1;32m   1561\u001b[0m     _r\u001b[38;5;241m=\u001b[39m\u001b[38;5;241m1\u001b[39m,\n\u001b[1;32m   1562\u001b[0m ):\n\u001b[1;32m   1563\u001b[0m     callbacks\u001b[38;5;241m.\u001b[39mon_train_batch_begin(step)\n\u001b[0;32m-> 1564\u001b[0m     tmp_logs \u001b[38;5;241m=\u001b[39m \u001b[38;5;28;43mself\u001b[39;49m\u001b[38;5;241;43m.\u001b[39;49m\u001b[43mtrain_function\u001b[49m\u001b[43m(\u001b[49m\u001b[43miterator\u001b[49m\u001b[43m)\u001b[49m\n\u001b[1;32m   1565\u001b[0m     \u001b[38;5;28;01mif\u001b[39;00m data_handler\u001b[38;5;241m.\u001b[39mshould_sync:\n\u001b[1;32m   1566\u001b[0m         context\u001b[38;5;241m.\u001b[39masync_wait()\n",
      "File \u001b[0;32m~/opt/miniconda3/envs/tf/lib/python3.10/site-packages/tensorflow/python/util/traceback_utils.py:150\u001b[0m, in \u001b[0;36mfilter_traceback.<locals>.error_handler\u001b[0;34m(*args, **kwargs)\u001b[0m\n\u001b[1;32m    148\u001b[0m filtered_tb \u001b[38;5;241m=\u001b[39m \u001b[38;5;28;01mNone\u001b[39;00m\n\u001b[1;32m    149\u001b[0m \u001b[38;5;28;01mtry\u001b[39;00m:\n\u001b[0;32m--> 150\u001b[0m   \u001b[38;5;28;01mreturn\u001b[39;00m \u001b[43mfn\u001b[49m\u001b[43m(\u001b[49m\u001b[38;5;241;43m*\u001b[39;49m\u001b[43margs\u001b[49m\u001b[43m,\u001b[49m\u001b[43m \u001b[49m\u001b[38;5;241;43m*\u001b[39;49m\u001b[38;5;241;43m*\u001b[39;49m\u001b[43mkwargs\u001b[49m\u001b[43m)\u001b[49m\n\u001b[1;32m    151\u001b[0m \u001b[38;5;28;01mexcept\u001b[39;00m \u001b[38;5;167;01mException\u001b[39;00m \u001b[38;5;28;01mas\u001b[39;00m e:\n\u001b[1;32m    152\u001b[0m   filtered_tb \u001b[38;5;241m=\u001b[39m _process_traceback_frames(e\u001b[38;5;241m.\u001b[39m__traceback__)\n",
      "File \u001b[0;32m~/opt/miniconda3/envs/tf/lib/python3.10/site-packages/tensorflow/python/eager/def_function.py:915\u001b[0m, in \u001b[0;36mFunction.__call__\u001b[0;34m(self, *args, **kwds)\u001b[0m\n\u001b[1;32m    912\u001b[0m compiler \u001b[38;5;241m=\u001b[39m \u001b[38;5;124m\"\u001b[39m\u001b[38;5;124mxla\u001b[39m\u001b[38;5;124m\"\u001b[39m \u001b[38;5;28;01mif\u001b[39;00m \u001b[38;5;28mself\u001b[39m\u001b[38;5;241m.\u001b[39m_jit_compile \u001b[38;5;28;01melse\u001b[39;00m \u001b[38;5;124m\"\u001b[39m\u001b[38;5;124mnonXla\u001b[39m\u001b[38;5;124m\"\u001b[39m\n\u001b[1;32m    914\u001b[0m \u001b[38;5;28;01mwith\u001b[39;00m OptionalXlaContext(\u001b[38;5;28mself\u001b[39m\u001b[38;5;241m.\u001b[39m_jit_compile):\n\u001b[0;32m--> 915\u001b[0m   result \u001b[38;5;241m=\u001b[39m \u001b[38;5;28;43mself\u001b[39;49m\u001b[38;5;241;43m.\u001b[39;49m\u001b[43m_call\u001b[49m\u001b[43m(\u001b[49m\u001b[38;5;241;43m*\u001b[39;49m\u001b[43margs\u001b[49m\u001b[43m,\u001b[49m\u001b[43m \u001b[49m\u001b[38;5;241;43m*\u001b[39;49m\u001b[38;5;241;43m*\u001b[39;49m\u001b[43mkwds\u001b[49m\u001b[43m)\u001b[49m\n\u001b[1;32m    917\u001b[0m new_tracing_count \u001b[38;5;241m=\u001b[39m \u001b[38;5;28mself\u001b[39m\u001b[38;5;241m.\u001b[39mexperimental_get_tracing_count()\n\u001b[1;32m    918\u001b[0m without_tracing \u001b[38;5;241m=\u001b[39m (tracing_count \u001b[38;5;241m==\u001b[39m new_tracing_count)\n",
      "File \u001b[0;32m~/opt/miniconda3/envs/tf/lib/python3.10/site-packages/tensorflow/python/eager/def_function.py:947\u001b[0m, in \u001b[0;36mFunction._call\u001b[0;34m(self, *args, **kwds)\u001b[0m\n\u001b[1;32m    944\u001b[0m   \u001b[38;5;28mself\u001b[39m\u001b[38;5;241m.\u001b[39m_lock\u001b[38;5;241m.\u001b[39mrelease()\n\u001b[1;32m    945\u001b[0m   \u001b[38;5;66;03m# In this case we have created variables on the first call, so we run the\u001b[39;00m\n\u001b[1;32m    946\u001b[0m   \u001b[38;5;66;03m# defunned version which is guaranteed to never create variables.\u001b[39;00m\n\u001b[0;32m--> 947\u001b[0m   \u001b[38;5;28;01mreturn\u001b[39;00m \u001b[38;5;28;43mself\u001b[39;49m\u001b[38;5;241;43m.\u001b[39;49m\u001b[43m_stateless_fn\u001b[49m\u001b[43m(\u001b[49m\u001b[38;5;241;43m*\u001b[39;49m\u001b[43margs\u001b[49m\u001b[43m,\u001b[49m\u001b[43m \u001b[49m\u001b[38;5;241;43m*\u001b[39;49m\u001b[38;5;241;43m*\u001b[39;49m\u001b[43mkwds\u001b[49m\u001b[43m)\u001b[49m  \u001b[38;5;66;03m# pylint: disable=not-callable\u001b[39;00m\n\u001b[1;32m    948\u001b[0m \u001b[38;5;28;01melif\u001b[39;00m \u001b[38;5;28mself\u001b[39m\u001b[38;5;241m.\u001b[39m_stateful_fn \u001b[38;5;129;01mis\u001b[39;00m \u001b[38;5;129;01mnot\u001b[39;00m \u001b[38;5;28;01mNone\u001b[39;00m:\n\u001b[1;32m    949\u001b[0m   \u001b[38;5;66;03m# Release the lock early so that multiple threads can perform the call\u001b[39;00m\n\u001b[1;32m    950\u001b[0m   \u001b[38;5;66;03m# in parallel.\u001b[39;00m\n\u001b[1;32m    951\u001b[0m   \u001b[38;5;28mself\u001b[39m\u001b[38;5;241m.\u001b[39m_lock\u001b[38;5;241m.\u001b[39mrelease()\n",
      "File \u001b[0;32m~/opt/miniconda3/envs/tf/lib/python3.10/site-packages/tensorflow/python/eager/function.py:2496\u001b[0m, in \u001b[0;36mFunction.__call__\u001b[0;34m(self, *args, **kwargs)\u001b[0m\n\u001b[1;32m   2493\u001b[0m \u001b[38;5;28;01mwith\u001b[39;00m \u001b[38;5;28mself\u001b[39m\u001b[38;5;241m.\u001b[39m_lock:\n\u001b[1;32m   2494\u001b[0m   (graph_function,\n\u001b[1;32m   2495\u001b[0m    filtered_flat_args) \u001b[38;5;241m=\u001b[39m \u001b[38;5;28mself\u001b[39m\u001b[38;5;241m.\u001b[39m_maybe_define_function(args, kwargs)\n\u001b[0;32m-> 2496\u001b[0m \u001b[38;5;28;01mreturn\u001b[39;00m \u001b[43mgraph_function\u001b[49m\u001b[38;5;241;43m.\u001b[39;49m\u001b[43m_call_flat\u001b[49m\u001b[43m(\u001b[49m\n\u001b[1;32m   2497\u001b[0m \u001b[43m    \u001b[49m\u001b[43mfiltered_flat_args\u001b[49m\u001b[43m,\u001b[49m\u001b[43m \u001b[49m\u001b[43mcaptured_inputs\u001b[49m\u001b[38;5;241;43m=\u001b[39;49m\u001b[43mgraph_function\u001b[49m\u001b[38;5;241;43m.\u001b[39;49m\u001b[43mcaptured_inputs\u001b[49m\u001b[43m)\u001b[49m\n",
      "File \u001b[0;32m~/opt/miniconda3/envs/tf/lib/python3.10/site-packages/tensorflow/python/eager/function.py:1862\u001b[0m, in \u001b[0;36mConcreteFunction._call_flat\u001b[0;34m(self, args, captured_inputs, cancellation_manager)\u001b[0m\n\u001b[1;32m   1858\u001b[0m possible_gradient_type \u001b[38;5;241m=\u001b[39m gradients_util\u001b[38;5;241m.\u001b[39mPossibleTapeGradientTypes(args)\n\u001b[1;32m   1859\u001b[0m \u001b[38;5;28;01mif\u001b[39;00m (possible_gradient_type \u001b[38;5;241m==\u001b[39m gradients_util\u001b[38;5;241m.\u001b[39mPOSSIBLE_GRADIENT_TYPES_NONE\n\u001b[1;32m   1860\u001b[0m     \u001b[38;5;129;01mand\u001b[39;00m executing_eagerly):\n\u001b[1;32m   1861\u001b[0m   \u001b[38;5;66;03m# No tape is watching; skip to running the function.\u001b[39;00m\n\u001b[0;32m-> 1862\u001b[0m   \u001b[38;5;28;01mreturn\u001b[39;00m \u001b[38;5;28mself\u001b[39m\u001b[38;5;241m.\u001b[39m_build_call_outputs(\u001b[38;5;28;43mself\u001b[39;49m\u001b[38;5;241;43m.\u001b[39;49m\u001b[43m_inference_function\u001b[49m\u001b[38;5;241;43m.\u001b[39;49m\u001b[43mcall\u001b[49m\u001b[43m(\u001b[49m\n\u001b[1;32m   1863\u001b[0m \u001b[43m      \u001b[49m\u001b[43mctx\u001b[49m\u001b[43m,\u001b[49m\u001b[43m \u001b[49m\u001b[43margs\u001b[49m\u001b[43m,\u001b[49m\u001b[43m \u001b[49m\u001b[43mcancellation_manager\u001b[49m\u001b[38;5;241;43m=\u001b[39;49m\u001b[43mcancellation_manager\u001b[49m\u001b[43m)\u001b[49m)\n\u001b[1;32m   1864\u001b[0m forward_backward \u001b[38;5;241m=\u001b[39m \u001b[38;5;28mself\u001b[39m\u001b[38;5;241m.\u001b[39m_select_forward_and_backward_functions(\n\u001b[1;32m   1865\u001b[0m     args,\n\u001b[1;32m   1866\u001b[0m     possible_gradient_type,\n\u001b[1;32m   1867\u001b[0m     executing_eagerly)\n\u001b[1;32m   1868\u001b[0m forward_function, args_with_tangents \u001b[38;5;241m=\u001b[39m forward_backward\u001b[38;5;241m.\u001b[39mforward()\n",
      "File \u001b[0;32m~/opt/miniconda3/envs/tf/lib/python3.10/site-packages/tensorflow/python/eager/function.py:499\u001b[0m, in \u001b[0;36m_EagerDefinedFunction.call\u001b[0;34m(self, ctx, args, cancellation_manager)\u001b[0m\n\u001b[1;32m    497\u001b[0m \u001b[38;5;28;01mwith\u001b[39;00m _InterpolateFunctionError(\u001b[38;5;28mself\u001b[39m):\n\u001b[1;32m    498\u001b[0m   \u001b[38;5;28;01mif\u001b[39;00m cancellation_manager \u001b[38;5;129;01mis\u001b[39;00m \u001b[38;5;28;01mNone\u001b[39;00m:\n\u001b[0;32m--> 499\u001b[0m     outputs \u001b[38;5;241m=\u001b[39m \u001b[43mexecute\u001b[49m\u001b[38;5;241;43m.\u001b[39;49m\u001b[43mexecute\u001b[49m\u001b[43m(\u001b[49m\n\u001b[1;32m    500\u001b[0m \u001b[43m        \u001b[49m\u001b[38;5;28;43mstr\u001b[39;49m\u001b[43m(\u001b[49m\u001b[38;5;28;43mself\u001b[39;49m\u001b[38;5;241;43m.\u001b[39;49m\u001b[43msignature\u001b[49m\u001b[38;5;241;43m.\u001b[39;49m\u001b[43mname\u001b[49m\u001b[43m)\u001b[49m\u001b[43m,\u001b[49m\n\u001b[1;32m    501\u001b[0m \u001b[43m        \u001b[49m\u001b[43mnum_outputs\u001b[49m\u001b[38;5;241;43m=\u001b[39;49m\u001b[38;5;28;43mself\u001b[39;49m\u001b[38;5;241;43m.\u001b[39;49m\u001b[43m_num_outputs\u001b[49m\u001b[43m,\u001b[49m\n\u001b[1;32m    502\u001b[0m \u001b[43m        \u001b[49m\u001b[43minputs\u001b[49m\u001b[38;5;241;43m=\u001b[39;49m\u001b[43margs\u001b[49m\u001b[43m,\u001b[49m\n\u001b[1;32m    503\u001b[0m \u001b[43m        \u001b[49m\u001b[43mattrs\u001b[49m\u001b[38;5;241;43m=\u001b[39;49m\u001b[43mattrs\u001b[49m\u001b[43m,\u001b[49m\n\u001b[1;32m    504\u001b[0m \u001b[43m        \u001b[49m\u001b[43mctx\u001b[49m\u001b[38;5;241;43m=\u001b[39;49m\u001b[43mctx\u001b[49m\u001b[43m)\u001b[49m\n\u001b[1;32m    505\u001b[0m   \u001b[38;5;28;01melse\u001b[39;00m:\n\u001b[1;32m    506\u001b[0m     outputs \u001b[38;5;241m=\u001b[39m execute\u001b[38;5;241m.\u001b[39mexecute_with_cancellation(\n\u001b[1;32m    507\u001b[0m         \u001b[38;5;28mstr\u001b[39m(\u001b[38;5;28mself\u001b[39m\u001b[38;5;241m.\u001b[39msignature\u001b[38;5;241m.\u001b[39mname),\n\u001b[1;32m    508\u001b[0m         num_outputs\u001b[38;5;241m=\u001b[39m\u001b[38;5;28mself\u001b[39m\u001b[38;5;241m.\u001b[39m_num_outputs,\n\u001b[0;32m   (...)\u001b[0m\n\u001b[1;32m    511\u001b[0m         ctx\u001b[38;5;241m=\u001b[39mctx,\n\u001b[1;32m    512\u001b[0m         cancellation_manager\u001b[38;5;241m=\u001b[39mcancellation_manager)\n",
      "File \u001b[0;32m~/opt/miniconda3/envs/tf/lib/python3.10/site-packages/tensorflow/python/eager/execute.py:54\u001b[0m, in \u001b[0;36mquick_execute\u001b[0;34m(op_name, num_outputs, inputs, attrs, ctx, name)\u001b[0m\n\u001b[1;32m     52\u001b[0m \u001b[38;5;28;01mtry\u001b[39;00m:\n\u001b[1;32m     53\u001b[0m   ctx\u001b[38;5;241m.\u001b[39mensure_initialized()\n\u001b[0;32m---> 54\u001b[0m   tensors \u001b[38;5;241m=\u001b[39m \u001b[43mpywrap_tfe\u001b[49m\u001b[38;5;241;43m.\u001b[39;49m\u001b[43mTFE_Py_Execute\u001b[49m\u001b[43m(\u001b[49m\u001b[43mctx\u001b[49m\u001b[38;5;241;43m.\u001b[39;49m\u001b[43m_handle\u001b[49m\u001b[43m,\u001b[49m\u001b[43m \u001b[49m\u001b[43mdevice_name\u001b[49m\u001b[43m,\u001b[49m\u001b[43m \u001b[49m\u001b[43mop_name\u001b[49m\u001b[43m,\u001b[49m\n\u001b[1;32m     55\u001b[0m \u001b[43m                                      \u001b[49m\u001b[43minputs\u001b[49m\u001b[43m,\u001b[49m\u001b[43m \u001b[49m\u001b[43mattrs\u001b[49m\u001b[43m,\u001b[49m\u001b[43m \u001b[49m\u001b[43mnum_outputs\u001b[49m\u001b[43m)\u001b[49m\n\u001b[1;32m     56\u001b[0m \u001b[38;5;28;01mexcept\u001b[39;00m core\u001b[38;5;241m.\u001b[39m_NotOkStatusException \u001b[38;5;28;01mas\u001b[39;00m e:\n\u001b[1;32m     57\u001b[0m   \u001b[38;5;28;01mif\u001b[39;00m name \u001b[38;5;129;01mis\u001b[39;00m \u001b[38;5;129;01mnot\u001b[39;00m \u001b[38;5;28;01mNone\u001b[39;00m:\n",
      "\u001b[0;31mKeyboardInterrupt\u001b[0m: "
     ]
    }
   ],
   "source": [
    "#Train Model 1B on data that is missing two subjects...didn't do well...61% accuracy on test data\n",
    "\n",
    "history=model_1B.fit(model_2B_features, train_labels, epochs=1, validation_split=0.3, verbose=3, batch_size=1000)"
   ]
  },
  {
   "cell_type": "code",
   "execution_count": 42,
   "id": "6b7b4cb6",
   "metadata": {},
   "outputs": [
    {
     "data": {
      "text/html": [
       "<div>\n",
       "<style scoped>\n",
       "    .dataframe tbody tr th:only-of-type {\n",
       "        vertical-align: middle;\n",
       "    }\n",
       "\n",
       "    .dataframe tbody tr th {\n",
       "        vertical-align: top;\n",
       "    }\n",
       "\n",
       "    .dataframe thead th {\n",
       "        text-align: right;\n",
       "    }\n",
       "</style>\n",
       "<table border=\"1\" class=\"dataframe\">\n",
       "  <thead>\n",
       "    <tr style=\"text-align: right;\">\n",
       "      <th></th>\n",
       "      <th>0</th>\n",
       "      <th>0</th>\n",
       "      <th>1</th>\n",
       "      <th>2</th>\n",
       "      <th>0</th>\n",
       "      <th>0</th>\n",
       "      <th>0</th>\n",
       "    </tr>\n",
       "  </thead>\n",
       "  <tbody>\n",
       "    <tr>\n",
       "      <th>2312803</th>\n",
       "      <td>-0.00</td>\n",
       "      <td>-1</td>\n",
       "      <td>-62</td>\n",
       "      <td>13</td>\n",
       "      <td>0.0</td>\n",
       "      <td>21.81</td>\n",
       "      <td>104.00</td>\n",
       "    </tr>\n",
       "    <tr>\n",
       "      <th>2312804</th>\n",
       "      <td>-0.00</td>\n",
       "      <td>-1</td>\n",
       "      <td>-62</td>\n",
       "      <td>13</td>\n",
       "      <td>0.0</td>\n",
       "      <td>21.81</td>\n",
       "      <td>104.00</td>\n",
       "    </tr>\n",
       "    <tr>\n",
       "      <th>2312805</th>\n",
       "      <td>-0.00</td>\n",
       "      <td>-1</td>\n",
       "      <td>-62</td>\n",
       "      <td>13</td>\n",
       "      <td>0.0</td>\n",
       "      <td>21.81</td>\n",
       "      <td>104.00</td>\n",
       "    </tr>\n",
       "    <tr>\n",
       "      <th>2312806</th>\n",
       "      <td>-0.00</td>\n",
       "      <td>-1</td>\n",
       "      <td>-62</td>\n",
       "      <td>13</td>\n",
       "      <td>0.0</td>\n",
       "      <td>21.81</td>\n",
       "      <td>104.00</td>\n",
       "    </tr>\n",
       "    <tr>\n",
       "      <th>2312807</th>\n",
       "      <td>-0.00</td>\n",
       "      <td>-1</td>\n",
       "      <td>-62</td>\n",
       "      <td>13</td>\n",
       "      <td>0.0</td>\n",
       "      <td>21.81</td>\n",
       "      <td>104.00</td>\n",
       "    </tr>\n",
       "    <tr>\n",
       "      <th>...</th>\n",
       "      <td>...</td>\n",
       "      <td>...</td>\n",
       "      <td>...</td>\n",
       "      <td>...</td>\n",
       "      <td>...</td>\n",
       "      <td>...</td>\n",
       "      <td>...</td>\n",
       "    </tr>\n",
       "    <tr>\n",
       "      <th>10905186</th>\n",
       "      <td>-1.55</td>\n",
       "      <td>57</td>\n",
       "      <td>19</td>\n",
       "      <td>-10</td>\n",
       "      <td>0.0</td>\n",
       "      <td>26.47</td>\n",
       "      <td>128.53</td>\n",
       "    </tr>\n",
       "    <tr>\n",
       "      <th>10905187</th>\n",
       "      <td>-1.55</td>\n",
       "      <td>57</td>\n",
       "      <td>19</td>\n",
       "      <td>-10</td>\n",
       "      <td>0.0</td>\n",
       "      <td>26.47</td>\n",
       "      <td>128.53</td>\n",
       "    </tr>\n",
       "    <tr>\n",
       "      <th>10905188</th>\n",
       "      <td>-1.55</td>\n",
       "      <td>57</td>\n",
       "      <td>19</td>\n",
       "      <td>-10</td>\n",
       "      <td>0.0</td>\n",
       "      <td>26.47</td>\n",
       "      <td>128.53</td>\n",
       "    </tr>\n",
       "    <tr>\n",
       "      <th>10905189</th>\n",
       "      <td>-1.55</td>\n",
       "      <td>62</td>\n",
       "      <td>30</td>\n",
       "      <td>-10</td>\n",
       "      <td>0.0</td>\n",
       "      <td>26.47</td>\n",
       "      <td>128.53</td>\n",
       "    </tr>\n",
       "    <tr>\n",
       "      <th>10905190</th>\n",
       "      <td>-1.68</td>\n",
       "      <td>59</td>\n",
       "      <td>25</td>\n",
       "      <td>-13</td>\n",
       "      <td>0.0</td>\n",
       "      <td>26.47</td>\n",
       "      <td>128.53</td>\n",
       "    </tr>\n",
       "  </tbody>\n",
       "</table>\n",
       "<p>5770427 rows × 7 columns</p>\n",
       "</div>"
      ],
      "text/plain": [
       "             0   0   1   2    0      0       0\n",
       "2312803  -0.00  -1 -62  13  0.0  21.81  104.00\n",
       "2312804  -0.00  -1 -62  13  0.0  21.81  104.00\n",
       "2312805  -0.00  -1 -62  13  0.0  21.81  104.00\n",
       "2312806  -0.00  -1 -62  13  0.0  21.81  104.00\n",
       "2312807  -0.00  -1 -62  13  0.0  21.81  104.00\n",
       "...        ...  ..  ..  ..  ...    ...     ...\n",
       "10905186 -1.55  57  19 -10  0.0  26.47  128.53\n",
       "10905187 -1.55  57  19 -10  0.0  26.47  128.53\n",
       "10905188 -1.55  57  19 -10  0.0  26.47  128.53\n",
       "10905189 -1.55  62  30 -10  0.0  26.47  128.53\n",
       "10905190 -1.68  59  25 -13  0.0  26.47  128.53\n",
       "\n",
       "[5770427 rows x 7 columns]"
      ]
     },
     "execution_count": 42,
     "metadata": {},
     "output_type": "execute_result"
    }
   ],
   "source": [
    "#Organizing holdout data\n",
    "\n",
    "holdout_labels_1=holdout_1[0]['Test']\n",
    "holdout_labels_2=holdout_2[0]['Test']\n",
    "holdout_labels_3=holdout_3[0]['Test']\n",
    "\n",
    "holdout_labels=pd.concat([holdout_labels_1, holdout_labels_2, holdout_labels_3], axis=0)\n",
    "\n",
    "holdout_1=[i.drop(columns=['Subject', 'Test', 'Score']) for i in holdout_1]\n",
    "holdout_2=[i.drop(columns=['Subject', 'Test', 'Score']) for i in holdout_2]\n",
    "holdout_3=[i.drop(columns=['Subject', 'Test', 'Score']) for i in holdout_3]\n",
    "\n",
    "h=[holdout_1, holdout_2, holdout_3]\n",
    "holdout_features=[]\n",
    "for i in h:\n",
    "    x=pd.concat(i, axis=1)\n",
    "    holdout_features.append(x)\n",
    "\n",
    "holdout_features=pd.concat(holdout_features, axis=0)"
   ]
  },
  {
   "cell_type": "code",
   "execution_count": 45,
   "id": "ded66775",
   "metadata": {},
   "outputs": [],
   "source": [
    "holdout_features=preprocessing.StandardScaler().fit_transform(holdout_features)\n",
    "holdout_features=holdout_features.reshape(-1,1,7)\n",
    "\n",
    "holdout_labels=preprocessing.LabelEncoder().fit_transform(holdout_labels)\n",
    "holdout_labels=keras.utils.np_utils.to_categorical(holdout_labels)"
   ]
  },
  {
   "cell_type": "code",
   "execution_count": 54,
   "id": "d79a8de5",
   "metadata": {},
   "outputs": [
    {
     "name": "stdout",
     "output_type": "stream",
     "text": [
      "5771/5771 [==============================] - 70s 12ms/step - loss: 1.2198 - accuracy: 0.6127\n"
     ]
    },
    {
     "data": {
      "text/plain": [
       "[1.2198089361190796, 0.6127037405967712]"
      ]
     },
     "execution_count": 54,
     "metadata": {},
     "output_type": "execute_result"
    }
   ],
   "source": [
    "model_1B.evaluate(holdout_features, holdout_labels, batch_size=1000, verbose=1) #TERRRRIBLEEEEEEE AGHHHHHH"
   ]
  },
  {
   "cell_type": "code",
   "execution_count": 63,
   "id": "8efb0846",
   "metadata": {},
   "outputs": [],
   "source": [
    "conv1d_labels=pd.concat([model_2B_labels_1, model_2B_labels_2, model_2B_labels_3], axis=0)"
   ]
  },
  {
   "cell_type": "code",
   "execution_count": 76,
   "id": "25369235",
   "metadata": {},
   "outputs": [
    {
     "name": "stderr",
     "output_type": "stream",
     "text": [
      "/var/folders/wv/c3g7vgxd10n0mdl2_flcjj480000gn/T/ipykernel_16471/4002559029.py:11: FutureWarning: Unlike other reduction functions (e.g. `skew`, `kurtosis`), the default behavior of `mode` typically preserves the axis it acts along. In SciPy 1.11.0, this behavior will change: the default value of `keepdims` will become False, the `axis` over which the statistic is taken will be eliminated, and the value None will no longer be accepted. Set `keepdims` to True or False to avoid this warning.\n",
      "  l_splc=stats.mode(conv1d_labels.iloc[i:i+time_step])[0][0]\n",
      "/var/folders/wv/c3g7vgxd10n0mdl2_flcjj480000gn/T/ipykernel_16471/4002559029.py:11: DeprecationWarning: Support for non-numeric arrays has been deprecated as of SciPy 1.9.0 and will be removed in 1.11.0. `pandas.DataFrame.mode` can be used instead, see https://pandas.pydata.org/docs/reference/api/pandas.DataFrame.mode.html.\n",
      "  l_splc=stats.mode(conv1d_labels.iloc[i:i+time_step])[0][0]\n"
     ]
    }
   ],
   "source": [
    "#2B) Conv1D for Exam Classification\n",
    "\n",
    "time_step=64*4\n",
    "\n",
    "f=[]\n",
    "l=[]\n",
    "for i in range(0, len(model_2B_features)-time_step, time_step):\n",
    "    splc=model_2B_features[i:i+time_step]\n",
    "    f.append(splc)\n",
    "    l_splc=stats.mode(conv1d_labels.iloc[i:i+time_step])[0][0]\n",
    "    l.append(l_splc)\n",
    "    \n",
    "conv1d_features=np.asarray(f).reshape(88146,256,7)\n",
    "conv1d_labels=np.asarray(l).reshape(-1,1)\n",
    "\n",
    "conv1d_labels=preprocessing.LabelEncoder().fit_transform(conv1d_labels)\n",
    "conv1d_labels=keras.utils.np_utils.to_categorical(conv1d_labels)"
   ]
  },
  {
   "cell_type": "code",
   "execution_count": 99,
   "id": "fee5f1d1",
   "metadata": {},
   "outputs": [
    {
     "name": "stdout",
     "output_type": "stream",
     "text": [
      "Model: \"model_6\"\n",
      "_________________________________________________________________\n",
      " Layer (type)                Output Shape              Param #   \n",
      "=================================================================\n",
      " input_9 (InputLayer)        [(None, 256, 7)]          0         \n",
      "                                                                 \n",
      " conv1d_13 (Conv1D)          (None, 254, 64)           1408      \n",
      "                                                                 \n",
      " dropout_15 (Dropout)        (None, 254, 64)           0         \n",
      "                                                                 \n",
      " conv1d_14 (Conv1D)          (None, 252, 64)           12352     \n",
      "                                                                 \n",
      " dropout_16 (Dropout)        (None, 252, 64)           0         \n",
      "                                                                 \n",
      " conv1d_15 (Conv1D)          (None, 250, 64)           12352     \n",
      "                                                                 \n",
      " flatten_3 (Flatten)         (None, 16000)             0         \n",
      "                                                                 \n",
      " dense_13 (Dense)            (None, 64)                1024064   \n",
      "                                                                 \n",
      " dense_14 (Dense)            (None, 3)                 195       \n",
      "                                                                 \n",
      "=================================================================\n",
      "Total params: 1,050,371\n",
      "Trainable params: 1,050,371\n",
      "Non-trainable params: 0\n",
      "_________________________________________________________________\n"
     ]
    }
   ],
   "source": [
    "# Model 2B) Conv1D for classification\n",
    "\n",
    "inputs=tf.keras.Input(shape=(256,7))\n",
    "x=keras.layers.Conv1D(64,3, activation='relu')(inputs)\n",
    "x=keras.layers.Dropout(0.3)(x)\n",
    "x=keras.layers.Conv1D(64,3, activation='relu')(x)\n",
    "x=keras.layers.Dropout(0.3)(x)\n",
    "x=keras.layers.Conv1D(64,3, activation='relu')(x)\n",
    "x=keras.layers.Flatten()(x)\n",
    "x=keras.layers.Dense(64, activation='relu')(x)\n",
    "z=keras.layers.Dense(3, activation='softmax')(x)\n",
    "\n",
    "model_2B=keras.Model(inputs=inputs, outputs=z)\n",
    "\n",
    "model_2B.compile(optimizer='adam', loss='categorical_crossentropy', metrics=['accuracy'])\n",
    "\n",
    "model_2B.summary()"
   ]
  },
  {
   "cell_type": "code",
   "execution_count": 100,
   "id": "0ea7334c",
   "metadata": {},
   "outputs": [
    {
     "name": "stdout",
     "output_type": "stream",
     "text": [
      "Epoch 1/5\n"
     ]
    },
    {
     "name": "stderr",
     "output_type": "stream",
     "text": [
      "2023-01-23 20:56:58.183165: I tensorflow/core/grappler/optimizers/custom_graph_optimizer_registry.cc:114] Plugin optimizer for device_type GPU is enabled.\n"
     ]
    },
    {
     "name": "stdout",
     "output_type": "stream",
     "text": [
      "71/71 [==============================] - ETA: 0s - loss: 0.9068 - accuracy: 0.5878"
     ]
    },
    {
     "name": "stderr",
     "output_type": "stream",
     "text": [
      "2023-01-23 20:57:13.258371: I tensorflow/core/grappler/optimizers/custom_graph_optimizer_registry.cc:114] Plugin optimizer for device_type GPU is enabled.\n"
     ]
    },
    {
     "name": "stdout",
     "output_type": "stream",
     "text": [
      "71/71 [==============================] - 16s 210ms/step - loss: 0.9068 - accuracy: 0.5878 - val_loss: 1.7108 - val_accuracy: 0.5454\n",
      "Epoch 2/5\n",
      "71/71 [==============================] - 14s 193ms/step - loss: 0.5013 - accuracy: 0.7752 - val_loss: 1.2862 - val_accuracy: 0.6182\n",
      "Epoch 3/5\n",
      "71/71 [==============================] - 15s 211ms/step - loss: 0.4137 - accuracy: 0.8146 - val_loss: 1.5514 - val_accuracy: 0.5289\n",
      "Epoch 4/5\n",
      "71/71 [==============================] - 15s 209ms/step - loss: 0.3670 - accuracy: 0.8376 - val_loss: 1.9376 - val_accuracy: 0.5441\n",
      "Epoch 5/5\n",
      "71/71 [==============================] - 16s 226ms/step - loss: 0.3359 - accuracy: 0.8504 - val_loss: 1.6586 - val_accuracy: 0.5706\n"
     ]
    },
    {
     "data": {
      "text/plain": [
       "<keras.callbacks.History at 0x400737cd0>"
      ]
     },
     "execution_count": 100,
     "metadata": {},
     "output_type": "execute_result"
    }
   ],
   "source": [
    "model_2B.fit(conv1d_features, conv1d_labels, epochs=5, verbose=1, batch_size=1000, validation_split=0.2)"
   ]
  },
  {
   "cell_type": "code",
   "execution_count": 3,
   "id": "2ff24f3d",
   "metadata": {},
   "outputs": [],
   "source": [
    "#1C) Develop model to classify the student...all students, assess a physiological pattern during a stressful exam\n",
    "\n",
    "student_classifier_labels_1=result_1[0]['Subject'] #Labels\n",
    "student_classifier_labels_2=result_2[0]['Subject']\n",
    "student_classifier_labels_3=result_3[0]['Subject']\n",
    "\n",
    "student_classifier_labels_1=student_classifier_labels_1.sort_index().reset_index(drop=True)\n",
    "student_classifier_labels_2=student_classifier_labels_2.sort_index().reset_index(drop=True)\n",
    "student_classifier_labels_3=student_classifier_labels_3.sort_index().reset_index(drop=True)\n",
    "\n",
    "student_classifier_labels=pd.concat([student_classifier_labels_1, student_classifier_labels_2, \n",
    "                                     student_classifier_labels_3], axis=0)\n",
    "\n",
    "model_1C_features_1=[i.drop(columns=['Subject', 'Score', 'Test']) for i in result_1] #Features\n",
    "model_1C_features_2=[i.drop(columns=['Subject', 'Score', 'Test']) for i in result_2]\n",
    "model_1C_features_3=[i.drop(columns=['Subject', 'Score', 'Test']) for i in result_3]\n",
    "\n",
    "model_1C_features_1=[i.sort_index().reset_index(drop=True) for i in model_1C_features_1]\n",
    "model_1C_features_2=[i.sort_index().reset_index(drop=True) for i in model_1C_features_2]\n",
    "model_1C_features_3=[i.sort_index().reset_index(drop=True) for i in model_1C_features_3]\n",
    "\n",
    "model_1C_features_1=pd.concat(model_1C_features_1, axis=1)\n",
    "model_1C_features_2=pd.concat(model_1C_features_2, axis=1)\n",
    "model_1C_features_3=pd.concat(model_1C_features_3, axis=1)\n",
    "\n",
    "model_1C_features=pd.concat([model_1C_features_1, model_1C_features_2, model_1C_features_3], axis=0)"
   ]
  },
  {
   "cell_type": "code",
   "execution_count": 4,
   "id": "66f2141c",
   "metadata": {},
   "outputs": [
    {
     "name": "stderr",
     "output_type": "stream",
     "text": [
      "/var/folders/wv/c3g7vgxd10n0mdl2_flcjj480000gn/T/ipykernel_906/811779242.py:14: FutureWarning: Unlike other reduction functions (e.g. `skew`, `kurtosis`), the default behavior of `mode` typically preserves the axis it acts along. In SciPy 1.11.0, this behavior will change: the default value of `keepdims` will become False, the `axis` over which the statistic is taken will be eliminated, and the value None will no longer be accepted. Set `keepdims` to True or False to avoid this warning.\n",
      "  l_splc=stats.mode(student_classifier_labels[i:i+time_step])[0][0]\n",
      "/Users/jaredperez/opt/miniconda3/envs/tf/lib/python3.10/site-packages/scipy/stats/_stats_py.py:112: RuntimeWarning: The input array could not be properly checked for nan values. nan values will be ignored.\n",
      "  warnings.warn(\"The input array could not be properly \"\n",
      "/var/folders/wv/c3g7vgxd10n0mdl2_flcjj480000gn/T/ipykernel_906/811779242.py:14: DeprecationWarning: Support for non-numeric arrays has been deprecated as of SciPy 1.9.0 and will be removed in 1.11.0. `pandas.DataFrame.mode` can be used instead, see https://pandas.pydata.org/docs/reference/api/pandas.DataFrame.mode.html.\n",
      "  l_splc=stats.mode(student_classifier_labels[i:i+time_step])[0][0]\n"
     ]
    }
   ],
   "source": [
    "#Normalize, Reshape\n",
    "model_1C_features=preprocessing.StandardScaler().fit_transform(model_1C_features) \n",
    "\n",
    "student_classifier_labels=student_classifier_labels.to_numpy()\n",
    "\n",
    "#Splice Features\n",
    "time_step=64\n",
    "\n",
    "f=[]\n",
    "l=[]\n",
    "for i in range(0, len(model_1C_features)-time_step, time_step):\n",
    "    splc=model_1C_features[i:i+time_step]\n",
    "    f.append(splc)\n",
    "    l_splc=stats.mode(student_classifier_labels[i:i+time_step])[0][0]\n",
    "    l.append(l_splc)\n",
    "    \n",
    "splice_features=np.asarray(f).reshape(-1,256,7)\n",
    "splice_labels=np.asarray(l)\n",
    "\n",
    "#One hot Encode Labels\n",
    "splice_labels=preprocessing.LabelEncoder().fit_transform(splice_labels)\n",
    "splice_labels=keras.utils.np_utils.to_categorical(splice_labels)\n",
    "\n",
    "#Train/Test Split\n",
    "\n",
    "X_train, X_test, y_train, y_test=train_test_split(splice_features,splice_labels, train_size=0.5)"
   ]
  },
  {
   "cell_type": "code",
   "execution_count": 59,
   "id": "23c3e464",
   "metadata": {},
   "outputs": [
    {
     "name": "stderr",
     "output_type": "stream",
     "text": [
      "/var/folders/wv/c3g7vgxd10n0mdl2_flcjj480000gn/T/ipykernel_906/1060375764.py:9: FutureWarning: Unlike other reduction functions (e.g. `skew`, `kurtosis`), the default behavior of `mode` typically preserves the axis it acts along. In SciPy 1.11.0, this behavior will change: the default value of `keepdims` will become False, the `axis` over which the statistic is taken will be eliminated, and the value None will no longer be accepted. Set `keepdims` to True or False to avoid this warning.\n",
      "  l_splc=stats.mode(student_classifier_labels[i:i+time_step])[0][0]\n",
      "/Users/jaredperez/opt/miniconda3/envs/tf/lib/python3.10/site-packages/scipy/stats/_stats_py.py:112: RuntimeWarning: The input array could not be properly checked for nan values. nan values will be ignored.\n",
      "  warnings.warn(\"The input array could not be properly \"\n",
      "/var/folders/wv/c3g7vgxd10n0mdl2_flcjj480000gn/T/ipykernel_906/1060375764.py:9: DeprecationWarning: Support for non-numeric arrays has been deprecated as of SciPy 1.9.0 and will be removed in 1.11.0. `pandas.DataFrame.mode` can be used instead, see https://pandas.pydata.org/docs/reference/api/pandas.DataFrame.mode.html.\n",
      "  l_splc=stats.mode(student_classifier_labels[i:i+time_step])[0][0]\n"
     ]
    }
   ],
   "source": [
    "#Splice Features\n",
    "time_step=64*4\n",
    "\n",
    "f=[]\n",
    "l=[]\n",
    "for i in range(0, len(model_1C_features)-time_step, time_step):\n",
    "    splc=model_1C_features[i:i+time_step]\n",
    "    f.append(splc)\n",
    "    l_splc=stats.mode(student_classifier_labels[i:i+time_step])[0][0]\n",
    "    l.append(l_splc)\n",
    "    \n",
    "splice_features=np.asarray(f).reshape(-1,64,7)\n",
    "splice_labels=np.asarray(l)\n",
    "\n",
    "#One hot Encode Labels\n",
    "splice_labels=preprocessing.LabelEncoder().fit_transform(splice_labels)\n",
    "splice_labels=keras.utils.np_utils.to_categorical(splice_labels)\n",
    "\n",
    "#Train/Test Split\n",
    "\n",
    "X_train, X_test, y_train, y_test=train_test_split(splice_features,splice_labels, train_size=0.5)"
   ]
  },
  {
   "cell_type": "code",
   "execution_count": 31,
   "id": "d2a81284",
   "metadata": {},
   "outputs": [
    {
     "name": "stdout",
     "output_type": "stream",
     "text": [
      "Model: \"model_5\"\n",
      "_________________________________________________________________\n",
      " Layer (type)                Output Shape              Param #   \n",
      "=================================================================\n",
      " input_7 (InputLayer)        [(None, 64, 7)]           0         \n",
      "                                                                 \n",
      " lstm_9 (LSTM)               (None, 64, 256)           270336    \n",
      "                                                                 \n",
      " dropout_15 (Dropout)        (None, 64, 256)           0         \n",
      "                                                                 \n",
      " lstm_10 (LSTM)              (None, 64, 128)           197120    \n",
      "                                                                 \n",
      " dropout_16 (Dropout)        (None, 64, 128)           0         \n",
      "                                                                 \n",
      " lstm_11 (LSTM)              (None, 64)                49408     \n",
      "                                                                 \n",
      " dropout_17 (Dropout)        (None, 64)                0         \n",
      "                                                                 \n",
      " dense_11 (Dense)            (None, 32)                2080      \n",
      "                                                                 \n",
      " dense_12 (Dense)            (None, 10)                330       \n",
      "                                                                 \n",
      "=================================================================\n",
      "Total params: 519,274\n",
      "Trainable params: 519,274\n",
      "Non-trainable params: 0\n",
      "_________________________________________________________________\n"
     ]
    }
   ],
   "source": [
    "#Model 1_C...simple LSTM for student classification\n",
    "\n",
    "inputs=tf.keras.Input(shape=(64,7))\n",
    "x=keras.layers.LSTM(256, return_sequences=True)(inputs)\n",
    "x=keras.layers.Dropout(0.3)(x)\n",
    "x=keras.layers.LSTM(128, return_sequences=True)(x)\n",
    "x=keras.layers.Dropout(0.3)(x)\n",
    "x=keras.layers.LSTM(64)(x)\n",
    "x=keras.layers.Dropout(0.3)(x)\n",
    "x=keras.layers.Dense(32, activation='relu')(x)\n",
    "z=keras.layers.Dense(10, activation='softmax')(x)\n",
    "\n",
    "model_1C=keras.Model(inputs=inputs, outputs=z)\n",
    "\n",
    "model_1C.compile(optimizer='adam', loss='categorical_crossentropy', metrics=['accuracy'])\n",
    "\n",
    "model_1C.summary()"
   ]
  },
  {
   "cell_type": "code",
   "execution_count": 13,
   "id": "75504b65",
   "metadata": {},
   "outputs": [
    {
     "name": "stdout",
     "output_type": "stream",
     "text": [
      "Model: \"model_3\"\n",
      "_________________________________________________________________\n",
      " Layer (type)                Output Shape              Param #   \n",
      "=================================================================\n",
      " input_4 (InputLayer)        [(None, 256, 7)]          0         \n",
      "                                                                 \n",
      " conv1d_6 (Conv1D)           (None, 248, 256)          16384     \n",
      "                                                                 \n",
      " conv1d_7 (Conv1D)           (None, 240, 128)          295040    \n",
      "                                                                 \n",
      " dropout_7 (Dropout)         (None, 240, 128)          0         \n",
      "                                                                 \n",
      " conv1d_8 (Conv1D)           (None, 232, 56)           64568     \n",
      "                                                                 \n",
      " dropout_8 (Dropout)         (None, 232, 56)           0         \n",
      "                                                                 \n",
      " conv1d_9 (Conv1D)           (None, 224, 32)           16160     \n",
      "                                                                 \n",
      " MaxPooling1D (MaxPooling1D)  (None, 112, 32)          0         \n",
      "                                                                 \n",
      " flatten_2 (Flatten)         (None, 3584)              0         \n",
      "                                                                 \n",
      " dense_6 (Dense)             (None, 10)                35850     \n",
      "                                                                 \n",
      "=================================================================\n",
      "Total params: 428,002\n",
      "Trainable params: 428,002\n",
      "Non-trainable params: 0\n",
      "_________________________________________________________________\n"
     ]
    }
   ],
   "source": [
    "#Simple 1DCNN for Student Classification...all data...simple LSTM one row at a time produced decent results =88% acc\n",
    "    #Model 1C_256\n",
    "\n",
    "inputs=keras.layers.Input(shape=(256,7))\n",
    "x=keras.layers.Conv1D(256,9, activation='relu')(inputs)\n",
    "x=keras.layers.Conv1D(128,9, activation='relu')(x)\n",
    "x=keras.layers.Dropout(0.5)(x)\n",
    "x=keras.layers.Conv1D(56,9, activation='relu')(x)\n",
    "x=keras.layers.Dropout(0.5)(x)\n",
    "x=keras.layers.Conv1D(32,9)(x)\n",
    "x=keras.layers.MaxPooling1D(pool_size=2, name=\"MaxPooling1D\")(x)\n",
    "\n",
    "x=keras.layers.Flatten()(x)\n",
    "\n",
    "z=keras.layers.Dense(10, activation='softmax')(x)\n",
    "\n",
    "model_1C_256=keras.Model(inputs=inputs, outputs=z)\n",
    "\n",
    "model_1C_256.compile(optimizer='adam', loss='categorical_crossentropy', metrics=['accuracy'])\n",
    "\n",
    "model_1C_256.summary()"
   ]
  },
  {
   "cell_type": "code",
   "execution_count": 65,
   "id": "67012987",
   "metadata": {},
   "outputs": [
    {
     "name": "stdout",
     "output_type": "stream",
     "text": [
      "Epoch 1/3\n",
      "178/178 [==============================] - 169s 949ms/step - loss: 0.4567 - accuracy: 0.8540 - val_loss: 0.9466 - val_accuracy: 0.7630\n",
      "Epoch 2/3\n",
      "178/178 [==============================] - 171s 960ms/step - loss: 0.5729 - accuracy: 0.8171 - val_loss: 0.4759 - val_accuracy: 0.8482\n",
      "Epoch 3/3\n",
      "178/178 [==============================] - 170s 954ms/step - loss: 0.4369 - accuracy: 0.8610 - val_loss: 0.4147 - val_accuracy: 0.8646\n"
     ]
    },
    {
     "data": {
      "text/plain": [
       "<keras.callbacks.History at 0x3e2e8fa90>"
      ]
     },
     "execution_count": 65,
     "metadata": {},
     "output_type": "execute_result"
    }
   ],
   "source": [
    "#One line at a time LSTM...decent results for student classification=83-89% (3 epochs)\n",
    "    #1 second at a time (64 time_steps)=(86% 21 epochs...still more improvement to be had with more epochs)\n",
    "\n",
    "model_1C.fit(X_train, y_train, epochs=3, batch_size=1000, validation_split=0.2, verbose=1)"
   ]
  },
  {
   "cell_type": "code",
   "execution_count": 66,
   "id": "a8b3fbc4",
   "metadata": {},
   "outputs": [
    {
     "name": "stdout",
     "output_type": "stream",
     "text": [
      "222/222 [==============================] - 67s 302ms/step - loss: 0.4142 - accuracy: 0.8654\n"
     ]
    },
    {
     "data": {
      "text/plain": [
       "[0.4141741096973419, 0.8653996586799622]"
      ]
     },
     "execution_count": 66,
     "metadata": {},
     "output_type": "execute_result"
    }
   ],
   "source": [
    "model_1C.evaluate(X_test, y_test, batch_size=1000)"
   ]
  },
  {
   "cell_type": "code",
   "execution_count": 15,
   "id": "8f152330",
   "metadata": {},
   "outputs": [
    {
     "name": "stdout",
     "output_type": "stream",
     "text": [
      "Epoch 1/10\n",
      "23/23 [==============================] - 32s 1s/step - loss: 0.6524 - accuracy: 0.7699 - val_loss: 0.9083 - val_accuracy: 0.7046\n",
      "Epoch 2/10\n",
      "23/23 [==============================] - 33s 1s/step - loss: 0.5497 - accuracy: 0.8095 - val_loss: 0.9167 - val_accuracy: 0.7073\n",
      "Epoch 3/10\n",
      "23/23 [==============================] - 34s 1s/step - loss: 0.5294 - accuracy: 0.8154 - val_loss: 1.0134 - val_accuracy: 0.6783\n",
      "Epoch 4/10\n",
      "23/23 [==============================] - 34s 1s/step - loss: 0.5404 - accuracy: 0.8111 - val_loss: 0.8088 - val_accuracy: 0.7324\n",
      "Epoch 5/10\n",
      "23/23 [==============================] - 42s 2s/step - loss: 0.4786 - accuracy: 0.8358 - val_loss: 0.8684 - val_accuracy: 0.7151\n",
      "Epoch 6/10\n",
      "23/23 [==============================] - 52s 2s/step - loss: 0.4861 - accuracy: 0.8299 - val_loss: 0.8059 - val_accuracy: 0.7354\n",
      "Epoch 7/10\n",
      " 4/23 [====>.........................] - ETA: 40s - loss: 0.5077 - accuracy: 0.8213"
     ]
    },
    {
     "ename": "KeyboardInterrupt",
     "evalue": "",
     "output_type": "error",
     "traceback": [
      "\u001b[0;31m---------------------------------------------------------------------------\u001b[0m",
      "\u001b[0;31mKeyboardInterrupt\u001b[0m                         Traceback (most recent call last)",
      "Cell \u001b[0;32mIn [15], line 3\u001b[0m\n\u001b[1;32m      1\u001b[0m \u001b[38;5;66;03m#CNN 256 (4 sec) window...first set of hyperparameters reached about 80%\u001b[39;00m\n\u001b[0;32m----> 3\u001b[0m \u001b[43mmodel_1C_256\u001b[49m\u001b[38;5;241;43m.\u001b[39;49m\u001b[43mfit\u001b[49m\u001b[43m(\u001b[49m\u001b[43mX_train\u001b[49m\u001b[43m,\u001b[49m\u001b[43m \u001b[49m\u001b[43my_train\u001b[49m\u001b[43m,\u001b[49m\u001b[43m \u001b[49m\u001b[43mverbose\u001b[49m\u001b[38;5;241;43m=\u001b[39;49m\u001b[38;5;241;43m1\u001b[39;49m\u001b[43m,\u001b[49m\u001b[43m \u001b[49m\u001b[43mepochs\u001b[49m\u001b[38;5;241;43m=\u001b[39;49m\u001b[38;5;241;43m10\u001b[39;49m\u001b[43m,\u001b[49m\u001b[43m \u001b[49m\u001b[43mvalidation_split\u001b[49m\u001b[38;5;241;43m=\u001b[39;49m\u001b[38;5;241;43m0.2\u001b[39;49m\u001b[43m,\u001b[49m\u001b[43m \u001b[49m\u001b[43mbatch_size\u001b[49m\u001b[38;5;241;43m=\u001b[39;49m\u001b[38;5;241;43m2000\u001b[39;49m\u001b[43m)\u001b[49m\n",
      "File \u001b[0;32m~/opt/miniconda3/envs/tf/lib/python3.10/site-packages/keras/utils/traceback_utils.py:65\u001b[0m, in \u001b[0;36mfilter_traceback.<locals>.error_handler\u001b[0;34m(*args, **kwargs)\u001b[0m\n\u001b[1;32m     63\u001b[0m filtered_tb \u001b[38;5;241m=\u001b[39m \u001b[38;5;28;01mNone\u001b[39;00m\n\u001b[1;32m     64\u001b[0m \u001b[38;5;28;01mtry\u001b[39;00m:\n\u001b[0;32m---> 65\u001b[0m     \u001b[38;5;28;01mreturn\u001b[39;00m \u001b[43mfn\u001b[49m\u001b[43m(\u001b[49m\u001b[38;5;241;43m*\u001b[39;49m\u001b[43margs\u001b[49m\u001b[43m,\u001b[49m\u001b[43m \u001b[49m\u001b[38;5;241;43m*\u001b[39;49m\u001b[38;5;241;43m*\u001b[39;49m\u001b[43mkwargs\u001b[49m\u001b[43m)\u001b[49m\n\u001b[1;32m     66\u001b[0m \u001b[38;5;28;01mexcept\u001b[39;00m \u001b[38;5;167;01mException\u001b[39;00m \u001b[38;5;28;01mas\u001b[39;00m e:\n\u001b[1;32m     67\u001b[0m     filtered_tb \u001b[38;5;241m=\u001b[39m _process_traceback_frames(e\u001b[38;5;241m.\u001b[39m__traceback__)\n",
      "File \u001b[0;32m~/opt/miniconda3/envs/tf/lib/python3.10/site-packages/keras/engine/training.py:1564\u001b[0m, in \u001b[0;36mModel.fit\u001b[0;34m(self, x, y, batch_size, epochs, verbose, callbacks, validation_split, validation_data, shuffle, class_weight, sample_weight, initial_epoch, steps_per_epoch, validation_steps, validation_batch_size, validation_freq, max_queue_size, workers, use_multiprocessing)\u001b[0m\n\u001b[1;32m   1556\u001b[0m \u001b[38;5;28;01mwith\u001b[39;00m tf\u001b[38;5;241m.\u001b[39mprofiler\u001b[38;5;241m.\u001b[39mexperimental\u001b[38;5;241m.\u001b[39mTrace(\n\u001b[1;32m   1557\u001b[0m     \u001b[38;5;124m\"\u001b[39m\u001b[38;5;124mtrain\u001b[39m\u001b[38;5;124m\"\u001b[39m,\n\u001b[1;32m   1558\u001b[0m     epoch_num\u001b[38;5;241m=\u001b[39mepoch,\n\u001b[0;32m   (...)\u001b[0m\n\u001b[1;32m   1561\u001b[0m     _r\u001b[38;5;241m=\u001b[39m\u001b[38;5;241m1\u001b[39m,\n\u001b[1;32m   1562\u001b[0m ):\n\u001b[1;32m   1563\u001b[0m     callbacks\u001b[38;5;241m.\u001b[39mon_train_batch_begin(step)\n\u001b[0;32m-> 1564\u001b[0m     tmp_logs \u001b[38;5;241m=\u001b[39m \u001b[38;5;28;43mself\u001b[39;49m\u001b[38;5;241;43m.\u001b[39;49m\u001b[43mtrain_function\u001b[49m\u001b[43m(\u001b[49m\u001b[43miterator\u001b[49m\u001b[43m)\u001b[49m\n\u001b[1;32m   1565\u001b[0m     \u001b[38;5;28;01mif\u001b[39;00m data_handler\u001b[38;5;241m.\u001b[39mshould_sync:\n\u001b[1;32m   1566\u001b[0m         context\u001b[38;5;241m.\u001b[39masync_wait()\n",
      "File \u001b[0;32m~/opt/miniconda3/envs/tf/lib/python3.10/site-packages/tensorflow/python/util/traceback_utils.py:150\u001b[0m, in \u001b[0;36mfilter_traceback.<locals>.error_handler\u001b[0;34m(*args, **kwargs)\u001b[0m\n\u001b[1;32m    148\u001b[0m filtered_tb \u001b[38;5;241m=\u001b[39m \u001b[38;5;28;01mNone\u001b[39;00m\n\u001b[1;32m    149\u001b[0m \u001b[38;5;28;01mtry\u001b[39;00m:\n\u001b[0;32m--> 150\u001b[0m   \u001b[38;5;28;01mreturn\u001b[39;00m \u001b[43mfn\u001b[49m\u001b[43m(\u001b[49m\u001b[38;5;241;43m*\u001b[39;49m\u001b[43margs\u001b[49m\u001b[43m,\u001b[49m\u001b[43m \u001b[49m\u001b[38;5;241;43m*\u001b[39;49m\u001b[38;5;241;43m*\u001b[39;49m\u001b[43mkwargs\u001b[49m\u001b[43m)\u001b[49m\n\u001b[1;32m    151\u001b[0m \u001b[38;5;28;01mexcept\u001b[39;00m \u001b[38;5;167;01mException\u001b[39;00m \u001b[38;5;28;01mas\u001b[39;00m e:\n\u001b[1;32m    152\u001b[0m   filtered_tb \u001b[38;5;241m=\u001b[39m _process_traceback_frames(e\u001b[38;5;241m.\u001b[39m__traceback__)\n",
      "File \u001b[0;32m~/opt/miniconda3/envs/tf/lib/python3.10/site-packages/tensorflow/python/eager/def_function.py:915\u001b[0m, in \u001b[0;36mFunction.__call__\u001b[0;34m(self, *args, **kwds)\u001b[0m\n\u001b[1;32m    912\u001b[0m compiler \u001b[38;5;241m=\u001b[39m \u001b[38;5;124m\"\u001b[39m\u001b[38;5;124mxla\u001b[39m\u001b[38;5;124m\"\u001b[39m \u001b[38;5;28;01mif\u001b[39;00m \u001b[38;5;28mself\u001b[39m\u001b[38;5;241m.\u001b[39m_jit_compile \u001b[38;5;28;01melse\u001b[39;00m \u001b[38;5;124m\"\u001b[39m\u001b[38;5;124mnonXla\u001b[39m\u001b[38;5;124m\"\u001b[39m\n\u001b[1;32m    914\u001b[0m \u001b[38;5;28;01mwith\u001b[39;00m OptionalXlaContext(\u001b[38;5;28mself\u001b[39m\u001b[38;5;241m.\u001b[39m_jit_compile):\n\u001b[0;32m--> 915\u001b[0m   result \u001b[38;5;241m=\u001b[39m \u001b[38;5;28;43mself\u001b[39;49m\u001b[38;5;241;43m.\u001b[39;49m\u001b[43m_call\u001b[49m\u001b[43m(\u001b[49m\u001b[38;5;241;43m*\u001b[39;49m\u001b[43margs\u001b[49m\u001b[43m,\u001b[49m\u001b[43m \u001b[49m\u001b[38;5;241;43m*\u001b[39;49m\u001b[38;5;241;43m*\u001b[39;49m\u001b[43mkwds\u001b[49m\u001b[43m)\u001b[49m\n\u001b[1;32m    917\u001b[0m new_tracing_count \u001b[38;5;241m=\u001b[39m \u001b[38;5;28mself\u001b[39m\u001b[38;5;241m.\u001b[39mexperimental_get_tracing_count()\n\u001b[1;32m    918\u001b[0m without_tracing \u001b[38;5;241m=\u001b[39m (tracing_count \u001b[38;5;241m==\u001b[39m new_tracing_count)\n",
      "File \u001b[0;32m~/opt/miniconda3/envs/tf/lib/python3.10/site-packages/tensorflow/python/eager/def_function.py:947\u001b[0m, in \u001b[0;36mFunction._call\u001b[0;34m(self, *args, **kwds)\u001b[0m\n\u001b[1;32m    944\u001b[0m   \u001b[38;5;28mself\u001b[39m\u001b[38;5;241m.\u001b[39m_lock\u001b[38;5;241m.\u001b[39mrelease()\n\u001b[1;32m    945\u001b[0m   \u001b[38;5;66;03m# In this case we have created variables on the first call, so we run the\u001b[39;00m\n\u001b[1;32m    946\u001b[0m   \u001b[38;5;66;03m# defunned version which is guaranteed to never create variables.\u001b[39;00m\n\u001b[0;32m--> 947\u001b[0m   \u001b[38;5;28;01mreturn\u001b[39;00m \u001b[38;5;28;43mself\u001b[39;49m\u001b[38;5;241;43m.\u001b[39;49m\u001b[43m_stateless_fn\u001b[49m\u001b[43m(\u001b[49m\u001b[38;5;241;43m*\u001b[39;49m\u001b[43margs\u001b[49m\u001b[43m,\u001b[49m\u001b[43m \u001b[49m\u001b[38;5;241;43m*\u001b[39;49m\u001b[38;5;241;43m*\u001b[39;49m\u001b[43mkwds\u001b[49m\u001b[43m)\u001b[49m  \u001b[38;5;66;03m# pylint: disable=not-callable\u001b[39;00m\n\u001b[1;32m    948\u001b[0m \u001b[38;5;28;01melif\u001b[39;00m \u001b[38;5;28mself\u001b[39m\u001b[38;5;241m.\u001b[39m_stateful_fn \u001b[38;5;129;01mis\u001b[39;00m \u001b[38;5;129;01mnot\u001b[39;00m \u001b[38;5;28;01mNone\u001b[39;00m:\n\u001b[1;32m    949\u001b[0m   \u001b[38;5;66;03m# Release the lock early so that multiple threads can perform the call\u001b[39;00m\n\u001b[1;32m    950\u001b[0m   \u001b[38;5;66;03m# in parallel.\u001b[39;00m\n\u001b[1;32m    951\u001b[0m   \u001b[38;5;28mself\u001b[39m\u001b[38;5;241m.\u001b[39m_lock\u001b[38;5;241m.\u001b[39mrelease()\n",
      "File \u001b[0;32m~/opt/miniconda3/envs/tf/lib/python3.10/site-packages/tensorflow/python/eager/function.py:2496\u001b[0m, in \u001b[0;36mFunction.__call__\u001b[0;34m(self, *args, **kwargs)\u001b[0m\n\u001b[1;32m   2493\u001b[0m \u001b[38;5;28;01mwith\u001b[39;00m \u001b[38;5;28mself\u001b[39m\u001b[38;5;241m.\u001b[39m_lock:\n\u001b[1;32m   2494\u001b[0m   (graph_function,\n\u001b[1;32m   2495\u001b[0m    filtered_flat_args) \u001b[38;5;241m=\u001b[39m \u001b[38;5;28mself\u001b[39m\u001b[38;5;241m.\u001b[39m_maybe_define_function(args, kwargs)\n\u001b[0;32m-> 2496\u001b[0m \u001b[38;5;28;01mreturn\u001b[39;00m \u001b[43mgraph_function\u001b[49m\u001b[38;5;241;43m.\u001b[39;49m\u001b[43m_call_flat\u001b[49m\u001b[43m(\u001b[49m\n\u001b[1;32m   2497\u001b[0m \u001b[43m    \u001b[49m\u001b[43mfiltered_flat_args\u001b[49m\u001b[43m,\u001b[49m\u001b[43m \u001b[49m\u001b[43mcaptured_inputs\u001b[49m\u001b[38;5;241;43m=\u001b[39;49m\u001b[43mgraph_function\u001b[49m\u001b[38;5;241;43m.\u001b[39;49m\u001b[43mcaptured_inputs\u001b[49m\u001b[43m)\u001b[49m\n",
      "File \u001b[0;32m~/opt/miniconda3/envs/tf/lib/python3.10/site-packages/tensorflow/python/eager/function.py:1862\u001b[0m, in \u001b[0;36mConcreteFunction._call_flat\u001b[0;34m(self, args, captured_inputs, cancellation_manager)\u001b[0m\n\u001b[1;32m   1858\u001b[0m possible_gradient_type \u001b[38;5;241m=\u001b[39m gradients_util\u001b[38;5;241m.\u001b[39mPossibleTapeGradientTypes(args)\n\u001b[1;32m   1859\u001b[0m \u001b[38;5;28;01mif\u001b[39;00m (possible_gradient_type \u001b[38;5;241m==\u001b[39m gradients_util\u001b[38;5;241m.\u001b[39mPOSSIBLE_GRADIENT_TYPES_NONE\n\u001b[1;32m   1860\u001b[0m     \u001b[38;5;129;01mand\u001b[39;00m executing_eagerly):\n\u001b[1;32m   1861\u001b[0m   \u001b[38;5;66;03m# No tape is watching; skip to running the function.\u001b[39;00m\n\u001b[0;32m-> 1862\u001b[0m   \u001b[38;5;28;01mreturn\u001b[39;00m \u001b[38;5;28mself\u001b[39m\u001b[38;5;241m.\u001b[39m_build_call_outputs(\u001b[38;5;28;43mself\u001b[39;49m\u001b[38;5;241;43m.\u001b[39;49m\u001b[43m_inference_function\u001b[49m\u001b[38;5;241;43m.\u001b[39;49m\u001b[43mcall\u001b[49m\u001b[43m(\u001b[49m\n\u001b[1;32m   1863\u001b[0m \u001b[43m      \u001b[49m\u001b[43mctx\u001b[49m\u001b[43m,\u001b[49m\u001b[43m \u001b[49m\u001b[43margs\u001b[49m\u001b[43m,\u001b[49m\u001b[43m \u001b[49m\u001b[43mcancellation_manager\u001b[49m\u001b[38;5;241;43m=\u001b[39;49m\u001b[43mcancellation_manager\u001b[49m\u001b[43m)\u001b[49m)\n\u001b[1;32m   1864\u001b[0m forward_backward \u001b[38;5;241m=\u001b[39m \u001b[38;5;28mself\u001b[39m\u001b[38;5;241m.\u001b[39m_select_forward_and_backward_functions(\n\u001b[1;32m   1865\u001b[0m     args,\n\u001b[1;32m   1866\u001b[0m     possible_gradient_type,\n\u001b[1;32m   1867\u001b[0m     executing_eagerly)\n\u001b[1;32m   1868\u001b[0m forward_function, args_with_tangents \u001b[38;5;241m=\u001b[39m forward_backward\u001b[38;5;241m.\u001b[39mforward()\n",
      "File \u001b[0;32m~/opt/miniconda3/envs/tf/lib/python3.10/site-packages/tensorflow/python/eager/function.py:499\u001b[0m, in \u001b[0;36m_EagerDefinedFunction.call\u001b[0;34m(self, ctx, args, cancellation_manager)\u001b[0m\n\u001b[1;32m    497\u001b[0m \u001b[38;5;28;01mwith\u001b[39;00m _InterpolateFunctionError(\u001b[38;5;28mself\u001b[39m):\n\u001b[1;32m    498\u001b[0m   \u001b[38;5;28;01mif\u001b[39;00m cancellation_manager \u001b[38;5;129;01mis\u001b[39;00m \u001b[38;5;28;01mNone\u001b[39;00m:\n\u001b[0;32m--> 499\u001b[0m     outputs \u001b[38;5;241m=\u001b[39m \u001b[43mexecute\u001b[49m\u001b[38;5;241;43m.\u001b[39;49m\u001b[43mexecute\u001b[49m\u001b[43m(\u001b[49m\n\u001b[1;32m    500\u001b[0m \u001b[43m        \u001b[49m\u001b[38;5;28;43mstr\u001b[39;49m\u001b[43m(\u001b[49m\u001b[38;5;28;43mself\u001b[39;49m\u001b[38;5;241;43m.\u001b[39;49m\u001b[43msignature\u001b[49m\u001b[38;5;241;43m.\u001b[39;49m\u001b[43mname\u001b[49m\u001b[43m)\u001b[49m\u001b[43m,\u001b[49m\n\u001b[1;32m    501\u001b[0m \u001b[43m        \u001b[49m\u001b[43mnum_outputs\u001b[49m\u001b[38;5;241;43m=\u001b[39;49m\u001b[38;5;28;43mself\u001b[39;49m\u001b[38;5;241;43m.\u001b[39;49m\u001b[43m_num_outputs\u001b[49m\u001b[43m,\u001b[49m\n\u001b[1;32m    502\u001b[0m \u001b[43m        \u001b[49m\u001b[43minputs\u001b[49m\u001b[38;5;241;43m=\u001b[39;49m\u001b[43margs\u001b[49m\u001b[43m,\u001b[49m\n\u001b[1;32m    503\u001b[0m \u001b[43m        \u001b[49m\u001b[43mattrs\u001b[49m\u001b[38;5;241;43m=\u001b[39;49m\u001b[43mattrs\u001b[49m\u001b[43m,\u001b[49m\n\u001b[1;32m    504\u001b[0m \u001b[43m        \u001b[49m\u001b[43mctx\u001b[49m\u001b[38;5;241;43m=\u001b[39;49m\u001b[43mctx\u001b[49m\u001b[43m)\u001b[49m\n\u001b[1;32m    505\u001b[0m   \u001b[38;5;28;01melse\u001b[39;00m:\n\u001b[1;32m    506\u001b[0m     outputs \u001b[38;5;241m=\u001b[39m execute\u001b[38;5;241m.\u001b[39mexecute_with_cancellation(\n\u001b[1;32m    507\u001b[0m         \u001b[38;5;28mstr\u001b[39m(\u001b[38;5;28mself\u001b[39m\u001b[38;5;241m.\u001b[39msignature\u001b[38;5;241m.\u001b[39mname),\n\u001b[1;32m    508\u001b[0m         num_outputs\u001b[38;5;241m=\u001b[39m\u001b[38;5;28mself\u001b[39m\u001b[38;5;241m.\u001b[39m_num_outputs,\n\u001b[0;32m   (...)\u001b[0m\n\u001b[1;32m    511\u001b[0m         ctx\u001b[38;5;241m=\u001b[39mctx,\n\u001b[1;32m    512\u001b[0m         cancellation_manager\u001b[38;5;241m=\u001b[39mcancellation_manager)\n",
      "File \u001b[0;32m~/opt/miniconda3/envs/tf/lib/python3.10/site-packages/tensorflow/python/eager/execute.py:54\u001b[0m, in \u001b[0;36mquick_execute\u001b[0;34m(op_name, num_outputs, inputs, attrs, ctx, name)\u001b[0m\n\u001b[1;32m     52\u001b[0m \u001b[38;5;28;01mtry\u001b[39;00m:\n\u001b[1;32m     53\u001b[0m   ctx\u001b[38;5;241m.\u001b[39mensure_initialized()\n\u001b[0;32m---> 54\u001b[0m   tensors \u001b[38;5;241m=\u001b[39m \u001b[43mpywrap_tfe\u001b[49m\u001b[38;5;241;43m.\u001b[39;49m\u001b[43mTFE_Py_Execute\u001b[49m\u001b[43m(\u001b[49m\u001b[43mctx\u001b[49m\u001b[38;5;241;43m.\u001b[39;49m\u001b[43m_handle\u001b[49m\u001b[43m,\u001b[49m\u001b[43m \u001b[49m\u001b[43mdevice_name\u001b[49m\u001b[43m,\u001b[49m\u001b[43m \u001b[49m\u001b[43mop_name\u001b[49m\u001b[43m,\u001b[49m\n\u001b[1;32m     55\u001b[0m \u001b[43m                                      \u001b[49m\u001b[43minputs\u001b[49m\u001b[43m,\u001b[49m\u001b[43m \u001b[49m\u001b[43mattrs\u001b[49m\u001b[43m,\u001b[49m\u001b[43m \u001b[49m\u001b[43mnum_outputs\u001b[49m\u001b[43m)\u001b[49m\n\u001b[1;32m     56\u001b[0m \u001b[38;5;28;01mexcept\u001b[39;00m core\u001b[38;5;241m.\u001b[39m_NotOkStatusException \u001b[38;5;28;01mas\u001b[39;00m e:\n\u001b[1;32m     57\u001b[0m   \u001b[38;5;28;01mif\u001b[39;00m name \u001b[38;5;129;01mis\u001b[39;00m \u001b[38;5;129;01mnot\u001b[39;00m \u001b[38;5;28;01mNone\u001b[39;00m:\n",
      "\u001b[0;31mKeyboardInterrupt\u001b[0m: "
     ]
    }
   ],
   "source": [
    "#CNN 256 (4 sec) window...first set of hyperparameters reached about 80%\n",
    "\n",
    "model_1C_256.fit(X_train, y_train, verbose=1, epochs=10, validation_split=0.2, batch_size=2000) "
   ]
  },
  {
   "cell_type": "code",
   "execution_count": 12,
   "id": "0079e516",
   "metadata": {},
   "outputs": [
    {
     "name": "stdout",
     "output_type": "stream",
     "text": [
      "56/56 [==============================] - 14s 257ms/step - loss: 0.6316 - accuracy: 0.7937\n"
     ]
    },
    {
     "data": {
      "text/plain": [
       "[0.6316099166870117, 0.7936516404151917]"
      ]
     },
     "execution_count": 12,
     "metadata": {},
     "output_type": "execute_result"
    }
   ],
   "source": [
    "model_1C_256.evaluate(X_test, y_test, batch_size=1000, verbose=1)\n",
    "\n",
    "\n",
    "#Best model from 1C variants was LSTM either (1,7) or (64,7) after many epochs"
   ]
  },
  {
   "cell_type": "code",
   "execution_count": 72,
   "id": "82c8f12f",
   "metadata": {},
   "outputs": [
    {
     "name": "stderr",
     "output_type": "stream",
     "text": [
      "/var/folders/wv/c3g7vgxd10n0mdl2_flcjj480000gn/T/ipykernel_906/243504545.py:18: FutureWarning: The behavior of `series[i:j]` with an integer-dtype index is deprecated. In a future version, this will be treated as *label-based* indexing, consistent with e.g. `series[i]` lookups. To retain the old behavior, use `series.iloc[i:j]`. To get the future behavior, use `series.loc[i:j]`.\n",
      "  l_splc=stats.mode(model_2C_train_y[i:i+time_step])[0][0]\n",
      "/var/folders/wv/c3g7vgxd10n0mdl2_flcjj480000gn/T/ipykernel_906/243504545.py:18: FutureWarning: Unlike other reduction functions (e.g. `skew`, `kurtosis`), the default behavior of `mode` typically preserves the axis it acts along. In SciPy 1.11.0, this behavior will change: the default value of `keepdims` will become False, the `axis` over which the statistic is taken will be eliminated, and the value None will no longer be accepted. Set `keepdims` to True or False to avoid this warning.\n",
      "  l_splc=stats.mode(model_2C_train_y[i:i+time_step])[0][0]\n",
      "/Users/jaredperez/opt/miniconda3/envs/tf/lib/python3.10/site-packages/scipy/stats/_stats_py.py:112: RuntimeWarning: The input array could not be properly checked for nan values. nan values will be ignored.\n",
      "  warnings.warn(\"The input array could not be properly \"\n",
      "/var/folders/wv/c3g7vgxd10n0mdl2_flcjj480000gn/T/ipykernel_906/243504545.py:18: DeprecationWarning: Support for non-numeric arrays has been deprecated as of SciPy 1.9.0 and will be removed in 1.11.0. `pandas.DataFrame.mode` can be used instead, see https://pandas.pydata.org/docs/reference/api/pandas.DataFrame.mode.html.\n",
      "  l_splc=stats.mode(model_2C_train_y[i:i+time_step])[0][0]\n",
      "/var/folders/wv/c3g7vgxd10n0mdl2_flcjj480000gn/T/ipykernel_906/243504545.py:32: FutureWarning: Unlike other reduction functions (e.g. `skew`, `kurtosis`), the default behavior of `mode` typically preserves the axis it acts along. In SciPy 1.11.0, this behavior will change: the default value of `keepdims` will become False, the `axis` over which the statistic is taken will be eliminated, and the value None will no longer be accepted. Set `keepdims` to True or False to avoid this warning.\n",
      "  l_splc=stats.mode(model_2C_test_y[i:i+time_step])[0][0]\n",
      "/Users/jaredperez/opt/miniconda3/envs/tf/lib/python3.10/site-packages/scipy/stats/_stats_py.py:112: RuntimeWarning: The input array could not be properly checked for nan values. nan values will be ignored.\n",
      "  warnings.warn(\"The input array could not be properly \"\n",
      "/var/folders/wv/c3g7vgxd10n0mdl2_flcjj480000gn/T/ipykernel_906/243504545.py:32: DeprecationWarning: Support for non-numeric arrays has been deprecated as of SciPy 1.9.0 and will be removed in 1.11.0. `pandas.DataFrame.mode` can be used instead, see https://pandas.pydata.org/docs/reference/api/pandas.DataFrame.mode.html.\n",
      "  l_splc=stats.mode(model_2C_test_y[i:i+time_step])[0][0]\n"
     ]
    }
   ],
   "source": [
    "#2C) Train model on midterm 1 and 2 and see if it can predict the student on final\n",
    "\n",
    "    #Train data on midterm 1 and 2\n",
    "\n",
    "    \n",
    "model_2C_train_y=pd.concat([student_classifier_labels_1, student_classifier_labels_2], axis=0)\n",
    "\n",
    "model_2C_train=pd.concat([model_1C_features_1, model_1C_features_2], axis=0)\n",
    "model_2C_train=preprocessing.StandardScaler().fit_transform(model_2C_train)\n",
    "\n",
    "time_step=64\n",
    "\n",
    "f=[]\n",
    "l=[]\n",
    "for i in range(0, len(model_2C_train)-time_step, time_step):\n",
    "    splc=model_2C_train[i:i+time_step]\n",
    "    f.append(splc)\n",
    "    l_splc=stats.mode(model_2C_train_y[i:i+time_step])[0][0]\n",
    "    l.append(l_splc)\n",
    "    \n",
    "model_2C_train=np.asarray(f).reshape(-1,64,7)\n",
    "model_2C_train_y=np.asarray(l)\n",
    "\n",
    "model_2C_test=preprocessing.StandardScaler().fit_transform(model_1C_features_3)\n",
    "model_2C_test_y=student_classifier_labels_3\n",
    "\n",
    "f=[]\n",
    "l=[]\n",
    "for i in range(0, len(model_2C_test)-time_step, time_step):\n",
    "    splc=model_2C_test[i:i+time_step]\n",
    "    f.append(splc)\n",
    "    l_splc=stats.mode(model_2C_test_y[i:i+time_step])[0][0]\n",
    "    l.append(l_splc)\n",
    "    \n",
    "model_2C_test=np.asarray(f).reshape(-1,64,7)\n",
    "model_2C_test_y=np.asarray(l)"
   ]
  },
  {
   "cell_type": "code",
   "execution_count": 80,
   "id": "acaba4e4",
   "metadata": {},
   "outputs": [],
   "source": [
    "#Label and one hot encode the train and test y\n",
    "\n",
    "model_2C_train_y=preprocessing.LabelEncoder().fit_transform(model_2C_train_y)\n",
    "model_2C_test_y=preprocessing.LabelEncoder().fit_transform(model_2C_test_y)\n",
    "\n",
    "model_2C_train_y=keras.utils.np_utils.to_categorical(model_2C_train_y)\n",
    "model_2C_test_y=keras.utils.np_utils.to_categorical(model_2C_test_y)"
   ]
  },
  {
   "cell_type": "code",
   "execution_count": 94,
   "id": "b6e36654",
   "metadata": {},
   "outputs": [],
   "source": [
    "X_train, X_test, y_train, y_test=train_test_split(model_2C_train, model_2C_train_y, train_size=0.5)"
   ]
  },
  {
   "cell_type": "code",
   "execution_count": 97,
   "id": "b27b3eb7",
   "metadata": {},
   "outputs": [],
   "source": [
    "model_2C_train=np.concatenate((X_train, X_test), axis=0)\n",
    "model_2C_train_y=np.concatenate((y_train, y_test), axis=0)"
   ]
  },
  {
   "cell_type": "code",
   "execution_count": 88,
   "id": "3b170a5d",
   "metadata": {},
   "outputs": [
    {
     "name": "stdout",
     "output_type": "stream",
     "text": [
      "Model: \"model_6\"\n",
      "_________________________________________________________________\n",
      " Layer (type)                Output Shape              Param #   \n",
      "=================================================================\n",
      " input_8 (InputLayer)        [(None, 64, 7)]           0         \n",
      "                                                                 \n",
      " gru (GRU)                   (None, 64, 256)           203520    \n",
      "                                                                 \n",
      " dropout_18 (Dropout)        (None, 64, 256)           0         \n",
      "                                                                 \n",
      " gru_1 (GRU)                 (None, 64, 128)           148224    \n",
      "                                                                 \n",
      " dropout_19 (Dropout)        (None, 64, 128)           0         \n",
      "                                                                 \n",
      " gru_2 (GRU)                 (None, 64)                37248     \n",
      "                                                                 \n",
      " dropout_20 (Dropout)        (None, 64)                0         \n",
      "                                                                 \n",
      " dense_13 (Dense)            (None, 32)                2080      \n",
      "                                                                 \n",
      " dense_14 (Dense)            (None, 10)                330       \n",
      "                                                                 \n",
      "=================================================================\n",
      "Total params: 391,402\n",
      "Trainable params: 391,402\n",
      "Non-trainable params: 0\n",
      "_________________________________________________________________\n"
     ]
    }
   ],
   "source": [
    "#Model_2C: Student Classification by training on 2 exams and testing on 1\n",
    "\n",
    "inputs=tf.keras.Input(shape=(64,7))\n",
    "x=keras.layers.LSTM(256, return_sequences=True)(inputs)\n",
    "x=keras.layers.Dropout(0.3)(x)\n",
    "x=keras.layers.LSTM(128, return_sequences=True)(x)\n",
    "x=keras.layers.Dropout(0.3)(x)\n",
    "x=keras.layers.LSTM(64)(x)\n",
    "x=keras.layers.Dropout(0.3)(x)\n",
    "x=keras.layers.Dense(32, activation='relu')(x)\n",
    "z=keras.layers.Dense(10, activation='softmax')(x)\n",
    "\n",
    "model_2C=keras.Model(inputs=inputs, outputs=z)\n",
    "\n",
    "model_2C.compile(optimizer='adam', loss='categorical_crossentropy', metrics=['accuracy'])\n",
    "\n",
    "model_2C.summary()"
   ]
  },
  {
   "cell_type": "code",
   "execution_count": 99,
   "id": "1b14fccc",
   "metadata": {},
   "outputs": [
    {
     "name": "stdout",
     "output_type": "stream",
     "text": [
      "Epoch 1/3\n",
      "191/191 [==============================] - 130s 671ms/step - loss: 1.0500 - accuracy: 0.6638 - val_loss: 0.8935 - val_accuracy: 0.6963\n",
      "Epoch 2/3\n",
      "191/191 [==============================] - 125s 653ms/step - loss: 0.8884 - accuracy: 0.7047 - val_loss: 0.6980 - val_accuracy: 0.7696\n",
      "Epoch 3/3\n",
      "191/191 [==============================] - 122s 639ms/step - loss: 0.8846 - accuracy: 0.7066 - val_loss: 0.7189 - val_accuracy: 0.7568\n"
     ]
    },
    {
     "data": {
      "text/plain": [
       "<keras.callbacks.History at 0x15de2cee0>"
      ]
     },
     "execution_count": 99,
     "metadata": {},
     "output_type": "execute_result"
    }
   ],
   "source": [
    "model_2C.fit(model_2C_train, model_2C_train_y, verbose=1, epochs=3, validation_split=0.2, batch_size=1000)"
   ]
  },
  {
   "cell_type": "code",
   "execution_count": 100,
   "id": "5b35d06d",
   "metadata": {},
   "outputs": [
    {
     "name": "stdout",
     "output_type": "stream",
     "text": [
      "205/205 [==============================] - 45s 217ms/step - loss: 3.5453 - accuracy: 0.1453\n"
     ]
    },
    {
     "data": {
      "text/plain": [
       "[3.5453238487243652, 0.14527681469917297]"
      ]
     },
     "execution_count": 100,
     "metadata": {},
     "output_type": "execute_result"
    }
   ],
   "source": [
    "model_2C.evaluate(model_2C_test, model_2C_test_y, batch_size=1000)"
   ]
  },
  {
   "cell_type": "code",
   "execution_count": 102,
   "id": "97dba3a7",
   "metadata": {},
   "outputs": [],
   "source": [
    "#3C) Transfer Learning: Train same model on only 8 subjects and then test do binary classification on two subjects\n",
    "    #it hasn't seen...Will use CNN because faster and results are all pretty comparable\n",
    "\n",
    "result_1=[i.sort_index().reset_index(drop=True) for i in result_1]\n",
    "result_2=[i.sort_index().reset_index(drop=True) for i in result_2]\n",
    "result_3=[i.sort_index().reset_index(drop=True) for i in result_3]"
   ]
  },
  {
   "cell_type": "code",
   "execution_count": 103,
   "id": "5abf39cc",
   "metadata": {},
   "outputs": [],
   "source": [
    "model_3C_f_1=[]\n",
    "for df in result_1:\n",
    "    df_new=df[~df['Subject'].isin(['S4','S6'])]\n",
    "    model_3C_f_1.append(df_new)"
   ]
  },
  {
   "cell_type": "code",
   "execution_count": 104,
   "id": "3722158e",
   "metadata": {},
   "outputs": [],
   "source": [
    "model_3C_f_2=[]\n",
    "for df in result_2:\n",
    "    df_new=df[~df['Subject'].isin(['S4','S6'])]\n",
    "    model_3C_f_2.append(df_new)"
   ]
  },
  {
   "cell_type": "code",
   "execution_count": 105,
   "id": "f89bd23d",
   "metadata": {},
   "outputs": [],
   "source": [
    "model_3C_f_3=[]\n",
    "for df in result_3:\n",
    "    df_new=df[~df['Subject'].isin(['S4','S6'])]\n",
    "    model_3C_f_3.append(df_new)"
   ]
  },
  {
   "cell_type": "code",
   "execution_count": 106,
   "id": "da0f8ffb",
   "metadata": {},
   "outputs": [],
   "source": [
    "#Develop train labels and data\n",
    "\n",
    "model_3C_labels_1=model_3C_f_1[0]['Subject']\n",
    "model_3C_labels_2=model_3C_f_2[0]['Subject']\n",
    "model_3C_labels_3=model_3C_f_3[0]['Subject']\n",
    "\n",
    "train_labels=pd.concat([model_3C_labels_1, model_3C_labels_2, model_3C_labels_3], axis=0)\n",
    "\n",
    "model_3C_f_1=[i.drop(columns=['Subject', 'Test', 'Score']) for i in model_3C_f_1]\n",
    "model_3C_f_2=[i.drop(columns=['Subject', 'Test', 'Score']) for i in model_3C_f_2]\n",
    "model_3C_f_3=[i.drop(columns=['Subject', 'Test', 'Score']) for i in model_3C_f_3]\n",
    "\n",
    "f=[model_3C_f_1, model_3C_f_2, model_3C_f_3]\n",
    "model_3C_features=[]\n",
    "for i in f:\n",
    "    x=pd.concat(i, axis=1)\n",
    "    model_3C_features.append(x)\n",
    "\n",
    "model_3C_features=pd.concat(model_3C_features, axis=0)\n",
    "model_3C_labels=pd.concat([model_3C_labels_1, model_3C_labels_2, model_3C_labels_3], axis=0)"
   ]
  },
  {
   "cell_type": "code",
   "execution_count": 110,
   "id": "04cf2498",
   "metadata": {},
   "outputs": [],
   "source": [
    "#Organizing holdout data\n",
    "\n",
    "holdout_1=[i[i['Subject'].isin(['S4', 'S6'])] for i in result_1]\n",
    "holdout_2=[i[i['Subject'].isin(['S4', 'S6'])] for i in result_2]\n",
    "holdout_3=[i[i['Subject'].isin(['S4', 'S6'])] for i in result_3]\n",
    "\n",
    "holdout_labels_1=holdout_1[0]['Subject']\n",
    "holdout_labels_2=holdout_2[0]['Subject']\n",
    "holdout_labels_3=holdout_3[0]['Subject']\n",
    "\n",
    "holdout_labels=pd.concat([holdout_labels_1, holdout_labels_2, holdout_labels_3], axis=0)\n",
    "\n",
    "holdout_1=[i.drop(columns=['Subject', 'Test', 'Score']) for i in holdout_1]\n",
    "holdout_2=[i.drop(columns=['Subject', 'Test', 'Score']) for i in holdout_2]\n",
    "holdout_3=[i.drop(columns=['Subject', 'Test', 'Score']) for i in holdout_3]\n",
    "\n",
    "h=[holdout_1, holdout_2, holdout_3]\n",
    "holdout_features=[]\n",
    "for i in h:\n",
    "    x=pd.concat(i, axis=1)\n",
    "    holdout_features.append(x)\n",
    "\n",
    "holdout_features=pd.concat(holdout_features, axis=0)"
   ]
  },
  {
   "cell_type": "code",
   "execution_count": 143,
   "id": "2bf2a700",
   "metadata": {},
   "outputs": [
    {
     "name": "stderr",
     "output_type": "stream",
     "text": [
      "/var/folders/wv/c3g7vgxd10n0mdl2_flcjj480000gn/T/ipykernel_906/887706695.py:10: FutureWarning: The behavior of `series[i:j]` with an integer-dtype index is deprecated. In a future version, this will be treated as *label-based* indexing, consistent with e.g. `series[i]` lookups. To retain the old behavior, use `series.iloc[i:j]`. To get the future behavior, use `series.loc[i:j]`.\n",
      "  l_splc=stats.mode(model_3C_labels[i:i+time_step])[0][0]\n",
      "/var/folders/wv/c3g7vgxd10n0mdl2_flcjj480000gn/T/ipykernel_906/887706695.py:10: FutureWarning: Unlike other reduction functions (e.g. `skew`, `kurtosis`), the default behavior of `mode` typically preserves the axis it acts along. In SciPy 1.11.0, this behavior will change: the default value of `keepdims` will become False, the `axis` over which the statistic is taken will be eliminated, and the value None will no longer be accepted. Set `keepdims` to True or False to avoid this warning.\n",
      "  l_splc=stats.mode(model_3C_labels[i:i+time_step])[0][0]\n",
      "/Users/jaredperez/opt/miniconda3/envs/tf/lib/python3.10/site-packages/scipy/stats/_stats_py.py:112: RuntimeWarning: The input array could not be properly checked for nan values. nan values will be ignored.\n",
      "  warnings.warn(\"The input array could not be properly \"\n",
      "/var/folders/wv/c3g7vgxd10n0mdl2_flcjj480000gn/T/ipykernel_906/887706695.py:10: DeprecationWarning: Support for non-numeric arrays has been deprecated as of SciPy 1.9.0 and will be removed in 1.11.0. `pandas.DataFrame.mode` can be used instead, see https://pandas.pydata.org/docs/reference/api/pandas.DataFrame.mode.html.\n",
      "  l_splc=stats.mode(model_3C_labels[i:i+time_step])[0][0]\n",
      "/var/folders/wv/c3g7vgxd10n0mdl2_flcjj480000gn/T/ipykernel_906/887706695.py:24: FutureWarning: The behavior of `series[i:j]` with an integer-dtype index is deprecated. In a future version, this will be treated as *label-based* indexing, consistent with e.g. `series[i]` lookups. To retain the old behavior, use `series.iloc[i:j]`. To get the future behavior, use `series.loc[i:j]`.\n",
      "  l_splc=stats.mode(holdout_labels[i:i+time_step])[0][0]\n",
      "/var/folders/wv/c3g7vgxd10n0mdl2_flcjj480000gn/T/ipykernel_906/887706695.py:24: FutureWarning: Unlike other reduction functions (e.g. `skew`, `kurtosis`), the default behavior of `mode` typically preserves the axis it acts along. In SciPy 1.11.0, this behavior will change: the default value of `keepdims` will become False, the `axis` over which the statistic is taken will be eliminated, and the value None will no longer be accepted. Set `keepdims` to True or False to avoid this warning.\n",
      "  l_splc=stats.mode(holdout_labels[i:i+time_step])[0][0]\n",
      "/var/folders/wv/c3g7vgxd10n0mdl2_flcjj480000gn/T/ipykernel_906/887706695.py:24: DeprecationWarning: Support for non-numeric arrays has been deprecated as of SciPy 1.9.0 and will be removed in 1.11.0. `pandas.DataFrame.mode` can be used instead, see https://pandas.pydata.org/docs/reference/api/pandas.DataFrame.mode.html.\n",
      "  l_splc=stats.mode(holdout_labels[i:i+time_step])[0][0]\n"
     ]
    }
   ],
   "source": [
    "#Splice Data\n",
    "\n",
    "time_step=64*4\n",
    "\n",
    "f=[]\n",
    "l=[]\n",
    "for i in range(0, len(model_3C_features)-time_step, time_step):\n",
    "    splc=model_1C_features[i:i+time_step]\n",
    "    f.append(splc)\n",
    "    l_splc=stats.mode(model_3C_labels[i:i+time_step])[0][0]\n",
    "    l.append(l_splc)\n",
    "    \n",
    "train_features=np.asarray(f).reshape(-1,time_step,7)\n",
    "train_labels=np.asarray(l)\n",
    "\n",
    "#Splice Features\n",
    "time_step=64*4\n",
    "\n",
    "f=[]\n",
    "l=[]\n",
    "for i in range(0, len(holdout_features)-time_step, time_step):\n",
    "    splc=model_1C_features[i:i+time_step]\n",
    "    f.append(splc)\n",
    "    l_splc=stats.mode(holdout_labels[i:i+time_step])[0][0]\n",
    "    l.append(l_splc)\n",
    "    \n",
    "test_features=np.asarray(f).reshape(-1,time_step,7)\n",
    "test_labels=np.asarray(l)"
   ]
  },
  {
   "cell_type": "code",
   "execution_count": 144,
   "id": "fc0350a7",
   "metadata": {},
   "outputs": [],
   "source": [
    "#Normalize Data and one hot encode\n",
    "\n",
    "train_features=train_features.reshape(-1,7)\n",
    "test_features=test_features.reshape(-1,7)\n",
    "\n",
    "train_features=preprocessing.StandardScaler().fit_transform(train_features)\n",
    "train_labels=preprocessing.LabelEncoder().fit_transform(train_labels)\n",
    "train_labels=keras.utils.np_utils.to_categorical(train_labels)\n",
    "\n",
    "test_features=preprocessing.StandardScaler().fit_transform(test_features)\n",
    "test_labels=preprocessing.LabelEncoder().fit_transform(test_labels)\n",
    "\n",
    "train_features=train_features.reshape(-1,256,7)\n",
    "test_features=test_features.reshape(-1,256,7)"
   ]
  },
  {
   "cell_type": "code",
   "execution_count": 138,
   "id": "6edb2a13",
   "metadata": {},
   "outputs": [
    {
     "name": "stdout",
     "output_type": "stream",
     "text": [
      "Model: \"sequential_5\"\n",
      "_________________________________________________________________\n",
      " Layer (type)                Output Shape              Param #   \n",
      "=================================================================\n",
      " sequential_4 (Sequential)   (None, 3584)              392152    \n",
      "                                                                 \n",
      " dense_22 (Dense)            (None, 8)                 28680     \n",
      "                                                                 \n",
      "=================================================================\n",
      "Total params: 420,832\n",
      "Trainable params: 420,832\n",
      "Non-trainable params: 0\n",
      "_________________________________________________________________\n"
     ]
    }
   ],
   "source": [
    "outer_model = keras.Sequential(\n",
    "    [keras.layers.Input(shape=(256,7)),\n",
    "     keras.layers.Conv1D(256,9, activation='relu'),\n",
    "     keras.layers.Conv1D(128,9, activation='relu'),\n",
    "     keras.layers.Dropout(0.5),\n",
    "     keras.layers.Conv1D(56,9, activation='relu'),\n",
    "     keras.layers.Dropout(0.5),\n",
    "     keras.layers.Conv1D(32,9),\n",
    "     keras.layers.MaxPooling1D(pool_size=2, name=\"MaxPooling1D\"),\n",
    "     keras.layers.Flatten()])\n",
    "     \n",
    "transfer_learning_3C_256_model=keras.Sequential([\n",
    "    keras.Input(shape=(256,7)), outer_model, keras.layers.Dense(8, activation='softmax')])\n",
    "\n",
    "transfer_learning_3C_256_model.compile(optimizer='adam', loss='categorical_crossentropy', metrics=['accuracy'])\n",
    "\n",
    "transfer_learning_3C_256_model.summary()"
   ]
  },
  {
   "cell_type": "code",
   "execution_count": 139,
   "id": "4a749a71",
   "metadata": {},
   "outputs": [
    {
     "name": "stdout",
     "output_type": "stream",
     "text": [
      "Epoch 1/5\n"
     ]
    },
    {
     "name": "stderr",
     "output_type": "stream",
     "text": [
      "2023-01-25 07:00:38.947462: I tensorflow/core/grappler/optimizers/custom_graph_optimizer_registry.cc:114] Plugin optimizer for device_type GPU is enabled.\n"
     ]
    },
    {
     "name": "stdout",
     "output_type": "stream",
     "text": [
      "142/142 [==============================] - ETA: 0s - loss: 1.3166 - accuracy: 0.5037"
     ]
    },
    {
     "name": "stderr",
     "output_type": "stream",
     "text": [
      "2023-01-25 07:01:48.750861: I tensorflow/core/grappler/optimizers/custom_graph_optimizer_registry.cc:114] Plugin optimizer for device_type GPU is enabled.\n"
     ]
    },
    {
     "name": "stdout",
     "output_type": "stream",
     "text": [
      "142/142 [==============================] - 77s 537ms/step - loss: 1.3166 - accuracy: 0.5037 - val_loss: 3.2116 - val_accuracy: 0.1604\n",
      "Epoch 2/5\n",
      "142/142 [==============================] - 76s 535ms/step - loss: 0.9292 - accuracy: 0.6569 - val_loss: 3.4113 - val_accuracy: 0.2289\n",
      "Epoch 3/5\n",
      "142/142 [==============================] - 76s 536ms/step - loss: 0.7994 - accuracy: 0.7058 - val_loss: 3.7754 - val_accuracy: 0.2258\n",
      "Epoch 4/5\n",
      "142/142 [==============================] - 78s 549ms/step - loss: 0.7106 - accuracy: 0.7430 - val_loss: 3.8834 - val_accuracy: 0.2778\n",
      "Epoch 5/5\n",
      "142/142 [==============================] - 78s 551ms/step - loss: 0.6282 - accuracy: 0.7733 - val_loss: 4.0764 - val_accuracy: 0.2134\n"
     ]
    },
    {
     "data": {
      "text/plain": [
       "<keras.callbacks.History at 0x42a3c2530>"
      ]
     },
     "execution_count": 139,
     "metadata": {},
     "output_type": "execute_result"
    }
   ],
   "source": [
    "transfer_learning_3C_256_model.fit(train_features, train_labels, verbose=1, batch_size=500, validation_split=0.2, epochs=5)"
   ]
  },
  {
   "cell_type": "code",
   "execution_count": 149,
   "id": "263151db",
   "metadata": {},
   "outputs": [
    {
     "name": "stdout",
     "output_type": "stream",
     "text": [
      "Model: \"sequential_7\"\n",
      "_________________________________________________________________\n",
      " Layer (type)                Output Shape              Param #   \n",
      "=================================================================\n",
      " sequential_4 (Sequential)   (None, 3584)              392152    \n",
      "                                                                 \n",
      " dense_25 (Dense)            (None, 1)                 3585      \n",
      "                                                                 \n",
      "=================================================================\n",
      "Total params: 395,737\n",
      "Trainable params: 3,585\n",
      "Non-trainable params: 392,152\n",
      "_________________________________________________________________\n"
     ]
    }
   ],
   "source": [
    "#Transfer learning...after training...outer_model.trainable=False and then train the final layer with a \n",
    "    #new sigmoid activation\n",
    "    \n",
    "outer_model.trainable=False\n",
    "\n",
    "transfer_learning=keras.Sequential([keras.Input(shape=(256,7)), outer_model, \n",
    "                                    keras.layers.Dense(1, activation='sigmoid')])\n",
    "\n",
    "transfer_learning.compile(optimizer='adam', loss='binary_crossentropy', metrics=['accuracy'])\n",
    "\n",
    "transfer_learning.summary()"
   ]
  },
  {
   "cell_type": "code",
   "execution_count": 151,
   "id": "d71fb660",
   "metadata": {},
   "outputs": [
    {
     "name": "stdout",
     "output_type": "stream",
     "text": [
      "Epoch 1/5\n",
      "23/23 [==============================] - 9s 389ms/step - loss: 0.4453 - accuracy: 0.7920\n",
      "Epoch 2/5\n",
      "23/23 [==============================] - 9s 381ms/step - loss: 0.4396 - accuracy: 0.7938\n",
      "Epoch 3/5\n",
      "23/23 [==============================] - 9s 393ms/step - loss: 0.4378 - accuracy: 0.7956\n",
      "Epoch 4/5\n",
      "23/23 [==============================] - 9s 407ms/step - loss: 0.4341 - accuracy: 0.7999\n",
      "Epoch 5/5\n",
      "23/23 [==============================] - 9s 393ms/step - loss: 0.4332 - accuracy: 0.7971\n"
     ]
    },
    {
     "data": {
      "text/plain": [
       "<keras.callbacks.History at 0x4263080d0>"
      ]
     },
     "execution_count": 151,
     "metadata": {},
     "output_type": "execute_result"
    }
   ],
   "source": [
    "transfer_learning.fit(test_features, test_labels, verbose=1, epochs=5, batch_size=1000)"
   ]
  },
  {
   "cell_type": "code",
   "execution_count": 162,
   "id": "f7043042",
   "metadata": {},
   "outputs": [],
   "source": [
    "#Prep Data for same type of mdoel as above but LSTM\n",
    "\n",
    "LSTM_transfer_X_train=preprocessing.StandardScaler().fit_transform(model_3C_features)\n",
    "LSTM_transfer_y_train=preprocessing.LabelEncoder().fit_transform(model_3C_labels)\n",
    "LSTM_transfer_y_train=keras.utils.np_utils.to_categorical(LSTM_transfer_y_train)\n",
    "\n",
    "LSTM_X_test=preprocessing.StandardScaler().fit_transform(holdout_features)\n",
    "LSTM_y_test=preprocessing.LabelEncoder().fit_transform(holdout_labels)\n",
    "LSTM_y_test=keras.utils.np_utils.to_categorical(LSTM_y_test)"
   ]
  },
  {
   "cell_type": "code",
   "execution_count": 169,
   "id": "4456b139",
   "metadata": {},
   "outputs": [],
   "source": [
    "LSTM_transfer_X_train=LSTM_transfer_X_train.reshape(-1,1,7)"
   ]
  },
  {
   "cell_type": "code",
   "execution_count": 171,
   "id": "ca965934",
   "metadata": {},
   "outputs": [
    {
     "name": "stdout",
     "output_type": "stream",
     "text": [
      "Model: \"sequential_14\"\n",
      "_________________________________________________________________\n",
      " Layer (type)                Output Shape              Param #   \n",
      "=================================================================\n",
      " sequential_13 (Sequential)  (None, 32)                520288    \n",
      "                                                                 \n",
      " dense_28 (Dense)            (None, 8)                 264       \n",
      "                                                                 \n",
      "=================================================================\n",
      "Total params: 520,552\n",
      "Trainable params: 520,552\n",
      "Non-trainable params: 0\n",
      "_________________________________________________________________\n"
     ]
    }
   ],
   "source": [
    "#Model 4C) Transfer Learning to Classify between individuals LSTM..trained on 8, one row at a time\n",
    "\n",
    "outer_model_1 = keras.Sequential(\n",
    "    [keras.layers.Input(shape=(1,7)),\n",
    "     keras.layers.LSTM(256, return_sequences=True),\n",
    "     keras.layers.LSTM(128, return_sequences=True),\n",
    "     keras.layers.Dropout(0.5),\n",
    "     keras.layers.LSTM(56, return_sequences=True),\n",
    "     keras.layers.Dropout(0.5),\n",
    "     keras.layers.LSTM(32)])\n",
    "     \n",
    "transfer_learning_4C_model=keras.Sequential([\n",
    "    keras.Input(shape=(1,7)), outer_model_1, keras.layers.Dense(8, activation='softmax')])\n",
    "\n",
    "transfer_learning_4C_model.compile(optimizer='adam', loss='categorical_crossentropy', metrics=['accuracy'])\n",
    "\n",
    "transfer_learning_4C_model.summary()"
   ]
  },
  {
   "cell_type": "code",
   "execution_count": 172,
   "id": "3ff70841",
   "metadata": {},
   "outputs": [
    {
     "name": "stdout",
     "output_type": "stream",
     "text": [
      "Epoch 1/3\n"
     ]
    },
    {
     "name": "stderr",
     "output_type": "stream",
     "text": [
      "2023-01-25 07:29:40.140409: I tensorflow/core/grappler/optimizers/custom_graph_optimizer_registry.cc:114] Plugin optimizer for device_type GPU is enabled.\n",
      "2023-01-25 07:29:41.167304: I tensorflow/core/grappler/optimizers/custom_graph_optimizer_registry.cc:114] Plugin optimizer for device_type GPU is enabled.\n",
      "2023-01-25 07:29:41.233973: I tensorflow/core/grappler/optimizers/custom_graph_optimizer_registry.cc:114] Plugin optimizer for device_type GPU is enabled.\n",
      "2023-01-25 07:29:41.333138: I tensorflow/core/grappler/optimizers/custom_graph_optimizer_registry.cc:114] Plugin optimizer for device_type GPU is enabled.\n",
      "2023-01-25 07:29:41.474820: I tensorflow/core/grappler/optimizers/custom_graph_optimizer_registry.cc:114] Plugin optimizer for device_type GPU is enabled.\n",
      "2023-01-25 07:29:41.601076: I tensorflow/core/grappler/optimizers/custom_graph_optimizer_registry.cc:114] Plugin optimizer for device_type GPU is enabled.\n",
      "2023-01-25 07:29:41.745655: I tensorflow/core/grappler/optimizers/custom_graph_optimizer_registry.cc:114] Plugin optimizer for device_type GPU is enabled.\n",
      "2023-01-25 07:29:41.881752: I tensorflow/core/grappler/optimizers/custom_graph_optimizer_registry.cc:114] Plugin optimizer for device_type GPU is enabled.\n"
     ]
    },
    {
     "name": "stdout",
     "output_type": "stream",
     "text": [
      "\r",
      "    1/22568 [..............................] - ETA: 32:38:11 - loss: 2.0794 - accuracy: 0.1300"
     ]
    },
    {
     "name": "stderr",
     "output_type": "stream",
     "text": [
      "2023-01-25 07:29:42.002361: I tensorflow/core/grappler/optimizers/custom_graph_optimizer_registry.cc:114] Plugin optimizer for device_type GPU is enabled.\n"
     ]
    },
    {
     "name": "stdout",
     "output_type": "stream",
     "text": [
      "22568/22568 [==============================] - 774s 34ms/step - loss: 0.6029 - accuracy: 0.7865\n",
      "Epoch 2/3\n",
      "  953/22568 [>.............................] - ETA: 11:51 - loss: 0.4284 - accuracy: 0.8548"
     ]
    },
    {
     "ename": "KeyboardInterrupt",
     "evalue": "",
     "output_type": "error",
     "traceback": [
      "\u001b[0;31m---------------------------------------------------------------------------\u001b[0m",
      "\u001b[0;31mKeyboardInterrupt\u001b[0m                         Traceback (most recent call last)",
      "Cell \u001b[0;32mIn [172], line 1\u001b[0m\n\u001b[0;32m----> 1\u001b[0m \u001b[43mtransfer_learning_4C_model\u001b[49m\u001b[38;5;241;43m.\u001b[39;49m\u001b[43mfit\u001b[49m\u001b[43m(\u001b[49m\u001b[43mLSTM_transfer_X_train\u001b[49m\u001b[43m,\u001b[49m\u001b[43m \u001b[49m\u001b[43mLSTM_transfer_y_train\u001b[49m\u001b[43m,\u001b[49m\u001b[43m \u001b[49m\u001b[43mverbose\u001b[49m\u001b[38;5;241;43m=\u001b[39;49m\u001b[38;5;241;43m1\u001b[39;49m\u001b[43m,\u001b[49m\u001b[43m \u001b[49m\u001b[43mepochs\u001b[49m\u001b[38;5;241;43m=\u001b[39;49m\u001b[38;5;241;43m3\u001b[39;49m\u001b[43m,\u001b[49m\u001b[43m \u001b[49m\u001b[43mbatch_size\u001b[49m\u001b[38;5;241;43m=\u001b[39;49m\u001b[38;5;241;43m1000\u001b[39;49m\u001b[43m)\u001b[49m\n",
      "File \u001b[0;32m~/opt/miniconda3/envs/tf/lib/python3.10/site-packages/keras/utils/traceback_utils.py:65\u001b[0m, in \u001b[0;36mfilter_traceback.<locals>.error_handler\u001b[0;34m(*args, **kwargs)\u001b[0m\n\u001b[1;32m     63\u001b[0m filtered_tb \u001b[38;5;241m=\u001b[39m \u001b[38;5;28;01mNone\u001b[39;00m\n\u001b[1;32m     64\u001b[0m \u001b[38;5;28;01mtry\u001b[39;00m:\n\u001b[0;32m---> 65\u001b[0m     \u001b[38;5;28;01mreturn\u001b[39;00m \u001b[43mfn\u001b[49m\u001b[43m(\u001b[49m\u001b[38;5;241;43m*\u001b[39;49m\u001b[43margs\u001b[49m\u001b[43m,\u001b[49m\u001b[43m \u001b[49m\u001b[38;5;241;43m*\u001b[39;49m\u001b[38;5;241;43m*\u001b[39;49m\u001b[43mkwargs\u001b[49m\u001b[43m)\u001b[49m\n\u001b[1;32m     66\u001b[0m \u001b[38;5;28;01mexcept\u001b[39;00m \u001b[38;5;167;01mException\u001b[39;00m \u001b[38;5;28;01mas\u001b[39;00m e:\n\u001b[1;32m     67\u001b[0m     filtered_tb \u001b[38;5;241m=\u001b[39m _process_traceback_frames(e\u001b[38;5;241m.\u001b[39m__traceback__)\n",
      "File \u001b[0;32m~/opt/miniconda3/envs/tf/lib/python3.10/site-packages/keras/engine/training.py:1564\u001b[0m, in \u001b[0;36mModel.fit\u001b[0;34m(self, x, y, batch_size, epochs, verbose, callbacks, validation_split, validation_data, shuffle, class_weight, sample_weight, initial_epoch, steps_per_epoch, validation_steps, validation_batch_size, validation_freq, max_queue_size, workers, use_multiprocessing)\u001b[0m\n\u001b[1;32m   1556\u001b[0m \u001b[38;5;28;01mwith\u001b[39;00m tf\u001b[38;5;241m.\u001b[39mprofiler\u001b[38;5;241m.\u001b[39mexperimental\u001b[38;5;241m.\u001b[39mTrace(\n\u001b[1;32m   1557\u001b[0m     \u001b[38;5;124m\"\u001b[39m\u001b[38;5;124mtrain\u001b[39m\u001b[38;5;124m\"\u001b[39m,\n\u001b[1;32m   1558\u001b[0m     epoch_num\u001b[38;5;241m=\u001b[39mepoch,\n\u001b[0;32m   (...)\u001b[0m\n\u001b[1;32m   1561\u001b[0m     _r\u001b[38;5;241m=\u001b[39m\u001b[38;5;241m1\u001b[39m,\n\u001b[1;32m   1562\u001b[0m ):\n\u001b[1;32m   1563\u001b[0m     callbacks\u001b[38;5;241m.\u001b[39mon_train_batch_begin(step)\n\u001b[0;32m-> 1564\u001b[0m     tmp_logs \u001b[38;5;241m=\u001b[39m \u001b[38;5;28;43mself\u001b[39;49m\u001b[38;5;241;43m.\u001b[39;49m\u001b[43mtrain_function\u001b[49m\u001b[43m(\u001b[49m\u001b[43miterator\u001b[49m\u001b[43m)\u001b[49m\n\u001b[1;32m   1565\u001b[0m     \u001b[38;5;28;01mif\u001b[39;00m data_handler\u001b[38;5;241m.\u001b[39mshould_sync:\n\u001b[1;32m   1566\u001b[0m         context\u001b[38;5;241m.\u001b[39masync_wait()\n",
      "File \u001b[0;32m~/opt/miniconda3/envs/tf/lib/python3.10/site-packages/tensorflow/python/util/traceback_utils.py:150\u001b[0m, in \u001b[0;36mfilter_traceback.<locals>.error_handler\u001b[0;34m(*args, **kwargs)\u001b[0m\n\u001b[1;32m    148\u001b[0m filtered_tb \u001b[38;5;241m=\u001b[39m \u001b[38;5;28;01mNone\u001b[39;00m\n\u001b[1;32m    149\u001b[0m \u001b[38;5;28;01mtry\u001b[39;00m:\n\u001b[0;32m--> 150\u001b[0m   \u001b[38;5;28;01mreturn\u001b[39;00m \u001b[43mfn\u001b[49m\u001b[43m(\u001b[49m\u001b[38;5;241;43m*\u001b[39;49m\u001b[43margs\u001b[49m\u001b[43m,\u001b[49m\u001b[43m \u001b[49m\u001b[38;5;241;43m*\u001b[39;49m\u001b[38;5;241;43m*\u001b[39;49m\u001b[43mkwargs\u001b[49m\u001b[43m)\u001b[49m\n\u001b[1;32m    151\u001b[0m \u001b[38;5;28;01mexcept\u001b[39;00m \u001b[38;5;167;01mException\u001b[39;00m \u001b[38;5;28;01mas\u001b[39;00m e:\n\u001b[1;32m    152\u001b[0m   filtered_tb \u001b[38;5;241m=\u001b[39m _process_traceback_frames(e\u001b[38;5;241m.\u001b[39m__traceback__)\n",
      "File \u001b[0;32m~/opt/miniconda3/envs/tf/lib/python3.10/site-packages/tensorflow/python/eager/def_function.py:915\u001b[0m, in \u001b[0;36mFunction.__call__\u001b[0;34m(self, *args, **kwds)\u001b[0m\n\u001b[1;32m    912\u001b[0m compiler \u001b[38;5;241m=\u001b[39m \u001b[38;5;124m\"\u001b[39m\u001b[38;5;124mxla\u001b[39m\u001b[38;5;124m\"\u001b[39m \u001b[38;5;28;01mif\u001b[39;00m \u001b[38;5;28mself\u001b[39m\u001b[38;5;241m.\u001b[39m_jit_compile \u001b[38;5;28;01melse\u001b[39;00m \u001b[38;5;124m\"\u001b[39m\u001b[38;5;124mnonXla\u001b[39m\u001b[38;5;124m\"\u001b[39m\n\u001b[1;32m    914\u001b[0m \u001b[38;5;28;01mwith\u001b[39;00m OptionalXlaContext(\u001b[38;5;28mself\u001b[39m\u001b[38;5;241m.\u001b[39m_jit_compile):\n\u001b[0;32m--> 915\u001b[0m   result \u001b[38;5;241m=\u001b[39m \u001b[38;5;28;43mself\u001b[39;49m\u001b[38;5;241;43m.\u001b[39;49m\u001b[43m_call\u001b[49m\u001b[43m(\u001b[49m\u001b[38;5;241;43m*\u001b[39;49m\u001b[43margs\u001b[49m\u001b[43m,\u001b[49m\u001b[43m \u001b[49m\u001b[38;5;241;43m*\u001b[39;49m\u001b[38;5;241;43m*\u001b[39;49m\u001b[43mkwds\u001b[49m\u001b[43m)\u001b[49m\n\u001b[1;32m    917\u001b[0m new_tracing_count \u001b[38;5;241m=\u001b[39m \u001b[38;5;28mself\u001b[39m\u001b[38;5;241m.\u001b[39mexperimental_get_tracing_count()\n\u001b[1;32m    918\u001b[0m without_tracing \u001b[38;5;241m=\u001b[39m (tracing_count \u001b[38;5;241m==\u001b[39m new_tracing_count)\n",
      "File \u001b[0;32m~/opt/miniconda3/envs/tf/lib/python3.10/site-packages/tensorflow/python/eager/def_function.py:947\u001b[0m, in \u001b[0;36mFunction._call\u001b[0;34m(self, *args, **kwds)\u001b[0m\n\u001b[1;32m    944\u001b[0m   \u001b[38;5;28mself\u001b[39m\u001b[38;5;241m.\u001b[39m_lock\u001b[38;5;241m.\u001b[39mrelease()\n\u001b[1;32m    945\u001b[0m   \u001b[38;5;66;03m# In this case we have created variables on the first call, so we run the\u001b[39;00m\n\u001b[1;32m    946\u001b[0m   \u001b[38;5;66;03m# defunned version which is guaranteed to never create variables.\u001b[39;00m\n\u001b[0;32m--> 947\u001b[0m   \u001b[38;5;28;01mreturn\u001b[39;00m \u001b[38;5;28;43mself\u001b[39;49m\u001b[38;5;241;43m.\u001b[39;49m\u001b[43m_stateless_fn\u001b[49m\u001b[43m(\u001b[49m\u001b[38;5;241;43m*\u001b[39;49m\u001b[43margs\u001b[49m\u001b[43m,\u001b[49m\u001b[43m \u001b[49m\u001b[38;5;241;43m*\u001b[39;49m\u001b[38;5;241;43m*\u001b[39;49m\u001b[43mkwds\u001b[49m\u001b[43m)\u001b[49m  \u001b[38;5;66;03m# pylint: disable=not-callable\u001b[39;00m\n\u001b[1;32m    948\u001b[0m \u001b[38;5;28;01melif\u001b[39;00m \u001b[38;5;28mself\u001b[39m\u001b[38;5;241m.\u001b[39m_stateful_fn \u001b[38;5;129;01mis\u001b[39;00m \u001b[38;5;129;01mnot\u001b[39;00m \u001b[38;5;28;01mNone\u001b[39;00m:\n\u001b[1;32m    949\u001b[0m   \u001b[38;5;66;03m# Release the lock early so that multiple threads can perform the call\u001b[39;00m\n\u001b[1;32m    950\u001b[0m   \u001b[38;5;66;03m# in parallel.\u001b[39;00m\n\u001b[1;32m    951\u001b[0m   \u001b[38;5;28mself\u001b[39m\u001b[38;5;241m.\u001b[39m_lock\u001b[38;5;241m.\u001b[39mrelease()\n",
      "File \u001b[0;32m~/opt/miniconda3/envs/tf/lib/python3.10/site-packages/tensorflow/python/eager/function.py:2496\u001b[0m, in \u001b[0;36mFunction.__call__\u001b[0;34m(self, *args, **kwargs)\u001b[0m\n\u001b[1;32m   2493\u001b[0m \u001b[38;5;28;01mwith\u001b[39;00m \u001b[38;5;28mself\u001b[39m\u001b[38;5;241m.\u001b[39m_lock:\n\u001b[1;32m   2494\u001b[0m   (graph_function,\n\u001b[1;32m   2495\u001b[0m    filtered_flat_args) \u001b[38;5;241m=\u001b[39m \u001b[38;5;28mself\u001b[39m\u001b[38;5;241m.\u001b[39m_maybe_define_function(args, kwargs)\n\u001b[0;32m-> 2496\u001b[0m \u001b[38;5;28;01mreturn\u001b[39;00m \u001b[43mgraph_function\u001b[49m\u001b[38;5;241;43m.\u001b[39;49m\u001b[43m_call_flat\u001b[49m\u001b[43m(\u001b[49m\n\u001b[1;32m   2497\u001b[0m \u001b[43m    \u001b[49m\u001b[43mfiltered_flat_args\u001b[49m\u001b[43m,\u001b[49m\u001b[43m \u001b[49m\u001b[43mcaptured_inputs\u001b[49m\u001b[38;5;241;43m=\u001b[39;49m\u001b[43mgraph_function\u001b[49m\u001b[38;5;241;43m.\u001b[39;49m\u001b[43mcaptured_inputs\u001b[49m\u001b[43m)\u001b[49m\n",
      "File \u001b[0;32m~/opt/miniconda3/envs/tf/lib/python3.10/site-packages/tensorflow/python/eager/function.py:1862\u001b[0m, in \u001b[0;36mConcreteFunction._call_flat\u001b[0;34m(self, args, captured_inputs, cancellation_manager)\u001b[0m\n\u001b[1;32m   1858\u001b[0m possible_gradient_type \u001b[38;5;241m=\u001b[39m gradients_util\u001b[38;5;241m.\u001b[39mPossibleTapeGradientTypes(args)\n\u001b[1;32m   1859\u001b[0m \u001b[38;5;28;01mif\u001b[39;00m (possible_gradient_type \u001b[38;5;241m==\u001b[39m gradients_util\u001b[38;5;241m.\u001b[39mPOSSIBLE_GRADIENT_TYPES_NONE\n\u001b[1;32m   1860\u001b[0m     \u001b[38;5;129;01mand\u001b[39;00m executing_eagerly):\n\u001b[1;32m   1861\u001b[0m   \u001b[38;5;66;03m# No tape is watching; skip to running the function.\u001b[39;00m\n\u001b[0;32m-> 1862\u001b[0m   \u001b[38;5;28;01mreturn\u001b[39;00m \u001b[38;5;28mself\u001b[39m\u001b[38;5;241m.\u001b[39m_build_call_outputs(\u001b[38;5;28;43mself\u001b[39;49m\u001b[38;5;241;43m.\u001b[39;49m\u001b[43m_inference_function\u001b[49m\u001b[38;5;241;43m.\u001b[39;49m\u001b[43mcall\u001b[49m\u001b[43m(\u001b[49m\n\u001b[1;32m   1863\u001b[0m \u001b[43m      \u001b[49m\u001b[43mctx\u001b[49m\u001b[43m,\u001b[49m\u001b[43m \u001b[49m\u001b[43margs\u001b[49m\u001b[43m,\u001b[49m\u001b[43m \u001b[49m\u001b[43mcancellation_manager\u001b[49m\u001b[38;5;241;43m=\u001b[39;49m\u001b[43mcancellation_manager\u001b[49m\u001b[43m)\u001b[49m)\n\u001b[1;32m   1864\u001b[0m forward_backward \u001b[38;5;241m=\u001b[39m \u001b[38;5;28mself\u001b[39m\u001b[38;5;241m.\u001b[39m_select_forward_and_backward_functions(\n\u001b[1;32m   1865\u001b[0m     args,\n\u001b[1;32m   1866\u001b[0m     possible_gradient_type,\n\u001b[1;32m   1867\u001b[0m     executing_eagerly)\n\u001b[1;32m   1868\u001b[0m forward_function, args_with_tangents \u001b[38;5;241m=\u001b[39m forward_backward\u001b[38;5;241m.\u001b[39mforward()\n",
      "File \u001b[0;32m~/opt/miniconda3/envs/tf/lib/python3.10/site-packages/tensorflow/python/eager/function.py:499\u001b[0m, in \u001b[0;36m_EagerDefinedFunction.call\u001b[0;34m(self, ctx, args, cancellation_manager)\u001b[0m\n\u001b[1;32m    497\u001b[0m \u001b[38;5;28;01mwith\u001b[39;00m _InterpolateFunctionError(\u001b[38;5;28mself\u001b[39m):\n\u001b[1;32m    498\u001b[0m   \u001b[38;5;28;01mif\u001b[39;00m cancellation_manager \u001b[38;5;129;01mis\u001b[39;00m \u001b[38;5;28;01mNone\u001b[39;00m:\n\u001b[0;32m--> 499\u001b[0m     outputs \u001b[38;5;241m=\u001b[39m \u001b[43mexecute\u001b[49m\u001b[38;5;241;43m.\u001b[39;49m\u001b[43mexecute\u001b[49m\u001b[43m(\u001b[49m\n\u001b[1;32m    500\u001b[0m \u001b[43m        \u001b[49m\u001b[38;5;28;43mstr\u001b[39;49m\u001b[43m(\u001b[49m\u001b[38;5;28;43mself\u001b[39;49m\u001b[38;5;241;43m.\u001b[39;49m\u001b[43msignature\u001b[49m\u001b[38;5;241;43m.\u001b[39;49m\u001b[43mname\u001b[49m\u001b[43m)\u001b[49m\u001b[43m,\u001b[49m\n\u001b[1;32m    501\u001b[0m \u001b[43m        \u001b[49m\u001b[43mnum_outputs\u001b[49m\u001b[38;5;241;43m=\u001b[39;49m\u001b[38;5;28;43mself\u001b[39;49m\u001b[38;5;241;43m.\u001b[39;49m\u001b[43m_num_outputs\u001b[49m\u001b[43m,\u001b[49m\n\u001b[1;32m    502\u001b[0m \u001b[43m        \u001b[49m\u001b[43minputs\u001b[49m\u001b[38;5;241;43m=\u001b[39;49m\u001b[43margs\u001b[49m\u001b[43m,\u001b[49m\n\u001b[1;32m    503\u001b[0m \u001b[43m        \u001b[49m\u001b[43mattrs\u001b[49m\u001b[38;5;241;43m=\u001b[39;49m\u001b[43mattrs\u001b[49m\u001b[43m,\u001b[49m\n\u001b[1;32m    504\u001b[0m \u001b[43m        \u001b[49m\u001b[43mctx\u001b[49m\u001b[38;5;241;43m=\u001b[39;49m\u001b[43mctx\u001b[49m\u001b[43m)\u001b[49m\n\u001b[1;32m    505\u001b[0m   \u001b[38;5;28;01melse\u001b[39;00m:\n\u001b[1;32m    506\u001b[0m     outputs \u001b[38;5;241m=\u001b[39m execute\u001b[38;5;241m.\u001b[39mexecute_with_cancellation(\n\u001b[1;32m    507\u001b[0m         \u001b[38;5;28mstr\u001b[39m(\u001b[38;5;28mself\u001b[39m\u001b[38;5;241m.\u001b[39msignature\u001b[38;5;241m.\u001b[39mname),\n\u001b[1;32m    508\u001b[0m         num_outputs\u001b[38;5;241m=\u001b[39m\u001b[38;5;28mself\u001b[39m\u001b[38;5;241m.\u001b[39m_num_outputs,\n\u001b[0;32m   (...)\u001b[0m\n\u001b[1;32m    511\u001b[0m         ctx\u001b[38;5;241m=\u001b[39mctx,\n\u001b[1;32m    512\u001b[0m         cancellation_manager\u001b[38;5;241m=\u001b[39mcancellation_manager)\n",
      "File \u001b[0;32m~/opt/miniconda3/envs/tf/lib/python3.10/site-packages/tensorflow/python/eager/execute.py:54\u001b[0m, in \u001b[0;36mquick_execute\u001b[0;34m(op_name, num_outputs, inputs, attrs, ctx, name)\u001b[0m\n\u001b[1;32m     52\u001b[0m \u001b[38;5;28;01mtry\u001b[39;00m:\n\u001b[1;32m     53\u001b[0m   ctx\u001b[38;5;241m.\u001b[39mensure_initialized()\n\u001b[0;32m---> 54\u001b[0m   tensors \u001b[38;5;241m=\u001b[39m \u001b[43mpywrap_tfe\u001b[49m\u001b[38;5;241;43m.\u001b[39;49m\u001b[43mTFE_Py_Execute\u001b[49m\u001b[43m(\u001b[49m\u001b[43mctx\u001b[49m\u001b[38;5;241;43m.\u001b[39;49m\u001b[43m_handle\u001b[49m\u001b[43m,\u001b[49m\u001b[43m \u001b[49m\u001b[43mdevice_name\u001b[49m\u001b[43m,\u001b[49m\u001b[43m \u001b[49m\u001b[43mop_name\u001b[49m\u001b[43m,\u001b[49m\n\u001b[1;32m     55\u001b[0m \u001b[43m                                      \u001b[49m\u001b[43minputs\u001b[49m\u001b[43m,\u001b[49m\u001b[43m \u001b[49m\u001b[43mattrs\u001b[49m\u001b[43m,\u001b[49m\u001b[43m \u001b[49m\u001b[43mnum_outputs\u001b[49m\u001b[43m)\u001b[49m\n\u001b[1;32m     56\u001b[0m \u001b[38;5;28;01mexcept\u001b[39;00m core\u001b[38;5;241m.\u001b[39m_NotOkStatusException \u001b[38;5;28;01mas\u001b[39;00m e:\n\u001b[1;32m     57\u001b[0m   \u001b[38;5;28;01mif\u001b[39;00m name \u001b[38;5;129;01mis\u001b[39;00m \u001b[38;5;129;01mnot\u001b[39;00m \u001b[38;5;28;01mNone\u001b[39;00m:\n",
      "\u001b[0;31mKeyboardInterrupt\u001b[0m: "
     ]
    }
   ],
   "source": [
    "transfer_learning_4C_model.fit(LSTM_transfer_X_train, LSTM_transfer_y_train, verbose=1, epochs=3, batch_size=1000)"
   ]
  },
  {
   "cell_type": "code",
   "execution_count": 173,
   "id": "69a13010",
   "metadata": {},
   "outputs": [
    {
     "name": "stdout",
     "output_type": "stream",
     "text": [
      "Model: \"sequential_15\"\n",
      "_________________________________________________________________\n",
      " Layer (type)                Output Shape              Param #   \n",
      "=================================================================\n",
      " sequential_13 (Sequential)  (None, 32)                520288    \n",
      "                                                                 \n",
      " dense_29 (Dense)            (None, 1)                 33        \n",
      "                                                                 \n",
      "=================================================================\n",
      "Total params: 520,321\n",
      "Trainable params: 33\n",
      "Non-trainable params: 520,288\n",
      "_________________________________________________________________\n"
     ]
    }
   ],
   "source": [
    "outer_model_1.trainable=False\n",
    "\n",
    "transfer_learning_2=keras.Sequential([keras.Input(shape=(1,7)), outer_model_1, \n",
    "                                    keras.layers.Dense(1, activation='sigmoid')])\n",
    "\n",
    "transfer_learning_2.compile(optimizer='adam', loss='binary_crossentropy', metrics=['accuracy'])\n",
    "\n",
    "transfer_learning_2.summary()"
   ]
  },
  {
   "cell_type": "code",
   "execution_count": 175,
   "id": "63af3c7f",
   "metadata": {},
   "outputs": [],
   "source": [
    "LSTM_X_test=LSTM_X_test.reshape(-1,1,7)"
   ]
  },
  {
   "cell_type": "code",
   "execution_count": 178,
   "id": "4a97e42b",
   "metadata": {},
   "outputs": [],
   "source": [
    "LSTM_y_test=preprocessing.LabelEncoder().fit_transform(holdout_labels)"
   ]
  },
  {
   "cell_type": "code",
   "execution_count": 183,
   "id": "e05235b9",
   "metadata": {},
   "outputs": [
    {
     "name": "stdout",
     "output_type": "stream",
     "text": [
      "Epoch 1/3\n",
      "1214/5773 [=====>........................] - ETA: 1:01 - loss: 0.5732 - accuracy: 0.6938"
     ]
    },
    {
     "ename": "KeyboardInterrupt",
     "evalue": "",
     "output_type": "error",
     "traceback": [
      "\u001b[0;31m---------------------------------------------------------------------------\u001b[0m",
      "\u001b[0;31mKeyboardInterrupt\u001b[0m                         Traceback (most recent call last)",
      "Cell \u001b[0;32mIn [183], line 1\u001b[0m\n\u001b[0;32m----> 1\u001b[0m \u001b[43mtransfer_learning_2\u001b[49m\u001b[38;5;241;43m.\u001b[39;49m\u001b[43mfit\u001b[49m\u001b[43m(\u001b[49m\u001b[43mLSTM_X_test\u001b[49m\u001b[43m,\u001b[49m\u001b[43m \u001b[49m\u001b[43mLSTM_y_test\u001b[49m\u001b[43m,\u001b[49m\u001b[43m \u001b[49m\u001b[43mbatch_size\u001b[49m\u001b[38;5;241;43m=\u001b[39;49m\u001b[38;5;241;43m1000\u001b[39;49m\u001b[43m,\u001b[49m\u001b[43m \u001b[49m\u001b[43mverbose\u001b[49m\u001b[38;5;241;43m=\u001b[39;49m\u001b[38;5;241;43m1\u001b[39;49m\u001b[43m,\u001b[49m\u001b[43m \u001b[49m\u001b[43mepochs\u001b[49m\u001b[38;5;241;43m=\u001b[39;49m\u001b[38;5;241;43m3\u001b[39;49m\u001b[43m)\u001b[49m\n",
      "File \u001b[0;32m~/opt/miniconda3/envs/tf/lib/python3.10/site-packages/keras/utils/traceback_utils.py:65\u001b[0m, in \u001b[0;36mfilter_traceback.<locals>.error_handler\u001b[0;34m(*args, **kwargs)\u001b[0m\n\u001b[1;32m     63\u001b[0m filtered_tb \u001b[38;5;241m=\u001b[39m \u001b[38;5;28;01mNone\u001b[39;00m\n\u001b[1;32m     64\u001b[0m \u001b[38;5;28;01mtry\u001b[39;00m:\n\u001b[0;32m---> 65\u001b[0m     \u001b[38;5;28;01mreturn\u001b[39;00m \u001b[43mfn\u001b[49m\u001b[43m(\u001b[49m\u001b[38;5;241;43m*\u001b[39;49m\u001b[43margs\u001b[49m\u001b[43m,\u001b[49m\u001b[43m \u001b[49m\u001b[38;5;241;43m*\u001b[39;49m\u001b[38;5;241;43m*\u001b[39;49m\u001b[43mkwargs\u001b[49m\u001b[43m)\u001b[49m\n\u001b[1;32m     66\u001b[0m \u001b[38;5;28;01mexcept\u001b[39;00m \u001b[38;5;167;01mException\u001b[39;00m \u001b[38;5;28;01mas\u001b[39;00m e:\n\u001b[1;32m     67\u001b[0m     filtered_tb \u001b[38;5;241m=\u001b[39m _process_traceback_frames(e\u001b[38;5;241m.\u001b[39m__traceback__)\n",
      "File \u001b[0;32m~/opt/miniconda3/envs/tf/lib/python3.10/site-packages/keras/engine/training.py:1564\u001b[0m, in \u001b[0;36mModel.fit\u001b[0;34m(self, x, y, batch_size, epochs, verbose, callbacks, validation_split, validation_data, shuffle, class_weight, sample_weight, initial_epoch, steps_per_epoch, validation_steps, validation_batch_size, validation_freq, max_queue_size, workers, use_multiprocessing)\u001b[0m\n\u001b[1;32m   1556\u001b[0m \u001b[38;5;28;01mwith\u001b[39;00m tf\u001b[38;5;241m.\u001b[39mprofiler\u001b[38;5;241m.\u001b[39mexperimental\u001b[38;5;241m.\u001b[39mTrace(\n\u001b[1;32m   1557\u001b[0m     \u001b[38;5;124m\"\u001b[39m\u001b[38;5;124mtrain\u001b[39m\u001b[38;5;124m\"\u001b[39m,\n\u001b[1;32m   1558\u001b[0m     epoch_num\u001b[38;5;241m=\u001b[39mepoch,\n\u001b[0;32m   (...)\u001b[0m\n\u001b[1;32m   1561\u001b[0m     _r\u001b[38;5;241m=\u001b[39m\u001b[38;5;241m1\u001b[39m,\n\u001b[1;32m   1562\u001b[0m ):\n\u001b[1;32m   1563\u001b[0m     callbacks\u001b[38;5;241m.\u001b[39mon_train_batch_begin(step)\n\u001b[0;32m-> 1564\u001b[0m     tmp_logs \u001b[38;5;241m=\u001b[39m \u001b[38;5;28;43mself\u001b[39;49m\u001b[38;5;241;43m.\u001b[39;49m\u001b[43mtrain_function\u001b[49m\u001b[43m(\u001b[49m\u001b[43miterator\u001b[49m\u001b[43m)\u001b[49m\n\u001b[1;32m   1565\u001b[0m     \u001b[38;5;28;01mif\u001b[39;00m data_handler\u001b[38;5;241m.\u001b[39mshould_sync:\n\u001b[1;32m   1566\u001b[0m         context\u001b[38;5;241m.\u001b[39masync_wait()\n",
      "File \u001b[0;32m~/opt/miniconda3/envs/tf/lib/python3.10/site-packages/tensorflow/python/util/traceback_utils.py:150\u001b[0m, in \u001b[0;36mfilter_traceback.<locals>.error_handler\u001b[0;34m(*args, **kwargs)\u001b[0m\n\u001b[1;32m    148\u001b[0m filtered_tb \u001b[38;5;241m=\u001b[39m \u001b[38;5;28;01mNone\u001b[39;00m\n\u001b[1;32m    149\u001b[0m \u001b[38;5;28;01mtry\u001b[39;00m:\n\u001b[0;32m--> 150\u001b[0m   \u001b[38;5;28;01mreturn\u001b[39;00m \u001b[43mfn\u001b[49m\u001b[43m(\u001b[49m\u001b[38;5;241;43m*\u001b[39;49m\u001b[43margs\u001b[49m\u001b[43m,\u001b[49m\u001b[43m \u001b[49m\u001b[38;5;241;43m*\u001b[39;49m\u001b[38;5;241;43m*\u001b[39;49m\u001b[43mkwargs\u001b[49m\u001b[43m)\u001b[49m\n\u001b[1;32m    151\u001b[0m \u001b[38;5;28;01mexcept\u001b[39;00m \u001b[38;5;167;01mException\u001b[39;00m \u001b[38;5;28;01mas\u001b[39;00m e:\n\u001b[1;32m    152\u001b[0m   filtered_tb \u001b[38;5;241m=\u001b[39m _process_traceback_frames(e\u001b[38;5;241m.\u001b[39m__traceback__)\n",
      "File \u001b[0;32m~/opt/miniconda3/envs/tf/lib/python3.10/site-packages/tensorflow/python/eager/def_function.py:915\u001b[0m, in \u001b[0;36mFunction.__call__\u001b[0;34m(self, *args, **kwds)\u001b[0m\n\u001b[1;32m    912\u001b[0m compiler \u001b[38;5;241m=\u001b[39m \u001b[38;5;124m\"\u001b[39m\u001b[38;5;124mxla\u001b[39m\u001b[38;5;124m\"\u001b[39m \u001b[38;5;28;01mif\u001b[39;00m \u001b[38;5;28mself\u001b[39m\u001b[38;5;241m.\u001b[39m_jit_compile \u001b[38;5;28;01melse\u001b[39;00m \u001b[38;5;124m\"\u001b[39m\u001b[38;5;124mnonXla\u001b[39m\u001b[38;5;124m\"\u001b[39m\n\u001b[1;32m    914\u001b[0m \u001b[38;5;28;01mwith\u001b[39;00m OptionalXlaContext(\u001b[38;5;28mself\u001b[39m\u001b[38;5;241m.\u001b[39m_jit_compile):\n\u001b[0;32m--> 915\u001b[0m   result \u001b[38;5;241m=\u001b[39m \u001b[38;5;28;43mself\u001b[39;49m\u001b[38;5;241;43m.\u001b[39;49m\u001b[43m_call\u001b[49m\u001b[43m(\u001b[49m\u001b[38;5;241;43m*\u001b[39;49m\u001b[43margs\u001b[49m\u001b[43m,\u001b[49m\u001b[43m \u001b[49m\u001b[38;5;241;43m*\u001b[39;49m\u001b[38;5;241;43m*\u001b[39;49m\u001b[43mkwds\u001b[49m\u001b[43m)\u001b[49m\n\u001b[1;32m    917\u001b[0m new_tracing_count \u001b[38;5;241m=\u001b[39m \u001b[38;5;28mself\u001b[39m\u001b[38;5;241m.\u001b[39mexperimental_get_tracing_count()\n\u001b[1;32m    918\u001b[0m without_tracing \u001b[38;5;241m=\u001b[39m (tracing_count \u001b[38;5;241m==\u001b[39m new_tracing_count)\n",
      "File \u001b[0;32m~/opt/miniconda3/envs/tf/lib/python3.10/site-packages/tensorflow/python/eager/def_function.py:947\u001b[0m, in \u001b[0;36mFunction._call\u001b[0;34m(self, *args, **kwds)\u001b[0m\n\u001b[1;32m    944\u001b[0m   \u001b[38;5;28mself\u001b[39m\u001b[38;5;241m.\u001b[39m_lock\u001b[38;5;241m.\u001b[39mrelease()\n\u001b[1;32m    945\u001b[0m   \u001b[38;5;66;03m# In this case we have created variables on the first call, so we run the\u001b[39;00m\n\u001b[1;32m    946\u001b[0m   \u001b[38;5;66;03m# defunned version which is guaranteed to never create variables.\u001b[39;00m\n\u001b[0;32m--> 947\u001b[0m   \u001b[38;5;28;01mreturn\u001b[39;00m \u001b[38;5;28;43mself\u001b[39;49m\u001b[38;5;241;43m.\u001b[39;49m\u001b[43m_stateless_fn\u001b[49m\u001b[43m(\u001b[49m\u001b[38;5;241;43m*\u001b[39;49m\u001b[43margs\u001b[49m\u001b[43m,\u001b[49m\u001b[43m \u001b[49m\u001b[38;5;241;43m*\u001b[39;49m\u001b[38;5;241;43m*\u001b[39;49m\u001b[43mkwds\u001b[49m\u001b[43m)\u001b[49m  \u001b[38;5;66;03m# pylint: disable=not-callable\u001b[39;00m\n\u001b[1;32m    948\u001b[0m \u001b[38;5;28;01melif\u001b[39;00m \u001b[38;5;28mself\u001b[39m\u001b[38;5;241m.\u001b[39m_stateful_fn \u001b[38;5;129;01mis\u001b[39;00m \u001b[38;5;129;01mnot\u001b[39;00m \u001b[38;5;28;01mNone\u001b[39;00m:\n\u001b[1;32m    949\u001b[0m   \u001b[38;5;66;03m# Release the lock early so that multiple threads can perform the call\u001b[39;00m\n\u001b[1;32m    950\u001b[0m   \u001b[38;5;66;03m# in parallel.\u001b[39;00m\n\u001b[1;32m    951\u001b[0m   \u001b[38;5;28mself\u001b[39m\u001b[38;5;241m.\u001b[39m_lock\u001b[38;5;241m.\u001b[39mrelease()\n",
      "File \u001b[0;32m~/opt/miniconda3/envs/tf/lib/python3.10/site-packages/tensorflow/python/eager/function.py:2496\u001b[0m, in \u001b[0;36mFunction.__call__\u001b[0;34m(self, *args, **kwargs)\u001b[0m\n\u001b[1;32m   2493\u001b[0m \u001b[38;5;28;01mwith\u001b[39;00m \u001b[38;5;28mself\u001b[39m\u001b[38;5;241m.\u001b[39m_lock:\n\u001b[1;32m   2494\u001b[0m   (graph_function,\n\u001b[1;32m   2495\u001b[0m    filtered_flat_args) \u001b[38;5;241m=\u001b[39m \u001b[38;5;28mself\u001b[39m\u001b[38;5;241m.\u001b[39m_maybe_define_function(args, kwargs)\n\u001b[0;32m-> 2496\u001b[0m \u001b[38;5;28;01mreturn\u001b[39;00m \u001b[43mgraph_function\u001b[49m\u001b[38;5;241;43m.\u001b[39;49m\u001b[43m_call_flat\u001b[49m\u001b[43m(\u001b[49m\n\u001b[1;32m   2497\u001b[0m \u001b[43m    \u001b[49m\u001b[43mfiltered_flat_args\u001b[49m\u001b[43m,\u001b[49m\u001b[43m \u001b[49m\u001b[43mcaptured_inputs\u001b[49m\u001b[38;5;241;43m=\u001b[39;49m\u001b[43mgraph_function\u001b[49m\u001b[38;5;241;43m.\u001b[39;49m\u001b[43mcaptured_inputs\u001b[49m\u001b[43m)\u001b[49m\n",
      "File \u001b[0;32m~/opt/miniconda3/envs/tf/lib/python3.10/site-packages/tensorflow/python/eager/function.py:1862\u001b[0m, in \u001b[0;36mConcreteFunction._call_flat\u001b[0;34m(self, args, captured_inputs, cancellation_manager)\u001b[0m\n\u001b[1;32m   1858\u001b[0m possible_gradient_type \u001b[38;5;241m=\u001b[39m gradients_util\u001b[38;5;241m.\u001b[39mPossibleTapeGradientTypes(args)\n\u001b[1;32m   1859\u001b[0m \u001b[38;5;28;01mif\u001b[39;00m (possible_gradient_type \u001b[38;5;241m==\u001b[39m gradients_util\u001b[38;5;241m.\u001b[39mPOSSIBLE_GRADIENT_TYPES_NONE\n\u001b[1;32m   1860\u001b[0m     \u001b[38;5;129;01mand\u001b[39;00m executing_eagerly):\n\u001b[1;32m   1861\u001b[0m   \u001b[38;5;66;03m# No tape is watching; skip to running the function.\u001b[39;00m\n\u001b[0;32m-> 1862\u001b[0m   \u001b[38;5;28;01mreturn\u001b[39;00m \u001b[38;5;28mself\u001b[39m\u001b[38;5;241m.\u001b[39m_build_call_outputs(\u001b[38;5;28;43mself\u001b[39;49m\u001b[38;5;241;43m.\u001b[39;49m\u001b[43m_inference_function\u001b[49m\u001b[38;5;241;43m.\u001b[39;49m\u001b[43mcall\u001b[49m\u001b[43m(\u001b[49m\n\u001b[1;32m   1863\u001b[0m \u001b[43m      \u001b[49m\u001b[43mctx\u001b[49m\u001b[43m,\u001b[49m\u001b[43m \u001b[49m\u001b[43margs\u001b[49m\u001b[43m,\u001b[49m\u001b[43m \u001b[49m\u001b[43mcancellation_manager\u001b[49m\u001b[38;5;241;43m=\u001b[39;49m\u001b[43mcancellation_manager\u001b[49m\u001b[43m)\u001b[49m)\n\u001b[1;32m   1864\u001b[0m forward_backward \u001b[38;5;241m=\u001b[39m \u001b[38;5;28mself\u001b[39m\u001b[38;5;241m.\u001b[39m_select_forward_and_backward_functions(\n\u001b[1;32m   1865\u001b[0m     args,\n\u001b[1;32m   1866\u001b[0m     possible_gradient_type,\n\u001b[1;32m   1867\u001b[0m     executing_eagerly)\n\u001b[1;32m   1868\u001b[0m forward_function, args_with_tangents \u001b[38;5;241m=\u001b[39m forward_backward\u001b[38;5;241m.\u001b[39mforward()\n",
      "File \u001b[0;32m~/opt/miniconda3/envs/tf/lib/python3.10/site-packages/tensorflow/python/eager/function.py:499\u001b[0m, in \u001b[0;36m_EagerDefinedFunction.call\u001b[0;34m(self, ctx, args, cancellation_manager)\u001b[0m\n\u001b[1;32m    497\u001b[0m \u001b[38;5;28;01mwith\u001b[39;00m _InterpolateFunctionError(\u001b[38;5;28mself\u001b[39m):\n\u001b[1;32m    498\u001b[0m   \u001b[38;5;28;01mif\u001b[39;00m cancellation_manager \u001b[38;5;129;01mis\u001b[39;00m \u001b[38;5;28;01mNone\u001b[39;00m:\n\u001b[0;32m--> 499\u001b[0m     outputs \u001b[38;5;241m=\u001b[39m \u001b[43mexecute\u001b[49m\u001b[38;5;241;43m.\u001b[39;49m\u001b[43mexecute\u001b[49m\u001b[43m(\u001b[49m\n\u001b[1;32m    500\u001b[0m \u001b[43m        \u001b[49m\u001b[38;5;28;43mstr\u001b[39;49m\u001b[43m(\u001b[49m\u001b[38;5;28;43mself\u001b[39;49m\u001b[38;5;241;43m.\u001b[39;49m\u001b[43msignature\u001b[49m\u001b[38;5;241;43m.\u001b[39;49m\u001b[43mname\u001b[49m\u001b[43m)\u001b[49m\u001b[43m,\u001b[49m\n\u001b[1;32m    501\u001b[0m \u001b[43m        \u001b[49m\u001b[43mnum_outputs\u001b[49m\u001b[38;5;241;43m=\u001b[39;49m\u001b[38;5;28;43mself\u001b[39;49m\u001b[38;5;241;43m.\u001b[39;49m\u001b[43m_num_outputs\u001b[49m\u001b[43m,\u001b[49m\n\u001b[1;32m    502\u001b[0m \u001b[43m        \u001b[49m\u001b[43minputs\u001b[49m\u001b[38;5;241;43m=\u001b[39;49m\u001b[43margs\u001b[49m\u001b[43m,\u001b[49m\n\u001b[1;32m    503\u001b[0m \u001b[43m        \u001b[49m\u001b[43mattrs\u001b[49m\u001b[38;5;241;43m=\u001b[39;49m\u001b[43mattrs\u001b[49m\u001b[43m,\u001b[49m\n\u001b[1;32m    504\u001b[0m \u001b[43m        \u001b[49m\u001b[43mctx\u001b[49m\u001b[38;5;241;43m=\u001b[39;49m\u001b[43mctx\u001b[49m\u001b[43m)\u001b[49m\n\u001b[1;32m    505\u001b[0m   \u001b[38;5;28;01melse\u001b[39;00m:\n\u001b[1;32m    506\u001b[0m     outputs \u001b[38;5;241m=\u001b[39m execute\u001b[38;5;241m.\u001b[39mexecute_with_cancellation(\n\u001b[1;32m    507\u001b[0m         \u001b[38;5;28mstr\u001b[39m(\u001b[38;5;28mself\u001b[39m\u001b[38;5;241m.\u001b[39msignature\u001b[38;5;241m.\u001b[39mname),\n\u001b[1;32m    508\u001b[0m         num_outputs\u001b[38;5;241m=\u001b[39m\u001b[38;5;28mself\u001b[39m\u001b[38;5;241m.\u001b[39m_num_outputs,\n\u001b[0;32m   (...)\u001b[0m\n\u001b[1;32m    511\u001b[0m         ctx\u001b[38;5;241m=\u001b[39mctx,\n\u001b[1;32m    512\u001b[0m         cancellation_manager\u001b[38;5;241m=\u001b[39mcancellation_manager)\n",
      "File \u001b[0;32m~/opt/miniconda3/envs/tf/lib/python3.10/site-packages/tensorflow/python/eager/execute.py:54\u001b[0m, in \u001b[0;36mquick_execute\u001b[0;34m(op_name, num_outputs, inputs, attrs, ctx, name)\u001b[0m\n\u001b[1;32m     52\u001b[0m \u001b[38;5;28;01mtry\u001b[39;00m:\n\u001b[1;32m     53\u001b[0m   ctx\u001b[38;5;241m.\u001b[39mensure_initialized()\n\u001b[0;32m---> 54\u001b[0m   tensors \u001b[38;5;241m=\u001b[39m \u001b[43mpywrap_tfe\u001b[49m\u001b[38;5;241;43m.\u001b[39;49m\u001b[43mTFE_Py_Execute\u001b[49m\u001b[43m(\u001b[49m\u001b[43mctx\u001b[49m\u001b[38;5;241;43m.\u001b[39;49m\u001b[43m_handle\u001b[49m\u001b[43m,\u001b[49m\u001b[43m \u001b[49m\u001b[43mdevice_name\u001b[49m\u001b[43m,\u001b[49m\u001b[43m \u001b[49m\u001b[43mop_name\u001b[49m\u001b[43m,\u001b[49m\n\u001b[1;32m     55\u001b[0m \u001b[43m                                      \u001b[49m\u001b[43minputs\u001b[49m\u001b[43m,\u001b[49m\u001b[43m \u001b[49m\u001b[43mattrs\u001b[49m\u001b[43m,\u001b[49m\u001b[43m \u001b[49m\u001b[43mnum_outputs\u001b[49m\u001b[43m)\u001b[49m\n\u001b[1;32m     56\u001b[0m \u001b[38;5;28;01mexcept\u001b[39;00m core\u001b[38;5;241m.\u001b[39m_NotOkStatusException \u001b[38;5;28;01mas\u001b[39;00m e:\n\u001b[1;32m     57\u001b[0m   \u001b[38;5;28;01mif\u001b[39;00m name \u001b[38;5;129;01mis\u001b[39;00m \u001b[38;5;129;01mnot\u001b[39;00m \u001b[38;5;28;01mNone\u001b[39;00m:\n",
      "\u001b[0;31mKeyboardInterrupt\u001b[0m: "
     ]
    }
   ],
   "source": [
    "transfer_learning_2.fit(LSTM_X_test, LSTM_y_test, batch_size=1000, verbose=1, epochs=3)"
   ]
  },
  {
   "cell_type": "code",
   "execution_count": null,
   "id": "c63c40ab",
   "metadata": {},
   "outputs": [],
   "source": [
    "#To get more data, I can look at low scores, high scores, middle scores and see where the data falls \n",
    "    #maybe try increase amount of data according to scores\n",
    "    #Data Augmentation...make it realsitic of data in test set, does not help for it to be random\n",
    "    #Can also synthesize training examples"
   ]
  }
 ],
 "metadata": {
  "kernelspec": {
   "display_name": "Python 3 (ipykernel)",
   "language": "python",
   "name": "python3"
  },
  "language_info": {
   "codemirror_mode": {
    "name": "ipython",
    "version": 3
   },
   "file_extension": ".py",
   "mimetype": "text/x-python",
   "name": "python",
   "nbconvert_exporter": "python",
   "pygments_lexer": "ipython3",
   "version": "3.10.8"
  }
 },
 "nbformat": 4,
 "nbformat_minor": 5
}
